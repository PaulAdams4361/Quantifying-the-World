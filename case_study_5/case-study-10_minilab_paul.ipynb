{
 "cells": [
  {
   "cell_type": "raw",
   "metadata": {},
   "source": [
    "\\begin{center}\n",
    "Paul Adams, Stuart Miller, and Justin Howard\n",
    "\\end{center}"
   ]
  },
  {
   "cell_type": "code",
   "execution_count": 1,
   "metadata": {},
   "outputs": [],
   "source": [
    "import pandas as pd"
   ]
  },
  {
   "cell_type": "code",
   "execution_count": 2,
   "metadata": {},
   "outputs": [],
   "source": [
    "df = pd.read_csv('./data/train.csv')"
   ]
  },
  {
   "cell_type": "markdown",
   "metadata": {},
   "source": [
    "#### First, get list of all records with missing values. See if we can drop them all\n",
    "#### Recognized there are no records without missing information\n",
    "#### Next, if we can drop them all, we can run random forest to see which features are most important.\n",
    "#### Finally, we can impute in order of importance; for most important features, we will impute them first, then work downward."
   ]
  },
  {
   "cell_type": "code",
   "execution_count": 3,
   "metadata": {},
   "outputs": [
    {
     "data": {
      "text/plain": [
       "(30471, 292)"
      ]
     },
     "execution_count": 3,
     "metadata": {},
     "output_type": "execute_result"
    }
   ],
   "source": [
    "df.shape"
   ]
  },
  {
   "cell_type": "markdown",
   "metadata": {},
   "source": [
    "## A count of all missing values"
   ]
  },
  {
   "cell_type": "code",
   "execution_count": 4,
   "metadata": {},
   "outputs": [],
   "source": [
    "nullList = df.isnull().sum()\n",
    "na_list=nullList[nullList>0].sort_values(ascending=False)"
   ]
  },
  {
   "cell_type": "code",
   "execution_count": 5,
   "metadata": {},
   "outputs": [
    {
     "name": "stdout",
     "output_type": "stream",
     "text": [
      "Count of columns with missing values: 51\n",
      "Count of columns without missing values: 241\n"
     ]
    }
   ],
   "source": [
    "print('Count of columns with missing values: {}\\nCount of columns without missing values: {}'.format(nullList[nullList>0].sort_values(ascending=False).count(), nullList[nullList==0].sort_values(ascending=False).count()))"
   ]
  },
  {
   "cell_type": "code",
   "execution_count": 6,
   "metadata": {},
   "outputs": [
    {
     "name": "stdout",
     "output_type": "stream",
     "text": [
      "Percent of dataset records with null values: 47.39%\n"
     ]
    }
   ],
   "source": [
    "print('Percent of dataset records with null values: {}%'.format(round(nullList[nullList>0].max()/df.shape[0]*100, 2)))"
   ]
  },
  {
   "cell_type": "markdown",
   "metadata": {},
   "source": [
    "### A dataframe of missing values and their data types for selecting imputation algorithm"
   ]
  },
  {
   "cell_type": "markdown",
   "metadata": {},
   "source": [
    "### We're assuming not every neighborhood in Moscow has a hospital, just as not every neighborhood in Dallas has a hospital."
   ]
  },
  {
   "cell_type": "code",
   "execution_count": 7,
   "metadata": {},
   "outputs": [
    {
     "data": {
      "text/html": [
       "<div>\n",
       "<style scoped>\n",
       "    .dataframe tbody tr th:only-of-type {\n",
       "        vertical-align: middle;\n",
       "    }\n",
       "\n",
       "    .dataframe tbody tr th {\n",
       "        vertical-align: top;\n",
       "    }\n",
       "\n",
       "    .dataframe thead th {\n",
       "        text-align: right;\n",
       "    }\n",
       "</style>\n",
       "<table border=\"1\" class=\"dataframe\">\n",
       "  <thead>\n",
       "    <tr style=\"text-align: right;\">\n",
       "      <th></th>\n",
       "      <th>feature</th>\n",
       "      <th>na_count</th>\n",
       "      <th>type</th>\n",
       "    </tr>\n",
       "  </thead>\n",
       "  <tbody>\n",
       "    <tr>\n",
       "      <th>0</th>\n",
       "      <td>hospital_beds_raion</td>\n",
       "      <td>14441</td>\n",
       "      <td>float64</td>\n",
       "    </tr>\n",
       "    <tr>\n",
       "      <th>1</th>\n",
       "      <td>build_year</td>\n",
       "      <td>13605</td>\n",
       "      <td>float64</td>\n",
       "    </tr>\n",
       "    <tr>\n",
       "      <th>2</th>\n",
       "      <td>state</td>\n",
       "      <td>13559</td>\n",
       "      <td>float64</td>\n",
       "    </tr>\n",
       "    <tr>\n",
       "      <th>3</th>\n",
       "      <td>cafe_sum_500_min_price_avg</td>\n",
       "      <td>13281</td>\n",
       "      <td>float64</td>\n",
       "    </tr>\n",
       "    <tr>\n",
       "      <th>4</th>\n",
       "      <td>cafe_sum_500_max_price_avg</td>\n",
       "      <td>13281</td>\n",
       "      <td>float64</td>\n",
       "    </tr>\n",
       "    <tr>\n",
       "      <th>5</th>\n",
       "      <td>cafe_avg_price_500</td>\n",
       "      <td>13281</td>\n",
       "      <td>float64</td>\n",
       "    </tr>\n",
       "    <tr>\n",
       "      <th>6</th>\n",
       "      <td>max_floor</td>\n",
       "      <td>9572</td>\n",
       "      <td>float64</td>\n",
       "    </tr>\n",
       "    <tr>\n",
       "      <th>7</th>\n",
       "      <td>material</td>\n",
       "      <td>9572</td>\n",
       "      <td>float64</td>\n",
       "    </tr>\n",
       "    <tr>\n",
       "      <th>8</th>\n",
       "      <td>num_room</td>\n",
       "      <td>9572</td>\n",
       "      <td>float64</td>\n",
       "    </tr>\n",
       "    <tr>\n",
       "      <th>9</th>\n",
       "      <td>kitch_sq</td>\n",
       "      <td>9572</td>\n",
       "      <td>float64</td>\n",
       "    </tr>\n",
       "    <tr>\n",
       "      <th>10</th>\n",
       "      <td>preschool_quota</td>\n",
       "      <td>6688</td>\n",
       "      <td>float64</td>\n",
       "    </tr>\n",
       "    <tr>\n",
       "      <th>11</th>\n",
       "      <td>school_quota</td>\n",
       "      <td>6685</td>\n",
       "      <td>float64</td>\n",
       "    </tr>\n",
       "    <tr>\n",
       "      <th>12</th>\n",
       "      <td>cafe_sum_1000_max_price_avg</td>\n",
       "      <td>6524</td>\n",
       "      <td>float64</td>\n",
       "    </tr>\n",
       "    <tr>\n",
       "      <th>13</th>\n",
       "      <td>cafe_sum_1000_min_price_avg</td>\n",
       "      <td>6524</td>\n",
       "      <td>float64</td>\n",
       "    </tr>\n",
       "    <tr>\n",
       "      <th>14</th>\n",
       "      <td>cafe_avg_price_1000</td>\n",
       "      <td>6524</td>\n",
       "      <td>float64</td>\n",
       "    </tr>\n",
       "    <tr>\n",
       "      <th>15</th>\n",
       "      <td>life_sq</td>\n",
       "      <td>6383</td>\n",
       "      <td>float64</td>\n",
       "    </tr>\n",
       "    <tr>\n",
       "      <th>16</th>\n",
       "      <td>build_count_before_1920</td>\n",
       "      <td>4991</td>\n",
       "      <td>float64</td>\n",
       "    </tr>\n",
       "    <tr>\n",
       "      <th>17</th>\n",
       "      <td>build_count_block</td>\n",
       "      <td>4991</td>\n",
       "      <td>float64</td>\n",
       "    </tr>\n",
       "    <tr>\n",
       "      <th>18</th>\n",
       "      <td>raion_build_count_with_material_info</td>\n",
       "      <td>4991</td>\n",
       "      <td>float64</td>\n",
       "    </tr>\n",
       "    <tr>\n",
       "      <th>19</th>\n",
       "      <td>build_count_wood</td>\n",
       "      <td>4991</td>\n",
       "      <td>float64</td>\n",
       "    </tr>\n",
       "    <tr>\n",
       "      <th>20</th>\n",
       "      <td>build_count_frame</td>\n",
       "      <td>4991</td>\n",
       "      <td>float64</td>\n",
       "    </tr>\n",
       "    <tr>\n",
       "      <th>21</th>\n",
       "      <td>build_count_brick</td>\n",
       "      <td>4991</td>\n",
       "      <td>float64</td>\n",
       "    </tr>\n",
       "    <tr>\n",
       "      <th>22</th>\n",
       "      <td>build_count_monolith</td>\n",
       "      <td>4991</td>\n",
       "      <td>float64</td>\n",
       "    </tr>\n",
       "    <tr>\n",
       "      <th>23</th>\n",
       "      <td>build_count_panel</td>\n",
       "      <td>4991</td>\n",
       "      <td>float64</td>\n",
       "    </tr>\n",
       "    <tr>\n",
       "      <th>24</th>\n",
       "      <td>build_count_foam</td>\n",
       "      <td>4991</td>\n",
       "      <td>float64</td>\n",
       "    </tr>\n",
       "    <tr>\n",
       "      <th>25</th>\n",
       "      <td>build_count_slag</td>\n",
       "      <td>4991</td>\n",
       "      <td>float64</td>\n",
       "    </tr>\n",
       "    <tr>\n",
       "      <th>26</th>\n",
       "      <td>build_count_mix</td>\n",
       "      <td>4991</td>\n",
       "      <td>float64</td>\n",
       "    </tr>\n",
       "    <tr>\n",
       "      <th>27</th>\n",
       "      <td>raion_build_count_with_builddate_info</td>\n",
       "      <td>4991</td>\n",
       "      <td>float64</td>\n",
       "    </tr>\n",
       "    <tr>\n",
       "      <th>28</th>\n",
       "      <td>build_count_1971-1995</td>\n",
       "      <td>4991</td>\n",
       "      <td>float64</td>\n",
       "    </tr>\n",
       "    <tr>\n",
       "      <th>29</th>\n",
       "      <td>build_count_1921-1945</td>\n",
       "      <td>4991</td>\n",
       "      <td>float64</td>\n",
       "    </tr>\n",
       "    <tr>\n",
       "      <th>30</th>\n",
       "      <td>build_count_1946-1970</td>\n",
       "      <td>4991</td>\n",
       "      <td>float64</td>\n",
       "    </tr>\n",
       "    <tr>\n",
       "      <th>31</th>\n",
       "      <td>build_count_after_1995</td>\n",
       "      <td>4991</td>\n",
       "      <td>float64</td>\n",
       "    </tr>\n",
       "    <tr>\n",
       "      <th>32</th>\n",
       "      <td>cafe_sum_1500_min_price_avg</td>\n",
       "      <td>4199</td>\n",
       "      <td>float64</td>\n",
       "    </tr>\n",
       "    <tr>\n",
       "      <th>33</th>\n",
       "      <td>cafe_sum_1500_max_price_avg</td>\n",
       "      <td>4199</td>\n",
       "      <td>float64</td>\n",
       "    </tr>\n",
       "    <tr>\n",
       "      <th>34</th>\n",
       "      <td>cafe_avg_price_1500</td>\n",
       "      <td>4199</td>\n",
       "      <td>float64</td>\n",
       "    </tr>\n",
       "    <tr>\n",
       "      <th>35</th>\n",
       "      <td>cafe_sum_2000_min_price_avg</td>\n",
       "      <td>1725</td>\n",
       "      <td>float64</td>\n",
       "    </tr>\n",
       "    <tr>\n",
       "      <th>36</th>\n",
       "      <td>cafe_sum_2000_max_price_avg</td>\n",
       "      <td>1725</td>\n",
       "      <td>float64</td>\n",
       "    </tr>\n",
       "    <tr>\n",
       "      <th>37</th>\n",
       "      <td>cafe_avg_price_2000</td>\n",
       "      <td>1725</td>\n",
       "      <td>float64</td>\n",
       "    </tr>\n",
       "    <tr>\n",
       "      <th>38</th>\n",
       "      <td>cafe_sum_3000_min_price_avg</td>\n",
       "      <td>991</td>\n",
       "      <td>float64</td>\n",
       "    </tr>\n",
       "    <tr>\n",
       "      <th>39</th>\n",
       "      <td>cafe_sum_3000_max_price_avg</td>\n",
       "      <td>991</td>\n",
       "      <td>float64</td>\n",
       "    </tr>\n",
       "    <tr>\n",
       "      <th>40</th>\n",
       "      <td>cafe_avg_price_3000</td>\n",
       "      <td>991</td>\n",
       "      <td>float64</td>\n",
       "    </tr>\n",
       "    <tr>\n",
       "      <th>41</th>\n",
       "      <td>cafe_sum_5000_max_price_avg</td>\n",
       "      <td>297</td>\n",
       "      <td>float64</td>\n",
       "    </tr>\n",
       "    <tr>\n",
       "      <th>42</th>\n",
       "      <td>cafe_sum_5000_min_price_avg</td>\n",
       "      <td>297</td>\n",
       "      <td>float64</td>\n",
       "    </tr>\n",
       "    <tr>\n",
       "      <th>43</th>\n",
       "      <td>cafe_avg_price_5000</td>\n",
       "      <td>297</td>\n",
       "      <td>float64</td>\n",
       "    </tr>\n",
       "    <tr>\n",
       "      <th>44</th>\n",
       "      <td>prom_part_5000</td>\n",
       "      <td>178</td>\n",
       "      <td>float64</td>\n",
       "    </tr>\n",
       "    <tr>\n",
       "      <th>45</th>\n",
       "      <td>floor</td>\n",
       "      <td>167</td>\n",
       "      <td>float64</td>\n",
       "    </tr>\n",
       "    <tr>\n",
       "      <th>46</th>\n",
       "      <td>railroad_station_walk_km</td>\n",
       "      <td>25</td>\n",
       "      <td>float64</td>\n",
       "    </tr>\n",
       "    <tr>\n",
       "      <th>47</th>\n",
       "      <td>railroad_station_walk_min</td>\n",
       "      <td>25</td>\n",
       "      <td>float64</td>\n",
       "    </tr>\n",
       "    <tr>\n",
       "      <th>48</th>\n",
       "      <td>ID_railroad_station_walk</td>\n",
       "      <td>25</td>\n",
       "      <td>float64</td>\n",
       "    </tr>\n",
       "    <tr>\n",
       "      <th>49</th>\n",
       "      <td>metro_km_walk</td>\n",
       "      <td>25</td>\n",
       "      <td>float64</td>\n",
       "    </tr>\n",
       "    <tr>\n",
       "      <th>50</th>\n",
       "      <td>metro_min_walk</td>\n",
       "      <td>25</td>\n",
       "      <td>float64</td>\n",
       "    </tr>\n",
       "  </tbody>\n",
       "</table>\n",
       "</div>"
      ],
      "text/plain": [
       "                                  feature  na_count     type\n",
       "0                     hospital_beds_raion     14441  float64\n",
       "1                              build_year     13605  float64\n",
       "2                                   state     13559  float64\n",
       "3              cafe_sum_500_min_price_avg     13281  float64\n",
       "4              cafe_sum_500_max_price_avg     13281  float64\n",
       "5                      cafe_avg_price_500     13281  float64\n",
       "6                               max_floor      9572  float64\n",
       "7                                material      9572  float64\n",
       "8                                num_room      9572  float64\n",
       "9                                kitch_sq      9572  float64\n",
       "10                        preschool_quota      6688  float64\n",
       "11                           school_quota      6685  float64\n",
       "12            cafe_sum_1000_max_price_avg      6524  float64\n",
       "13            cafe_sum_1000_min_price_avg      6524  float64\n",
       "14                    cafe_avg_price_1000      6524  float64\n",
       "15                                life_sq      6383  float64\n",
       "16                build_count_before_1920      4991  float64\n",
       "17                      build_count_block      4991  float64\n",
       "18   raion_build_count_with_material_info      4991  float64\n",
       "19                       build_count_wood      4991  float64\n",
       "20                      build_count_frame      4991  float64\n",
       "21                      build_count_brick      4991  float64\n",
       "22                   build_count_monolith      4991  float64\n",
       "23                      build_count_panel      4991  float64\n",
       "24                       build_count_foam      4991  float64\n",
       "25                       build_count_slag      4991  float64\n",
       "26                        build_count_mix      4991  float64\n",
       "27  raion_build_count_with_builddate_info      4991  float64\n",
       "28                  build_count_1971-1995      4991  float64\n",
       "29                  build_count_1921-1945      4991  float64\n",
       "30                  build_count_1946-1970      4991  float64\n",
       "31                 build_count_after_1995      4991  float64\n",
       "32            cafe_sum_1500_min_price_avg      4199  float64\n",
       "33            cafe_sum_1500_max_price_avg      4199  float64\n",
       "34                    cafe_avg_price_1500      4199  float64\n",
       "35            cafe_sum_2000_min_price_avg      1725  float64\n",
       "36            cafe_sum_2000_max_price_avg      1725  float64\n",
       "37                    cafe_avg_price_2000      1725  float64\n",
       "38            cafe_sum_3000_min_price_avg       991  float64\n",
       "39            cafe_sum_3000_max_price_avg       991  float64\n",
       "40                    cafe_avg_price_3000       991  float64\n",
       "41            cafe_sum_5000_max_price_avg       297  float64\n",
       "42            cafe_sum_5000_min_price_avg       297  float64\n",
       "43                    cafe_avg_price_5000       297  float64\n",
       "44                         prom_part_5000       178  float64\n",
       "45                                  floor       167  float64\n",
       "46               railroad_station_walk_km        25  float64\n",
       "47              railroad_station_walk_min        25  float64\n",
       "48               ID_railroad_station_walk        25  float64\n",
       "49                          metro_km_walk        25  float64\n",
       "50                         metro_min_walk        25  float64"
      ]
     },
     "execution_count": 7,
     "metadata": {},
     "output_type": "execute_result"
    }
   ],
   "source": [
    "df_missing = pd.DataFrame(list(zip(na_list.index, na_list.values)), columns=['feature','na_count'])\n",
    "df_dtypes = pd.DataFrame(list(zip(df.dtypes.index, df.dtypes)), columns=['feature','type'])\n",
    "df_missing.merge(df_dtypes, how='inner', on='feature')"
   ]
  },
  {
   "cell_type": "code",
   "execution_count": 8,
   "metadata": {},
   "outputs": [
    {
     "data": {
      "text/plain": [
       "array([dtype('int64'), dtype('O'), dtype('float64')], dtype=object)"
      ]
     },
     "execution_count": 8,
     "metadata": {},
     "output_type": "execute_result"
    }
   ],
   "source": [
    "df.dtypes.unique()"
   ]
  },
  {
   "cell_type": "code",
   "execution_count": 9,
   "metadata": {},
   "outputs": [],
   "source": [
    "df_cats = df.select_dtypes(include=['O'])"
   ]
  },
  {
   "cell_type": "code",
   "execution_count": 10,
   "metadata": {},
   "outputs": [],
   "source": [
    "df_cats2 = df_cats.drop('timestamp',axis=1)"
   ]
  },
  {
   "cell_type": "code",
   "execution_count": 11,
   "metadata": {},
   "outputs": [
    {
     "name": "stdout",
     "output_type": "stream",
     "text": [
      "Categorical cardinality:\n",
      "\n",
      "Feature product_type:\n",
      "['Investment' 'OwnerOccupier']\n",
      "\n",
      "Feature ecology:\n",
      "['good' 'excellent' 'poor' 'satisfactory' 'no data']\n",
      "\n",
      "Feature sub_area:\n",
      "['Bibirevo' 'Nagatinskij Zaton' \"Tekstil'shhiki\" 'Mitino' 'Basmannoe'\n",
      " 'Nizhegorodskoe' \"Sokol'niki\" 'Koptevo' 'Kuncevo' 'Kosino-Uhtomskoe'\n",
      " 'Zapadnoe Degunino' 'Presnenskoe' 'Lefortovo' \"Mar'ino\" \"Kuz'minki\"\n",
      " 'Nagornoe' \"Gol'janovo\" 'Vnukovo' 'Juzhnoe Tushino' 'Severnoe Tushino'\n",
      " \"Chertanovo Central'noe\" 'Fili Davydkovo' 'Otradnoe' 'Novo-Peredelkino'\n",
      " 'Bogorodskoe' 'Jaroslavskoe' 'Strogino' 'Hovrino' \"Moskvorech'e-Saburovo\"\n",
      " 'Staroe Krjukovo' 'Ljublino' 'Caricyno' 'Veshnjaki' 'Danilovskoe'\n",
      " 'Preobrazhenskoe' \"Kon'kovo\" 'Brateevo' 'Vostochnoe Izmajlovo'\n",
      " 'Vyhino-Zhulebino' 'Donskoe' 'Novogireevo' 'Juzhnoe Butovo' 'Sokol'\n",
      " 'Kurkino' 'Izmajlovo' 'Severnoe Medvedkovo' 'Rostokino'\n",
      " 'Orehovo-Borisovo Severnoe' 'Ochakovo-Matveevskoe' 'Taganskoe'\n",
      " 'Dmitrovskoe' 'Orehovo-Borisovo Juzhnoe' 'Teplyj Stan' 'Babushkinskoe'\n",
      " 'Pokrovskoe Streshnevo' 'Obruchevskoe' 'Filevskij Park'\n",
      " 'Troparevo-Nikulino' 'Severnoe Butovo' 'Hamovniki' 'Solncevo'\n",
      " 'Dorogomilovo' 'Timirjazevskoe' 'Lianozovo' 'Pechatniki' 'Krjukovo'\n",
      " 'Jasenevo' 'Chertanovo Severnoe' 'Rjazanskij' 'Silino' 'Ivanovskoe'\n",
      " 'Golovinskoe' 'Novokosino' 'Nagatino-Sadovniki' 'Birjulevo Vostochnoe'\n",
      " 'Severnoe Izmajlovo' 'Sokolinaja Gora' 'Vostochnoe Degunino'\n",
      " 'Prospekt Vernadskogo' 'Savelki' 'Ajeroport' 'Vojkovskoe'\n",
      " 'Beskudnikovskoe' 'Krylatskoe' 'Juzhnoportovoe' 'Perovo' 'Akademicheskoe'\n",
      " 'Horoshevo-Mnevniki' 'Shhukino' 'Kapotnja' 'Horoshevskoe' 'Marfino'\n",
      " 'Chertanovo Juzhnoe' 'Savelovskoe' 'Birjulevo Zapadnoe' 'Nekrasovka'\n",
      " 'Cheremushki' 'Sviblovo' 'Alekseevskoe' \"Krasnosel'skoe\" 'Kotlovka'\n",
      " 'Zjuzino' 'Ostankinskoe' 'Tverskoe' 'Losinoostrovskoe' 'Butyrskoe'\n",
      " 'Matushkino' 'Metrogorodok' 'Juzhnoe Medvedkovo' 'Lomonosovskoe'\n",
      " 'Jakimanka' 'Mozhajskoe' 'Levoberezhnoe' \"Mar'ina Roshha\" 'Gagarinskoe'\n",
      " \"Zamoskvorech'e\" \"Altuf'evskoe\" 'Ramenki' 'Zjablikovo' 'Meshhanskoe'\n",
      " 'Severnoe' 'Begovoe' 'Arbat' 'Poselenie Sosenskoe' 'Poselenie Moskovskij'\n",
      " 'Poselenie Pervomajskoe' 'Poselenie Desjonovskoe'\n",
      " 'Poselenie Voskresenskoe' 'Poselenie Mosrentgen' 'Troickij okrug'\n",
      " 'Poselenie Shherbinka' 'Poselenie Filimonkovskoe' 'Poselenie Vnukovskoe'\n",
      " 'Poselenie Marushkinskoe' 'Poselenie Shhapovskoe'\n",
      " 'Poselenie Rjazanovskoe' 'Poselenie Kokoshkino' 'Vostochnoe'\n",
      " 'Poselenie Krasnopahorskoe' 'Poselenie Novofedorovskoe'\n",
      " 'Poselenie Voronovskoe' 'Poselenie Klenovskoe' 'Poselenie Rogovskoe'\n",
      " 'Poselenie Kievskij' 'Molzhaninovskoe' 'Poselenie Mihajlovo-Jarcevskoe']\n"
     ]
    }
   ],
   "source": [
    "print('Categorical cardinality:\\n\\nFeature product_type:\\n{}\\n\\nFeature ecology:\\n{}\\n\\nFeature sub_area:\\n{}'.format(df_cats['product_type'].unique(), df_cats['ecology'].unique(), df_cats['sub_area'].unique()))"
   ]
  },
  {
   "cell_type": "code",
   "execution_count": 12,
   "metadata": {},
   "outputs": [
    {
     "data": {
      "text/plain": [
       "0"
      ]
     },
     "execution_count": 12,
     "metadata": {},
     "output_type": "execute_result"
    }
   ],
   "source": [
    "df_cats2['sub_area'].isnull().sum()"
   ]
  },
  {
   "cell_type": "code",
   "execution_count": 13,
   "metadata": {},
   "outputs": [
    {
     "data": {
      "text/html": [
       "<div>\n",
       "<style scoped>\n",
       "    .dataframe tbody tr th:only-of-type {\n",
       "        vertical-align: middle;\n",
       "    }\n",
       "\n",
       "    .dataframe tbody tr th {\n",
       "        vertical-align: top;\n",
       "    }\n",
       "\n",
       "    .dataframe thead th {\n",
       "        text-align: right;\n",
       "    }\n",
       "</style>\n",
       "<table border=\"1\" class=\"dataframe\">\n",
       "  <thead>\n",
       "    <tr style=\"text-align: right;\">\n",
       "      <th></th>\n",
       "      <th>product_type</th>\n",
       "      <th>culture_objects_top_25</th>\n",
       "      <th>thermal_power_plant_raion</th>\n",
       "      <th>incineration_raion</th>\n",
       "      <th>oil_chemistry_raion</th>\n",
       "      <th>radiation_raion</th>\n",
       "      <th>railroad_terminal_raion</th>\n",
       "      <th>big_market_raion</th>\n",
       "      <th>nuclear_reactor_raion</th>\n",
       "      <th>detention_facility_raion</th>\n",
       "      <th>water_1line</th>\n",
       "      <th>big_road1_1line</th>\n",
       "      <th>railroad_1line</th>\n",
       "      <th>ecology</th>\n",
       "    </tr>\n",
       "  </thead>\n",
       "  <tbody>\n",
       "    <tr>\n",
       "      <th>0</th>\n",
       "      <td>Investment</td>\n",
       "      <td>no</td>\n",
       "      <td>no</td>\n",
       "      <td>no</td>\n",
       "      <td>no</td>\n",
       "      <td>no</td>\n",
       "      <td>no</td>\n",
       "      <td>no</td>\n",
       "      <td>no</td>\n",
       "      <td>no</td>\n",
       "      <td>no</td>\n",
       "      <td>no</td>\n",
       "      <td>no</td>\n",
       "      <td>good</td>\n",
       "    </tr>\n",
       "    <tr>\n",
       "      <th>1</th>\n",
       "      <td>Investment</td>\n",
       "      <td>yes</td>\n",
       "      <td>no</td>\n",
       "      <td>no</td>\n",
       "      <td>no</td>\n",
       "      <td>no</td>\n",
       "      <td>no</td>\n",
       "      <td>no</td>\n",
       "      <td>no</td>\n",
       "      <td>no</td>\n",
       "      <td>no</td>\n",
       "      <td>no</td>\n",
       "      <td>no</td>\n",
       "      <td>excellent</td>\n",
       "    </tr>\n",
       "    <tr>\n",
       "      <th>2</th>\n",
       "      <td>Investment</td>\n",
       "      <td>no</td>\n",
       "      <td>no</td>\n",
       "      <td>no</td>\n",
       "      <td>no</td>\n",
       "      <td>yes</td>\n",
       "      <td>no</td>\n",
       "      <td>no</td>\n",
       "      <td>no</td>\n",
       "      <td>no</td>\n",
       "      <td>no</td>\n",
       "      <td>no</td>\n",
       "      <td>no</td>\n",
       "      <td>poor</td>\n",
       "    </tr>\n",
       "    <tr>\n",
       "      <th>3</th>\n",
       "      <td>Investment</td>\n",
       "      <td>no</td>\n",
       "      <td>no</td>\n",
       "      <td>no</td>\n",
       "      <td>no</td>\n",
       "      <td>no</td>\n",
       "      <td>no</td>\n",
       "      <td>no</td>\n",
       "      <td>no</td>\n",
       "      <td>no</td>\n",
       "      <td>no</td>\n",
       "      <td>no</td>\n",
       "      <td>no</td>\n",
       "      <td>good</td>\n",
       "    </tr>\n",
       "    <tr>\n",
       "      <th>4</th>\n",
       "      <td>Investment</td>\n",
       "      <td>no</td>\n",
       "      <td>no</td>\n",
       "      <td>no</td>\n",
       "      <td>no</td>\n",
       "      <td>yes</td>\n",
       "      <td>yes</td>\n",
       "      <td>no</td>\n",
       "      <td>no</td>\n",
       "      <td>no</td>\n",
       "      <td>no</td>\n",
       "      <td>no</td>\n",
       "      <td>yes</td>\n",
       "      <td>excellent</td>\n",
       "    </tr>\n",
       "    <tr>\n",
       "      <th>...</th>\n",
       "      <td>...</td>\n",
       "      <td>...</td>\n",
       "      <td>...</td>\n",
       "      <td>...</td>\n",
       "      <td>...</td>\n",
       "      <td>...</td>\n",
       "      <td>...</td>\n",
       "      <td>...</td>\n",
       "      <td>...</td>\n",
       "      <td>...</td>\n",
       "      <td>...</td>\n",
       "      <td>...</td>\n",
       "      <td>...</td>\n",
       "      <td>...</td>\n",
       "    </tr>\n",
       "    <tr>\n",
       "      <th>30466</th>\n",
       "      <td>Investment</td>\n",
       "      <td>no</td>\n",
       "      <td>no</td>\n",
       "      <td>yes</td>\n",
       "      <td>no</td>\n",
       "      <td>yes</td>\n",
       "      <td>no</td>\n",
       "      <td>no</td>\n",
       "      <td>no</td>\n",
       "      <td>no</td>\n",
       "      <td>no</td>\n",
       "      <td>no</td>\n",
       "      <td>no</td>\n",
       "      <td>good</td>\n",
       "    </tr>\n",
       "    <tr>\n",
       "      <th>30467</th>\n",
       "      <td>Investment</td>\n",
       "      <td>yes</td>\n",
       "      <td>no</td>\n",
       "      <td>no</td>\n",
       "      <td>no</td>\n",
       "      <td>yes</td>\n",
       "      <td>yes</td>\n",
       "      <td>no</td>\n",
       "      <td>no</td>\n",
       "      <td>yes</td>\n",
       "      <td>no</td>\n",
       "      <td>no</td>\n",
       "      <td>no</td>\n",
       "      <td>poor</td>\n",
       "    </tr>\n",
       "    <tr>\n",
       "      <th>30468</th>\n",
       "      <td>OwnerOccupier</td>\n",
       "      <td>no</td>\n",
       "      <td>no</td>\n",
       "      <td>no</td>\n",
       "      <td>no</td>\n",
       "      <td>no</td>\n",
       "      <td>no</td>\n",
       "      <td>no</td>\n",
       "      <td>no</td>\n",
       "      <td>no</td>\n",
       "      <td>no</td>\n",
       "      <td>no</td>\n",
       "      <td>no</td>\n",
       "      <td>no data</td>\n",
       "    </tr>\n",
       "    <tr>\n",
       "      <th>30469</th>\n",
       "      <td>Investment</td>\n",
       "      <td>no</td>\n",
       "      <td>no</td>\n",
       "      <td>no</td>\n",
       "      <td>no</td>\n",
       "      <td>yes</td>\n",
       "      <td>no</td>\n",
       "      <td>no</td>\n",
       "      <td>no</td>\n",
       "      <td>no</td>\n",
       "      <td>no</td>\n",
       "      <td>no</td>\n",
       "      <td>no</td>\n",
       "      <td>satisfactory</td>\n",
       "    </tr>\n",
       "    <tr>\n",
       "      <th>30470</th>\n",
       "      <td>Investment</td>\n",
       "      <td>no</td>\n",
       "      <td>no</td>\n",
       "      <td>no</td>\n",
       "      <td>no</td>\n",
       "      <td>yes</td>\n",
       "      <td>no</td>\n",
       "      <td>no</td>\n",
       "      <td>no</td>\n",
       "      <td>no</td>\n",
       "      <td>no</td>\n",
       "      <td>no</td>\n",
       "      <td>no</td>\n",
       "      <td>poor</td>\n",
       "    </tr>\n",
       "  </tbody>\n",
       "</table>\n",
       "<p>30471 rows × 14 columns</p>\n",
       "</div>"
      ],
      "text/plain": [
       "        product_type culture_objects_top_25 thermal_power_plant_raion  \\\n",
       "0         Investment                     no                        no   \n",
       "1         Investment                    yes                        no   \n",
       "2         Investment                     no                        no   \n",
       "3         Investment                     no                        no   \n",
       "4         Investment                     no                        no   \n",
       "...              ...                    ...                       ...   \n",
       "30466     Investment                     no                        no   \n",
       "30467     Investment                    yes                        no   \n",
       "30468  OwnerOccupier                     no                        no   \n",
       "30469     Investment                     no                        no   \n",
       "30470     Investment                     no                        no   \n",
       "\n",
       "      incineration_raion oil_chemistry_raion radiation_raion  \\\n",
       "0                     no                  no              no   \n",
       "1                     no                  no              no   \n",
       "2                     no                  no             yes   \n",
       "3                     no                  no              no   \n",
       "4                     no                  no             yes   \n",
       "...                  ...                 ...             ...   \n",
       "30466                yes                  no             yes   \n",
       "30467                 no                  no             yes   \n",
       "30468                 no                  no              no   \n",
       "30469                 no                  no             yes   \n",
       "30470                 no                  no             yes   \n",
       "\n",
       "      railroad_terminal_raion big_market_raion nuclear_reactor_raion  \\\n",
       "0                          no               no                    no   \n",
       "1                          no               no                    no   \n",
       "2                          no               no                    no   \n",
       "3                          no               no                    no   \n",
       "4                         yes               no                    no   \n",
       "...                       ...              ...                   ...   \n",
       "30466                      no               no                    no   \n",
       "30467                     yes               no                    no   \n",
       "30468                      no               no                    no   \n",
       "30469                      no               no                    no   \n",
       "30470                      no               no                    no   \n",
       "\n",
       "      detention_facility_raion water_1line big_road1_1line railroad_1line  \\\n",
       "0                           no          no              no             no   \n",
       "1                           no          no              no             no   \n",
       "2                           no          no              no             no   \n",
       "3                           no          no              no             no   \n",
       "4                           no          no              no            yes   \n",
       "...                        ...         ...             ...            ...   \n",
       "30466                       no          no              no             no   \n",
       "30467                      yes          no              no             no   \n",
       "30468                       no          no              no             no   \n",
       "30469                       no          no              no             no   \n",
       "30470                       no          no              no             no   \n",
       "\n",
       "            ecology  \n",
       "0              good  \n",
       "1         excellent  \n",
       "2              poor  \n",
       "3              good  \n",
       "4         excellent  \n",
       "...             ...  \n",
       "30466          good  \n",
       "30467          poor  \n",
       "30468       no data  \n",
       "30469  satisfactory  \n",
       "30470          poor  \n",
       "\n",
       "[30471 rows x 14 columns]"
      ]
     },
     "execution_count": 13,
     "metadata": {},
     "output_type": "execute_result"
    }
   ],
   "source": [
    "df_cats2.drop('sub_area',axis=1)"
   ]
  },
  {
   "cell_type": "code",
   "execution_count": 14,
   "metadata": {},
   "outputs": [
    {
     "data": {
      "text/plain": [
       "0                    Bibirevo\n",
       "1           Nagatinskij Zaton\n",
       "2              Tekstil'shhiki\n",
       "3                      Mitino\n",
       "4                   Basmannoe\n",
       "                 ...         \n",
       "30466                Otradnoe\n",
       "30467                Tverskoe\n",
       "30468    Poselenie Vnukovskoe\n",
       "30469            Obruchevskoe\n",
       "30470             Novogireevo\n",
       "Name: sub_area, Length: 30471, dtype: object"
      ]
     },
     "execution_count": 14,
     "metadata": {},
     "output_type": "execute_result"
    }
   ],
   "source": [
    "df_cats2['sub_area']"
   ]
  },
  {
   "cell_type": "markdown",
   "metadata": {},
   "source": [
    "# One-hot and label encode"
   ]
  },
  {
   "cell_type": "code",
   "execution_count": 15,
   "metadata": {},
   "outputs": [],
   "source": [
    "sub_area = df_cats2['sub_area'].astype('category')\n",
    "one_hots = df_cats2.drop('sub_area',axis=1)\n",
    "sub_area_final = sub_area.cat.codes\n",
    "one_hots_final = pd.get_dummies(one_hots)"
   ]
  },
  {
   "cell_type": "code",
   "execution_count": 16,
   "metadata": {},
   "outputs": [
    {
     "data": {
      "text/plain": [
       "(array([2165., 2494., 2766., 2539., 4528., 2817., 2297., 5204., 2768.,\n",
       "        2893.]),\n",
       " array([  0. ,  14.5,  29. ,  43.5,  58. ,  72.5,  87. , 101.5, 116. ,\n",
       "        130.5, 145. ]),\n",
       " <BarContainer object of 10 artists>)"
      ]
     },
     "execution_count": 16,
     "metadata": {},
     "output_type": "execute_result"
    },
    {
     "data": {
      "image/png": "[encoded data removed]",
      "text/plain": [
       "<Figure size 432x288 with 1 Axes>"
      ]
     },
     "metadata": {
      "needs_background": "light"
     },
     "output_type": "display_data"
    }
   ],
   "source": [
    "import matplotlib.pyplot as plt\n",
    "plt.hist(sub_area.cat.codes)"
   ]
  },
  {
   "cell_type": "code",
   "execution_count": 17,
   "metadata": {},
   "outputs": [
    {
     "data": {
      "text/plain": [
       "0"
      ]
     },
     "execution_count": 17,
     "metadata": {},
     "output_type": "execute_result"
    }
   ],
   "source": [
    "sub_area.isna().sum()"
   ]
  },
  {
   "cell_type": "code",
   "execution_count": 18,
   "metadata": {},
   "outputs": [],
   "source": [
    "encodes = pd.concat([sub_area_final,one_hots_final], axis=1).astype('int64')"
   ]
  },
  {
   "cell_type": "markdown",
   "metadata": {},
   "source": [
    "# Get a list of the non-null values and run a model to predict price_doc\n",
    "## Concatenate with encoded variables"
   ]
  },
  {
   "cell_type": "code",
   "execution_count": 19,
   "metadata": {},
   "outputs": [
    {
     "name": "stdout",
     "output_type": "stream",
     "text": [
      "time range: [2011-08-20, 2015-06-30]\n"
     ]
    }
   ],
   "source": [
    "print('time range: [{}, {}]'.format(df['timestamp'].min(),df['timestamp'].max()))"
   ]
  },
  {
   "cell_type": "code",
   "execution_count": 20,
   "metadata": {},
   "outputs": [],
   "source": [
    "nullList = df.isnull().sum()\n",
    "non_naList=nullList[nullList==0].sort_values(ascending=False)\n",
    "non_null_features = list(non_naList.index)"
   ]
  },
  {
   "cell_type": "code",
   "execution_count": 21,
   "metadata": {},
   "outputs": [
    {
     "data": {
      "text/plain": [
       "array([dtype('int64'), dtype('float64'), dtype('O')], dtype=object)"
      ]
     },
     "execution_count": 21,
     "metadata": {},
     "output_type": "execute_result"
    }
   ],
   "source": [
    "df[non_null_features].dtypes.unique()"
   ]
  },
  {
   "cell_type": "code",
   "execution_count": 22,
   "metadata": {},
   "outputs": [],
   "source": [
    "no_null_df = df[non_null_features].drop(['id','timestamp'], axis=1).select_dtypes(include=['int64','float64'])"
   ]
  },
  {
   "cell_type": "code",
   "execution_count": 23,
   "metadata": {},
   "outputs": [],
   "source": [
    "df_no_null = pd.concat([no_null_df, encodes], axis=1)"
   ]
  },
  {
   "cell_type": "code",
   "execution_count": 24,
   "metadata": {},
   "outputs": [
    {
     "data": {
      "text/html": [
       "<div>\n",
       "<style scoped>\n",
       "    .dataframe tbody tr th:only-of-type {\n",
       "        vertical-align: middle;\n",
       "    }\n",
       "\n",
       "    .dataframe tbody tr th {\n",
       "        vertical-align: top;\n",
       "    }\n",
       "\n",
       "    .dataframe thead th {\n",
       "        text-align: right;\n",
       "    }\n",
       "</style>\n",
       "<table border=\"1\" class=\"dataframe\">\n",
       "  <thead>\n",
       "    <tr style=\"text-align: right;\">\n",
       "      <th></th>\n",
       "      <th>price_doc</th>\n",
       "      <th>catering_km</th>\n",
       "      <th>zd_vokzaly_avto_km</th>\n",
       "      <th>railroad_km</th>\n",
       "      <th>ID_big_road2</th>\n",
       "      <th>big_road2_km</th>\n",
       "      <th>ID_big_road1</th>\n",
       "      <th>big_road1_km</th>\n",
       "      <th>kremlin_km</th>\n",
       "      <th>bulvar_ring_km</th>\n",
       "      <th>...</th>\n",
       "      <th>water_1line_yes</th>\n",
       "      <th>big_road1_1line_no</th>\n",
       "      <th>big_road1_1line_yes</th>\n",
       "      <th>railroad_1line_no</th>\n",
       "      <th>railroad_1line_yes</th>\n",
       "      <th>ecology_excellent</th>\n",
       "      <th>ecology_good</th>\n",
       "      <th>ecology_no data</th>\n",
       "      <th>ecology_poor</th>\n",
       "      <th>ecology_satisfactory</th>\n",
       "    </tr>\n",
       "  </thead>\n",
       "  <tbody>\n",
       "    <tr>\n",
       "      <th>0</th>\n",
       "      <td>5850000</td>\n",
       "      <td>0.516838</td>\n",
       "      <td>14.231961</td>\n",
       "      <td>1.305159</td>\n",
       "      <td>5</td>\n",
       "      <td>3.830951</td>\n",
       "      <td>1</td>\n",
       "      <td>1.422391</td>\n",
       "      <td>15.156211</td>\n",
       "      <td>13.675657</td>\n",
       "      <td>...</td>\n",
       "      <td>0</td>\n",
       "      <td>1</td>\n",
       "      <td>0</td>\n",
       "      <td>1</td>\n",
       "      <td>0</td>\n",
       "      <td>0</td>\n",
       "      <td>1</td>\n",
       "      <td>0</td>\n",
       "      <td>0</td>\n",
       "      <td>0</td>\n",
       "    </tr>\n",
       "    <tr>\n",
       "      <th>1</th>\n",
       "      <td>6000000</td>\n",
       "      <td>0.230287</td>\n",
       "      <td>9.242586</td>\n",
       "      <td>0.694536</td>\n",
       "      <td>4</td>\n",
       "      <td>3.103996</td>\n",
       "      <td>2</td>\n",
       "      <td>2.887377</td>\n",
       "      <td>8.698054</td>\n",
       "      <td>8.132640</td>\n",
       "      <td>...</td>\n",
       "      <td>0</td>\n",
       "      <td>1</td>\n",
       "      <td>0</td>\n",
       "      <td>1</td>\n",
       "      <td>0</td>\n",
       "      <td>1</td>\n",
       "      <td>0</td>\n",
       "      <td>0</td>\n",
       "      <td>0</td>\n",
       "      <td>0</td>\n",
       "    </tr>\n",
       "    <tr>\n",
       "      <th>2</th>\n",
       "      <td>5700000</td>\n",
       "      <td>0.190462</td>\n",
       "      <td>9.540544</td>\n",
       "      <td>0.700691</td>\n",
       "      <td>4</td>\n",
       "      <td>2.927487</td>\n",
       "      <td>3</td>\n",
       "      <td>0.647250</td>\n",
       "      <td>9.067885</td>\n",
       "      <td>8.054252</td>\n",
       "      <td>...</td>\n",
       "      <td>0</td>\n",
       "      <td>1</td>\n",
       "      <td>0</td>\n",
       "      <td>1</td>\n",
       "      <td>0</td>\n",
       "      <td>0</td>\n",
       "      <td>0</td>\n",
       "      <td>0</td>\n",
       "      <td>1</td>\n",
       "      <td>0</td>\n",
       "    </tr>\n",
       "    <tr>\n",
       "      <th>3</th>\n",
       "      <td>13100000</td>\n",
       "      <td>0.465820</td>\n",
       "      <td>17.478380</td>\n",
       "      <td>1.999265</td>\n",
       "      <td>17</td>\n",
       "      <td>2.780449</td>\n",
       "      <td>1</td>\n",
       "      <td>2.677824</td>\n",
       "      <td>19.487005</td>\n",
       "      <td>18.309433</td>\n",
       "      <td>...</td>\n",
       "      <td>0</td>\n",
       "      <td>1</td>\n",
       "      <td>0</td>\n",
       "      <td>1</td>\n",
       "      <td>0</td>\n",
       "      <td>0</td>\n",
       "      <td>1</td>\n",
       "      <td>0</td>\n",
       "      <td>0</td>\n",
       "      <td>0</td>\n",
       "    </tr>\n",
       "    <tr>\n",
       "      <th>4</th>\n",
       "      <td>16331452</td>\n",
       "      <td>0.026102</td>\n",
       "      <td>1.595898</td>\n",
       "      <td>0.084113</td>\n",
       "      <td>10</td>\n",
       "      <td>3.133531</td>\n",
       "      <td>4</td>\n",
       "      <td>1.721834</td>\n",
       "      <td>2.578671</td>\n",
       "      <td>0.787593</td>\n",
       "      <td>...</td>\n",
       "      <td>0</td>\n",
       "      <td>1</td>\n",
       "      <td>0</td>\n",
       "      <td>0</td>\n",
       "      <td>1</td>\n",
       "      <td>1</td>\n",
       "      <td>0</td>\n",
       "      <td>0</td>\n",
       "      <td>0</td>\n",
       "      <td>0</td>\n",
       "    </tr>\n",
       "    <tr>\n",
       "      <th>...</th>\n",
       "      <td>...</td>\n",
       "      <td>...</td>\n",
       "      <td>...</td>\n",
       "      <td>...</td>\n",
       "      <td>...</td>\n",
       "      <td>...</td>\n",
       "      <td>...</td>\n",
       "      <td>...</td>\n",
       "      <td>...</td>\n",
       "      <td>...</td>\n",
       "      <td>...</td>\n",
       "      <td>...</td>\n",
       "      <td>...</td>\n",
       "      <td>...</td>\n",
       "      <td>...</td>\n",
       "      <td>...</td>\n",
       "      <td>...</td>\n",
       "      <td>...</td>\n",
       "      <td>...</td>\n",
       "      <td>...</td>\n",
       "      <td>...</td>\n",
       "    </tr>\n",
       "    <tr>\n",
       "      <th>30466</th>\n",
       "      <td>7400000</td>\n",
       "      <td>0.055377</td>\n",
       "      <td>11.396447</td>\n",
       "      <td>1.137603</td>\n",
       "      <td>1</td>\n",
       "      <td>3.762408</td>\n",
       "      <td>5</td>\n",
       "      <td>3.096057</td>\n",
       "      <td>12.599292</td>\n",
       "      <td>11.118577</td>\n",
       "      <td>...</td>\n",
       "      <td>0</td>\n",
       "      <td>1</td>\n",
       "      <td>0</td>\n",
       "      <td>1</td>\n",
       "      <td>0</td>\n",
       "      <td>0</td>\n",
       "      <td>1</td>\n",
       "      <td>0</td>\n",
       "      <td>0</td>\n",
       "      <td>0</td>\n",
       "    </tr>\n",
       "    <tr>\n",
       "      <th>30467</th>\n",
       "      <td>25000000</td>\n",
       "      <td>0.007476</td>\n",
       "      <td>1.010437</td>\n",
       "      <td>0.377368</td>\n",
       "      <td>34</td>\n",
       "      <td>1.245704</td>\n",
       "      <td>4</td>\n",
       "      <td>1.238732</td>\n",
       "      <td>3.269284</td>\n",
       "      <td>1.874868</td>\n",
       "      <td>...</td>\n",
       "      <td>0</td>\n",
       "      <td>1</td>\n",
       "      <td>0</td>\n",
       "      <td>1</td>\n",
       "      <td>0</td>\n",
       "      <td>0</td>\n",
       "      <td>0</td>\n",
       "      <td>0</td>\n",
       "      <td>1</td>\n",
       "      <td>0</td>\n",
       "    </tr>\n",
       "    <tr>\n",
       "      <th>30468</th>\n",
       "      <td>6970959</td>\n",
       "      <td>0.066503</td>\n",
       "      <td>25.699461</td>\n",
       "      <td>1.727223</td>\n",
       "      <td>27</td>\n",
       "      <td>3.688405</td>\n",
       "      <td>13</td>\n",
       "      <td>2.808077</td>\n",
       "      <td>21.905792</td>\n",
       "      <td>21.038561</td>\n",
       "      <td>...</td>\n",
       "      <td>0</td>\n",
       "      <td>1</td>\n",
       "      <td>0</td>\n",
       "      <td>1</td>\n",
       "      <td>0</td>\n",
       "      <td>0</td>\n",
       "      <td>0</td>\n",
       "      <td>1</td>\n",
       "      <td>0</td>\n",
       "      <td>0</td>\n",
       "    </tr>\n",
       "    <tr>\n",
       "      <th>30469</th>\n",
       "      <td>13500000</td>\n",
       "      <td>0.134566</td>\n",
       "      <td>15.303338</td>\n",
       "      <td>4.898047</td>\n",
       "      <td>51</td>\n",
       "      <td>2.174001</td>\n",
       "      <td>16</td>\n",
       "      <td>0.960608</td>\n",
       "      <td>13.622569</td>\n",
       "      <td>12.872535</td>\n",
       "      <td>...</td>\n",
       "      <td>0</td>\n",
       "      <td>1</td>\n",
       "      <td>0</td>\n",
       "      <td>1</td>\n",
       "      <td>0</td>\n",
       "      <td>0</td>\n",
       "      <td>0</td>\n",
       "      <td>0</td>\n",
       "      <td>0</td>\n",
       "      <td>1</td>\n",
       "    </tr>\n",
       "    <tr>\n",
       "      <th>30470</th>\n",
       "      <td>5600000</td>\n",
       "      <td>0.182831</td>\n",
       "      <td>12.243439</td>\n",
       "      <td>0.734949</td>\n",
       "      <td>10</td>\n",
       "      <td>2.089230</td>\n",
       "      <td>1</td>\n",
       "      <td>1.920884</td>\n",
       "      <td>11.812614</td>\n",
       "      <td>10.228634</td>\n",
       "      <td>...</td>\n",
       "      <td>0</td>\n",
       "      <td>1</td>\n",
       "      <td>0</td>\n",
       "      <td>1</td>\n",
       "      <td>0</td>\n",
       "      <td>0</td>\n",
       "      <td>0</td>\n",
       "      <td>0</td>\n",
       "      <td>1</td>\n",
       "      <td>0</td>\n",
       "    </tr>\n",
       "  </tbody>\n",
       "</table>\n",
       "<p>30471 rows × 256 columns</p>\n",
       "</div>"
      ],
      "text/plain": [
       "       price_doc  catering_km  zd_vokzaly_avto_km  railroad_km  ID_big_road2  \\\n",
       "0        5850000     0.516838           14.231961     1.305159             5   \n",
       "1        6000000     0.230287            9.242586     0.694536             4   \n",
       "2        5700000     0.190462            9.540544     0.700691             4   \n",
       "3       13100000     0.465820           17.478380     1.999265            17   \n",
       "4       16331452     0.026102            1.595898     0.084113            10   \n",
       "...          ...          ...                 ...          ...           ...   \n",
       "30466    7400000     0.055377           11.396447     1.137603             1   \n",
       "30467   25000000     0.007476            1.010437     0.377368            34   \n",
       "30468    6970959     0.066503           25.699461     1.727223            27   \n",
       "30469   13500000     0.134566           15.303338     4.898047            51   \n",
       "30470    5600000     0.182831           12.243439     0.734949            10   \n",
       "\n",
       "       big_road2_km  ID_big_road1  big_road1_km  kremlin_km  bulvar_ring_km  \\\n",
       "0          3.830951             1      1.422391   15.156211       13.675657   \n",
       "1          3.103996             2      2.887377    8.698054        8.132640   \n",
       "2          2.927487             3      0.647250    9.067885        8.054252   \n",
       "3          2.780449             1      2.677824   19.487005       18.309433   \n",
       "4          3.133531             4      1.721834    2.578671        0.787593   \n",
       "...             ...           ...           ...         ...             ...   \n",
       "30466      3.762408             5      3.096057   12.599292       11.118577   \n",
       "30467      1.245704             4      1.238732    3.269284        1.874868   \n",
       "30468      3.688405            13      2.808077   21.905792       21.038561   \n",
       "30469      2.174001            16      0.960608   13.622569       12.872535   \n",
       "30470      2.089230             1      1.920884   11.812614       10.228634   \n",
       "\n",
       "       ...  water_1line_yes  big_road1_1line_no  big_road1_1line_yes  \\\n",
       "0      ...                0                   1                    0   \n",
       "1      ...                0                   1                    0   \n",
       "2      ...                0                   1                    0   \n",
       "3      ...                0                   1                    0   \n",
       "4      ...                0                   1                    0   \n",
       "...    ...              ...                 ...                  ...   \n",
       "30466  ...                0                   1                    0   \n",
       "30467  ...                0                   1                    0   \n",
       "30468  ...                0                   1                    0   \n",
       "30469  ...                0                   1                    0   \n",
       "30470  ...                0                   1                    0   \n",
       "\n",
       "       railroad_1line_no  railroad_1line_yes  ecology_excellent  ecology_good  \\\n",
       "0                      1                   0                  0             1   \n",
       "1                      1                   0                  1             0   \n",
       "2                      1                   0                  0             0   \n",
       "3                      1                   0                  0             1   \n",
       "4                      0                   1                  1             0   \n",
       "...                  ...                 ...                ...           ...   \n",
       "30466                  1                   0                  0             1   \n",
       "30467                  1                   0                  0             0   \n",
       "30468                  1                   0                  0             0   \n",
       "30469                  1                   0                  0             0   \n",
       "30470                  1                   0                  0             0   \n",
       "\n",
       "       ecology_no data  ecology_poor  ecology_satisfactory  \n",
       "0                    0             0                     0  \n",
       "1                    0             0                     0  \n",
       "2                    0             1                     0  \n",
       "3                    0             0                     0  \n",
       "4                    0             0                     0  \n",
       "...                ...           ...                   ...  \n",
       "30466                0             0                     0  \n",
       "30467                0             1                     0  \n",
       "30468                1             0                     0  \n",
       "30469                0             0                     1  \n",
       "30470                0             1                     0  \n",
       "\n",
       "[30471 rows x 256 columns]"
      ]
     },
     "execution_count": 24,
     "metadata": {},
     "output_type": "execute_result"
    }
   ],
   "source": [
    "df_no_null"
   ]
  },
  {
   "cell_type": "code",
   "execution_count": 25,
   "metadata": {},
   "outputs": [],
   "source": [
    "import numpy as np\n",
    "import pandas as pd\n",
    "import seaborn as sns\n",
    "import matplotlib.pyplot as plt\n",
    "\n",
    "sns.set_theme(style=\"white\")"
   ]
  },
  {
   "cell_type": "markdown",
   "metadata": {},
   "source": [
    "## Correlation matrix including encoded categorical data"
   ]
  },
  {
   "cell_type": "code",
   "execution_count": 26,
   "metadata": {},
   "outputs": [],
   "source": [
    "# Compute the correlation matrix\n",
    "corr = df_no_null.corr()"
   ]
  },
  {
   "cell_type": "markdown",
   "metadata": {},
   "source": [
    "## Correlation matrix excluding categorical data"
   ]
  },
  {
   "cell_type": "code",
   "execution_count": 27,
   "metadata": {},
   "outputs": [],
   "source": [
    "# Compute the correlation matrix\n",
    "corr = no_null_df.corr()"
   ]
  },
  {
   "cell_type": "markdown",
   "metadata": {},
   "source": [
    "# There is no strong correlation in the dataset when there are only columns that do not contain NA"
   ]
  },
  {
   "cell_type": "code",
   "execution_count": 28,
   "metadata": {},
   "outputs": [
    {
     "data": {
      "text/html": [
       "<div>\n",
       "<style scoped>\n",
       "    .dataframe tbody tr th:only-of-type {\n",
       "        vertical-align: middle;\n",
       "    }\n",
       "\n",
       "    .dataframe tbody tr th {\n",
       "        vertical-align: top;\n",
       "    }\n",
       "\n",
       "    .dataframe thead th {\n",
       "        text-align: right;\n",
       "    }\n",
       "</style>\n",
       "<table border=\"1\" class=\"dataframe\">\n",
       "  <thead>\n",
       "    <tr style=\"text-align: right;\">\n",
       "      <th></th>\n",
       "      <th>price_doc</th>\n",
       "      <th>catering_km</th>\n",
       "      <th>zd_vokzaly_avto_km</th>\n",
       "      <th>railroad_km</th>\n",
       "      <th>ID_big_road2</th>\n",
       "      <th>big_road2_km</th>\n",
       "      <th>ID_big_road1</th>\n",
       "      <th>big_road1_km</th>\n",
       "      <th>kremlin_km</th>\n",
       "      <th>bulvar_ring_km</th>\n",
       "      <th>...</th>\n",
       "      <th>green_part_1500</th>\n",
       "      <th>market_count_1000</th>\n",
       "      <th>sport_count_1000</th>\n",
       "      <th>leisure_count_1000</th>\n",
       "      <th>mosque_count_1000</th>\n",
       "      <th>church_count_1000</th>\n",
       "      <th>big_church_count_1000</th>\n",
       "      <th>cafe_count_1000_price_high</th>\n",
       "      <th>cafe_count_1000_price_4000</th>\n",
       "      <th>cafe_count_1000_price_2500</th>\n",
       "    </tr>\n",
       "  </thead>\n",
       "  <tbody>\n",
       "    <tr>\n",
       "      <th>price_doc</th>\n",
       "      <td>1.000000</td>\n",
       "      <td>-0.210793</td>\n",
       "      <td>-0.284069</td>\n",
       "      <td>-0.094227</td>\n",
       "      <td>-0.081559</td>\n",
       "      <td>-0.160778</td>\n",
       "      <td>-0.067234</td>\n",
       "      <td>-0.103737</td>\n",
       "      <td>-0.279249</td>\n",
       "      <td>-0.279158</td>\n",
       "      <td>...</td>\n",
       "      <td>-0.079636</td>\n",
       "      <td>0.065118</td>\n",
       "      <td>0.197994</td>\n",
       "      <td>0.099571</td>\n",
       "      <td>0.089308</td>\n",
       "      <td>0.053886</td>\n",
       "      <td>0.086258</td>\n",
       "      <td>0.169175</td>\n",
       "      <td>0.036268</td>\n",
       "      <td>0.090532</td>\n",
       "    </tr>\n",
       "    <tr>\n",
       "      <th>catering_km</th>\n",
       "      <td>-0.210793</td>\n",
       "      <td>1.000000</td>\n",
       "      <td>0.619926</td>\n",
       "      <td>0.253281</td>\n",
       "      <td>0.224361</td>\n",
       "      <td>0.245286</td>\n",
       "      <td>0.217302</td>\n",
       "      <td>0.260477</td>\n",
       "      <td>0.564106</td>\n",
       "      <td>0.563799</td>\n",
       "      <td>...</td>\n",
       "      <td>0.217940</td>\n",
       "      <td>-0.231649</td>\n",
       "      <td>-0.397095</td>\n",
       "      <td>-0.156566</td>\n",
       "      <td>-0.076041</td>\n",
       "      <td>-0.152745</td>\n",
       "      <td>-0.187698</td>\n",
       "      <td>-0.121572</td>\n",
       "      <td>-0.131081</td>\n",
       "      <td>-0.166711</td>\n",
       "    </tr>\n",
       "    <tr>\n",
       "      <th>zd_vokzaly_avto_km</th>\n",
       "      <td>-0.284069</td>\n",
       "      <td>0.619926</td>\n",
       "      <td>1.000000</td>\n",
       "      <td>0.441031</td>\n",
       "      <td>0.316575</td>\n",
       "      <td>0.565361</td>\n",
       "      <td>0.303100</td>\n",
       "      <td>0.265185</td>\n",
       "      <td>0.965716</td>\n",
       "      <td>0.970654</td>\n",
       "      <td>...</td>\n",
       "      <td>0.382032</td>\n",
       "      <td>-0.256002</td>\n",
       "      <td>-0.570010</td>\n",
       "      <td>-0.276806</td>\n",
       "      <td>-0.049883</td>\n",
       "      <td>-0.282248</td>\n",
       "      <td>-0.335648</td>\n",
       "      <td>-0.235553</td>\n",
       "      <td>-0.241601</td>\n",
       "      <td>-0.290892</td>\n",
       "    </tr>\n",
       "    <tr>\n",
       "      <th>railroad_km</th>\n",
       "      <td>-0.094227</td>\n",
       "      <td>0.253281</td>\n",
       "      <td>0.441031</td>\n",
       "      <td>1.000000</td>\n",
       "      <td>0.057988</td>\n",
       "      <td>0.452117</td>\n",
       "      <td>0.510551</td>\n",
       "      <td>0.003233</td>\n",
       "      <td>0.382257</td>\n",
       "      <td>0.395364</td>\n",
       "      <td>...</td>\n",
       "      <td>0.317969</td>\n",
       "      <td>-0.101265</td>\n",
       "      <td>-0.188953</td>\n",
       "      <td>-0.014655</td>\n",
       "      <td>-0.006021</td>\n",
       "      <td>0.024143</td>\n",
       "      <td>-0.033003</td>\n",
       "      <td>-0.020876</td>\n",
       "      <td>0.022922</td>\n",
       "      <td>0.009632</td>\n",
       "    </tr>\n",
       "    <tr>\n",
       "      <th>ID_big_road2</th>\n",
       "      <td>-0.081559</td>\n",
       "      <td>0.224361</td>\n",
       "      <td>0.316575</td>\n",
       "      <td>0.057988</td>\n",
       "      <td>1.000000</td>\n",
       "      <td>0.145405</td>\n",
       "      <td>-0.178465</td>\n",
       "      <td>0.130972</td>\n",
       "      <td>0.328587</td>\n",
       "      <td>0.332546</td>\n",
       "      <td>...</td>\n",
       "      <td>0.119148</td>\n",
       "      <td>-0.062326</td>\n",
       "      <td>-0.065434</td>\n",
       "      <td>0.012908</td>\n",
       "      <td>0.023073</td>\n",
       "      <td>0.059926</td>\n",
       "      <td>0.031303</td>\n",
       "      <td>-0.002021</td>\n",
       "      <td>0.068199</td>\n",
       "      <td>0.057916</td>\n",
       "    </tr>\n",
       "    <tr>\n",
       "      <th>...</th>\n",
       "      <td>...</td>\n",
       "      <td>...</td>\n",
       "      <td>...</td>\n",
       "      <td>...</td>\n",
       "      <td>...</td>\n",
       "      <td>...</td>\n",
       "      <td>...</td>\n",
       "      <td>...</td>\n",
       "      <td>...</td>\n",
       "      <td>...</td>\n",
       "      <td>...</td>\n",
       "      <td>...</td>\n",
       "      <td>...</td>\n",
       "      <td>...</td>\n",
       "      <td>...</td>\n",
       "      <td>...</td>\n",
       "      <td>...</td>\n",
       "      <td>...</td>\n",
       "      <td>...</td>\n",
       "      <td>...</td>\n",
       "      <td>...</td>\n",
       "    </tr>\n",
       "    <tr>\n",
       "      <th>church_count_1000</th>\n",
       "      <td>0.053886</td>\n",
       "      <td>-0.152745</td>\n",
       "      <td>-0.282248</td>\n",
       "      <td>0.024143</td>\n",
       "      <td>0.059926</td>\n",
       "      <td>0.029901</td>\n",
       "      <td>-0.110303</td>\n",
       "      <td>0.200375</td>\n",
       "      <td>-0.371454</td>\n",
       "      <td>-0.347974</td>\n",
       "      <td>...</td>\n",
       "      <td>-0.178918</td>\n",
       "      <td>0.145025</td>\n",
       "      <td>0.636725</td>\n",
       "      <td>0.882447</td>\n",
       "      <td>0.038423</td>\n",
       "      <td>1.000000</td>\n",
       "      <td>0.954694</td>\n",
       "      <td>0.514722</td>\n",
       "      <td>0.936893</td>\n",
       "      <td>0.944945</td>\n",
       "    </tr>\n",
       "    <tr>\n",
       "      <th>big_church_count_1000</th>\n",
       "      <td>0.086258</td>\n",
       "      <td>-0.187698</td>\n",
       "      <td>-0.335648</td>\n",
       "      <td>-0.033003</td>\n",
       "      <td>0.031303</td>\n",
       "      <td>-0.039448</td>\n",
       "      <td>-0.144084</td>\n",
       "      <td>0.180980</td>\n",
       "      <td>-0.411367</td>\n",
       "      <td>-0.390458</td>\n",
       "      <td>...</td>\n",
       "      <td>-0.203325</td>\n",
       "      <td>0.140889</td>\n",
       "      <td>0.662959</td>\n",
       "      <td>0.868943</td>\n",
       "      <td>0.029719</td>\n",
       "      <td>0.954694</td>\n",
       "      <td>1.000000</td>\n",
       "      <td>0.546070</td>\n",
       "      <td>0.905742</td>\n",
       "      <td>0.919720</td>\n",
       "    </tr>\n",
       "    <tr>\n",
       "      <th>cafe_count_1000_price_high</th>\n",
       "      <td>0.169175</td>\n",
       "      <td>-0.121572</td>\n",
       "      <td>-0.235553</td>\n",
       "      <td>-0.020876</td>\n",
       "      <td>-0.002021</td>\n",
       "      <td>-0.053799</td>\n",
       "      <td>-0.032215</td>\n",
       "      <td>0.062495</td>\n",
       "      <td>-0.284384</td>\n",
       "      <td>-0.274015</td>\n",
       "      <td>...</td>\n",
       "      <td>-0.151574</td>\n",
       "      <td>0.054525</td>\n",
       "      <td>0.462501</td>\n",
       "      <td>0.605466</td>\n",
       "      <td>0.062536</td>\n",
       "      <td>0.514722</td>\n",
       "      <td>0.546070</td>\n",
       "      <td>1.000000</td>\n",
       "      <td>0.594749</td>\n",
       "      <td>0.632514</td>\n",
       "    </tr>\n",
       "    <tr>\n",
       "      <th>cafe_count_1000_price_4000</th>\n",
       "      <td>0.036268</td>\n",
       "      <td>-0.131081</td>\n",
       "      <td>-0.241601</td>\n",
       "      <td>0.022922</td>\n",
       "      <td>0.068199</td>\n",
       "      <td>0.031269</td>\n",
       "      <td>-0.093350</td>\n",
       "      <td>0.223808</td>\n",
       "      <td>-0.329147</td>\n",
       "      <td>-0.305069</td>\n",
       "      <td>...</td>\n",
       "      <td>-0.160743</td>\n",
       "      <td>0.127106</td>\n",
       "      <td>0.613423</td>\n",
       "      <td>0.900649</td>\n",
       "      <td>0.003209</td>\n",
       "      <td>0.936893</td>\n",
       "      <td>0.905742</td>\n",
       "      <td>0.594749</td>\n",
       "      <td>1.000000</td>\n",
       "      <td>0.975458</td>\n",
       "    </tr>\n",
       "    <tr>\n",
       "      <th>cafe_count_1000_price_2500</th>\n",
       "      <td>0.090532</td>\n",
       "      <td>-0.166711</td>\n",
       "      <td>-0.290892</td>\n",
       "      <td>0.009632</td>\n",
       "      <td>0.057916</td>\n",
       "      <td>0.000293</td>\n",
       "      <td>-0.094901</td>\n",
       "      <td>0.196393</td>\n",
       "      <td>-0.378412</td>\n",
       "      <td>-0.355059</td>\n",
       "      <td>...</td>\n",
       "      <td>-0.180614</td>\n",
       "      <td>0.141905</td>\n",
       "      <td>0.653470</td>\n",
       "      <td>0.923673</td>\n",
       "      <td>0.039160</td>\n",
       "      <td>0.944945</td>\n",
       "      <td>0.919720</td>\n",
       "      <td>0.632514</td>\n",
       "      <td>0.975458</td>\n",
       "      <td>1.000000</td>\n",
       "    </tr>\n",
       "  </tbody>\n",
       "</table>\n",
       "<p>224 rows × 224 columns</p>\n",
       "</div>"
      ],
      "text/plain": [
       "                            price_doc  catering_km  zd_vokzaly_avto_km  \\\n",
       "price_doc                    1.000000    -0.210793           -0.284069   \n",
       "catering_km                 -0.210793     1.000000            0.619926   \n",
       "zd_vokzaly_avto_km          -0.284069     0.619926            1.000000   \n",
       "railroad_km                 -0.094227     0.253281            0.441031   \n",
       "ID_big_road2                -0.081559     0.224361            0.316575   \n",
       "...                               ...          ...                 ...   \n",
       "church_count_1000            0.053886    -0.152745           -0.282248   \n",
       "big_church_count_1000        0.086258    -0.187698           -0.335648   \n",
       "cafe_count_1000_price_high   0.169175    -0.121572           -0.235553   \n",
       "cafe_count_1000_price_4000   0.036268    -0.131081           -0.241601   \n",
       "cafe_count_1000_price_2500   0.090532    -0.166711           -0.290892   \n",
       "\n",
       "                            railroad_km  ID_big_road2  big_road2_km  \\\n",
       "price_doc                     -0.094227     -0.081559     -0.160778   \n",
       "catering_km                    0.253281      0.224361      0.245286   \n",
       "zd_vokzaly_avto_km             0.441031      0.316575      0.565361   \n",
       "railroad_km                    1.000000      0.057988      0.452117   \n",
       "ID_big_road2                   0.057988      1.000000      0.145405   \n",
       "...                                 ...           ...           ...   \n",
       "church_count_1000              0.024143      0.059926      0.029901   \n",
       "big_church_count_1000         -0.033003      0.031303     -0.039448   \n",
       "cafe_count_1000_price_high    -0.020876     -0.002021     -0.053799   \n",
       "cafe_count_1000_price_4000     0.022922      0.068199      0.031269   \n",
       "cafe_count_1000_price_2500     0.009632      0.057916      0.000293   \n",
       "\n",
       "                            ID_big_road1  big_road1_km  kremlin_km  \\\n",
       "price_doc                      -0.067234     -0.103737   -0.279249   \n",
       "catering_km                     0.217302      0.260477    0.564106   \n",
       "zd_vokzaly_avto_km              0.303100      0.265185    0.965716   \n",
       "railroad_km                     0.510551      0.003233    0.382257   \n",
       "ID_big_road2                   -0.178465      0.130972    0.328587   \n",
       "...                                  ...           ...         ...   \n",
       "church_count_1000              -0.110303      0.200375   -0.371454   \n",
       "big_church_count_1000          -0.144084      0.180980   -0.411367   \n",
       "cafe_count_1000_price_high     -0.032215      0.062495   -0.284384   \n",
       "cafe_count_1000_price_4000     -0.093350      0.223808   -0.329147   \n",
       "cafe_count_1000_price_2500     -0.094901      0.196393   -0.378412   \n",
       "\n",
       "                            bulvar_ring_km  ...  green_part_1500  \\\n",
       "price_doc                        -0.279158  ...        -0.079636   \n",
       "catering_km                       0.563799  ...         0.217940   \n",
       "zd_vokzaly_avto_km                0.970654  ...         0.382032   \n",
       "railroad_km                       0.395364  ...         0.317969   \n",
       "ID_big_road2                      0.332546  ...         0.119148   \n",
       "...                                    ...  ...              ...   \n",
       "church_count_1000                -0.347974  ...        -0.178918   \n",
       "big_church_count_1000            -0.390458  ...        -0.203325   \n",
       "cafe_count_1000_price_high       -0.274015  ...        -0.151574   \n",
       "cafe_count_1000_price_4000       -0.305069  ...        -0.160743   \n",
       "cafe_count_1000_price_2500       -0.355059  ...        -0.180614   \n",
       "\n",
       "                            market_count_1000  sport_count_1000  \\\n",
       "price_doc                            0.065118          0.197994   \n",
       "catering_km                         -0.231649         -0.397095   \n",
       "zd_vokzaly_avto_km                  -0.256002         -0.570010   \n",
       "railroad_km                         -0.101265         -0.188953   \n",
       "ID_big_road2                        -0.062326         -0.065434   \n",
       "...                                       ...               ...   \n",
       "church_count_1000                    0.145025          0.636725   \n",
       "big_church_count_1000                0.140889          0.662959   \n",
       "cafe_count_1000_price_high           0.054525          0.462501   \n",
       "cafe_count_1000_price_4000           0.127106          0.613423   \n",
       "cafe_count_1000_price_2500           0.141905          0.653470   \n",
       "\n",
       "                            leisure_count_1000  mosque_count_1000  \\\n",
       "price_doc                             0.099571           0.089308   \n",
       "catering_km                          -0.156566          -0.076041   \n",
       "zd_vokzaly_avto_km                   -0.276806          -0.049883   \n",
       "railroad_km                          -0.014655          -0.006021   \n",
       "ID_big_road2                          0.012908           0.023073   \n",
       "...                                        ...                ...   \n",
       "church_count_1000                     0.882447           0.038423   \n",
       "big_church_count_1000                 0.868943           0.029719   \n",
       "cafe_count_1000_price_high            0.605466           0.062536   \n",
       "cafe_count_1000_price_4000            0.900649           0.003209   \n",
       "cafe_count_1000_price_2500            0.923673           0.039160   \n",
       "\n",
       "                            church_count_1000  big_church_count_1000  \\\n",
       "price_doc                            0.053886               0.086258   \n",
       "catering_km                         -0.152745              -0.187698   \n",
       "zd_vokzaly_avto_km                  -0.282248              -0.335648   \n",
       "railroad_km                          0.024143              -0.033003   \n",
       "ID_big_road2                         0.059926               0.031303   \n",
       "...                                       ...                    ...   \n",
       "church_count_1000                    1.000000               0.954694   \n",
       "big_church_count_1000                0.954694               1.000000   \n",
       "cafe_count_1000_price_high           0.514722               0.546070   \n",
       "cafe_count_1000_price_4000           0.936893               0.905742   \n",
       "cafe_count_1000_price_2500           0.944945               0.919720   \n",
       "\n",
       "                            cafe_count_1000_price_high  \\\n",
       "price_doc                                     0.169175   \n",
       "catering_km                                  -0.121572   \n",
       "zd_vokzaly_avto_km                           -0.235553   \n",
       "railroad_km                                  -0.020876   \n",
       "ID_big_road2                                 -0.002021   \n",
       "...                                                ...   \n",
       "church_count_1000                             0.514722   \n",
       "big_church_count_1000                         0.546070   \n",
       "cafe_count_1000_price_high                    1.000000   \n",
       "cafe_count_1000_price_4000                    0.594749   \n",
       "cafe_count_1000_price_2500                    0.632514   \n",
       "\n",
       "                            cafe_count_1000_price_4000  \\\n",
       "price_doc                                     0.036268   \n",
       "catering_km                                  -0.131081   \n",
       "zd_vokzaly_avto_km                           -0.241601   \n",
       "railroad_km                                   0.022922   \n",
       "ID_big_road2                                  0.068199   \n",
       "...                                                ...   \n",
       "church_count_1000                             0.936893   \n",
       "big_church_count_1000                         0.905742   \n",
       "cafe_count_1000_price_high                    0.594749   \n",
       "cafe_count_1000_price_4000                    1.000000   \n",
       "cafe_count_1000_price_2500                    0.975458   \n",
       "\n",
       "                            cafe_count_1000_price_2500  \n",
       "price_doc                                     0.090532  \n",
       "catering_km                                  -0.166711  \n",
       "zd_vokzaly_avto_km                           -0.290892  \n",
       "railroad_km                                   0.009632  \n",
       "ID_big_road2                                  0.057916  \n",
       "...                                                ...  \n",
       "church_count_1000                             0.944945  \n",
       "big_church_count_1000                         0.919720  \n",
       "cafe_count_1000_price_high                    0.632514  \n",
       "cafe_count_1000_price_4000                    0.975458  \n",
       "cafe_count_1000_price_2500                    1.000000  \n",
       "\n",
       "[224 rows x 224 columns]"
      ]
     },
     "execution_count": 28,
     "metadata": {},
     "output_type": "execute_result"
    }
   ],
   "source": [
    "#pd.set_option('display.max_columns', None)\n",
    "corr"
   ]
  },
  {
   "cell_type": "code",
   "execution_count": 29,
   "metadata": {},
   "outputs": [
    {
     "data": {
      "image/png": "[encoded data removed]",
      "text/plain": [
       "<Figure size 1008x792 with 2 Axes>"
      ]
     },
     "metadata": {},
     "output_type": "display_data"
    }
   ],
   "source": [
    "# Generate a mask for the upper triangle\n",
    "mask = np.triu(np.ones_like(corr, dtype=bool))\n",
    "\n",
    "# Set up the matplotlib figure\n",
    "f, ax = plt.subplots(figsize=(14,11))\n",
    "\n",
    "# Generate a custom diverging colormap\n",
    "cmap = sns.diverging_palette(230, 20, as_cmap=True)\n",
    "\n",
    "# Draw the heatmap with the mask and correct aspect ratio\n",
    "sns.heatmap(corr, mask=mask, cmap=cmap, vmax=.3, center=0, square=True, linewidths=.1, cbar_kws={\"shrink\": .5});"
   ]
  },
  {
   "cell_type": "markdown",
   "metadata": {},
   "source": [
    "# Running a linear regression on price_doc to assess model performance without variables having missing values. This will be compared again after imputing"
   ]
  },
  {
   "cell_type": "code",
   "execution_count": 30,
   "metadata": {},
   "outputs": [],
   "source": [
    "from sklearn import linear_model\n",
    "from sklearn import preprocessing\n",
    "from sklearn.metrics import mean_squared_error\n",
    "from sklearn.model_selection import train_test_split\n",
    "\n",
    "y = df_no_null['price_doc']\n",
    "X = df_no_null.drop(['price_doc'], axis=1)\n",
    "normalized_X = preprocessing.normalize(X)\n",
    "X_normalized = pd.DataFrame(normalized_X, columns=X.columns)\n",
    "X_train, X_test, y_train, y_test = train_test_split(X_normalized, y, test_size=0.33, random_state=42)"
   ]
  },
  {
   "cell_type": "code",
   "execution_count": 31,
   "metadata": {},
   "outputs": [
    {
     "name": "stdout",
     "output_type": "stream",
     "text": [
      "Mean Squared Error: 12620102689942.143\n"
     ]
    }
   ],
   "source": [
    "regress = linear_model.LinearRegression()\n",
    "regress.fit(X_train, y_train)\n",
    "y_preds = regress.predict(X_test)\n",
    "print('Mean Squared Error: {}'.format(mean_squared_error(y_test, y_preds)))"
   ]
  },
  {
   "cell_type": "markdown",
   "metadata": {},
   "source": [
    "### Using Ordinary Least Squares to check out serial correlation and feature importance relative to price_doc (y)"
   ]
  },
  {
   "cell_type": "code",
   "execution_count": 32,
   "metadata": {},
   "outputs": [],
   "source": [
    "import statsmodels.api as sm\n",
    "X2 = sm.add_constant(X_normalized)\n",
    "est = sm.OLS(y, X2)\n",
    "est2 = est.fit()\n",
    "#est2.summary(alpha=0.05)"
   ]
  },
  {
   "cell_type": "markdown",
   "metadata": {},
   "source": [
    "### Durbin-Watson test statistic using lag-1 horizons indicate - with a value almost equal to 2 - that there is a very minimal risk of serial correlation. Therefore, a time series model is not required."
   ]
  },
  {
   "cell_type": "code",
   "execution_count": 33,
   "metadata": {},
   "outputs": [
    {
     "name": "stdout",
     "output_type": "stream",
     "text": [
      "Durbin-Watson test for serial correlation (lag-1 auto-correlation): 1.978\n"
     ]
    }
   ],
   "source": [
    "import statsmodels\n",
    "resids = y_test-y_preds\n",
    "print('Durbin-Watson test for serial correlation (lag-1 auto-correlation): {}'.format(round(statsmodels.stats.stattools.durbin_watson(resids, axis=0),3)))"
   ]
  },
  {
   "cell_type": "markdown",
   "metadata": {},
   "source": [
    "### A low adjusted r-squared indicates there is too much multi-collinearity in the data and the right features may not be included. Therefore, imputation is necessary."
   ]
  },
  {
   "cell_type": "code",
   "execution_count": 34,
   "metadata": {},
   "outputs": [
    {
     "name": "stdout",
     "output_type": "stream",
     "text": [
      "Adjusted R-Square: 0.377\n"
     ]
    }
   ],
   "source": [
    "print('Adjusted R-Square: {}'.format(round(est2.rsquared_adj, 3)))"
   ]
  },
  {
   "cell_type": "markdown",
   "metadata": {},
   "source": [
    "### The very low value of the smallest eigenvalue also indicates strong multi-collinearity by suggesting the matrix is close to singular"
   ]
  },
  {
   "cell_type": "code",
   "execution_count": 35,
   "metadata": {},
   "outputs": [
    {
     "data": {
      "text/plain": [
       "3.042230987622032e-28"
      ]
     },
     "execution_count": 35,
     "metadata": {},
     "output_type": "execute_result"
    }
   ],
   "source": [
    "est2.eigenvals.min()"
   ]
  },
  {
   "cell_type": "code",
   "execution_count": 36,
   "metadata": {},
   "outputs": [
    {
     "name": "stdout",
     "output_type": "stream",
     "text": [
      "Percent of features that are statistically significant: 49.61%\n"
     ]
    }
   ],
   "source": [
    "print('Percent of features that are statistically significant: {}%'.format(round(est2.pvalues[est2.pvalues < 0.05].count() / est2.pvalues.count()*100, 2)))"
   ]
  },
  {
   "cell_type": "code",
   "execution_count": 37,
   "metadata": {},
   "outputs": [],
   "source": [
    "pval_names = list(est2.pvalues[est2.pvalues < 0.05].index)\n",
    "pvals = list(est2.pvalues[est2.pvalues < 0.05].values)"
   ]
  },
  {
   "cell_type": "code",
   "execution_count": 38,
   "metadata": {},
   "outputs": [
    {
     "data": {
      "text/html": [
       "<div>\n",
       "<style scoped>\n",
       "    .dataframe tbody tr th:only-of-type {\n",
       "        vertical-align: middle;\n",
       "    }\n",
       "\n",
       "    .dataframe tbody tr th {\n",
       "        vertical-align: top;\n",
       "    }\n",
       "\n",
       "    .dataframe thead th {\n",
       "        text-align: right;\n",
       "    }\n",
       "</style>\n",
       "<table border=\"1\" class=\"dataframe\">\n",
       "  <thead>\n",
       "    <tr style=\"text-align: right;\">\n",
       "      <th></th>\n",
       "      <th>feature</th>\n",
       "      <th>p-value</th>\n",
       "    </tr>\n",
       "  </thead>\n",
       "  <tbody>\n",
       "    <tr>\n",
       "      <th>0</th>\n",
       "      <td>full_sq</td>\n",
       "      <td>0.000000e+00</td>\n",
       "    </tr>\n",
       "    <tr>\n",
       "      <th>1</th>\n",
       "      <td>culture_objects_top_25_no</td>\n",
       "      <td>4.221515e-13</td>\n",
       "    </tr>\n",
       "    <tr>\n",
       "      <th>2</th>\n",
       "      <td>culture_objects_top_25_yes</td>\n",
       "      <td>9.667293e-12</td>\n",
       "    </tr>\n",
       "    <tr>\n",
       "      <th>3</th>\n",
       "      <td>leisure_count_1500</td>\n",
       "      <td>1.282035e-11</td>\n",
       "    </tr>\n",
       "    <tr>\n",
       "      <th>4</th>\n",
       "      <td>cafe_count_3000_price_1000</td>\n",
       "      <td>3.677676e-11</td>\n",
       "    </tr>\n",
       "  </tbody>\n",
       "</table>\n",
       "</div>"
      ],
      "text/plain": [
       "                      feature       p-value\n",
       "0                     full_sq  0.000000e+00\n",
       "1   culture_objects_top_25_no  4.221515e-13\n",
       "2  culture_objects_top_25_yes  9.667293e-12\n",
       "3          leisure_count_1500  1.282035e-11\n",
       "4  cafe_count_3000_price_1000  3.677676e-11"
      ]
     },
     "execution_count": 38,
     "metadata": {},
     "output_type": "execute_result"
    }
   ],
   "source": [
    "stat_sig = pd.DataFrame(list(zip(pval_names, pvals)), columns=['feature','p-value'])\n",
    "stat_sig.sort_values(by='p-value').reset_index(drop=True).head()"
   ]
  },
  {
   "cell_type": "markdown",
   "metadata": {},
   "source": [
    "# After running a linear regression on the data without imputing any values and only using columns that do not have missing information, we have an error of"
   ]
  },
  {
   "cell_type": "markdown",
   "metadata": {},
   "source": [
    "### Hospital bed imputation"
   ]
  },
  {
   "cell_type": "code",
   "execution_count": 39,
   "metadata": {},
   "outputs": [
    {
     "name": "stdout",
     "output_type": "stream",
     "text": [
      "Percent of hospital_beds_raion with missing values: 47.39%\n"
     ]
    }
   ],
   "source": [
    "print('Percent of hospital_beds_raion with missing values: {}%'.format(round(100*df['hospital_beds_raion'].isna().sum()/df.shape[0],2)))"
   ]
  },
  {
   "cell_type": "code",
   "execution_count": 40,
   "metadata": {},
   "outputs": [
    {
     "data": {
      "text/html": [
       "<div>\n",
       "<style scoped>\n",
       "    .dataframe tbody tr th:only-of-type {\n",
       "        vertical-align: middle;\n",
       "    }\n",
       "\n",
       "    .dataframe tbody tr th {\n",
       "        vertical-align: top;\n",
       "    }\n",
       "\n",
       "    .dataframe thead th {\n",
       "        text-align: right;\n",
       "    }\n",
       "</style>\n",
       "<table border=\"1\" class=\"dataframe\">\n",
       "  <thead>\n",
       "    <tr style=\"text-align: right;\">\n",
       "      <th></th>\n",
       "      <th>hospital_beds_raion</th>\n",
       "    </tr>\n",
       "    <tr>\n",
       "      <th>sub_area</th>\n",
       "      <th></th>\n",
       "    </tr>\n",
       "  </thead>\n",
       "  <tbody>\n",
       "    <tr>\n",
       "      <th>Ajeroport</th>\n",
       "      <td>125460.0</td>\n",
       "    </tr>\n",
       "    <tr>\n",
       "      <th>Akademicheskoe</th>\n",
       "      <td>175130.0</td>\n",
       "    </tr>\n",
       "    <tr>\n",
       "      <th>Alekseevskoe</th>\n",
       "      <td>77000.0</td>\n",
       "    </tr>\n",
       "    <tr>\n",
       "      <th>Altuf'evskoe</th>\n",
       "      <td>0.0</td>\n",
       "    </tr>\n",
       "    <tr>\n",
       "      <th>Arbat</th>\n",
       "      <td>8430.0</td>\n",
       "    </tr>\n",
       "  </tbody>\n",
       "</table>\n",
       "</div>"
      ],
      "text/plain": [
       "                hospital_beds_raion\n",
       "sub_area                           \n",
       "Ajeroport                  125460.0\n",
       "Akademicheskoe             175130.0\n",
       "Alekseevskoe                77000.0\n",
       "Altuf'evskoe                    0.0\n",
       "Arbat                        8430.0"
      ]
     },
     "execution_count": 40,
     "metadata": {},
     "output_type": "execute_result"
    }
   ],
   "source": [
    "neighborhoods = pd.concat([df['sub_area'],df['hospital_beds_raion']], axis=1)\n",
    "s = neighborhoods.groupby(neighborhoods['sub_area']).sum()\n",
    "\n",
    "#pd.set_option('display.max_columns', None)\n",
    "pd.set_option('display.max_rows', None)\n",
    "s.sort_values(by='sub_area', ascending=True).head() # Missing values appear as 0"
   ]
  },
  {
   "cell_type": "markdown",
   "metadata": {},
   "source": [
    "Because missing values for hospital_beds_raion are missing not at random - meaning neighborhoods that have values have values across all records whereas neighborhoods that do not have values have no values across all records - we will impute missing values for hospital_beds_raion with value zero."
   ]
  },
  {
   "cell_type": "code",
   "execution_count": 41,
   "metadata": {},
   "outputs": [],
   "source": [
    "df.loc[df['hospital_beds_raion'].isna(),'hospital_beds_raion'] = 0"
   ]
  },
  {
   "cell_type": "code",
   "execution_count": 42,
   "metadata": {},
   "outputs": [],
   "source": [
    "df1 = pd.concat([df_no_null, df['hospital_beds_raion']], axis=1)"
   ]
  },
  {
   "cell_type": "code",
   "execution_count": 43,
   "metadata": {},
   "outputs": [
    {
     "data": {
      "text/html": [
       "<div>\n",
       "<style scoped>\n",
       "    .dataframe tbody tr th:only-of-type {\n",
       "        vertical-align: middle;\n",
       "    }\n",
       "\n",
       "    .dataframe tbody tr th {\n",
       "        vertical-align: top;\n",
       "    }\n",
       "\n",
       "    .dataframe thead th {\n",
       "        text-align: right;\n",
       "    }\n",
       "</style>\n",
       "<table border=\"1\" class=\"dataframe\">\n",
       "  <thead>\n",
       "    <tr style=\"text-align: right;\">\n",
       "      <th></th>\n",
       "      <th>price_doc</th>\n",
       "      <th>catering_km</th>\n",
       "      <th>zd_vokzaly_avto_km</th>\n",
       "      <th>railroad_km</th>\n",
       "      <th>ID_big_road2</th>\n",
       "      <th>big_road2_km</th>\n",
       "      <th>ID_big_road1</th>\n",
       "      <th>big_road1_km</th>\n",
       "      <th>kremlin_km</th>\n",
       "      <th>bulvar_ring_km</th>\n",
       "      <th>...</th>\n",
       "      <th>big_road1_1line_no</th>\n",
       "      <th>big_road1_1line_yes</th>\n",
       "      <th>railroad_1line_no</th>\n",
       "      <th>railroad_1line_yes</th>\n",
       "      <th>ecology_excellent</th>\n",
       "      <th>ecology_good</th>\n",
       "      <th>ecology_no data</th>\n",
       "      <th>ecology_poor</th>\n",
       "      <th>ecology_satisfactory</th>\n",
       "      <th>hospital_beds_raion</th>\n",
       "    </tr>\n",
       "  </thead>\n",
       "  <tbody>\n",
       "    <tr>\n",
       "      <th>0</th>\n",
       "      <td>5850000</td>\n",
       "      <td>0.516838</td>\n",
       "      <td>14.231961</td>\n",
       "      <td>1.305159</td>\n",
       "      <td>5</td>\n",
       "      <td>3.830951</td>\n",
       "      <td>1</td>\n",
       "      <td>1.422391</td>\n",
       "      <td>15.156211</td>\n",
       "      <td>13.675657</td>\n",
       "      <td>...</td>\n",
       "      <td>1</td>\n",
       "      <td>0</td>\n",
       "      <td>1</td>\n",
       "      <td>0</td>\n",
       "      <td>0</td>\n",
       "      <td>1</td>\n",
       "      <td>0</td>\n",
       "      <td>0</td>\n",
       "      <td>0</td>\n",
       "      <td>240.0</td>\n",
       "    </tr>\n",
       "    <tr>\n",
       "      <th>1</th>\n",
       "      <td>6000000</td>\n",
       "      <td>0.230287</td>\n",
       "      <td>9.242586</td>\n",
       "      <td>0.694536</td>\n",
       "      <td>4</td>\n",
       "      <td>3.103996</td>\n",
       "      <td>2</td>\n",
       "      <td>2.887377</td>\n",
       "      <td>8.698054</td>\n",
       "      <td>8.132640</td>\n",
       "      <td>...</td>\n",
       "      <td>1</td>\n",
       "      <td>0</td>\n",
       "      <td>1</td>\n",
       "      <td>0</td>\n",
       "      <td>1</td>\n",
       "      <td>0</td>\n",
       "      <td>0</td>\n",
       "      <td>0</td>\n",
       "      <td>0</td>\n",
       "      <td>229.0</td>\n",
       "    </tr>\n",
       "    <tr>\n",
       "      <th>2</th>\n",
       "      <td>5700000</td>\n",
       "      <td>0.190462</td>\n",
       "      <td>9.540544</td>\n",
       "      <td>0.700691</td>\n",
       "      <td>4</td>\n",
       "      <td>2.927487</td>\n",
       "      <td>3</td>\n",
       "      <td>0.647250</td>\n",
       "      <td>9.067885</td>\n",
       "      <td>8.054252</td>\n",
       "      <td>...</td>\n",
       "      <td>1</td>\n",
       "      <td>0</td>\n",
       "      <td>1</td>\n",
       "      <td>0</td>\n",
       "      <td>0</td>\n",
       "      <td>0</td>\n",
       "      <td>0</td>\n",
       "      <td>1</td>\n",
       "      <td>0</td>\n",
       "      <td>1183.0</td>\n",
       "    </tr>\n",
       "    <tr>\n",
       "      <th>3</th>\n",
       "      <td>13100000</td>\n",
       "      <td>0.465820</td>\n",
       "      <td>17.478380</td>\n",
       "      <td>1.999265</td>\n",
       "      <td>17</td>\n",
       "      <td>2.780449</td>\n",
       "      <td>1</td>\n",
       "      <td>2.677824</td>\n",
       "      <td>19.487005</td>\n",
       "      <td>18.309433</td>\n",
       "      <td>...</td>\n",
       "      <td>1</td>\n",
       "      <td>0</td>\n",
       "      <td>1</td>\n",
       "      <td>0</td>\n",
       "      <td>0</td>\n",
       "      <td>1</td>\n",
       "      <td>0</td>\n",
       "      <td>0</td>\n",
       "      <td>0</td>\n",
       "      <td>0.0</td>\n",
       "    </tr>\n",
       "    <tr>\n",
       "      <th>4</th>\n",
       "      <td>16331452</td>\n",
       "      <td>0.026102</td>\n",
       "      <td>1.595898</td>\n",
       "      <td>0.084113</td>\n",
       "      <td>10</td>\n",
       "      <td>3.133531</td>\n",
       "      <td>4</td>\n",
       "      <td>1.721834</td>\n",
       "      <td>2.578671</td>\n",
       "      <td>0.787593</td>\n",
       "      <td>...</td>\n",
       "      <td>1</td>\n",
       "      <td>0</td>\n",
       "      <td>0</td>\n",
       "      <td>1</td>\n",
       "      <td>1</td>\n",
       "      <td>0</td>\n",
       "      <td>0</td>\n",
       "      <td>0</td>\n",
       "      <td>0</td>\n",
       "      <td>562.0</td>\n",
       "    </tr>\n",
       "  </tbody>\n",
       "</table>\n",
       "<p>5 rows × 257 columns</p>\n",
       "</div>"
      ],
      "text/plain": [
       "   price_doc  catering_km  zd_vokzaly_avto_km  railroad_km  ID_big_road2  \\\n",
       "0    5850000     0.516838           14.231961     1.305159             5   \n",
       "1    6000000     0.230287            9.242586     0.694536             4   \n",
       "2    5700000     0.190462            9.540544     0.700691             4   \n",
       "3   13100000     0.465820           17.478380     1.999265            17   \n",
       "4   16331452     0.026102            1.595898     0.084113            10   \n",
       "\n",
       "   big_road2_km  ID_big_road1  big_road1_km  kremlin_km  bulvar_ring_km  ...  \\\n",
       "0      3.830951             1      1.422391   15.156211       13.675657  ...   \n",
       "1      3.103996             2      2.887377    8.698054        8.132640  ...   \n",
       "2      2.927487             3      0.647250    9.067885        8.054252  ...   \n",
       "3      2.780449             1      2.677824   19.487005       18.309433  ...   \n",
       "4      3.133531             4      1.721834    2.578671        0.787593  ...   \n",
       "\n",
       "   big_road1_1line_no  big_road1_1line_yes  railroad_1line_no  \\\n",
       "0                   1                    0                  1   \n",
       "1                   1                    0                  1   \n",
       "2                   1                    0                  1   \n",
       "3                   1                    0                  1   \n",
       "4                   1                    0                  0   \n",
       "\n",
       "   railroad_1line_yes  ecology_excellent  ecology_good  ecology_no data  \\\n",
       "0                   0                  0             1                0   \n",
       "1                   0                  1             0                0   \n",
       "2                   0                  0             0                0   \n",
       "3                   0                  0             1                0   \n",
       "4                   1                  1             0                0   \n",
       "\n",
       "   ecology_poor  ecology_satisfactory  hospital_beds_raion  \n",
       "0             0                     0                240.0  \n",
       "1             0                     0                229.0  \n",
       "2             1                     0               1183.0  \n",
       "3             0                     0                  0.0  \n",
       "4             0                     0                562.0  \n",
       "\n",
       "[5 rows x 257 columns]"
      ]
     },
     "execution_count": 43,
     "metadata": {},
     "output_type": "execute_result"
    }
   ],
   "source": [
    "df1.head()"
   ]
  },
  {
   "cell_type": "markdown",
   "metadata": {},
   "source": [
    "## Build Year Imputation\n",
    "### Linear Regression\n",
    "For this, we used an ensemble of a linear regression using all numeric features not containing NA and the median by sub_area for imputing build year. Mean squared error outperformed model baseline used to predict price_doc so using linear regression to impute for an input variable will not likely make the model worse."
   ]
  },
  {
   "cell_type": "code",
   "execution_count": 44,
   "metadata": {},
   "outputs": [],
   "source": [
    "# Concat original non-null dataset with newly imputed hospital beds and the build_year column from df with nulls\n",
    "df2 = pd.concat([df_no_null.select_dtypes(include=['int64','float64']), df['hospital_beds_raion'], df['build_year']], axis=1)"
   ]
  },
  {
   "cell_type": "code",
   "execution_count": 45,
   "metadata": {},
   "outputs": [
    {
     "name": "stdout",
     "output_type": "stream",
     "text": [
      "Mean Squared Error: 1443484330.4020734\n"
     ]
    }
   ],
   "source": [
    "build_year_df = df2.loc[df2['build_year'].notnull(),:]\n",
    "build_year_X = build_year_df.drop('build_year', axis=1)\n",
    "build_year_y = build_year_df['build_year']\n",
    "normalized_X = preprocessing.normalize(build_year_X)\n",
    "X_train, X_test, y_train, y_test = train_test_split(normalized_X, build_year_y, test_size=0.33, random_state=42)\n",
    "build_yr_regression = linear_model.LinearRegression()\n",
    "build_yr_regression.fit(X_train, y_train)\n",
    "y_preds = build_yr_regression.predict(X_test)\n",
    "print('Mean Squared Error: {}'.format(mean_squared_error(y_test, y_preds)))"
   ]
  },
  {
   "cell_type": "code",
   "execution_count": 46,
   "metadata": {},
   "outputs": [],
   "source": [
    "build_year_null_df = df2.loc[df2['build_year'].isnull(),:]\n",
    "build_year_null_X = build_year_df.drop('build_year', axis=1)\n",
    "build_year_null_y = build_year_df['build_year']\n",
    "normalized_null_bldyr_X = preprocessing.normalize(build_year_null_X)"
   ]
  },
  {
   "cell_type": "code",
   "execution_count": 47,
   "metadata": {},
   "outputs": [],
   "source": [
    "regress_imputed_bldyr = build_yr_regression.predict(normalized_null_bldyr_X)"
   ]
  },
  {
   "cell_type": "markdown",
   "metadata": {},
   "source": [
    "Regression did not do well for imputing build year. Predicted values using the full numeric dataset resulted in predictions that houses were constructed in 43,737 BC (example 1):"
   ]
  },
  {
   "cell_type": "code",
   "execution_count": 48,
   "metadata": {},
   "outputs": [
    {
     "data": {
      "text/plain": [
       "-43737.2698629079"
      ]
     },
     "execution_count": 48,
     "metadata": {},
     "output_type": "execute_result"
    }
   ],
   "source": [
    "regress_imputed_bldyr[0]"
   ]
  },
  {
   "cell_type": "markdown",
   "metadata": {},
   "source": [
    "### Median Imputation\n",
    "To impute with median build_year, we needed to first eliminate the NA and outlier values. For this, we identified that years 0 and 20052009 existed in the dataset. We considered those to be the same as missing as well and dropped them from the dataset. We considered taking the average of 2005 and 2009 for the points with 20052009, but we decided it would be simpler to just impute over this value."
   ]
  },
  {
   "cell_type": "code",
   "execution_count": 49,
   "metadata": {},
   "outputs": [],
   "source": [
    "df2 = pd.concat([df_no_null.select_dtypes(include=['int64','float64']), df['hospital_beds_raion'], df['build_year'], df['sub_area']], axis=1)"
   ]
  },
  {
   "cell_type": "code",
   "execution_count": 50,
   "metadata": {},
   "outputs": [],
   "source": [
    "# Take all data where build_year is not null\n",
    "build_df = df2.loc[df2['build_year'].notna(),:]"
   ]
  },
  {
   "cell_type": "code",
   "execution_count": 51,
   "metadata": {},
   "outputs": [
    {
     "name": "stdout",
     "output_type": "stream",
     "text": [
      "Mean build year: 3068\n",
      "Median build year: 1979\n",
      "\n",
      "Minimum build year: 0\n",
      "Maximum build year: 20052009\n"
     ]
    }
   ],
   "source": [
    "from math import floor\n",
    "print('Mean build year: {}\\nMedian build year: {}'.format(floor(build_df['build_year'].mean()), floor(build_df['build_year'].median())))\n",
    "print('\\nMinimum build year: {}\\nMaximum build year: {}'.format(floor(build_df['build_year'].min()), floor(build_df['build_year'].max())))"
   ]
  },
  {
   "cell_type": "markdown",
   "metadata": {},
   "source": [
    "Only 5 data points appear before 1500, which accounts for less than 0.01% of all data. Therefore, we dropped everything prior to 1500 to consider those years as missing."
   ]
  },
  {
   "cell_type": "code",
   "execution_count": 52,
   "metadata": {},
   "outputs": [
    {
     "data": {
      "text/plain": [
       "5"
      ]
     },
     "execution_count": 52,
     "metadata": {},
     "output_type": "execute_result"
    }
   ],
   "source": [
    "build_df['build_year'].between(2, 1500).sum()"
   ]
  },
  {
   "cell_type": "code",
   "execution_count": 53,
   "metadata": {},
   "outputs": [],
   "source": [
    "build_df_final = build_df.loc[build_df['build_year'].between(1500, 2020),:]"
   ]
  },
  {
   "cell_type": "code",
   "execution_count": 78,
   "metadata": {},
   "outputs": [
    {
     "name": "stdout",
     "output_type": "stream",
     "text": [
      "Mean Squared Error: 202.24245785041163\n"
     ]
    }
   ],
   "source": [
    "build_year_X = build_df_final.drop(['build_year','sub_area'], axis=1)\n",
    "build_year_y = build_df_final['build_year']\n",
    "normalized_X = preprocessing.normalize(build_year_X)\n",
    "X_train, X_test, y_train, y_test = train_test_split(normalized_X, build_year_y, test_size=0.33, random_state=42)\n",
    "build_yr_regression = linear_model.LinearRegression()\n",
    "build_yr_regression.fit(X_train, y_train)\n",
    "y_preds = build_yr_regression.predict(X_test)\n",
    "print('Mean Squared Error: {}'.format(mean_squared_error(y_test, y_preds)))"
   ]
  },
  {
   "cell_type": "code",
   "execution_count": 79,
   "metadata": {},
   "outputs": [],
   "source": [
    "build_year_null_df = df2.loc[df2['build_year'].isnull(),:]\n",
    "build_year_null_X = build_year_df.drop('build_year', axis=1)\n",
    "build_year_null_y = build_year_df['build_year']\n",
    "normalized_null_bldyr_X = preprocessing.normalize(build_year_null_X)"
   ]
  },
  {
   "cell_type": "code",
   "execution_count": 80,
   "metadata": {},
   "outputs": [],
   "source": [
    "regress_imputed_bldyr = build_yr_regression.predict(normalized_null_bldyr_X)"
   ]
  },
  {
   "cell_type": "code",
   "execution_count": 83,
   "metadata": {},
   "outputs": [
    {
     "data": {
      "text/plain": [
       "2079.3286229585665"
      ]
     },
     "execution_count": 83,
     "metadata": {},
     "output_type": "execute_result"
    }
   ],
   "source": [
    "regress_imputed_bldyr.max()"
   ]
  },
  {
   "cell_type": "markdown",
   "metadata": {},
   "source": [
    "First, we assessed the practicality of imputing with the median. We took a distribution of build_years across all neighborhoods and identified a tightly distributed range of build years."
   ]
  },
  {
   "cell_type": "code",
   "execution_count": 54,
   "metadata": {},
   "outputs": [
    {
     "name": "stdout",
     "output_type": "stream",
     "text": [
      "Mean build year: 1985\n",
      "Median build year: 1981\n",
      "\n",
      "Minimum build year: 1691\n",
      "Maximum build year: 2018\n"
     ]
    }
   ],
   "source": [
    "from math import floor\n",
    "print('Mean build year: {}\\nMedian build year: {}'.format(floor(build_df_final['build_year'].mean()), floor(build_df_final['build_year'].median())))\n",
    "print('\\nMinimum build year: {}\\nMaximum build year: {}'.format(floor(build_df_final['build_year'].min()), floor(build_df_final['build_year'].max())))"
   ]
  },
  {
   "cell_type": "code",
   "execution_count": 55,
   "metadata": {},
   "outputs": [
    {
     "data": {
      "image/png": "[encoded data removed]",
      "text/plain": [
       "<Figure size 432x288 with 1 Axes>"
      ]
     },
     "metadata": {
      "needs_background": "light"
     },
     "output_type": "display_data"
    }
   ],
   "source": [
    "import matplotlib.pyplot as plt\n",
    "import numpy as np\n",
    "%matplotlib inline\n",
    "np.random.seed(42)\n",
    "plt.hist(build_df_final['build_year'], density=True, bins=30)  # `density=False` would make counts\n",
    "plt.ylabel('Probability')\n",
    "plt.xlabel('Data');\n",
    "plt.title('Distribution of \"build_year\", Not Null');"
   ]
  },
  {
   "cell_type": "markdown",
   "metadata": {},
   "source": [
    "\n",
    "We imputed build year with the median stratified across build year categories. Upon visually inspecting distribution of build_year across each neighborhood, individually, imputing with the overall median did not seem reasonable, especially with 13,605 missing values, accounting for 44.65% of all build_year values."
   ]
  },
  {
   "cell_type": "code",
   "execution_count": 56,
   "metadata": {},
   "outputs": [
    {
     "data": {
      "image/png": "[encoded data removed]",
      "text/plain": [
       "<Figure size 1800x2880 with 156 Axes>"
      ]
     },
     "metadata": {
      "needs_background": "light"
     },
     "output_type": "display_data"
    }
   ],
   "source": [
    "build_df_final['build_year'].astype(int).hist(by=build_df_final['sub_area'], figsize=(25,40));"
   ]
  },
  {
   "cell_type": "markdown",
   "metadata": {},
   "source": [
    "### Apply build_year median-stratified imputation:"
   ]
  },
  {
   "cell_type": "code",
   "execution_count": 57,
   "metadata": {},
   "outputs": [],
   "source": [
    "# df2 contains all original data and imputed hospital beds\n",
    "df2.loc[(df['build_year'] < 1500),'build_year'] = np.nan\n",
    "df2.loc[(df2['build_year'] > 2020),'build_year'] = np.nan"
   ]
  },
  {
   "cell_type": "code",
   "execution_count": 58,
   "metadata": {},
   "outputs": [
    {
     "data": {
      "text/plain": [
       "0.0"
      ]
     },
     "execution_count": 58,
     "metadata": {},
     "output_type": "execute_result"
    }
   ],
   "source": [
    "# confirm imputation worked:\n",
    "df2.loc[df2['build_year'] < 1500, 'build_year'].sum()"
   ]
  },
  {
   "cell_type": "code",
   "execution_count": 59,
   "metadata": {},
   "outputs": [],
   "source": [
    "df2['build_year'] = df2['build_year'].fillna(df2.groupby('sub_area')['build_year'].transform('median'))"
   ]
  },
  {
   "cell_type": "code",
   "execution_count": 60,
   "metadata": {},
   "outputs": [
    {
     "name": "stdout",
     "output_type": "stream",
     "text": [
      "After stratify-imputing build_year values by sub_area:\n",
      "\n",
      "Mean build year: 1990\n",
      "Median build year: 1992\n",
      "\n",
      "Minimum build year: 1691\n",
      "Maximum build year: 2018\n"
     ]
    }
   ],
   "source": [
    "print('After stratify-imputing build_year values by sub_area:\\n')\n",
    "print('Mean build year: {}\\nMedian build year: {}'.format(floor(df2['build_year'].mean()), floor(df2['build_year'].median())))\n",
    "print('\\nMinimum build year: {}\\nMaximum build year: {}'.format(floor(df2['build_year'].min()), floor(df2['build_year'].max())))"
   ]
  },
  {
   "cell_type": "markdown",
   "metadata": {},
   "source": [
    "# Imputing state "
   ]
  },
  {
   "cell_type": "code",
   "execution_count": 67,
   "metadata": {},
   "outputs": [],
   "source": [
    "months = pd.Series(pd.DatetimeIndex(df['timestamp']).month)\n",
    "years = pd.Series(pd.DatetimeIndex(df['timestamp']).year)\n",
    "state_date = pd.concat([years, months, df['state']], axis=1)"
   ]
  },
  {
   "cell_type": "code",
   "execution_count": 68,
   "metadata": {},
   "outputs": [
    {
     "data": {
      "text/html": [
       "<div>\n",
       "<style scoped>\n",
       "    .dataframe tbody tr th:only-of-type {\n",
       "        vertical-align: middle;\n",
       "    }\n",
       "\n",
       "    .dataframe tbody tr th {\n",
       "        vertical-align: top;\n",
       "    }\n",
       "\n",
       "    .dataframe thead th {\n",
       "        text-align: right;\n",
       "    }\n",
       "</style>\n",
       "<table border=\"1\" class=\"dataframe\">\n",
       "  <thead>\n",
       "    <tr style=\"text-align: right;\">\n",
       "      <th></th>\n",
       "      <th>timestamp</th>\n",
       "      <th>timestamp</th>\n",
       "      <th>state</th>\n",
       "    </tr>\n",
       "  </thead>\n",
       "  <tbody>\n",
       "    <tr>\n",
       "      <th>30466</th>\n",
       "      <td>2015</td>\n",
       "      <td>6</td>\n",
       "      <td>3.0</td>\n",
       "    </tr>\n",
       "    <tr>\n",
       "      <th>30467</th>\n",
       "      <td>2015</td>\n",
       "      <td>6</td>\n",
       "      <td>3.0</td>\n",
       "    </tr>\n",
       "    <tr>\n",
       "      <th>30468</th>\n",
       "      <td>2015</td>\n",
       "      <td>6</td>\n",
       "      <td>1.0</td>\n",
       "    </tr>\n",
       "    <tr>\n",
       "      <th>30469</th>\n",
       "      <td>2015</td>\n",
       "      <td>6</td>\n",
       "      <td>2.0</td>\n",
       "    </tr>\n",
       "    <tr>\n",
       "      <th>30470</th>\n",
       "      <td>2015</td>\n",
       "      <td>6</td>\n",
       "      <td>2.0</td>\n",
       "    </tr>\n",
       "  </tbody>\n",
       "</table>\n",
       "</div>"
      ],
      "text/plain": [
       "       timestamp  timestamp  state\n",
       "30466       2015          6    3.0\n",
       "30467       2015          6    3.0\n",
       "30468       2015          6    1.0\n",
       "30469       2015          6    2.0\n",
       "30470       2015          6    2.0"
      ]
     },
     "execution_count": 68,
     "metadata": {},
     "output_type": "execute_result"
    }
   ],
   "source": [
    "state_date.tail()"
   ]
  },
  {
   "cell_type": "code",
   "execution_count": 69,
   "metadata": {},
   "outputs": [],
   "source": [
    "state_date = pd.concat([years, months, df['state']], axis=1)"
   ]
  },
  {
   "cell_type": "code",
   "execution_count": 70,
   "metadata": {},
   "outputs": [
    {
     "data": {
      "text/plain": [
       "'2011-09-09'"
      ]
     },
     "execution_count": 70,
     "metadata": {},
     "output_type": "execute_result"
    }
   ],
   "source": [
    "df['timestamp'][7]"
   ]
  },
  {
   "cell_type": "code",
   "execution_count": 72,
   "metadata": {},
   "outputs": [],
   "source": [
    "time_state = pd.concat([df['timestamp'], df['state']], axis=1)"
   ]
  },
  {
   "cell_type": "code",
   "execution_count": 73,
   "metadata": {},
   "outputs": [
    {
     "data": {
      "text/plain": [
       "33.0"
      ]
     },
     "execution_count": 73,
     "metadata": {},
     "output_type": "execute_result"
    }
   ],
   "source": [
    "df['state'].max()"
   ]
  },
  {
   "cell_type": "code",
   "execution_count": 74,
   "metadata": {},
   "outputs": [
    {
     "data": {
      "text/plain": [
       "[<matplotlib.lines.Line2D at 0x21f1f4e0fa0>]"
      ]
     },
     "execution_count": 74,
     "metadata": {},
     "output_type": "execute_result"
    },
    {
     "data": {
      "image/png": "[encoded data removed]",
      "text/plain": [
       "<Figure size 432x288 with 1 Axes>"
      ]
     },
     "metadata": {
      "needs_background": "light"
     },
     "output_type": "display_data"
    }
   ],
   "source": [
    "plt.plot(df['state'])"
   ]
  },
  {
   "cell_type": "code",
   "execution_count": 75,
   "metadata": {},
   "outputs": [
    {
     "data": {
      "text/plain": [
       "30471"
      ]
     },
     "execution_count": 75,
     "metadata": {},
     "output_type": "execute_result"
    }
   ],
   "source": [
    "df.shape[0]"
   ]
  },
  {
   "cell_type": "code",
   "execution_count": 76,
   "metadata": {},
   "outputs": [
    {
     "ename": "SyntaxError",
     "evalue": "invalid syntax (<ipython-input-76-e0d370adc2d3>, line 2)",
     "output_type": "error",
     "traceback": [
      "\u001b[1;36m  File \u001b[1;32m\"<ipython-input-76-e0d370adc2d3>\"\u001b[1;36m, line \u001b[1;32m2\u001b[0m\n\u001b[1;33m    if df['state'][i]\u001b[0m\n\u001b[1;37m                     ^\u001b[0m\n\u001b[1;31mSyntaxError\u001b[0m\u001b[1;31m:\u001b[0m invalid syntax\n"
     ]
    }
   ],
   "source": [
    "for i in np.arange(df.shape[0]):\n",
    "    if df['state'][i]\n",
    "    :\n",
    "        is_missing[i] = 1\n",
    "    else:\n",
    "        is_missing[i] = 0"
   ]
  },
  {
   "cell_type": "code",
   "execution_count": null,
   "metadata": {},
   "outputs": [],
   "source": [
    "plt.figure()\n",
    "plt.subplot(211)\n",
    "plt.plot(time_state['state'], f(time_state['state']), 'bo', t2, f(t2), 'k')"
   ]
  },
  {
   "cell_type": "code",
   "execution_count": null,
   "metadata": {},
   "outputs": [],
   "source": [
    "neighborhoods = pd.concat([df['sub_area'],df['hospital_beds_raion']], axis=1)\n",
    "s = neighborhoods.groupby(neighborhoods['sub_area']).sum()\n",
    "\n",
    "#pd.set_option('display.max_columns', None)\n",
    "pd.set_option('display.max_rows', None)\n",
    "s.sort_values(by='sub_area', ascending=True).head() # Missing values appear as 0"
   ]
  },
  {
   "cell_type": "code",
   "execution_count": null,
   "metadata": {},
   "outputs": [],
   "source": []
  },
  {
   "cell_type": "code",
   "execution_count": null,
   "metadata": {},
   "outputs": [],
   "source": [
    "neighborhoods.groupby(neighborhoods[neighborhoods['build_year'].notnull(),])"
   ]
  },
  {
   "cell_type": "code",
   "execution_count": null,
   "metadata": {},
   "outputs": [],
   "source": [
    "t = neighborhoods.groupby(neighborhoods['sub_area']).median()"
   ]
  },
  {
   "cell_type": "code",
   "execution_count": null,
   "metadata": {},
   "outputs": [],
   "source": [
    "df_bldyr.loc[df_bldyr['build_year'].notnull(),:]"
   ]
  },
  {
   "cell_type": "code",
   "execution_count": null,
   "metadata": {},
   "outputs": [],
   "source": [
    "neighborhoods = pd.concat([df_no_null_hosp['sub_area'],df_no_null_hosp['build_year']], axis=1)\n",
    "t = neighborhoods.groupby(neighborhoods['sub_area']).median()\n",
    "\n",
    "#pd.set_option('display.max_columns', None)\n",
    "pd.set_option('display.max_rows', None)\n",
    "t.sort_values(by='sub_area', ascending=True).head() # Missing values appear as 0"
   ]
  },
  {
   "cell_type": "code",
   "execution_count": null,
   "metadata": {},
   "outputs": [],
   "source": [
    "neighborhoods.groupby(neighborhoods['sub_area']).median()"
   ]
  },
  {
   "cell_type": "code",
   "execution_count": null,
   "metadata": {},
   "outputs": [],
   "source": [
    "df.loc[df['build_year'].isna(),'build_year'] = neighborhoods.groupby(neighborhoods['sub_area']).median()"
   ]
  },
  {
   "cell_type": "code",
   "execution_count": null,
   "metadata": {},
   "outputs": [],
   "source": [
    "df.loc[df['build_year'].isna(),'build_year']"
   ]
  },
  {
   "cell_type": "code",
   "execution_count": null,
   "metadata": {},
   "outputs": [],
   "source": [
    "from sklearn.impute import KNNImputer\n",
    "imputer = KNNImputer(n_neighbors=2, weights=\"uniform\")\n",
    "imputer.fit_transform(df_no_null_hosp)"
   ]
  },
  {
   "cell_type": "code",
   "execution_count": null,
   "metadata": {},
   "outputs": [],
   "source": []
  },
  {
   "cell_type": "code",
   "execution_count": null,
   "metadata": {},
   "outputs": [],
   "source": []
  },
  {
   "cell_type": "code",
   "execution_count": null,
   "metadata": {},
   "outputs": [],
   "source": []
  },
  {
   "cell_type": "code",
   "execution_count": null,
   "metadata": {},
   "outputs": [],
   "source": [
    "y = df_no_null['price_doc']\n",
    "X = df_no_null.drop(['price_doc'], axis=1)\n",
    "normalized_X = preprocessing.normalize(X)\n",
    "X_train, X_test, y_train, y_test = train_test_split(X, y, test_size=0.33, random_state=42)"
   ]
  },
  {
   "cell_type": "code",
   "execution_count": null,
   "metadata": {},
   "outputs": [],
   "source": [
    "y_train_buildyr = df.loc[df['build_year'].notna(),'build_year']\n"
   ]
  },
  {
   "cell_type": "code",
   "execution_count": null,
   "metadata": {},
   "outputs": [],
   "source": [
    "list(na_list.index)"
   ]
  },
  {
   "cell_type": "code",
   "execution_count": null,
   "metadata": {},
   "outputs": [],
   "source": [
    "nullList = df.isnull().sum()\n",
    "na_list=nullList[nullList>0].sort_values(ascending=False)"
   ]
  },
  {
   "cell_type": "code",
   "execution_count": null,
   "metadata": {},
   "outputs": [],
   "source": [
    "list(na_list.index)"
   ]
  },
  {
   "cell_type": "code",
   "execution_count": null,
   "metadata": {},
   "outputs": [],
   "source": [
    "df[list(na_list.index)].head()"
   ]
  },
  {
   "cell_type": "code",
   "execution_count": null,
   "metadata": {},
   "outputs": [],
   "source": [
    "X_train_buildyr = df.drop([na_list.index],axis=1)"
   ]
  },
  {
   "cell_type": "code",
   "execution_count": null,
   "metadata": {},
   "outputs": [],
   "source": []
  },
  {
   "cell_type": "code",
   "execution_count": null,
   "metadata": {},
   "outputs": [],
   "source": [
    "#df[.loc[df['hospital_beds_raion'].isna(),'hospital_beds_raion']] = df.loc[df['life_sq'].isna(),'full_sq']"
   ]
  },
  {
   "cell_type": "code",
   "execution_count": null,
   "metadata": {},
   "outputs": [],
   "source": []
  },
  {
   "cell_type": "code",
   "execution_count": null,
   "metadata": {},
   "outputs": [],
   "source": []
  },
  {
   "cell_type": "code",
   "execution_count": null,
   "metadata": {},
   "outputs": [],
   "source": []
  },
  {
   "cell_type": "code",
   "execution_count": null,
   "metadata": {},
   "outputs": [],
   "source": []
  },
  {
   "cell_type": "code",
   "execution_count": null,
   "metadata": {},
   "outputs": [],
   "source": []
  },
  {
   "cell_type": "code",
   "execution_count": null,
   "metadata": {},
   "outputs": [],
   "source": []
  },
  {
   "cell_type": "code",
   "execution_count": null,
   "metadata": {},
   "outputs": [],
   "source": []
  }
 ],
 "metadata": {
  "kernelspec": {
   "display_name": "Python 3",
   "language": "python",
   "name": "python3"
  },
  "language_info": {
   "codemirror_mode": {
    "name": "ipython",
    "version": 3
   },
   "file_extension": ".py",
   "mimetype": "text/x-python",
   "name": "python",
   "nbconvert_exporter": "python",
   "pygments_lexer": "ipython3",
   "version": "3.8.3"
  }
 },
 "nbformat": 4,
 "nbformat_minor": 4
}
