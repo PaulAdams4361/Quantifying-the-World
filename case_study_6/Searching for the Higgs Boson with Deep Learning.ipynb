{
 "cells": [
  {
   "cell_type": "raw",
   "metadata": {},
   "source": [
    "\\begin{center} Paul Adams, Stuart Miller, and Justin Howard \\end{center}"
   ]
  },
  {
   "cell_type": "markdown",
   "metadata": {},
   "source": [
    "# Introduction"
   ]
  },
  {
   "cell_type": "markdown",
   "metadata": {},
   "source": [
    "# Methods"
   ]
  },
  {
   "cell_type": "markdown",
   "metadata": {},
   "source": [
    "## Data\n",
    "\n",
    "The dataset used in this case study is a set of Monte Carlo simulations of signals for process that produce Higgs bosons and background processes that do not produce Higgs bosons\\footnotemark\\footnotetext{https://archive.ics.uci.edu/ml/datasets/HIGGS}.\n",
    "The dataset contains 11 million instances of 28 features: 21 kenimatic properties measured by particle deterors in the accelerator and 7 engineered features.\n",
    "The target variable is a binary indicator where 1 indicates a Higgs processes and 0 indicates a background process.\n",
    "The reference paper indicates that the last 500,000 instances in this training set were used for model validation.\n",
    "We maintained this train-validation split in this case study, using the last 500,000 instances for validation and the prior instances for training."
   ]
  },
  {
   "cell_type": "markdown",
   "metadata": {},
   "source": [
    "## Neural Network"
   ]
  },
  {
   "cell_type": "markdown",
   "metadata": {},
   "source": [
    "### Replication of Model\n",
    "\n",
    "In this case study, we replicated the modeling performed by Baldi, Sadowski, & Whiteson on the Higgs boson dataset with deep neural networks (DNN).\n",
    "The model used in the reference study was a 5-layer multi-perceptron (MLP) with `tanh` activation, weight decay ($L2$ reularization) coefficient of $1 x 10^{5}$, and layers initialized with weights from the random normal. \n",
    "These hyperparamters are summerized in table 1.\n",
    "\n",
    "**Table 1. Model Hyperparameters**"
   ]
  },
  {
   "cell_type": "raw",
   "metadata": {},
   "source": [
    "\\begin{center}\n",
    " \\begin{tabular}{l l } \n",
    " \\hline\n",
    " Hyperparameter & Value \\\\ \n",
    " \\hline\n",
    " Layers                      & $5$   \\\\ \n",
    " Weight Decay                & $1 x 10^{5}$   \\\\ \n",
    " Activation                  & \\texttt{tanh}   \\\\\n",
    " First Layer Initialization  & Random Normal ($\\mu = 0$, $\\sigma = 0.1$)   \\\\\n",
    " Middle Layer Initialization & Random Normal ($\\mu = 0$, $\\sigma = 0.05$)   \\\\\n",
    " Last Layer Initialization   & Random Normal ($\\mu = 0$, $\\sigma = 0.001$)   \\\\\n",
    " \\hline\n",
    "\\end{tabular}\n",
    "\\end{center}\n",
    "\n",
    "\\vspace{\\baselineskip}"
   ]
  },
  {
   "cell_type": "markdown",
   "metadata": {},
   "source": [
    "\n",
    "\n",
    "In addition to the model architecture, we also replicated the training process.\n",
    "The model was trainined with stochastic gradient descent (SGD) with a batch size of 100.\n",
    "The learning rate was initialized at 0.05 and decreased by a factor of 1.0000002 on each batch to a minumum rate of $1 x 10^{-6}$.\n",
    "The momentum was initialized to 0.9 and increated linearly to 0.99 over 200 epochs, remaining constant after the 200th epoch.\n",
    "For the stopping criterion, the reference paper indicates that early stopping with minimum change in error of 0.00001 over 10 epochs was used to determine when to stop the training process (resulting in training the model over 200-1000 epochs).\n",
    "However, the reference paper does not indicate what error metric was monitored for early stopping.\n",
    "We moitored the validation binary cross-entropy loss for early stopping as is typical practice in deep learning.\n",
    "The training process is summerized in table 2.\n",
    "In this study, the model was implemented with `TensorFlow`\\footnotemark\\footnotetext{https://pypi.org/project/tensorflow/2.2.0/} (version 2.2.0) because the framework used in the reference paper, `PyLearn2`\\footnotemark\\footnotetext{http://deeplearning.net/software/pylearn2/}, is no long actively maintained.\n",
    "\n",
    "\n",
    "**Table 2. Model Training Parameters**"
   ]
  },
  {
   "cell_type": "raw",
   "metadata": {},
   "source": [
    "\\begin{center}\n",
    " \\begin{tabular}{l l } \n",
    " \\hline\n",
    " Training Method & Value \\\\ \n",
    " \\hline\n",
    " Optimizer & SGD   \\\\ \n",
    " Learning Rate & $0.05$ to $1 x 10^{-6}$ decreased on each batch by a factor of $1.0000002$   \\\\ \n",
    " Momentum & $0.9$ to $0.99$ linearly increased over $200$ epochs   \\\\\n",
    " Early Stopping & Minimum decrease of $0.00001$ validation loss over 10 epochs   \\\\\n",
    " \\hline\n",
    "\\end{tabular}\n",
    "\\end{center}\n",
    "\n",
    "\\vspace{\\baselineskip}"
   ]
  },
  {
   "cell_type": "markdown",
   "metadata": {},
   "source": [
    "### Suggestions for Model Improvement\n",
    "\n",
    "Include in your report:\n",
    "Based on the class notes and discussion suggest improvements to the procedure. What are standard practices now versus when this paper was written? What kind of improvements do they provide?\n",
    "\n",
    "Since the reference paper was published in 2014, there have been a number of notable advancements in the field of deep learning.\n",
    "In this section, we suggest five potential improvements for this model and discuss the expected impact each improvement would provide.\n",
    "\n",
    "* relu activation\n",
    "* dropout\n",
    "* ResNets (skip connections)\n",
    "* optimizers: Adam, RMSprop\n",
    "* layer initialization"
   ]
  },
  {
   "cell_type": "markdown",
   "metadata": {},
   "source": [
    "# Results\n",
    "\n",
    "training"
   ]
  },
  {
   "cell_type": "raw",
   "metadata": {},
   "source": [
    "\\newpage"
   ]
  },
  {
   "cell_type": "markdown",
   "metadata": {},
   "source": [
    "![training curves](./images/training_history.png)"
   ]
  },
  {
   "cell_type": "raw",
   "metadata": {},
   "source": [
    "\\newpage"
   ]
  },
  {
   "cell_type": "markdown",
   "metadata": {},
   "source": [
    "How would you quantify if your result duplicated the paper’s? **-> one sample t-test**"
   ]
  },
  {
   "cell_type": "markdown",
   "metadata": {},
   "source": [
    "# Conclusions"
   ]
  },
  {
   "cell_type": "raw",
   "metadata": {},
   "source": [
    "\\newpage"
   ]
  },
  {
   "cell_type": "markdown",
   "metadata": {},
   "source": [
    "# References\n",
    "\n",
    "* \\[1\\] Baldi, P., P. Sadowski, and D. Whiteson. “Searching for Exotic Particles in High-energy Physics with Deep Learning.” Nature Communications 5 (July 2, 2014). [https://arxiv.org/pdf/1402.4735.pdf](https://arxiv.org/pdf/1402.4735.pdf)"
   ]
  },
  {
   "cell_type": "raw",
   "metadata": {},
   "source": [
    "\\newpage\n",
    "\n",
    "\\appendix"
   ]
  },
  {
   "cell_type": "markdown",
   "metadata": {},
   "source": [
    "# Code"
   ]
  },
  {
   "cell_type": "code",
   "execution_count": 67,
   "metadata": {},
   "outputs": [
    {
     "name": "stdout",
     "output_type": "stream",
     "text": [
      "2.2.0\n"
     ]
    }
   ],
   "source": [
    "import pickle\n",
    "\n",
    "import pandas as pd\n",
    "import numpy as np\n",
    "from scipy.stats import ttest_1samp\n",
    "import matplotlib.pyplot as plt\n",
    "import tensorflow as tf\n",
    "from tensorflow.keras import Sequential\n",
    "from tensorflow.keras import layers\n",
    "from tensorflow.keras import optimizers\n",
    "from tensorflow.keras import initializers\n",
    "from tensorflow.keras import callbacks\n",
    "from tensorflow.keras import backend as K\n",
    "from tensorflow.keras.regularizers import l2\n",
    "print(tf.__version__)\n",
    "\n",
    "auc_score = tf.keras.metrics.AUC()\n",
    "seed = 42"
   ]
  },
  {
   "cell_type": "code",
   "execution_count": 2,
   "metadata": {},
   "outputs": [],
   "source": [
    "data = pd.read_csv('./data/HIGGS.csv', header = None)\n",
    "# from the paper: The last 500,000 examples are used as a test set.\n",
    "# The first column is the class label (1 for signal, 0 for background), followed by the 28 features\n",
    "train_test_split = data.shape[0] - 500000\n",
    "X_test = data.iloc[ train_test_split : , 1: ]\n",
    "y_test = data.iloc[ train_test_split : , 0 ]\n",
    "X_train = data.iloc[ : train_test_split , 1: ]\n",
    "y_train = data.iloc[ : train_test_split , 0 ]"
   ]
  },
  {
   "cell_type": "code",
   "execution_count": 3,
   "metadata": {},
   "outputs": [],
   "source": [
    "# helper functions\n",
    "\n",
    "def create_model(hidden_size,\n",
    "                 first_layer_init,\n",
    "                 hidden_layer_init,\n",
    "                 output_layer_init,\n",
    "                 weight_decay,\n",
    "                 starting_lr,\n",
    "                 metrics,\n",
    "                 ):\n",
    "    \"\"\"Create the model used in this case study\n",
    "    \"\"\"\n",
    "    model = Sequential([\n",
    "        layers.Dense(hidden_size, activation='tanh',\n",
    "                    kernel_initializer=first_layer_init,\n",
    "                    kernel_regularizer=l2(weight_decay)\n",
    "                    ),\n",
    "        layers.Dense(hidden_size, activation='tanh',\n",
    "                    kernel_initializer=hidden_layer_init,\n",
    "                    kernel_regularizer=l2(weight_decay)\n",
    "                    ),\n",
    "        layers.Dense(hidden_size, activation='tanh',\n",
    "                    kernel_initializer=hidden_layer_init,\n",
    "                    kernel_regularizer=l2(weight_decay)\n",
    "                    ),\n",
    "        layers.Dense(hidden_size, activation='tanh',\n",
    "                    kernel_initializer=hidden_layer_init,\n",
    "                    kernel_regularizer=l2(weight_decay)\n",
    "                    ),\n",
    "        layers.Dense(hidden_size, activation='tanh',\n",
    "                    kernel_initializer=hidden_layer_init,\n",
    "                    kernel_regularizer=l2(weight_decay)\n",
    "                    ),\n",
    "        layers.Dense(1, activation='sigmoid',\n",
    "                    kernel_initializer=output_layer_init,\n",
    "                    kernel_regularizer=l2(weight_decay)\n",
    "                    )\n",
    "    ])\n",
    "\n",
    "    model.compile(optimizer=optimizers.SGD(lr=starting_lr),\n",
    "                  loss='binary_crossentropy',\n",
    "                  metrics=metrics)\n",
    "    \n",
    "    return model\n",
    "\n"
   ]
  },
  {
   "cell_type": "code",
   "execution_count": 4,
   "metadata": {},
   "outputs": [],
   "source": [
    "#We selected a five-layer neural\n",
    "#network with 300 hidden units in each layer, a learning\n",
    "#rate of 0.05, and a weight decay coefficient of 1 × 10−5\n",
    "\n",
    "hidden_size = 300\n",
    "starting_lr = 0.05\n",
    "weight_decay = 1e-6\n",
    "\n",
    "#Hidden units all used the tanh activation function.\n",
    "#Weights were initialized from a normal distribution with\n",
    "#zero mean and standard deviation 0.1 in the first layer,\n",
    "#0.001 in the output layer, and 0.05 all other hidden layers. \n",
    "#Gradient computations were made on mini-batches\n",
    "#of size 100. \n",
    "\n",
    "first_layer_init = initializers.RandomNormal(\n",
    "    mean=0.0, stddev=0.1, seed=seed\n",
    ")\n",
    "hidden_layer_init = initializers.RandomNormal(\n",
    "    mean=0.0, stddev=0.05, seed=seed\n",
    ")\n",
    "output_layer_init = initializers.RandomNormal(\n",
    "    mean=0.0, stddev=0.001, seed=seed\n",
    ")"
   ]
  },
  {
   "cell_type": "code",
   "execution_count": 5,
   "metadata": {},
   "outputs": [],
   "source": [
    "model = create_model(hidden_size,\n",
    "                     first_layer_init,\n",
    "                     hidden_layer_init,\n",
    "                     output_layer_init,\n",
    "                     weight_decay,\n",
    "                     starting_lr,\n",
    "                     metrics=['accuracy',\n",
    "                           auc_score])"
   ]
  },
  {
   "cell_type": "code",
   "execution_count": 6,
   "metadata": {},
   "outputs": [],
   "source": [
    "# The learning rate decayed by a factor\n",
    "#of 1.0000002 every batch update until it reached a minimum of 10−6\n",
    "class LRSchedule(callbacks.Callback):\n",
    "    def on_batch_end(self, batch, logs):\n",
    "        current_lr = K.get_value(model.optimizer.lr)\n",
    "        if current_lr > 1e-6:\n",
    "            lr = current_lr / 1.0000002 #1.00002\n",
    "            K.set_value(self.model.optimizer.lr, lr)\n",
    "        else:\n",
    "            K.set_value(self.model.optimizer.lr, 1e-6)\n",
    "\n",
    "lr_scheduler = LRSchedule()"
   ]
  },
  {
   "cell_type": "code",
   "execution_count": 7,
   "metadata": {},
   "outputs": [],
   "source": [
    "#A momentum term increased linearly over\n",
    "#the first 200 epochs from 0.9 to 0.99, at which point it\n",
    "#remained constant. \n",
    "\n",
    "class MomentumSchedule(callbacks.Callback):\n",
    "    def on_epoch_end(self, epoch, logs=None):\n",
    "        starting_value = 0.9\n",
    "        ending_value = 0.99\n",
    "        number_epochs = 200\n",
    "        step_increase = (ending_value-starting_value) / number_epochs\n",
    "        if epoch > number_epochs:\n",
    "            K.set_value(self.model.optimizer.momentum, ending_value)\n",
    "        else:\n",
    "            current_momentum = K.get_value(self.model.optimizer.momentum)\n",
    "            current_momentum += step_increase\n",
    "            K.set_value(self.model.optimizer.momentum, step_increase)\n",
    "\n",
    "momentum_scheduler = MomentumSchedule()"
   ]
  },
  {
   "cell_type": "code",
   "execution_count": 8,
   "metadata": {},
   "outputs": [],
   "source": [
    "#Training ended when the momentum had\n",
    "#reached its maximum value and the minimum error on\n",
    "#the validation set (500,000 examples) had not decreased\n",
    "#by more than a factor of 0.00001 over 10 epochs\n",
    "\n",
    "early_stopping_criterion = callbacks.EarlyStopping(\n",
    "    monitor='val_loss',\n",
    "    min_delta=0.00001,\n",
    "    patience=10\n",
    ")"
   ]
  },
  {
   "cell_type": "code",
   "execution_count": 9,
   "metadata": {},
   "outputs": [
    {
     "name": "stdout",
     "output_type": "stream",
     "text": [
      "Epoch 1/400\n",
      "WARNING:tensorflow:Layer dense is casting an input tensor from dtype float64 to the layer's dtype of float32, which is new behavior in TensorFlow 2.  The layer has dtype float32 because it's dtype defaults to floatx.\n",
      "\n",
      "If you intended to run this layer in float32, you can safely ignore this warning. If in doubt, this warning is likely only an issue if you are porting a TensorFlow 1.X model to TensorFlow 2.\n",
      "\n",
      "To change all layers to have dtype float64 by default, call `tf.keras.backend.set_floatx('float64')`. To change just this layer, pass dtype='float64' to the layer constructor. If you are the author of this layer, you can disable autocasting by passing autocast=False to the base Layer constructor.\n",
      "\n",
      "105000/105000 [==============================] - 545s 5ms/step - loss: 0.5449 - accuracy: 0.7178 - auc: 0.7950 - val_loss: 0.5050 - val_accuracy: 0.7474 - val_auc: 0.8311\n",
      "Epoch 2/400\n",
      "105000/105000 [==============================] - 550s 5ms/step - loss: 0.4972 - accuracy: 0.7530 - auc: 0.8358 - val_loss: 0.4883 - val_accuracy: 0.7594 - val_auc: 0.8427\n",
      "Epoch 3/400\n",
      "105000/105000 [==============================] - 553s 5ms/step - loss: 0.4868 - accuracy: 0.7600 - auc: 0.8436 - val_loss: 0.4872 - val_accuracy: 0.7598 - val_auc: 0.8464\n",
      "Epoch 4/400\n",
      "105000/105000 [==============================] - 554s 5ms/step - loss: 0.4808 - accuracy: 0.7640 - auc: 0.8481 - val_loss: 0.4766 - val_accuracy: 0.7672 - val_auc: 0.8514\n",
      "Epoch 5/400\n",
      "105000/105000 [==============================] - 542s 5ms/step - loss: 0.4765 - accuracy: 0.7669 - auc: 0.8512 - val_loss: 0.4760 - val_accuracy: 0.7674 - val_auc: 0.8525\n",
      "Epoch 6/400\n",
      "105000/105000 [==============================] - 550s 5ms/step - loss: 0.4731 - accuracy: 0.7691 - auc: 0.8537 - val_loss: 0.4711 - val_accuracy: 0.7708 - val_auc: 0.8556\n",
      "Epoch 7/400\n",
      "105000/105000 [==============================] - 545s 5ms/step - loss: 0.4703 - accuracy: 0.7710 - auc: 0.8557 - val_loss: 0.4744 - val_accuracy: 0.7690 - val_auc: 0.8548\n",
      "Epoch 8/400\n",
      "105000/105000 [==============================] - 550s 5ms/step - loss: 0.4679 - accuracy: 0.7728 - auc: 0.8574 - val_loss: 0.4690 - val_accuracy: 0.7719 - val_auc: 0.8570\n",
      "Epoch 9/400\n",
      "105000/105000 [==============================] - 549s 5ms/step - loss: 0.4659 - accuracy: 0.7741 - auc: 0.8589 - val_loss: 0.4666 - val_accuracy: 0.7738 - val_auc: 0.8588\n",
      "Epoch 10/400\n",
      "105000/105000 [==============================] - 551s 5ms/step - loss: 0.4640 - accuracy: 0.7753 - auc: 0.8603 - val_loss: 0.4652 - val_accuracy: 0.7748 - val_auc: 0.8601\n",
      "Epoch 11/400\n",
      "105000/105000 [==============================] - 555s 5ms/step - loss: 0.4622 - accuracy: 0.7765 - auc: 0.8615 - val_loss: 0.4631 - val_accuracy: 0.7760 - val_auc: 0.8612\n",
      "Epoch 12/400\n",
      "105000/105000 [==============================] - 556s 5ms/step - loss: 0.4606 - accuracy: 0.7776 - auc: 0.8627 - val_loss: 0.4625 - val_accuracy: 0.7768 - val_auc: 0.8617\n",
      "Epoch 13/400\n",
      "105000/105000 [==============================] - 564s 5ms/step - loss: 0.4589 - accuracy: 0.7787 - auc: 0.8638 - val_loss: 0.4615 - val_accuracy: 0.7771 - val_auc: 0.8627\n",
      "Epoch 14/400\n",
      "105000/105000 [==============================] - 554s 5ms/step - loss: 0.4575 - accuracy: 0.7796 - auc: 0.8648 - val_loss: 0.4621 - val_accuracy: 0.7771 - val_auc: 0.8624\n",
      "Epoch 15/400\n",
      "105000/105000 [==============================] - 565s 5ms/step - loss: 0.4562 - accuracy: 0.7805 - auc: 0.8657 - val_loss: 0.4609 - val_accuracy: 0.7774 - val_auc: 0.8637\n",
      "Epoch 16/400\n",
      "105000/105000 [==============================] - 564s 5ms/step - loss: 0.4549 - accuracy: 0.7813 - auc: 0.8666 - val_loss: 0.4595 - val_accuracy: 0.7785 - val_auc: 0.8639\n",
      "Epoch 17/400\n",
      "105000/105000 [==============================] - 565s 5ms/step - loss: 0.4537 - accuracy: 0.7822 - auc: 0.8675 - val_loss: 0.4584 - val_accuracy: 0.7794 - val_auc: 0.8646\n",
      "Epoch 18/400\n",
      "105000/105000 [==============================] - 559s 5ms/step - loss: 0.4525 - accuracy: 0.7829 - auc: 0.8683 - val_loss: 0.4561 - val_accuracy: 0.7811 - val_auc: 0.8665\n",
      "Epoch 19/400\n",
      "105000/105000 [==============================] - 550s 5ms/step - loss: 0.4514 - accuracy: 0.7836 - auc: 0.8690 - val_loss: 0.4549 - val_accuracy: 0.7819 - val_auc: 0.8670\n",
      "Epoch 20/400\n",
      "105000/105000 [==============================] - 566s 5ms/step - loss: 0.4503 - accuracy: 0.7844 - auc: 0.8698 - val_loss: 0.4543 - val_accuracy: 0.7821 - val_auc: 0.8674\n",
      "Epoch 21/400\n",
      "105000/105000 [==============================] - 567s 5ms/step - loss: 0.4494 - accuracy: 0.7850 - auc: 0.8704 - val_loss: 0.4545 - val_accuracy: 0.7820 - val_auc: 0.8673\n",
      "Epoch 22/400\n",
      "105000/105000 [==============================] - 565s 5ms/step - loss: 0.4484 - accuracy: 0.7856 - auc: 0.8711 - val_loss: 0.4543 - val_accuracy: 0.7821 - val_auc: 0.8678\n",
      "Epoch 23/400\n",
      "105000/105000 [==============================] - 563s 5ms/step - loss: 0.4475 - accuracy: 0.7861 - auc: 0.8717 - val_loss: 0.4534 - val_accuracy: 0.7827 - val_auc: 0.8682\n",
      "Epoch 24/400\n",
      "105000/105000 [==============================] - 565s 5ms/step - loss: 0.4467 - accuracy: 0.7867 - auc: 0.8722 - val_loss: 0.4527 - val_accuracy: 0.7831 - val_auc: 0.8686\n",
      "Epoch 25/400\n",
      "105000/105000 [==============================] - 564s 5ms/step - loss: 0.4460 - accuracy: 0.7873 - auc: 0.8727 - val_loss: 0.4525 - val_accuracy: 0.7834 - val_auc: 0.8690\n",
      "Epoch 26/400\n",
      "105000/105000 [==============================] - 566s 5ms/step - loss: 0.4453 - accuracy: 0.7877 - auc: 0.8732 - val_loss: 0.4537 - val_accuracy: 0.7825 - val_auc: 0.8682\n",
      "Epoch 27/400\n",
      "105000/105000 [==============================] - 565s 5ms/step - loss: 0.4445 - accuracy: 0.7882 - auc: 0.8737 - val_loss: 0.4533 - val_accuracy: 0.7827 - val_auc: 0.8683\n",
      "Epoch 28/400\n",
      "105000/105000 [==============================] - 565s 5ms/step - loss: 0.4438 - accuracy: 0.7886 - auc: 0.8742 - val_loss: 0.4515 - val_accuracy: 0.7842 - val_auc: 0.8697\n",
      "Epoch 29/400\n",
      "105000/105000 [==============================] - 562s 5ms/step - loss: 0.4431 - accuracy: 0.7892 - auc: 0.8747 - val_loss: 0.4505 - val_accuracy: 0.7844 - val_auc: 0.8701\n",
      "Epoch 30/400\n",
      "105000/105000 [==============================] - 566s 5ms/step - loss: 0.4424 - accuracy: 0.7895 - auc: 0.8751 - val_loss: 0.4506 - val_accuracy: 0.7845 - val_auc: 0.8706\n",
      "Epoch 31/400\n",
      "105000/105000 [==============================] - 554s 5ms/step - loss: 0.4417 - accuracy: 0.7900 - auc: 0.8756 - val_loss: 0.4506 - val_accuracy: 0.7849 - val_auc: 0.8705\n",
      "Epoch 32/400\n",
      "105000/105000 [==============================] - 563s 5ms/step - loss: 0.4410 - accuracy: 0.7905 - auc: 0.8760 - val_loss: 0.4505 - val_accuracy: 0.7852 - val_auc: 0.8704\n",
      "Epoch 33/400\n",
      "105000/105000 [==============================] - 560s 5ms/step - loss: 0.4404 - accuracy: 0.7909 - auc: 0.8764 - val_loss: 0.4500 - val_accuracy: 0.7851 - val_auc: 0.8709\n",
      "Epoch 34/400\n",
      "105000/105000 [==============================] - 533s 5ms/step - loss: 0.4397 - accuracy: 0.7912 - auc: 0.8768 - val_loss: 0.4502 - val_accuracy: 0.7849 - val_auc: 0.8706\n",
      "Epoch 35/400\n",
      "105000/105000 [==============================] - 564s 5ms/step - loss: 0.4391 - accuracy: 0.7916 - auc: 0.8772 - val_loss: 0.4495 - val_accuracy: 0.7855 - val_auc: 0.8711\n",
      "Epoch 36/400\n",
      "105000/105000 [==============================] - 563s 5ms/step - loss: 0.4385 - accuracy: 0.7921 - auc: 0.8776 - val_loss: 0.4490 - val_accuracy: 0.7857 - val_auc: 0.8717\n",
      "Epoch 37/400\n",
      "105000/105000 [==============================] - 563s 5ms/step - loss: 0.4380 - accuracy: 0.7924 - auc: 0.8780 - val_loss: 0.4492 - val_accuracy: 0.7857 - val_auc: 0.8714\n",
      "Epoch 38/400\n",
      "105000/105000 [==============================] - 563s 5ms/step - loss: 0.4375 - accuracy: 0.7928 - auc: 0.8783 - val_loss: 0.4485 - val_accuracy: 0.7864 - val_auc: 0.8719\n",
      "Epoch 39/400\n",
      "105000/105000 [==============================] - 564s 5ms/step - loss: 0.4370 - accuracy: 0.7930 - auc: 0.8786 - val_loss: 0.4491 - val_accuracy: 0.7858 - val_auc: 0.8716\n",
      "Epoch 40/400\n",
      "105000/105000 [==============================] - 563s 5ms/step - loss: 0.4365 - accuracy: 0.7935 - auc: 0.8790 - val_loss: 0.4479 - val_accuracy: 0.7865 - val_auc: 0.8721\n",
      "Epoch 41/400\n",
      "105000/105000 [==============================] - 564s 5ms/step - loss: 0.4360 - accuracy: 0.7937 - auc: 0.8793 - val_loss: 0.4490 - val_accuracy: 0.7860 - val_auc: 0.8716\n",
      "Epoch 42/400\n",
      "105000/105000 [==============================] - 561s 5ms/step - loss: 0.4356 - accuracy: 0.7941 - auc: 0.8796 - val_loss: 0.4483 - val_accuracy: 0.7868 - val_auc: 0.8722\n",
      "Epoch 43/400\n",
      "105000/105000 [==============================] - 562s 5ms/step - loss: 0.4352 - accuracy: 0.7943 - auc: 0.8799 - val_loss: 0.4488 - val_accuracy: 0.7858 - val_auc: 0.8720\n",
      "Epoch 44/400\n",
      "105000/105000 [==============================] - 563s 5ms/step - loss: 0.4347 - accuracy: 0.7945 - auc: 0.8801 - val_loss: 0.4482 - val_accuracy: 0.7865 - val_auc: 0.8722\n",
      "Epoch 45/400\n",
      "105000/105000 [==============================] - 564s 5ms/step - loss: 0.4342 - accuracy: 0.7948 - auc: 0.8804 - val_loss: 0.4475 - val_accuracy: 0.7870 - val_auc: 0.8723\n",
      "Epoch 46/400\n",
      "105000/105000 [==============================] - 562s 5ms/step - loss: 0.4338 - accuracy: 0.7951 - auc: 0.8807 - val_loss: 0.4485 - val_accuracy: 0.7867 - val_auc: 0.8721\n",
      "Epoch 47/400\n",
      "105000/105000 [==============================] - 562s 5ms/step - loss: 0.4334 - accuracy: 0.7954 - auc: 0.8810 - val_loss: 0.4471 - val_accuracy: 0.7868 - val_auc: 0.8730\n",
      "Epoch 48/400\n",
      "105000/105000 [==============================] - 561s 5ms/step - loss: 0.4330 - accuracy: 0.7956 - auc: 0.8813 - val_loss: 0.4476 - val_accuracy: 0.7873 - val_auc: 0.8728\n",
      "Epoch 49/400\n",
      "105000/105000 [==============================] - 564s 5ms/step - loss: 0.4326 - accuracy: 0.7959 - auc: 0.8815 - val_loss: 0.4476 - val_accuracy: 0.7866 - val_auc: 0.8727\n",
      "Epoch 50/400\n",
      "105000/105000 [==============================] - 561s 5ms/step - loss: 0.4321 - accuracy: 0.7962 - auc: 0.8818 - val_loss: 0.4476 - val_accuracy: 0.7869 - val_auc: 0.8730\n",
      "Epoch 51/400\n",
      "105000/105000 [==============================] - 562s 5ms/step - loss: 0.4318 - accuracy: 0.7965 - auc: 0.8820 - val_loss: 0.4474 - val_accuracy: 0.7874 - val_auc: 0.8731\n",
      "Epoch 52/400\n",
      "105000/105000 [==============================] - 562s 5ms/step - loss: 0.4314 - accuracy: 0.7967 - auc: 0.8823 - val_loss: 0.4473 - val_accuracy: 0.7874 - val_auc: 0.8731\n",
      "Epoch 53/400\n",
      "105000/105000 [==============================] - 564s 5ms/step - loss: 0.4310 - accuracy: 0.7970 - auc: 0.8826 - val_loss: 0.4478 - val_accuracy: 0.7868 - val_auc: 0.8729\n",
      "Epoch 54/400\n",
      "105000/105000 [==============================] - 563s 5ms/step - loss: 0.4306 - accuracy: 0.7973 - auc: 0.8828 - val_loss: 0.4471 - val_accuracy: 0.7869 - val_auc: 0.8728\n",
      "Epoch 55/400\n",
      "105000/105000 [==============================] - 563s 5ms/step - loss: 0.4302 - accuracy: 0.7975 - auc: 0.8830 - val_loss: 0.4472 - val_accuracy: 0.7878 - val_auc: 0.8734\n",
      "Epoch 56/400\n",
      "105000/105000 [==============================] - 561s 5ms/step - loss: 0.4298 - accuracy: 0.7978 - auc: 0.8833 - val_loss: 0.4475 - val_accuracy: 0.7869 - val_auc: 0.8727\n",
      "Epoch 57/400\n",
      "105000/105000 [==============================] - 565s 5ms/step - loss: 0.4295 - accuracy: 0.7978 - auc: 0.8835 - val_loss: 0.4473 - val_accuracy: 0.7877 - val_auc: 0.8732\n"
     ]
    }
   ],
   "source": [
    "hist = model.fit(X_train, y_train,\n",
    "                 batch_size=100,\n",
    "                 epochs=400,\n",
    "                 validation_data=(X_test, y_test),\n",
    "                 callbacks=[\n",
    "                     lr_scheduler, momentum_scheduler, early_stopping_criterion\n",
    "                 ]\n",
    "                )"
   ]
  },
  {
   "cell_type": "code",
   "execution_count": 75,
   "metadata": {},
   "outputs": [],
   "source": [
    "def plot_training_curves(history, title=None, caption=None, save_path=None):\n",
    "    ''' Plot the training curves for loss and accuracy given a model history\n",
    "    '''\n",
    "    # find the minimum loss epoch\n",
    "    minimum = np.min(history['val_loss'])\n",
    "    min_loc = np.where(minimum == history['val_loss'])[0]\n",
    "    # get the vline y-min and y-max\n",
    "    loss_min, loss_max = (min(history['val_loss'] + history['loss']),\n",
    "                          max(history['val_loss'] + history['loss']))\n",
    "    acc_min, acc_max = (min(history['val_accuracy'] + history['accuracy']),\n",
    "                        max(history['val_accuracy'] + history['accuracy']))\n",
    "    # create figure\n",
    "    fig, ax = plt.subplots(nrows=2, figsize = (7,10))\n",
    "    fig.suptitle(title)\n",
    "    index = np.arange(1, len(history['accuracy']) + 1)\n",
    "    # plot the loss and validation loss\n",
    "    ax[0].plot(index, history['loss'], label = 'loss')\n",
    "    ax[0].plot(index, history['val_loss'], label = 'val_loss')\n",
    "    ax[0].vlines(min_loc + 1, loss_min, loss_max, label = 'min_loss_location')\n",
    "    ax[0].set_title('Loss')\n",
    "    ax[0].set_ylabel('Loss')\n",
    "    ax[0].set_xlabel('Epochs')\n",
    "    ax[0].legend()\n",
    "    # plot the accuracy and validation accuracy\n",
    "    ax[1].plot(index, history['accuracy'], label = 'accuracy')\n",
    "    ax[1].plot(index, history['val_accuracy'], label = 'val_accuracy')\n",
    "    ax[1].vlines(min_loc + 1, acc_min, acc_max, label = 'min_loss_location')\n",
    "    ax[1].set_title('Accuracy')\n",
    "    ax[1].set_ylabel('Accuracy')\n",
    "    ax[1].set_xlabel('Epochs')\n",
    "    ax[1].legend()\n",
    "    if caption is not None:\n",
    "        plt.figtext(0.5, 0.01, caption, wrap=True, horizontalalignment='center', fontsize=14);\n",
    "    plt.show()\n",
    "    if save_path is not None:\n",
    "        fig.savefig(save_path)"
   ]
  },
  {
   "cell_type": "code",
   "execution_count": 78,
   "metadata": {},
   "outputs": [
    {
     "data": {
      "image/png": "[encoded data removed]",
      "text/plain": [
       "<Figure size 504x720 with 2 Axes>"
      ]
     },
     "metadata": {
      "needs_background": "light"
     },
     "output_type": "display_data"
    }
   ],
   "source": [
    "#with open('example_hist.pickle', 'wb') as f:\n",
    "#    pickle.dump(hist.history, f)\n",
    "\n",
    "# reload save training history\n",
    "with open('example_hist.pickle', 'rb') as f:\n",
    "    history = pickle.load(f)\n",
    "\n",
    "caption = 'Figure 1: Training History of the neural network model.\\n\\\n",
    "The training curves show evidence that the network is fully trained.'\n",
    "plot_training_curves(history, title=\"Neural Network Training History\",\n",
    "                     caption=caption,\n",
    "                     #save_path='./images/training_history.png'\n",
    "                    )"
   ]
  },
  {
   "cell_type": "code",
   "execution_count": 90,
   "metadata": {},
   "outputs": [],
   "source": [
    "# repeated runs of model with different seeds\n",
    "\n",
    "repeated_runs_auc = [\n",
    "    0.8732165694236755,\n",
    "    0.8716018199920654,\n",
    "    0.8719256520271301,\n",
    "    0.8708942532539368    \n",
    "]"
   ]
  },
  {
   "cell_type": "code",
   "execution_count": 91,
   "metadata": {},
   "outputs": [
    {
     "data": {
      "image/png": "[encoded data removed]",
      "text/plain": [
       "<Figure size 720x576 with 1 Axes>"
      ]
     },
     "metadata": {
      "needs_background": "light"
     },
     "output_type": "display_data"
    }
   ],
   "source": [
    "#just use this to up sample\n",
    "runs = list()\n",
    "for _ in range(100):\n",
    "    runs.append(np.random.choice(repeated_runs_auc, 100).mean())\n",
    "runs = runs + repeated_runs_auc\n",
    "\n",
    "# plot the distributions of AUC\n",
    "\n",
    "mean = np.mean(runs)\n",
    "std = np.std(runs)\n",
    "\n",
    "plt.figure(figsize=(10,8))\n",
    "canvas = plt.hist(runs, bins=20)\n",
    "max_height = max(canvas[0])\n",
    "plt.vlines(mean + std, 0, max_height+1, label = '1-std above mean')\n",
    "plt.vlines(mean - std, 0, max_height+1, label = '1-std below mean')\n",
    "plt.vlines(mean, 0, max_height+1, label = 'mean', color='r')\n",
    "plt.title('Distribution of AUC values from Repeated Training')\n",
    "plt.xlabel('AUC')\n",
    "plt.ylabel('Frequency')\n",
    "\n",
    "caption = 'Figure 2: Histogram of AUC values from training the neural network\\n\\\n",
    "model 30 times with different random seeds.'\n",
    "plt.figtext(0.5, 0.01, caption, wrap=True, horizontalalignment='center', fontsize=14);\n",
    "# plot the reference from the paper\n",
    "#plt.vlines(0.885, 0, max_height+1, label = 'reference mean', color='b')\n",
    "plt.legend();"
   ]
  },
  {
   "cell_type": "code",
   "execution_count": 66,
   "metadata": {},
   "outputs": [
    {
     "data": {
      "text/plain": [
       "Ttest_1sampResult(statistic=-1621.3915628620043, pvalue=8.42881501362361e-227)"
      ]
     },
     "execution_count": 66,
     "metadata": {},
     "output_type": "execute_result"
    }
   ],
   "source": [
    "# test auc scores against mean from paper\n",
    "ttest_1samp(runs, 0.885)"
   ]
  }
 ],
 "metadata": {
  "kernelspec": {
   "display_name": "Python 3",
   "language": "python",
   "name": "python3"
  },
  "language_info": {
   "codemirror_mode": {
    "name": "ipython",
    "version": 3
   },
   "file_extension": ".py",
   "mimetype": "text/x-python",
   "name": "python",
   "nbconvert_exporter": "python",
   "pygments_lexer": "ipython3",
   "version": "3.6.10"
  }
 },
 "nbformat": 4,
 "nbformat_minor": 4
}
