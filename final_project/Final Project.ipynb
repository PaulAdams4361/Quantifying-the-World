{
 "metadata": {
  "language_info": {
   "codemirror_mode": {
    "name": "ipython",
    "version": 3
   },
   "file_extension": ".py",
   "mimetype": "text/x-python",
   "name": "python",
   "nbconvert_exporter": "python",
   "pygments_lexer": "ipython3",
   "version": "3.7.7-final"
  },
  "orig_nbformat": 2,
  "kernelspec": {
   "name": "python3",
   "display_name": "Python 3"
  }
 },
 "nbformat": 4,
 "nbformat_minor": 2,
 "cells": [
  {
   "source": [
    "## The Objective\n",
    "\n",
    "The objective is to minimize the customer's monetary loss using machine learning techniques. The customer is currently experiencing a $25.00 loss for each false positive prediction and a loss of $125.00 for false negative predictions. Our goal in this scenario is to generate a model that minimizes the cost of doing business and provide adequate justifications for the decisions made in the final model.\n",
    "\n",
    "## The Dataset\n",
    "\n",
    "The dataset features 160,000 records, 50 features, and a binary target variable. The dataset does not come with any metadata at all, so we must rely strictly on the interpretations of each feature and discover relationships between the features that help to meet the overall objective of minimizing costs for the customer."
   ],
   "cell_type": "markdown",
   "metadata": {}
  },
  {
   "source": [
    "## Methods\n",
    "\n",
    "TBD"
   ],
   "cell_type": "markdown",
   "metadata": {}
  },
  {
   "source": [
    "## Code"
   ],
   "cell_type": "markdown",
   "metadata": {}
  },
  {
   "cell_type": "code",
   "execution_count": 6,
   "metadata": {},
   "outputs": [],
   "source": [
    "import pandas as pd \n",
    "import matplotlib.pyplot as plt \n",
    "from sklearn.model_selection import train_test_split\n",
    "\n",
    "random_state = 42"
   ]
  },
  {
   "cell_type": "code",
   "execution_count": 5,
   "metadata": {},
   "outputs": [
    {
     "output_type": "execute_result",
     "data": {
      "text/plain": [
       "         x0        x1         x2        x3        x4         x5         x6  \\\n",
       "0 -0.166563 -3.961588   4.621113  2.481908 -1.800135   0.804684   6.718751   \n",
       "1 -0.149894 -0.585676  27.839856  4.152333  6.426802  -2.426943  40.477058   \n",
       "2 -0.321707 -1.429819  12.251561  6.586874 -5.304647 -11.311090  17.812850   \n",
       "3 -0.245594  5.076677 -24.149632  3.637307  6.505811   2.290224 -35.111751   \n",
       "4 -0.273366  0.306326 -11.352593  1.676758  2.928441  -0.616824 -16.505817   \n",
       "\n",
       "          x7        x8        x9  ...        x41       x42       x43  \\\n",
       "0 -14.789997 -1.040673 -4.204950  ...  -1.497117  5.414063 -2.325655   \n",
       "1  -6.725709  0.896421  0.330165  ...  36.292790  4.490915  0.762561   \n",
       "2  11.060572  5.325880 -2.632984  ...  -0.368491  9.088864 -0.689886   \n",
       "3 -18.913592 -0.337041 -5.568076  ...  15.691546 -7.467775  2.940789   \n",
       "4  27.532281  1.199715 -4.309105  ... -13.911297 -5.229937  1.783928   \n",
       "\n",
       "        x44       x45        x46       x47       x48        x49  y  \n",
       "0  1.674827 -0.264332  60.781427 -7.689696  0.151589  -8.040166  0  \n",
       "1  6.526662  1.007927  15.805696 -4.896678 -0.320283  16.719974  0  \n",
       "2 -2.731118  0.754200  30.856417 -7.428573 -2.090804  -7.869421  0  \n",
       "3 -6.424112  0.419776 -72.424569  5.361375  1.806070  -7.670847  0  \n",
       "4  3.957801 -0.096988 -14.085435 -0.208351 -0.894942  15.724742  1  \n",
       "\n",
       "[5 rows x 51 columns]"
      ],
      "text/html": "<div>\n<style scoped>\n    .dataframe tbody tr th:only-of-type {\n        vertical-align: middle;\n    }\n\n    .dataframe tbody tr th {\n        vertical-align: top;\n    }\n\n    .dataframe thead th {\n        text-align: right;\n    }\n</style>\n<table border=\"1\" class=\"dataframe\">\n  <thead>\n    <tr style=\"text-align: right;\">\n      <th></th>\n      <th>x0</th>\n      <th>x1</th>\n      <th>x2</th>\n      <th>x3</th>\n      <th>x4</th>\n      <th>x5</th>\n      <th>x6</th>\n      <th>x7</th>\n      <th>x8</th>\n      <th>x9</th>\n      <th>...</th>\n      <th>x41</th>\n      <th>x42</th>\n      <th>x43</th>\n      <th>x44</th>\n      <th>x45</th>\n      <th>x46</th>\n      <th>x47</th>\n      <th>x48</th>\n      <th>x49</th>\n      <th>y</th>\n    </tr>\n  </thead>\n  <tbody>\n    <tr>\n      <th>0</th>\n      <td>-0.166563</td>\n      <td>-3.961588</td>\n      <td>4.621113</td>\n      <td>2.481908</td>\n      <td>-1.800135</td>\n      <td>0.804684</td>\n      <td>6.718751</td>\n      <td>-14.789997</td>\n      <td>-1.040673</td>\n      <td>-4.204950</td>\n      <td>...</td>\n      <td>-1.497117</td>\n      <td>5.414063</td>\n      <td>-2.325655</td>\n      <td>1.674827</td>\n      <td>-0.264332</td>\n      <td>60.781427</td>\n      <td>-7.689696</td>\n      <td>0.151589</td>\n      <td>-8.040166</td>\n      <td>0</td>\n    </tr>\n    <tr>\n      <th>1</th>\n      <td>-0.149894</td>\n      <td>-0.585676</td>\n      <td>27.839856</td>\n      <td>4.152333</td>\n      <td>6.426802</td>\n      <td>-2.426943</td>\n      <td>40.477058</td>\n      <td>-6.725709</td>\n      <td>0.896421</td>\n      <td>0.330165</td>\n      <td>...</td>\n      <td>36.292790</td>\n      <td>4.490915</td>\n      <td>0.762561</td>\n      <td>6.526662</td>\n      <td>1.007927</td>\n      <td>15.805696</td>\n      <td>-4.896678</td>\n      <td>-0.320283</td>\n      <td>16.719974</td>\n      <td>0</td>\n    </tr>\n    <tr>\n      <th>2</th>\n      <td>-0.321707</td>\n      <td>-1.429819</td>\n      <td>12.251561</td>\n      <td>6.586874</td>\n      <td>-5.304647</td>\n      <td>-11.311090</td>\n      <td>17.812850</td>\n      <td>11.060572</td>\n      <td>5.325880</td>\n      <td>-2.632984</td>\n      <td>...</td>\n      <td>-0.368491</td>\n      <td>9.088864</td>\n      <td>-0.689886</td>\n      <td>-2.731118</td>\n      <td>0.754200</td>\n      <td>30.856417</td>\n      <td>-7.428573</td>\n      <td>-2.090804</td>\n      <td>-7.869421</td>\n      <td>0</td>\n    </tr>\n    <tr>\n      <th>3</th>\n      <td>-0.245594</td>\n      <td>5.076677</td>\n      <td>-24.149632</td>\n      <td>3.637307</td>\n      <td>6.505811</td>\n      <td>2.290224</td>\n      <td>-35.111751</td>\n      <td>-18.913592</td>\n      <td>-0.337041</td>\n      <td>-5.568076</td>\n      <td>...</td>\n      <td>15.691546</td>\n      <td>-7.467775</td>\n      <td>2.940789</td>\n      <td>-6.424112</td>\n      <td>0.419776</td>\n      <td>-72.424569</td>\n      <td>5.361375</td>\n      <td>1.806070</td>\n      <td>-7.670847</td>\n      <td>0</td>\n    </tr>\n    <tr>\n      <th>4</th>\n      <td>-0.273366</td>\n      <td>0.306326</td>\n      <td>-11.352593</td>\n      <td>1.676758</td>\n      <td>2.928441</td>\n      <td>-0.616824</td>\n      <td>-16.505817</td>\n      <td>27.532281</td>\n      <td>1.199715</td>\n      <td>-4.309105</td>\n      <td>...</td>\n      <td>-13.911297</td>\n      <td>-5.229937</td>\n      <td>1.783928</td>\n      <td>3.957801</td>\n      <td>-0.096988</td>\n      <td>-14.085435</td>\n      <td>-0.208351</td>\n      <td>-0.894942</td>\n      <td>15.724742</td>\n      <td>1</td>\n    </tr>\n  </tbody>\n</table>\n<p>5 rows × 51 columns</p>\n</div>"
     },
     "metadata": {},
     "execution_count": 5
    }
   ],
   "source": [
    "data = pd.read_csv('./data/final_project.csv')\n",
    "data.head()"
   ]
  },
  {
   "cell_type": "code",
   "execution_count": 10,
   "metadata": {},
   "outputs": [
    {
     "output_type": "stream",
     "name": "stdout",
     "text": [
      "X_train:  (128000, 50) \ny_train:  (128000,) \nX_test:  (32000, 50) \ny_test:  (32000,)\n"
     ]
    }
   ],
   "source": [
    "y = data['y']\n",
    "X = data.drop(['y'], axis=1)\n",
    "X_train, X_test, y_train, y_test = train_test_split(X, y, test_size=0.2, random_state=random_state, stratify=y)\n",
    "print('X_train: ', X_train.shape,\n",
    "      '\\ny_train: ', y_train.shape,\n",
    "      '\\nX_test: ', X_test.shape,\n",
    "      '\\ny_test: ', y_test.shape)"
   ]
  },
  {
   "cell_type": "code",
   "execution_count": 11,
   "metadata": {},
   "outputs": [
    {
     "output_type": "execute_result",
     "data": {
      "text/plain": [
       "                  x0             x1             x2             x3  \\\n",
       "count  127982.000000  127981.000000  127972.000000  127970.000000   \n",
       "mean       -0.000233       0.015927      -1.137009      -0.030134   \n",
       "std         0.371378       6.338409      13.287193       8.067211   \n",
       "min        -1.592635     -26.053979     -59.394048     -33.864827   \n",
       "25%        -0.250854      -4.239255     -10.166609      -5.459399   \n",
       "50%        -0.001322       0.028105      -1.312739      -0.031448   \n",
       "75%         0.249459       4.291164       7.865764       5.429540   \n",
       "max         1.600849      27.988178      57.908998      38.906025   \n",
       "\n",
       "                  x4             x5             x6             x7  \\\n",
       "count  127983.000000  127969.000000  127979.000000  127975.000000   \n",
       "mean       -0.005189       0.017988      -1.650412      -7.632300   \n",
       "std         6.381621       7.673899      19.318144      30.583165   \n",
       "min       -28.467536     -33.822988     -86.354483    -181.506976   \n",
       "25%        -4.315710      -5.153559     -14.779614     -27.238063   \n",
       "50%         0.009683       0.028314      -1.905278      -6.873548   \n",
       "75%         4.298284       5.196676      11.439981      12.284980   \n",
       "max        26.247812      35.550110      84.195332     149.150634   \n",
       "\n",
       "                  x8             x9  ...            x40            x41  \\\n",
       "count  127981.000000  127974.000000  ...  127975.000000  127968.000000   \n",
       "mean       -0.036771       0.013169  ...      -2.280161       6.696548   \n",
       "std         8.898180       6.347198  ...      17.047011      18.697780   \n",
       "min       -37.691045     -27.980659  ...     -74.059196     -82.167224   \n",
       "25%        -6.036748      -4.248533  ...     -13.918753      -5.804080   \n",
       "50%        -0.014964       0.004454  ...      -2.672047       6.824208   \n",
       "75%         5.957489       4.302156  ...       9.000087      19.273821   \n",
       "max        39.049831      27.377842  ...      88.824477     100.050432   \n",
       "\n",
       "                 x42            x43            x44            x45  \\\n",
       "count  127980.000000  127971.000000  127968.000000  127979.000000   \n",
       "mean       -1.823620      -0.004985      -0.007610       0.000887   \n",
       "std         5.106297       1.534255       4.157975       0.396842   \n",
       "min       -27.933750      -6.876234     -17.983487      -1.753221   \n",
       "25%        -5.147121      -1.041030      -2.808371      -0.266998   \n",
       "50%        -1.917862      -0.007160      -0.010351       0.001770   \n",
       "75%         1.465863       1.029794       2.777005       0.268573   \n",
       "max        22.668041       6.441093      17.007392       1.669205   \n",
       "\n",
       "                 x46            x47            x48            x49  \n",
       "count  127976.000000  127972.000000  127971.000000  127973.000000  \n",
       "mean      -12.757091       0.021462       0.000821      -0.664870  \n",
       "std        36.606157       4.794483       1.936761      15.055081  \n",
       "min      -201.826828     -21.086333      -8.490155     -65.791191  \n",
       "25%       -36.444478      -3.232455      -1.322622     -10.937141  \n",
       "50%       -12.977831       0.021841      -0.012518      -0.572639  \n",
       "75%        11.484705       3.266336       1.319282       9.679463  \n",
       "max       150.859415      20.836854       8.206509      66.877604  \n",
       "\n",
       "[8 rows x 45 columns]"
      ],
      "text/html": "<div>\n<style scoped>\n    .dataframe tbody tr th:only-of-type {\n        vertical-align: middle;\n    }\n\n    .dataframe tbody tr th {\n        vertical-align: top;\n    }\n\n    .dataframe thead th {\n        text-align: right;\n    }\n</style>\n<table border=\"1\" class=\"dataframe\">\n  <thead>\n    <tr style=\"text-align: right;\">\n      <th></th>\n      <th>x0</th>\n      <th>x1</th>\n      <th>x2</th>\n      <th>x3</th>\n      <th>x4</th>\n      <th>x5</th>\n      <th>x6</th>\n      <th>x7</th>\n      <th>x8</th>\n      <th>x9</th>\n      <th>...</th>\n      <th>x40</th>\n      <th>x41</th>\n      <th>x42</th>\n      <th>x43</th>\n      <th>x44</th>\n      <th>x45</th>\n      <th>x46</th>\n      <th>x47</th>\n      <th>x48</th>\n      <th>x49</th>\n    </tr>\n  </thead>\n  <tbody>\n    <tr>\n      <th>count</th>\n      <td>127982.000000</td>\n      <td>127981.000000</td>\n      <td>127972.000000</td>\n      <td>127970.000000</td>\n      <td>127983.000000</td>\n      <td>127969.000000</td>\n      <td>127979.000000</td>\n      <td>127975.000000</td>\n      <td>127981.000000</td>\n      <td>127974.000000</td>\n      <td>...</td>\n      <td>127975.000000</td>\n      <td>127968.000000</td>\n      <td>127980.000000</td>\n      <td>127971.000000</td>\n      <td>127968.000000</td>\n      <td>127979.000000</td>\n      <td>127976.000000</td>\n      <td>127972.000000</td>\n      <td>127971.000000</td>\n      <td>127973.000000</td>\n    </tr>\n    <tr>\n      <th>mean</th>\n      <td>-0.000233</td>\n      <td>0.015927</td>\n      <td>-1.137009</td>\n      <td>-0.030134</td>\n      <td>-0.005189</td>\n      <td>0.017988</td>\n      <td>-1.650412</td>\n      <td>-7.632300</td>\n      <td>-0.036771</td>\n      <td>0.013169</td>\n      <td>...</td>\n      <td>-2.280161</td>\n      <td>6.696548</td>\n      <td>-1.823620</td>\n      <td>-0.004985</td>\n      <td>-0.007610</td>\n      <td>0.000887</td>\n      <td>-12.757091</td>\n      <td>0.021462</td>\n      <td>0.000821</td>\n      <td>-0.664870</td>\n    </tr>\n    <tr>\n      <th>std</th>\n      <td>0.371378</td>\n      <td>6.338409</td>\n      <td>13.287193</td>\n      <td>8.067211</td>\n      <td>6.381621</td>\n      <td>7.673899</td>\n      <td>19.318144</td>\n      <td>30.583165</td>\n      <td>8.898180</td>\n      <td>6.347198</td>\n      <td>...</td>\n      <td>17.047011</td>\n      <td>18.697780</td>\n      <td>5.106297</td>\n      <td>1.534255</td>\n      <td>4.157975</td>\n      <td>0.396842</td>\n      <td>36.606157</td>\n      <td>4.794483</td>\n      <td>1.936761</td>\n      <td>15.055081</td>\n    </tr>\n    <tr>\n      <th>min</th>\n      <td>-1.592635</td>\n      <td>-26.053979</td>\n      <td>-59.394048</td>\n      <td>-33.864827</td>\n      <td>-28.467536</td>\n      <td>-33.822988</td>\n      <td>-86.354483</td>\n      <td>-181.506976</td>\n      <td>-37.691045</td>\n      <td>-27.980659</td>\n      <td>...</td>\n      <td>-74.059196</td>\n      <td>-82.167224</td>\n      <td>-27.933750</td>\n      <td>-6.876234</td>\n      <td>-17.983487</td>\n      <td>-1.753221</td>\n      <td>-201.826828</td>\n      <td>-21.086333</td>\n      <td>-8.490155</td>\n      <td>-65.791191</td>\n    </tr>\n    <tr>\n      <th>25%</th>\n      <td>-0.250854</td>\n      <td>-4.239255</td>\n      <td>-10.166609</td>\n      <td>-5.459399</td>\n      <td>-4.315710</td>\n      <td>-5.153559</td>\n      <td>-14.779614</td>\n      <td>-27.238063</td>\n      <td>-6.036748</td>\n      <td>-4.248533</td>\n      <td>...</td>\n      <td>-13.918753</td>\n      <td>-5.804080</td>\n      <td>-5.147121</td>\n      <td>-1.041030</td>\n      <td>-2.808371</td>\n      <td>-0.266998</td>\n      <td>-36.444478</td>\n      <td>-3.232455</td>\n      <td>-1.322622</td>\n      <td>-10.937141</td>\n    </tr>\n    <tr>\n      <th>50%</th>\n      <td>-0.001322</td>\n      <td>0.028105</td>\n      <td>-1.312739</td>\n      <td>-0.031448</td>\n      <td>0.009683</td>\n      <td>0.028314</td>\n      <td>-1.905278</td>\n      <td>-6.873548</td>\n      <td>-0.014964</td>\n      <td>0.004454</td>\n      <td>...</td>\n      <td>-2.672047</td>\n      <td>6.824208</td>\n      <td>-1.917862</td>\n      <td>-0.007160</td>\n      <td>-0.010351</td>\n      <td>0.001770</td>\n      <td>-12.977831</td>\n      <td>0.021841</td>\n      <td>-0.012518</td>\n      <td>-0.572639</td>\n    </tr>\n    <tr>\n      <th>75%</th>\n      <td>0.249459</td>\n      <td>4.291164</td>\n      <td>7.865764</td>\n      <td>5.429540</td>\n      <td>4.298284</td>\n      <td>5.196676</td>\n      <td>11.439981</td>\n      <td>12.284980</td>\n      <td>5.957489</td>\n      <td>4.302156</td>\n      <td>...</td>\n      <td>9.000087</td>\n      <td>19.273821</td>\n      <td>1.465863</td>\n      <td>1.029794</td>\n      <td>2.777005</td>\n      <td>0.268573</td>\n      <td>11.484705</td>\n      <td>3.266336</td>\n      <td>1.319282</td>\n      <td>9.679463</td>\n    </tr>\n    <tr>\n      <th>max</th>\n      <td>1.600849</td>\n      <td>27.988178</td>\n      <td>57.908998</td>\n      <td>38.906025</td>\n      <td>26.247812</td>\n      <td>35.550110</td>\n      <td>84.195332</td>\n      <td>149.150634</td>\n      <td>39.049831</td>\n      <td>27.377842</td>\n      <td>...</td>\n      <td>88.824477</td>\n      <td>100.050432</td>\n      <td>22.668041</td>\n      <td>6.441093</td>\n      <td>17.007392</td>\n      <td>1.669205</td>\n      <td>150.859415</td>\n      <td>20.836854</td>\n      <td>8.206509</td>\n      <td>66.877604</td>\n    </tr>\n  </tbody>\n</table>\n<p>8 rows × 45 columns</p>\n</div>"
     },
     "metadata": {},
     "execution_count": 11
    }
   ],
   "source": [
    "X_train.describe()"
   ]
  },
  {
   "cell_type": "code",
   "execution_count": null,
   "metadata": {},
   "outputs": [],
   "source": []
  }
 ]
}