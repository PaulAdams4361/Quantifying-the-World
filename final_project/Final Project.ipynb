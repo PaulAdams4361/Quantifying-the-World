{
 "cells": [
  {
   "cell_type": "markdown",
   "metadata": {},
   "source": [
    "## The Objective\n",
    "\n",
    "The objective is to minimize the customer's monetary loss using machine learning techniques. The customer is currently experiencing a 25.00 dollar loss for each false positive prediction and a loss of 125.00 dollars for false negative predictions. Our goal in this scenario is to generate a model that minimizes the cost of doing business and provide adequate justifications for the decisions made in the final model.\n",
    "\n",
    "## The Dataset\n",
    "\n",
    "The dataset features 160,000 records, 50 features, and a binary target variable. The dataset does not come with any metadata at all, so we must rely strictly on the interpretations of each feature and discover relationships between the features that help to meet the overall objective of minimizing costs for the customer."
   ]
  },
  {
   "cell_type": "markdown",
   "metadata": {},
   "source": [
    "## Methods\n",
    "\n",
    "### Data Cleaning\n",
    "\n",
    "The data are mostly clean, with the exception of five features that required mild transformations to make them machine readable. An example of the formatting of these features is provided.\n",
    "\n",
    "|          | x24 | x29 | x30 | x32 | x37 |\n",
    "|----------|--------|--------|--------|--------|--------|\n",
    "| Data Type | object | object | object | object | object |\n",
    "| Data Example | asia | July | wednesday | 0.01% | $287.14 |\n",
    "\n",
    "Features x32 and x37 were transformed into a numeric format by simply removing the non_numeric characters. Features x24, x29, and x30 were transformed into a numeric format using SciKit-Learn's LabelEncoder\\footnotemark.\n",
    "\n",
    "\\footnotetext{https://scikit-learn.org/stable/modules/impute.html}\n",
    "\n",
    "### Data Imputation\n",
    "\n",
    "The dataset contains missing values that were judged to be missing at random. Missing values were imputed using SciKit-Learn's KNNImputer with the `n_neighbors` parameter set to three\\footnotemark.\n",
    "\n",
    "\\footnotetext{https://scikit-learn.org/stable/modules/generated/sklearn.preprocessing.LabelEncoder.html}\n"
   ]
  },
  {
   "source": [
    "### Modeling\n",
    "\n",
    "#### Recursive Feature Selection\n",
    "\n",
    "A baseline Logistic Regression model was built using Recursive Feature Selection to first determine an ideal number of features that emphasizes overall accuracy. Although accuracy appears to plateau after 10 features, our objective is to limit the financial loss to the customer, so as many features as are empirically necessary to limit this financial loss will be used. This procedure determined that the training and test sets could be limited to 45 out of the 50 features in the given dataset.\n",
    "\n",
    "![Recursive Feature Selection](./feature_selection.png)"
   ],
   "cell_type": "markdown",
   "metadata": {}
  },
  {
   "source": [
    "#### Hyperparameter Tuning\n",
    "\n",
    "To complete the baseline model, a randomized grid search was conducted to find the best C value and regularization term\\footnotemark. \n",
    "\n",
    "|          |     C    | Regularization | Number of Features | \n",
    "|----------|----------|----------------|--------------------|\n",
    "| baseline |  0.3712  |   `l2`    |    45     |\n",
    "\n",
    "\n",
    "\\footnotetext{https://scikit-learn.org/stable/modules/generated/sklearn.model_selection.RandomizedSearchCV.html}\n"
   ],
   "cell_type": "markdown",
   "metadata": {}
  },
  {
   "source": [
    "## Results\n",
    "\n",
    "\n",
    "| Model | False Negatives | False Positives | Estimated Loss | \n",
    "|-------|-----------------|-----------------|----------------|\n",
    "| Baseline | 6090 | 3428 | $846,950.00 |"
   ],
   "cell_type": "markdown",
   "metadata": {}
  },
  {
   "cell_type": "markdown",
   "metadata": {},
   "source": [
    "## Code"
   ]
  },
  {
   "cell_type": "code",
   "execution_count": 24,
   "metadata": {},
   "outputs": [],
   "source": [
    "import pandas as pd \n",
    "import numpy as np\n",
    "import matplotlib.pyplot as plt \n",
    "import seaborn as sns\n",
    "from sklearn.model_selection import train_test_split\n",
    "\n",
    "# pd.options.display.max_columns = 100\n",
    "random_state = 42"
   ]
  },
  {
   "cell_type": "code",
   "execution_count": 2,
   "metadata": {},
   "outputs": [
    {
     "output_type": "execute_result",
     "data": {
      "text/plain": [
       "         x0        x1         x2        x3        x4         x5         x6  \\\n",
       "0 -0.166563 -3.961588   4.621113  2.481908 -1.800135   0.804684   6.718751   \n",
       "1 -0.149894 -0.585676  27.839856  4.152333  6.426802  -2.426943  40.477058   \n",
       "2 -0.321707 -1.429819  12.251561  6.586874 -5.304647 -11.311090  17.812850   \n",
       "3 -0.245594  5.076677 -24.149632  3.637307  6.505811   2.290224 -35.111751   \n",
       "4 -0.273366  0.306326 -11.352593  1.676758  2.928441  -0.616824 -16.505817   \n",
       "\n",
       "          x7        x8        x9  ...        x41       x42       x43  \\\n",
       "0 -14.789997 -1.040673 -4.204950  ...  -1.497117  5.414063 -2.325655   \n",
       "1  -6.725709  0.896421  0.330165  ...  36.292790  4.490915  0.762561   \n",
       "2  11.060572  5.325880 -2.632984  ...  -0.368491  9.088864 -0.689886   \n",
       "3 -18.913592 -0.337041 -5.568076  ...  15.691546 -7.467775  2.940789   \n",
       "4  27.532281  1.199715 -4.309105  ... -13.911297 -5.229937  1.783928   \n",
       "\n",
       "        x44       x45        x46       x47       x48        x49  y  \n",
       "0  1.674827 -0.264332  60.781427 -7.689696  0.151589  -8.040166  0  \n",
       "1  6.526662  1.007927  15.805696 -4.896678 -0.320283  16.719974  0  \n",
       "2 -2.731118  0.754200  30.856417 -7.428573 -2.090804  -7.869421  0  \n",
       "3 -6.424112  0.419776 -72.424569  5.361375  1.806070  -7.670847  0  \n",
       "4  3.957801 -0.096988 -14.085435 -0.208351 -0.894942  15.724742  1  \n",
       "\n",
       "[5 rows x 51 columns]"
      ],
      "text/html": "<div>\n<style scoped>\n    .dataframe tbody tr th:only-of-type {\n        vertical-align: middle;\n    }\n\n    .dataframe tbody tr th {\n        vertical-align: top;\n    }\n\n    .dataframe thead th {\n        text-align: right;\n    }\n</style>\n<table border=\"1\" class=\"dataframe\">\n  <thead>\n    <tr style=\"text-align: right;\">\n      <th></th>\n      <th>x0</th>\n      <th>x1</th>\n      <th>x2</th>\n      <th>x3</th>\n      <th>x4</th>\n      <th>x5</th>\n      <th>x6</th>\n      <th>x7</th>\n      <th>x8</th>\n      <th>x9</th>\n      <th>...</th>\n      <th>x41</th>\n      <th>x42</th>\n      <th>x43</th>\n      <th>x44</th>\n      <th>x45</th>\n      <th>x46</th>\n      <th>x47</th>\n      <th>x48</th>\n      <th>x49</th>\n      <th>y</th>\n    </tr>\n  </thead>\n  <tbody>\n    <tr>\n      <th>0</th>\n      <td>-0.166563</td>\n      <td>-3.961588</td>\n      <td>4.621113</td>\n      <td>2.481908</td>\n      <td>-1.800135</td>\n      <td>0.804684</td>\n      <td>6.718751</td>\n      <td>-14.789997</td>\n      <td>-1.040673</td>\n      <td>-4.204950</td>\n      <td>...</td>\n      <td>-1.497117</td>\n      <td>5.414063</td>\n      <td>-2.325655</td>\n      <td>1.674827</td>\n      <td>-0.264332</td>\n      <td>60.781427</td>\n      <td>-7.689696</td>\n      <td>0.151589</td>\n      <td>-8.040166</td>\n      <td>0</td>\n    </tr>\n    <tr>\n      <th>1</th>\n      <td>-0.149894</td>\n      <td>-0.585676</td>\n      <td>27.839856</td>\n      <td>4.152333</td>\n      <td>6.426802</td>\n      <td>-2.426943</td>\n      <td>40.477058</td>\n      <td>-6.725709</td>\n      <td>0.896421</td>\n      <td>0.330165</td>\n      <td>...</td>\n      <td>36.292790</td>\n      <td>4.490915</td>\n      <td>0.762561</td>\n      <td>6.526662</td>\n      <td>1.007927</td>\n      <td>15.805696</td>\n      <td>-4.896678</td>\n      <td>-0.320283</td>\n      <td>16.719974</td>\n      <td>0</td>\n    </tr>\n    <tr>\n      <th>2</th>\n      <td>-0.321707</td>\n      <td>-1.429819</td>\n      <td>12.251561</td>\n      <td>6.586874</td>\n      <td>-5.304647</td>\n      <td>-11.311090</td>\n      <td>17.812850</td>\n      <td>11.060572</td>\n      <td>5.325880</td>\n      <td>-2.632984</td>\n      <td>...</td>\n      <td>-0.368491</td>\n      <td>9.088864</td>\n      <td>-0.689886</td>\n      <td>-2.731118</td>\n      <td>0.754200</td>\n      <td>30.856417</td>\n      <td>-7.428573</td>\n      <td>-2.090804</td>\n      <td>-7.869421</td>\n      <td>0</td>\n    </tr>\n    <tr>\n      <th>3</th>\n      <td>-0.245594</td>\n      <td>5.076677</td>\n      <td>-24.149632</td>\n      <td>3.637307</td>\n      <td>6.505811</td>\n      <td>2.290224</td>\n      <td>-35.111751</td>\n      <td>-18.913592</td>\n      <td>-0.337041</td>\n      <td>-5.568076</td>\n      <td>...</td>\n      <td>15.691546</td>\n      <td>-7.467775</td>\n      <td>2.940789</td>\n      <td>-6.424112</td>\n      <td>0.419776</td>\n      <td>-72.424569</td>\n      <td>5.361375</td>\n      <td>1.806070</td>\n      <td>-7.670847</td>\n      <td>0</td>\n    </tr>\n    <tr>\n      <th>4</th>\n      <td>-0.273366</td>\n      <td>0.306326</td>\n      <td>-11.352593</td>\n      <td>1.676758</td>\n      <td>2.928441</td>\n      <td>-0.616824</td>\n      <td>-16.505817</td>\n      <td>27.532281</td>\n      <td>1.199715</td>\n      <td>-4.309105</td>\n      <td>...</td>\n      <td>-13.911297</td>\n      <td>-5.229937</td>\n      <td>1.783928</td>\n      <td>3.957801</td>\n      <td>-0.096988</td>\n      <td>-14.085435</td>\n      <td>-0.208351</td>\n      <td>-0.894942</td>\n      <td>15.724742</td>\n      <td>1</td>\n    </tr>\n  </tbody>\n</table>\n<p>5 rows × 51 columns</p>\n</div>"
     },
     "metadata": {},
     "execution_count": 2
    }
   ],
   "source": [
    "data = pd.read_csv('./final_project.csv')\n",
    "data.head()"
   ]
  },
  {
   "cell_type": "code",
   "execution_count": 95,
   "metadata": {},
   "outputs": [
    {
     "output_type": "stream",
     "name": "stdout",
     "text": [
      "X_train:  (128000, 50) \ny_train:  (128000,) \nX_test:  (32000, 50) \ny_test:  (32000,)\n"
     ]
    }
   ],
   "source": [
    "y = data['y']\n",
    "X = data.drop(['y'], axis=1)\n",
    "X_train, X_test, y_train, y_test = train_test_split(X, y, test_size=0.2, random_state=random_state, stratify=y)\n",
    "print('X_train: ', X_train.shape,\n",
    "      '\\ny_train: ', y_train.shape,\n",
    "      '\\nX_test: ', X_test.shape,\n",
    "      '\\ny_test: ', y_test.shape)"
   ]
  },
  {
   "cell_type": "code",
   "execution_count": 7,
   "metadata": {},
   "outputs": [
    {
     "output_type": "execute_result",
     "data": {
      "text/plain": [
       "                  x0             x1             x2             x3  \\\n",
       "count  127982.000000  127981.000000  127972.000000  127970.000000   \n",
       "mean       -0.000233       0.015927      -1.137009      -0.030134   \n",
       "std         0.371378       6.338409      13.287193       8.067211   \n",
       "min        -1.592635     -26.053979     -59.394048     -33.864827   \n",
       "25%        -0.250854      -4.239255     -10.166609      -5.459399   \n",
       "50%        -0.001322       0.028105      -1.312739      -0.031448   \n",
       "75%         0.249459       4.291164       7.865764       5.429540   \n",
       "max         1.600849      27.988178      57.908998      38.906025   \n",
       "\n",
       "                  x4             x5             x6             x7  \\\n",
       "count  127983.000000  127969.000000  127979.000000  127975.000000   \n",
       "mean       -0.005189       0.017988      -1.650412      -7.632300   \n",
       "std         6.381621       7.673899      19.318144      30.583165   \n",
       "min       -28.467536     -33.822988     -86.354483    -181.506976   \n",
       "25%        -4.315710      -5.153559     -14.779614     -27.238063   \n",
       "50%         0.009683       0.028314      -1.905278      -6.873548   \n",
       "75%         4.298284       5.196676      11.439981      12.284980   \n",
       "max        26.247812      35.550110      84.195332     149.150634   \n",
       "\n",
       "                  x8             x9  ...            x40            x41  \\\n",
       "count  127981.000000  127974.000000  ...  127975.000000  127968.000000   \n",
       "mean       -0.036771       0.013169  ...      -2.280161       6.696548   \n",
       "std         8.898180       6.347198  ...      17.047011      18.697780   \n",
       "min       -37.691045     -27.980659  ...     -74.059196     -82.167224   \n",
       "25%        -6.036748      -4.248533  ...     -13.918753      -5.804080   \n",
       "50%        -0.014964       0.004454  ...      -2.672047       6.824208   \n",
       "75%         5.957489       4.302156  ...       9.000087      19.273821   \n",
       "max        39.049831      27.377842  ...      88.824477     100.050432   \n",
       "\n",
       "                 x42            x43            x44            x45  \\\n",
       "count  127980.000000  127971.000000  127968.000000  127979.000000   \n",
       "mean       -1.823620      -0.004985      -0.007610       0.000887   \n",
       "std         5.106297       1.534255       4.157975       0.396842   \n",
       "min       -27.933750      -6.876234     -17.983487      -1.753221   \n",
       "25%        -5.147121      -1.041030      -2.808371      -0.266998   \n",
       "50%        -1.917862      -0.007160      -0.010351       0.001770   \n",
       "75%         1.465863       1.029794       2.777005       0.268573   \n",
       "max        22.668041       6.441093      17.007392       1.669205   \n",
       "\n",
       "                 x46            x47            x48            x49  \n",
       "count  127976.000000  127972.000000  127971.000000  127973.000000  \n",
       "mean      -12.757091       0.021462       0.000821      -0.664870  \n",
       "std        36.606157       4.794483       1.936761      15.055081  \n",
       "min      -201.826828     -21.086333      -8.490155     -65.791191  \n",
       "25%       -36.444478      -3.232455      -1.322622     -10.937141  \n",
       "50%       -12.977831       0.021841      -0.012518      -0.572639  \n",
       "75%        11.484705       3.266336       1.319282       9.679463  \n",
       "max       150.859415      20.836854       8.206509      66.877604  \n",
       "\n",
       "[8 rows x 45 columns]"
      ],
      "text/html": "<div>\n<style scoped>\n    .dataframe tbody tr th:only-of-type {\n        vertical-align: middle;\n    }\n\n    .dataframe tbody tr th {\n        vertical-align: top;\n    }\n\n    .dataframe thead th {\n        text-align: right;\n    }\n</style>\n<table border=\"1\" class=\"dataframe\">\n  <thead>\n    <tr style=\"text-align: right;\">\n      <th></th>\n      <th>x0</th>\n      <th>x1</th>\n      <th>x2</th>\n      <th>x3</th>\n      <th>x4</th>\n      <th>x5</th>\n      <th>x6</th>\n      <th>x7</th>\n      <th>x8</th>\n      <th>x9</th>\n      <th>...</th>\n      <th>x40</th>\n      <th>x41</th>\n      <th>x42</th>\n      <th>x43</th>\n      <th>x44</th>\n      <th>x45</th>\n      <th>x46</th>\n      <th>x47</th>\n      <th>x48</th>\n      <th>x49</th>\n    </tr>\n  </thead>\n  <tbody>\n    <tr>\n      <th>count</th>\n      <td>127982.000000</td>\n      <td>127981.000000</td>\n      <td>127972.000000</td>\n      <td>127970.000000</td>\n      <td>127983.000000</td>\n      <td>127969.000000</td>\n      <td>127979.000000</td>\n      <td>127975.000000</td>\n      <td>127981.000000</td>\n      <td>127974.000000</td>\n      <td>...</td>\n      <td>127975.000000</td>\n      <td>127968.000000</td>\n      <td>127980.000000</td>\n      <td>127971.000000</td>\n      <td>127968.000000</td>\n      <td>127979.000000</td>\n      <td>127976.000000</td>\n      <td>127972.000000</td>\n      <td>127971.000000</td>\n      <td>127973.000000</td>\n    </tr>\n    <tr>\n      <th>mean</th>\n      <td>-0.000233</td>\n      <td>0.015927</td>\n      <td>-1.137009</td>\n      <td>-0.030134</td>\n      <td>-0.005189</td>\n      <td>0.017988</td>\n      <td>-1.650412</td>\n      <td>-7.632300</td>\n      <td>-0.036771</td>\n      <td>0.013169</td>\n      <td>...</td>\n      <td>-2.280161</td>\n      <td>6.696548</td>\n      <td>-1.823620</td>\n      <td>-0.004985</td>\n      <td>-0.007610</td>\n      <td>0.000887</td>\n      <td>-12.757091</td>\n      <td>0.021462</td>\n      <td>0.000821</td>\n      <td>-0.664870</td>\n    </tr>\n    <tr>\n      <th>std</th>\n      <td>0.371378</td>\n      <td>6.338409</td>\n      <td>13.287193</td>\n      <td>8.067211</td>\n      <td>6.381621</td>\n      <td>7.673899</td>\n      <td>19.318144</td>\n      <td>30.583165</td>\n      <td>8.898180</td>\n      <td>6.347198</td>\n      <td>...</td>\n      <td>17.047011</td>\n      <td>18.697780</td>\n      <td>5.106297</td>\n      <td>1.534255</td>\n      <td>4.157975</td>\n      <td>0.396842</td>\n      <td>36.606157</td>\n      <td>4.794483</td>\n      <td>1.936761</td>\n      <td>15.055081</td>\n    </tr>\n    <tr>\n      <th>min</th>\n      <td>-1.592635</td>\n      <td>-26.053979</td>\n      <td>-59.394048</td>\n      <td>-33.864827</td>\n      <td>-28.467536</td>\n      <td>-33.822988</td>\n      <td>-86.354483</td>\n      <td>-181.506976</td>\n      <td>-37.691045</td>\n      <td>-27.980659</td>\n      <td>...</td>\n      <td>-74.059196</td>\n      <td>-82.167224</td>\n      <td>-27.933750</td>\n      <td>-6.876234</td>\n      <td>-17.983487</td>\n      <td>-1.753221</td>\n      <td>-201.826828</td>\n      <td>-21.086333</td>\n      <td>-8.490155</td>\n      <td>-65.791191</td>\n    </tr>\n    <tr>\n      <th>25%</th>\n      <td>-0.250854</td>\n      <td>-4.239255</td>\n      <td>-10.166609</td>\n      <td>-5.459399</td>\n      <td>-4.315710</td>\n      <td>-5.153559</td>\n      <td>-14.779614</td>\n      <td>-27.238063</td>\n      <td>-6.036748</td>\n      <td>-4.248533</td>\n      <td>...</td>\n      <td>-13.918753</td>\n      <td>-5.804080</td>\n      <td>-5.147121</td>\n      <td>-1.041030</td>\n      <td>-2.808371</td>\n      <td>-0.266998</td>\n      <td>-36.444478</td>\n      <td>-3.232455</td>\n      <td>-1.322622</td>\n      <td>-10.937141</td>\n    </tr>\n    <tr>\n      <th>50%</th>\n      <td>-0.001322</td>\n      <td>0.028105</td>\n      <td>-1.312739</td>\n      <td>-0.031448</td>\n      <td>0.009683</td>\n      <td>0.028314</td>\n      <td>-1.905278</td>\n      <td>-6.873548</td>\n      <td>-0.014964</td>\n      <td>0.004454</td>\n      <td>...</td>\n      <td>-2.672047</td>\n      <td>6.824208</td>\n      <td>-1.917862</td>\n      <td>-0.007160</td>\n      <td>-0.010351</td>\n      <td>0.001770</td>\n      <td>-12.977831</td>\n      <td>0.021841</td>\n      <td>-0.012518</td>\n      <td>-0.572639</td>\n    </tr>\n    <tr>\n      <th>75%</th>\n      <td>0.249459</td>\n      <td>4.291164</td>\n      <td>7.865764</td>\n      <td>5.429540</td>\n      <td>4.298284</td>\n      <td>5.196676</td>\n      <td>11.439981</td>\n      <td>12.284980</td>\n      <td>5.957489</td>\n      <td>4.302156</td>\n      <td>...</td>\n      <td>9.000087</td>\n      <td>19.273821</td>\n      <td>1.465863</td>\n      <td>1.029794</td>\n      <td>2.777005</td>\n      <td>0.268573</td>\n      <td>11.484705</td>\n      <td>3.266336</td>\n      <td>1.319282</td>\n      <td>9.679463</td>\n    </tr>\n    <tr>\n      <th>max</th>\n      <td>1.600849</td>\n      <td>27.988178</td>\n      <td>57.908998</td>\n      <td>38.906025</td>\n      <td>26.247812</td>\n      <td>35.550110</td>\n      <td>84.195332</td>\n      <td>149.150634</td>\n      <td>39.049831</td>\n      <td>27.377842</td>\n      <td>...</td>\n      <td>88.824477</td>\n      <td>100.050432</td>\n      <td>22.668041</td>\n      <td>6.441093</td>\n      <td>17.007392</td>\n      <td>1.669205</td>\n      <td>150.859415</td>\n      <td>20.836854</td>\n      <td>8.206509</td>\n      <td>66.877604</td>\n    </tr>\n  </tbody>\n</table>\n<p>8 rows × 45 columns</p>\n</div>"
     },
     "metadata": {},
     "execution_count": 7
    }
   ],
   "source": [
    "# pd.options.display.max_columns = 49\n",
    "X_train.describe()"
   ]
  },
  {
   "cell_type": "code",
   "execution_count": 19,
   "metadata": {},
   "outputs": [
    {
     "output_type": "stream",
     "name": "stdout",
     "text": [
      "x0 :  Train- 18 Test- 8\n",
      "x1 :  Train- 19 Test- 6\n",
      "x2 :  Train- 28 Test- 10\n",
      "x3 :  Train- 30 Test- 7\n",
      "x4 :  Train- 17 Test- 9\n",
      "x5 :  Train- 31 Test- 6\n",
      "x6 :  Train- 21 Test- 5\n",
      "x7 :  Train- 25 Test- 2\n",
      "x8 :  Train- 19 Test- 2\n",
      "x9 :  Train- 26 Test- 4\n",
      "x10 :  Train- 33 Test- 10\n",
      "x11 :  Train- 23 Test- 7\n",
      "x12 :  Train- 31 Test- 5\n",
      "x13 :  Train- 26 Test- 5\n",
      "x14 :  Train- 29 Test- 5\n",
      "x15 :  Train- 29 Test- 6\n",
      "x16 :  Train- 19 Test- 7\n",
      "x17 :  Train- 19 Test- 8\n",
      "x18 :  Train- 35 Test- 5\n",
      "x19 :  Train- 24 Test- 11\n",
      "x20 :  Train- 34 Test- 4\n",
      "x21 :  Train- 21 Test- 8\n",
      "x22 :  Train- 21 Test- 6\n",
      "x23 :  Train- 38 Test- 9\n",
      "x24 :  Train- 24 Test- 4\n",
      "x25 :  Train- 19 Test- 3\n",
      "x26 :  Train- 28 Test- 8\n",
      "x27 :  Train- 26 Test- 4\n",
      "x28 :  Train- 29 Test- 6\n",
      "x29 :  Train- 19 Test- 11\n",
      "x30 :  Train- 23 Test- 7\n",
      "x31 :  Train- 34 Test- 5\n",
      "x32 :  Train- 26 Test- 5\n",
      "x33 :  Train- 35 Test- 6\n",
      "x34 :  Train- 36 Test- 5\n",
      "x35 :  Train- 25 Test- 5\n",
      "x36 :  Train- 21 Test- 6\n",
      "x37 :  Train- 17 Test- 6\n",
      "x38 :  Train- 26 Test- 5\n",
      "x39 :  Train- 16 Test- 7\n",
      "x40 :  Train- 25 Test- 11\n",
      "x41 :  Train- 32 Test- 8\n",
      "x42 :  Train- 20 Test- 6\n",
      "x43 :  Train- 29 Test- 8\n",
      "x44 :  Train- 32 Test- 8\n",
      "x45 :  Train- 21 Test- 8\n",
      "x46 :  Train- 24 Test- 7\n",
      "x47 :  Train- 28 Test- 9\n",
      "x48 :  Train- 29 Test- 3\n",
      "x49 :  Train- 27 Test- 5\n"
     ]
    }
   ],
   "source": [
    "# assess missingness in data\n",
    "names = X_train.columns\n",
    "for i in names:\n",
    "    print(i, ': ', 'Train-', sum(pd.isna(X_train[i])),\n",
    "          'Test-', sum(pd.isna(X_test[i])))"
   ]
  },
  {
   "cell_type": "code",
   "execution_count": 41,
   "metadata": {},
   "outputs": [
    {
     "output_type": "stream",
     "name": "stdout",
     "text": [
      "<class 'pandas.core.frame.DataFrame'>\nInt64Index: 128000 entries, 111609 to 57443\nData columns (total 50 columns):\n #   Column  Non-Null Count   Dtype  \n---  ------  --------------   -----  \n 0   x0      127982 non-null  float64\n 1   x1      127981 non-null  float64\n 2   x2      127972 non-null  float64\n 3   x3      127970 non-null  float64\n 4   x4      127983 non-null  float64\n 5   x5      127969 non-null  float64\n 6   x6      127979 non-null  float64\n 7   x7      127975 non-null  float64\n 8   x8      127981 non-null  float64\n 9   x9      127974 non-null  float64\n 10  x10     127967 non-null  float64\n 11  x11     127977 non-null  float64\n 12  x12     127969 non-null  float64\n 13  x13     127974 non-null  float64\n 14  x14     127971 non-null  float64\n 15  x15     127971 non-null  float64\n 16  x16     127981 non-null  float64\n 17  x17     127981 non-null  float64\n 18  x18     127965 non-null  float64\n 19  x19     127976 non-null  float64\n 20  x20     127966 non-null  float64\n 21  x21     127979 non-null  float64\n 22  x22     127979 non-null  float64\n 23  x23     127962 non-null  float64\n 24  x24     127976 non-null  object \n 25  x25     127981 non-null  float64\n 26  x26     127972 non-null  float64\n 27  x27     127974 non-null  float64\n 28  x28     127971 non-null  float64\n 29  x29     127981 non-null  object \n 30  x30     127977 non-null  object \n 31  x31     127966 non-null  float64\n 32  x32     127974 non-null  object \n 33  x33     127965 non-null  float64\n 34  x34     127964 non-null  float64\n 35  x35     127975 non-null  float64\n 36  x36     127979 non-null  float64\n 37  x37     127983 non-null  object \n 38  x38     127974 non-null  float64\n 39  x39     127984 non-null  float64\n 40  x40     127975 non-null  float64\n 41  x41     127968 non-null  float64\n 42  x42     127980 non-null  float64\n 43  x43     127971 non-null  float64\n 44  x44     127968 non-null  float64\n 45  x45     127979 non-null  float64\n 46  x46     127976 non-null  float64\n 47  x47     127972 non-null  float64\n 48  x48     127971 non-null  float64\n 49  x49     127973 non-null  float64\ndtypes: float64(45), object(5)\nmemory usage: 54.8+ MB\n"
     ]
    }
   ],
   "source": [
    "X_train.info()"
   ]
  },
  {
   "cell_type": "code",
   "execution_count": 84,
   "metadata": {},
   "outputs": [
    {
     "output_type": "execute_result",
     "data": {
      "text/plain": [
       "         x24   x29        x30    x32        x37\n",
       "111609  asia   Apr  wednesday  -0.0%    $100.73\n",
       "3785    asia   May  wednesday  0.01%   $1005.31\n",
       "64066   asia  July  wednesday   0.0%  $-1406.52\n",
       "103309  asia   Jun  wednesday  0.01%  $-1287.29\n",
       "9084    asia   Aug    tuesday  0.02%  $-1670.43"
      ],
      "text/html": "<div>\n<style scoped>\n    .dataframe tbody tr th:only-of-type {\n        vertical-align: middle;\n    }\n\n    .dataframe tbody tr th {\n        vertical-align: top;\n    }\n\n    .dataframe thead th {\n        text-align: right;\n    }\n</style>\n<table border=\"1\" class=\"dataframe\">\n  <thead>\n    <tr style=\"text-align: right;\">\n      <th></th>\n      <th>x24</th>\n      <th>x29</th>\n      <th>x30</th>\n      <th>x32</th>\n      <th>x37</th>\n    </tr>\n  </thead>\n  <tbody>\n    <tr>\n      <th>111609</th>\n      <td>asia</td>\n      <td>Apr</td>\n      <td>wednesday</td>\n      <td>-0.0%</td>\n      <td>$100.73</td>\n    </tr>\n    <tr>\n      <th>3785</th>\n      <td>asia</td>\n      <td>May</td>\n      <td>wednesday</td>\n      <td>0.01%</td>\n      <td>$1005.31</td>\n    </tr>\n    <tr>\n      <th>64066</th>\n      <td>asia</td>\n      <td>July</td>\n      <td>wednesday</td>\n      <td>0.0%</td>\n      <td>$-1406.52</td>\n    </tr>\n    <tr>\n      <th>103309</th>\n      <td>asia</td>\n      <td>Jun</td>\n      <td>wednesday</td>\n      <td>0.01%</td>\n      <td>$-1287.29</td>\n    </tr>\n    <tr>\n      <th>9084</th>\n      <td>asia</td>\n      <td>Aug</td>\n      <td>tuesday</td>\n      <td>0.02%</td>\n      <td>$-1670.43</td>\n    </tr>\n  </tbody>\n</table>\n</div>"
     },
     "metadata": {},
     "execution_count": 84
    }
   ],
   "source": [
    "objects = X_train.select_dtypes(['O'])\n",
    "objects_test = X_test.select_dtypes(['O'])\n",
    "objects.head()"
   ]
  },
  {
   "cell_type": "code",
   "execution_count": 112,
   "metadata": {},
   "outputs": [
    {
     "output_type": "execute_result",
     "data": {
      "text/plain": [
       "           x24     x29        x30     x32     x37\n",
       "count   127976  127981     127977  127974  127983\n",
       "unique       3      12          5      12  107696\n",
       "top       asia    July  wednesday   0.01%  $237.4\n",
       "freq    111198   36384      81253   32630       6"
      ],
      "text/html": "<div>\n<style scoped>\n    .dataframe tbody tr th:only-of-type {\n        vertical-align: middle;\n    }\n\n    .dataframe tbody tr th {\n        vertical-align: top;\n    }\n\n    .dataframe thead th {\n        text-align: right;\n    }\n</style>\n<table border=\"1\" class=\"dataframe\">\n  <thead>\n    <tr style=\"text-align: right;\">\n      <th></th>\n      <th>x24</th>\n      <th>x29</th>\n      <th>x30</th>\n      <th>x32</th>\n      <th>x37</th>\n    </tr>\n  </thead>\n  <tbody>\n    <tr>\n      <th>count</th>\n      <td>127976</td>\n      <td>127981</td>\n      <td>127977</td>\n      <td>127974</td>\n      <td>127983</td>\n    </tr>\n    <tr>\n      <th>unique</th>\n      <td>3</td>\n      <td>12</td>\n      <td>5</td>\n      <td>12</td>\n      <td>107696</td>\n    </tr>\n    <tr>\n      <th>top</th>\n      <td>asia</td>\n      <td>July</td>\n      <td>wednesday</td>\n      <td>0.01%</td>\n      <td>$237.4</td>\n    </tr>\n    <tr>\n      <th>freq</th>\n      <td>111198</td>\n      <td>36384</td>\n      <td>81253</td>\n      <td>32630</td>\n      <td>6</td>\n    </tr>\n  </tbody>\n</table>\n</div>"
     },
     "metadata": {},
     "execution_count": 112
    }
   ],
   "source": [
    "objects.describe()"
   ]
  },
  {
   "cell_type": "code",
   "execution_count": 96,
   "metadata": {},
   "outputs": [
    {
     "output_type": "execute_result",
     "data": {
      "text/plain": [
       "           x24     x29        x30\n",
       "count   127976  127981     127977\n",
       "unique       3      12          5\n",
       "top       asia    July  wednesday\n",
       "freq    111198   36384      81253"
      ],
      "text/html": "<div>\n<style scoped>\n    .dataframe tbody tr th:only-of-type {\n        vertical-align: middle;\n    }\n\n    .dataframe tbody tr th {\n        vertical-align: top;\n    }\n\n    .dataframe thead th {\n        text-align: right;\n    }\n</style>\n<table border=\"1\" class=\"dataframe\">\n  <thead>\n    <tr style=\"text-align: right;\">\n      <th></th>\n      <th>x24</th>\n      <th>x29</th>\n      <th>x30</th>\n    </tr>\n  </thead>\n  <tbody>\n    <tr>\n      <th>count</th>\n      <td>127976</td>\n      <td>127981</td>\n      <td>127977</td>\n    </tr>\n    <tr>\n      <th>unique</th>\n      <td>3</td>\n      <td>12</td>\n      <td>5</td>\n    </tr>\n    <tr>\n      <th>top</th>\n      <td>asia</td>\n      <td>July</td>\n      <td>wednesday</td>\n    </tr>\n    <tr>\n      <th>freq</th>\n      <td>111198</td>\n      <td>36384</td>\n      <td>81253</td>\n    </tr>\n  </tbody>\n</table>\n</div>"
     },
     "metadata": {},
     "execution_count": 96
    }
   ],
   "source": [
    "# fix spelling error\n",
    "X_test['x24'] = X_test['x24'].str.replace('euorpe', 'europe')\n",
    "# remove  %\n",
    "X_test['x32'] = pd.to_numeric(X_test['x32'].str.replace('%', ''))\n",
    "# remove $\n",
    "X_test['x37'] = pd.to_numeric(X_test['x37'].str.replace('$', ''))\n",
    "# repeat process for training set\n",
    "X_train['x24'] = X_train['x24'].str.replace('euorpe', 'europe')\n",
    "X_train['x32'] = pd.to_numeric(X_train['x32'].str.replace('%', ''))\n",
    "X_train['x37'] = pd.to_numeric(X_train['x37'].str.replace('$', ''))\n",
    "# remake objects\n",
    "objects = X_train.select_dtypes(['O'])\n",
    "objects_test = X_test.select_dtypes(['O'])\n",
    "objects.describe()"
   ]
  },
  {
   "cell_type": "code",
   "execution_count": 97,
   "metadata": {},
   "outputs": [
    {
     "output_type": "stream",
     "name": "stdout",
     "text": [
      "x24 0 \t 0\nx29 0 \t 0\nx30 0 \t 0\n"
     ]
    }
   ],
   "source": [
    "# imputing with mode from training data\n",
    "X_train['x24'].fillna('asia', inplace=True)\n",
    "X_train['x29'].fillna('July', inplace=True)\n",
    "X_train['x30'].fillna('wednesday', inplace=True)\n",
    "\n",
    "X_test['x24'].fillna('asia', inplace=True)\n",
    "X_test['x29'].fillna('July', inplace=True)\n",
    "X_test['x30'].fillna('wednesday', inplace=True)\n",
    "for i in objects.columns:\n",
    "    print(i, sum(pd.isna(X_train[i])), '\\t', sum(pd.isna(X_test[i])))"
   ]
  },
  {
   "cell_type": "code",
   "execution_count": 98,
   "metadata": {},
   "outputs": [],
   "source": [
    "# label encode all string values\n",
    "from sklearn.preprocessing import LabelEncoder\n",
    "\n",
    "names = [i for i in list(objects.columns)]\n",
    "\n",
    "le = LabelEncoder()\n",
    "for i in names:\n",
    "    le.fit(objects[i].astype(str))\n",
    "    X_train[i] = le.transform(X_train[i])\n",
    "    X_test[i] = le.transform(X_test[i])"
   ]
  },
  {
   "cell_type": "code",
   "execution_count": 99,
   "metadata": {},
   "outputs": [],
   "source": [
    "from sklearn.impute import KNNImputer\n",
    "\n",
    "KNNimp = KNNImputer(n_neighbors=3)\n",
    "X_train = KNNimp.fit_transform(X_train)\n",
    "X_test = KNNimp.transform(X_test)"
   ]
  },
  {
   "cell_type": "code",
   "execution_count": 100,
   "metadata": {},
   "outputs": [
    {
     "output_type": "stream",
     "name": "stdout",
     "text": [
      "False\nFalse\n"
     ]
    }
   ],
   "source": [
    "print(np.isnan(X_train).any())\n",
    "print(np.isnan(X_test).any())"
   ]
  },
  {
   "cell_type": "code",
   "execution_count": 102,
   "metadata": {},
   "outputs": [],
   "source": [
    "from sklearn.feature_selection import RFECV\n",
    "from sklearn.linear_model import LogisticRegression\n",
    "\n",
    "# define the estimator\n",
    "logistic = LogisticRegression()\n",
    "# provide the parameters of the feature selection process\n",
    "feature_selector = RFECV(logistic,\n",
    "          step = 1,\n",
    "          min_features_to_select= 1,\n",
    "          cv = 5,\n",
    "          n_jobs = -1)\n",
    "feature_selector = feature_selector.fit(X_train, y_train)"
   ]
  },
  {
   "cell_type": "code",
   "execution_count": 105,
   "metadata": {},
   "outputs": [
    {
     "output_type": "stream",
     "name": "stdout",
     "text": [
      "Optimal number of features : 45\n"
     ]
    },
    {
     "output_type": "display_data",
     "data": {
      "text/plain": "<Figure size 432x288 with 1 Axes>",
      "image/svg+xml": "<?xml version=\"1.0\" encoding=\"utf-8\" standalone=\"no\"?>\r\n<!DOCTYPE svg PUBLIC \"-//W3C//DTD SVG 1.1//EN\"\r\n  \"http://www.w3.org/Graphics/SVG/1.1/DTD/svg11.dtd\">\r\n<!-- Created with matplotlib (https://matplotlib.org/) -->\r\n<svg height=\"262.19625pt\" version=\"1.1\" viewBox=\"0 0 392.14375 262.19625\" width=\"392.14375pt\" xmlns=\"http://www.w3.org/2000/svg\" xmlns:xlink=\"http://www.w3.org/1999/xlink\">\r\n <defs>\r\n  <style type=\"text/css\">\r\n*{stroke-linecap:butt;stroke-linejoin:round;}\r\n  </style>\r\n </defs>\r\n <g id=\"figure_1\">\r\n  <g id=\"patch_1\">\r\n   <path d=\"M 0 262.19625 \r\nL 392.14375 262.19625 \r\nL 392.14375 0 \r\nL 0 0 \r\nz\r\n\" style=\"fill:none;\"/>\r\n  </g>\r\n  <g id=\"axes_1\">\r\n   <g id=\"patch_2\">\r\n    <path d=\"M 50.14375 224.64 \r\nL 384.94375 224.64 \r\nL 384.94375 7.2 \r\nL 50.14375 7.2 \r\nz\r\n\" style=\"fill:#ffffff;\"/>\r\n   </g>\r\n   <g id=\"matplotlib.axis_1\">\r\n    <g id=\"xtick_1\">\r\n     <g id=\"line2d_1\">\r\n      <defs>\r\n       <path d=\"M 0 0 \r\nL 0 3.5 \r\n\" id=\"mb73e72d324\" style=\"stroke:#000000;stroke-width:0.8;\"/>\r\n      </defs>\r\n      <g>\r\n       <use style=\"stroke:#000000;stroke-width:0.8;\" x=\"59.150429\" xlink:href=\"#mb73e72d324\" y=\"224.64\"/>\r\n      </g>\r\n     </g>\r\n     <g id=\"text_1\">\r\n      <!-- 0 -->\r\n      <defs>\r\n       <path d=\"M 31.78125 66.40625 \r\nQ 24.171875 66.40625 20.328125 58.90625 \r\nQ 16.5 51.421875 16.5 36.375 \r\nQ 16.5 21.390625 20.328125 13.890625 \r\nQ 24.171875 6.390625 31.78125 6.390625 \r\nQ 39.453125 6.390625 43.28125 13.890625 \r\nQ 47.125 21.390625 47.125 36.375 \r\nQ 47.125 51.421875 43.28125 58.90625 \r\nQ 39.453125 66.40625 31.78125 66.40625 \r\nz\r\nM 31.78125 74.21875 \r\nQ 44.046875 74.21875 50.515625 64.515625 \r\nQ 56.984375 54.828125 56.984375 36.375 \r\nQ 56.984375 17.96875 50.515625 8.265625 \r\nQ 44.046875 -1.421875 31.78125 -1.421875 \r\nQ 19.53125 -1.421875 13.0625 8.265625 \r\nQ 6.59375 17.96875 6.59375 36.375 \r\nQ 6.59375 54.828125 13.0625 64.515625 \r\nQ 19.53125 74.21875 31.78125 74.21875 \r\nz\r\n\" id=\"DejaVuSans-48\"/>\r\n      </defs>\r\n      <g transform=\"translate(55.969179 239.238438)scale(0.1 -0.1)\">\r\n       <use xlink:href=\"#DejaVuSans-48\"/>\r\n      </g>\r\n     </g>\r\n    </g>\r\n    <g id=\"xtick_2\">\r\n     <g id=\"line2d_2\">\r\n      <g>\r\n       <use style=\"stroke:#000000;stroke-width:0.8;\" x=\"121.265457\" xlink:href=\"#mb73e72d324\" y=\"224.64\"/>\r\n      </g>\r\n     </g>\r\n     <g id=\"text_2\">\r\n      <!-- 10 -->\r\n      <defs>\r\n       <path d=\"M 12.40625 8.296875 \r\nL 28.515625 8.296875 \r\nL 28.515625 63.921875 \r\nL 10.984375 60.40625 \r\nL 10.984375 69.390625 \r\nL 28.421875 72.90625 \r\nL 38.28125 72.90625 \r\nL 38.28125 8.296875 \r\nL 54.390625 8.296875 \r\nL 54.390625 0 \r\nL 12.40625 0 \r\nz\r\n\" id=\"DejaVuSans-49\"/>\r\n      </defs>\r\n      <g transform=\"translate(114.902957 239.238438)scale(0.1 -0.1)\">\r\n       <use xlink:href=\"#DejaVuSans-49\"/>\r\n       <use x=\"63.623047\" xlink:href=\"#DejaVuSans-48\"/>\r\n      </g>\r\n     </g>\r\n    </g>\r\n    <g id=\"xtick_3\">\r\n     <g id=\"line2d_3\">\r\n      <g>\r\n       <use style=\"stroke:#000000;stroke-width:0.8;\" x=\"183.380485\" xlink:href=\"#mb73e72d324\" y=\"224.64\"/>\r\n      </g>\r\n     </g>\r\n     <g id=\"text_3\">\r\n      <!-- 20 -->\r\n      <defs>\r\n       <path d=\"M 19.1875 8.296875 \r\nL 53.609375 8.296875 \r\nL 53.609375 0 \r\nL 7.328125 0 \r\nL 7.328125 8.296875 \r\nQ 12.9375 14.109375 22.625 23.890625 \r\nQ 32.328125 33.6875 34.8125 36.53125 \r\nQ 39.546875 41.84375 41.421875 45.53125 \r\nQ 43.3125 49.21875 43.3125 52.78125 \r\nQ 43.3125 58.59375 39.234375 62.25 \r\nQ 35.15625 65.921875 28.609375 65.921875 \r\nQ 23.96875 65.921875 18.8125 64.3125 \r\nQ 13.671875 62.703125 7.8125 59.421875 \r\nL 7.8125 69.390625 \r\nQ 13.765625 71.78125 18.9375 73 \r\nQ 24.125 74.21875 28.421875 74.21875 \r\nQ 39.75 74.21875 46.484375 68.546875 \r\nQ 53.21875 62.890625 53.21875 53.421875 \r\nQ 53.21875 48.921875 51.53125 44.890625 \r\nQ 49.859375 40.875 45.40625 35.40625 \r\nQ 44.1875 33.984375 37.640625 27.21875 \r\nQ 31.109375 20.453125 19.1875 8.296875 \r\nz\r\n\" id=\"DejaVuSans-50\"/>\r\n      </defs>\r\n      <g transform=\"translate(177.017985 239.238438)scale(0.1 -0.1)\">\r\n       <use xlink:href=\"#DejaVuSans-50\"/>\r\n       <use x=\"63.623047\" xlink:href=\"#DejaVuSans-48\"/>\r\n      </g>\r\n     </g>\r\n    </g>\r\n    <g id=\"xtick_4\">\r\n     <g id=\"line2d_4\">\r\n      <g>\r\n       <use style=\"stroke:#000000;stroke-width:0.8;\" x=\"245.495513\" xlink:href=\"#mb73e72d324\" y=\"224.64\"/>\r\n      </g>\r\n     </g>\r\n     <g id=\"text_4\">\r\n      <!-- 30 -->\r\n      <defs>\r\n       <path d=\"M 40.578125 39.3125 \r\nQ 47.65625 37.796875 51.625 33 \r\nQ 55.609375 28.21875 55.609375 21.1875 \r\nQ 55.609375 10.40625 48.1875 4.484375 \r\nQ 40.765625 -1.421875 27.09375 -1.421875 \r\nQ 22.515625 -1.421875 17.65625 -0.515625 \r\nQ 12.796875 0.390625 7.625 2.203125 \r\nL 7.625 11.71875 \r\nQ 11.71875 9.328125 16.59375 8.109375 \r\nQ 21.484375 6.890625 26.8125 6.890625 \r\nQ 36.078125 6.890625 40.9375 10.546875 \r\nQ 45.796875 14.203125 45.796875 21.1875 \r\nQ 45.796875 27.640625 41.28125 31.265625 \r\nQ 36.765625 34.90625 28.71875 34.90625 \r\nL 20.21875 34.90625 \r\nL 20.21875 43.015625 \r\nL 29.109375 43.015625 \r\nQ 36.375 43.015625 40.234375 45.921875 \r\nQ 44.09375 48.828125 44.09375 54.296875 \r\nQ 44.09375 59.90625 40.109375 62.90625 \r\nQ 36.140625 65.921875 28.71875 65.921875 \r\nQ 24.65625 65.921875 20.015625 65.03125 \r\nQ 15.375 64.15625 9.8125 62.3125 \r\nL 9.8125 71.09375 \r\nQ 15.4375 72.65625 20.34375 73.4375 \r\nQ 25.25 74.21875 29.59375 74.21875 \r\nQ 40.828125 74.21875 47.359375 69.109375 \r\nQ 53.90625 64.015625 53.90625 55.328125 \r\nQ 53.90625 49.265625 50.4375 45.09375 \r\nQ 46.96875 40.921875 40.578125 39.3125 \r\nz\r\n\" id=\"DejaVuSans-51\"/>\r\n      </defs>\r\n      <g transform=\"translate(239.133013 239.238438)scale(0.1 -0.1)\">\r\n       <use xlink:href=\"#DejaVuSans-51\"/>\r\n       <use x=\"63.623047\" xlink:href=\"#DejaVuSans-48\"/>\r\n      </g>\r\n     </g>\r\n    </g>\r\n    <g id=\"xtick_5\">\r\n     <g id=\"line2d_5\">\r\n      <g>\r\n       <use style=\"stroke:#000000;stroke-width:0.8;\" x=\"307.61054\" xlink:href=\"#mb73e72d324\" y=\"224.64\"/>\r\n      </g>\r\n     </g>\r\n     <g id=\"text_5\">\r\n      <!-- 40 -->\r\n      <defs>\r\n       <path d=\"M 37.796875 64.3125 \r\nL 12.890625 25.390625 \r\nL 37.796875 25.390625 \r\nz\r\nM 35.203125 72.90625 \r\nL 47.609375 72.90625 \r\nL 47.609375 25.390625 \r\nL 58.015625 25.390625 \r\nL 58.015625 17.1875 \r\nL 47.609375 17.1875 \r\nL 47.609375 0 \r\nL 37.796875 0 \r\nL 37.796875 17.1875 \r\nL 4.890625 17.1875 \r\nL 4.890625 26.703125 \r\nz\r\n\" id=\"DejaVuSans-52\"/>\r\n      </defs>\r\n      <g transform=\"translate(301.24804 239.238438)scale(0.1 -0.1)\">\r\n       <use xlink:href=\"#DejaVuSans-52\"/>\r\n       <use x=\"63.623047\" xlink:href=\"#DejaVuSans-48\"/>\r\n      </g>\r\n     </g>\r\n    </g>\r\n    <g id=\"xtick_6\">\r\n     <g id=\"line2d_6\">\r\n      <g>\r\n       <use style=\"stroke:#000000;stroke-width:0.8;\" x=\"369.725568\" xlink:href=\"#mb73e72d324\" y=\"224.64\"/>\r\n      </g>\r\n     </g>\r\n     <g id=\"text_6\">\r\n      <!-- 50 -->\r\n      <defs>\r\n       <path d=\"M 10.796875 72.90625 \r\nL 49.515625 72.90625 \r\nL 49.515625 64.59375 \r\nL 19.828125 64.59375 \r\nL 19.828125 46.734375 \r\nQ 21.96875 47.46875 24.109375 47.828125 \r\nQ 26.265625 48.1875 28.421875 48.1875 \r\nQ 40.625 48.1875 47.75 41.5 \r\nQ 54.890625 34.8125 54.890625 23.390625 \r\nQ 54.890625 11.625 47.5625 5.09375 \r\nQ 40.234375 -1.421875 26.90625 -1.421875 \r\nQ 22.3125 -1.421875 17.546875 -0.640625 \r\nQ 12.796875 0.140625 7.71875 1.703125 \r\nL 7.71875 11.625 \r\nQ 12.109375 9.234375 16.796875 8.0625 \r\nQ 21.484375 6.890625 26.703125 6.890625 \r\nQ 35.15625 6.890625 40.078125 11.328125 \r\nQ 45.015625 15.765625 45.015625 23.390625 \r\nQ 45.015625 31 40.078125 35.4375 \r\nQ 35.15625 39.890625 26.703125 39.890625 \r\nQ 22.75 39.890625 18.8125 39.015625 \r\nQ 14.890625 38.140625 10.796875 36.28125 \r\nz\r\n\" id=\"DejaVuSans-53\"/>\r\n      </defs>\r\n      <g transform=\"translate(363.363068 239.238438)scale(0.1 -0.1)\">\r\n       <use xlink:href=\"#DejaVuSans-53\"/>\r\n       <use x=\"63.623047\" xlink:href=\"#DejaVuSans-48\"/>\r\n      </g>\r\n     </g>\r\n    </g>\r\n    <g id=\"text_7\">\r\n     <!-- Number of features Selected -->\r\n     <defs>\r\n      <path d=\"M 9.8125 72.90625 \r\nL 23.09375 72.90625 \r\nL 55.421875 11.921875 \r\nL 55.421875 72.90625 \r\nL 64.984375 72.90625 \r\nL 64.984375 0 \r\nL 51.703125 0 \r\nL 19.390625 60.984375 \r\nL 19.390625 0 \r\nL 9.8125 0 \r\nz\r\n\" id=\"DejaVuSans-78\"/>\r\n      <path d=\"M 8.5 21.578125 \r\nL 8.5 54.6875 \r\nL 17.484375 54.6875 \r\nL 17.484375 21.921875 \r\nQ 17.484375 14.15625 20.5 10.265625 \r\nQ 23.53125 6.390625 29.59375 6.390625 \r\nQ 36.859375 6.390625 41.078125 11.03125 \r\nQ 45.3125 15.671875 45.3125 23.6875 \r\nL 45.3125 54.6875 \r\nL 54.296875 54.6875 \r\nL 54.296875 0 \r\nL 45.3125 0 \r\nL 45.3125 8.40625 \r\nQ 42.046875 3.421875 37.71875 1 \r\nQ 33.40625 -1.421875 27.6875 -1.421875 \r\nQ 18.265625 -1.421875 13.375 4.4375 \r\nQ 8.5 10.296875 8.5 21.578125 \r\nz\r\nM 31.109375 56 \r\nz\r\n\" id=\"DejaVuSans-117\"/>\r\n      <path d=\"M 52 44.1875 \r\nQ 55.375 50.25 60.0625 53.125 \r\nQ 64.75 56 71.09375 56 \r\nQ 79.640625 56 84.28125 50.015625 \r\nQ 88.921875 44.046875 88.921875 33.015625 \r\nL 88.921875 0 \r\nL 79.890625 0 \r\nL 79.890625 32.71875 \r\nQ 79.890625 40.578125 77.09375 44.375 \r\nQ 74.3125 48.1875 68.609375 48.1875 \r\nQ 61.625 48.1875 57.5625 43.546875 \r\nQ 53.515625 38.921875 53.515625 30.90625 \r\nL 53.515625 0 \r\nL 44.484375 0 \r\nL 44.484375 32.71875 \r\nQ 44.484375 40.625 41.703125 44.40625 \r\nQ 38.921875 48.1875 33.109375 48.1875 \r\nQ 26.21875 48.1875 22.15625 43.53125 \r\nQ 18.109375 38.875 18.109375 30.90625 \r\nL 18.109375 0 \r\nL 9.078125 0 \r\nL 9.078125 54.6875 \r\nL 18.109375 54.6875 \r\nL 18.109375 46.1875 \r\nQ 21.1875 51.21875 25.484375 53.609375 \r\nQ 29.78125 56 35.6875 56 \r\nQ 41.65625 56 45.828125 52.96875 \r\nQ 50 49.953125 52 44.1875 \r\nz\r\n\" id=\"DejaVuSans-109\"/>\r\n      <path d=\"M 48.6875 27.296875 \r\nQ 48.6875 37.203125 44.609375 42.84375 \r\nQ 40.53125 48.484375 33.40625 48.484375 \r\nQ 26.265625 48.484375 22.1875 42.84375 \r\nQ 18.109375 37.203125 18.109375 27.296875 \r\nQ 18.109375 17.390625 22.1875 11.75 \r\nQ 26.265625 6.109375 33.40625 6.109375 \r\nQ 40.53125 6.109375 44.609375 11.75 \r\nQ 48.6875 17.390625 48.6875 27.296875 \r\nz\r\nM 18.109375 46.390625 \r\nQ 20.953125 51.265625 25.265625 53.625 \r\nQ 29.59375 56 35.59375 56 \r\nQ 45.5625 56 51.78125 48.09375 \r\nQ 58.015625 40.1875 58.015625 27.296875 \r\nQ 58.015625 14.40625 51.78125 6.484375 \r\nQ 45.5625 -1.421875 35.59375 -1.421875 \r\nQ 29.59375 -1.421875 25.265625 0.953125 \r\nQ 20.953125 3.328125 18.109375 8.203125 \r\nL 18.109375 0 \r\nL 9.078125 0 \r\nL 9.078125 75.984375 \r\nL 18.109375 75.984375 \r\nz\r\n\" id=\"DejaVuSans-98\"/>\r\n      <path d=\"M 56.203125 29.59375 \r\nL 56.203125 25.203125 \r\nL 14.890625 25.203125 \r\nQ 15.484375 15.921875 20.484375 11.0625 \r\nQ 25.484375 6.203125 34.421875 6.203125 \r\nQ 39.59375 6.203125 44.453125 7.46875 \r\nQ 49.3125 8.734375 54.109375 11.28125 \r\nL 54.109375 2.78125 \r\nQ 49.265625 0.734375 44.1875 -0.34375 \r\nQ 39.109375 -1.421875 33.890625 -1.421875 \r\nQ 20.796875 -1.421875 13.15625 6.1875 \r\nQ 5.515625 13.8125 5.515625 26.8125 \r\nQ 5.515625 40.234375 12.765625 48.109375 \r\nQ 20.015625 56 32.328125 56 \r\nQ 43.359375 56 49.78125 48.890625 \r\nQ 56.203125 41.796875 56.203125 29.59375 \r\nz\r\nM 47.21875 32.234375 \r\nQ 47.125 39.59375 43.09375 43.984375 \r\nQ 39.0625 48.390625 32.421875 48.390625 \r\nQ 24.90625 48.390625 20.390625 44.140625 \r\nQ 15.875 39.890625 15.1875 32.171875 \r\nz\r\n\" id=\"DejaVuSans-101\"/>\r\n      <path d=\"M 41.109375 46.296875 \r\nQ 39.59375 47.171875 37.8125 47.578125 \r\nQ 36.03125 48 33.890625 48 \r\nQ 26.265625 48 22.1875 43.046875 \r\nQ 18.109375 38.09375 18.109375 28.8125 \r\nL 18.109375 0 \r\nL 9.078125 0 \r\nL 9.078125 54.6875 \r\nL 18.109375 54.6875 \r\nL 18.109375 46.1875 \r\nQ 20.953125 51.171875 25.484375 53.578125 \r\nQ 30.03125 56 36.53125 56 \r\nQ 37.453125 56 38.578125 55.875 \r\nQ 39.703125 55.765625 41.0625 55.515625 \r\nz\r\n\" id=\"DejaVuSans-114\"/>\r\n      <path id=\"DejaVuSans-32\"/>\r\n      <path d=\"M 30.609375 48.390625 \r\nQ 23.390625 48.390625 19.1875 42.75 \r\nQ 14.984375 37.109375 14.984375 27.296875 \r\nQ 14.984375 17.484375 19.15625 11.84375 \r\nQ 23.34375 6.203125 30.609375 6.203125 \r\nQ 37.796875 6.203125 41.984375 11.859375 \r\nQ 46.1875 17.53125 46.1875 27.296875 \r\nQ 46.1875 37.015625 41.984375 42.703125 \r\nQ 37.796875 48.390625 30.609375 48.390625 \r\nz\r\nM 30.609375 56 \r\nQ 42.328125 56 49.015625 48.375 \r\nQ 55.71875 40.765625 55.71875 27.296875 \r\nQ 55.71875 13.875 49.015625 6.21875 \r\nQ 42.328125 -1.421875 30.609375 -1.421875 \r\nQ 18.84375 -1.421875 12.171875 6.21875 \r\nQ 5.515625 13.875 5.515625 27.296875 \r\nQ 5.515625 40.765625 12.171875 48.375 \r\nQ 18.84375 56 30.609375 56 \r\nz\r\n\" id=\"DejaVuSans-111\"/>\r\n      <path d=\"M 37.109375 75.984375 \r\nL 37.109375 68.5 \r\nL 28.515625 68.5 \r\nQ 23.6875 68.5 21.796875 66.546875 \r\nQ 19.921875 64.59375 19.921875 59.515625 \r\nL 19.921875 54.6875 \r\nL 34.71875 54.6875 \r\nL 34.71875 47.703125 \r\nL 19.921875 47.703125 \r\nL 19.921875 0 \r\nL 10.890625 0 \r\nL 10.890625 47.703125 \r\nL 2.296875 47.703125 \r\nL 2.296875 54.6875 \r\nL 10.890625 54.6875 \r\nL 10.890625 58.5 \r\nQ 10.890625 67.625 15.140625 71.796875 \r\nQ 19.390625 75.984375 28.609375 75.984375 \r\nz\r\n\" id=\"DejaVuSans-102\"/>\r\n      <path d=\"M 34.28125 27.484375 \r\nQ 23.390625 27.484375 19.1875 25 \r\nQ 14.984375 22.515625 14.984375 16.5 \r\nQ 14.984375 11.71875 18.140625 8.90625 \r\nQ 21.296875 6.109375 26.703125 6.109375 \r\nQ 34.1875 6.109375 38.703125 11.40625 \r\nQ 43.21875 16.703125 43.21875 25.484375 \r\nL 43.21875 27.484375 \r\nz\r\nM 52.203125 31.203125 \r\nL 52.203125 0 \r\nL 43.21875 0 \r\nL 43.21875 8.296875 \r\nQ 40.140625 3.328125 35.546875 0.953125 \r\nQ 30.953125 -1.421875 24.3125 -1.421875 \r\nQ 15.921875 -1.421875 10.953125 3.296875 \r\nQ 6 8.015625 6 15.921875 \r\nQ 6 25.140625 12.171875 29.828125 \r\nQ 18.359375 34.515625 30.609375 34.515625 \r\nL 43.21875 34.515625 \r\nL 43.21875 35.40625 \r\nQ 43.21875 41.609375 39.140625 45 \r\nQ 35.0625 48.390625 27.6875 48.390625 \r\nQ 23 48.390625 18.546875 47.265625 \r\nQ 14.109375 46.140625 10.015625 43.890625 \r\nL 10.015625 52.203125 \r\nQ 14.9375 54.109375 19.578125 55.046875 \r\nQ 24.21875 56 28.609375 56 \r\nQ 40.484375 56 46.34375 49.84375 \r\nQ 52.203125 43.703125 52.203125 31.203125 \r\nz\r\n\" id=\"DejaVuSans-97\"/>\r\n      <path d=\"M 18.3125 70.21875 \r\nL 18.3125 54.6875 \r\nL 36.8125 54.6875 \r\nL 36.8125 47.703125 \r\nL 18.3125 47.703125 \r\nL 18.3125 18.015625 \r\nQ 18.3125 11.328125 20.140625 9.421875 \r\nQ 21.96875 7.515625 27.59375 7.515625 \r\nL 36.8125 7.515625 \r\nL 36.8125 0 \r\nL 27.59375 0 \r\nQ 17.1875 0 13.234375 3.875 \r\nQ 9.28125 7.765625 9.28125 18.015625 \r\nL 9.28125 47.703125 \r\nL 2.6875 47.703125 \r\nL 2.6875 54.6875 \r\nL 9.28125 54.6875 \r\nL 9.28125 70.21875 \r\nz\r\n\" id=\"DejaVuSans-116\"/>\r\n      <path d=\"M 44.28125 53.078125 \r\nL 44.28125 44.578125 \r\nQ 40.484375 46.53125 36.375 47.5 \r\nQ 32.28125 48.484375 27.875 48.484375 \r\nQ 21.1875 48.484375 17.84375 46.4375 \r\nQ 14.5 44.390625 14.5 40.28125 \r\nQ 14.5 37.15625 16.890625 35.375 \r\nQ 19.28125 33.59375 26.515625 31.984375 \r\nL 29.59375 31.296875 \r\nQ 39.15625 29.25 43.1875 25.515625 \r\nQ 47.21875 21.78125 47.21875 15.09375 \r\nQ 47.21875 7.46875 41.1875 3.015625 \r\nQ 35.15625 -1.421875 24.609375 -1.421875 \r\nQ 20.21875 -1.421875 15.453125 -0.5625 \r\nQ 10.6875 0.296875 5.421875 2 \r\nL 5.421875 11.28125 \r\nQ 10.40625 8.6875 15.234375 7.390625 \r\nQ 20.0625 6.109375 24.8125 6.109375 \r\nQ 31.15625 6.109375 34.5625 8.28125 \r\nQ 37.984375 10.453125 37.984375 14.40625 \r\nQ 37.984375 18.0625 35.515625 20.015625 \r\nQ 33.0625 21.96875 24.703125 23.78125 \r\nL 21.578125 24.515625 \r\nQ 13.234375 26.265625 9.515625 29.90625 \r\nQ 5.8125 33.546875 5.8125 39.890625 \r\nQ 5.8125 47.609375 11.28125 51.796875 \r\nQ 16.75 56 26.8125 56 \r\nQ 31.78125 56 36.171875 55.265625 \r\nQ 40.578125 54.546875 44.28125 53.078125 \r\nz\r\n\" id=\"DejaVuSans-115\"/>\r\n      <path d=\"M 53.515625 70.515625 \r\nL 53.515625 60.890625 \r\nQ 47.90625 63.578125 42.921875 64.890625 \r\nQ 37.9375 66.21875 33.296875 66.21875 \r\nQ 25.25 66.21875 20.875 63.09375 \r\nQ 16.5 59.96875 16.5 54.203125 \r\nQ 16.5 49.359375 19.40625 46.890625 \r\nQ 22.3125 44.4375 30.421875 42.921875 \r\nL 36.375 41.703125 \r\nQ 47.40625 39.59375 52.65625 34.296875 \r\nQ 57.90625 29 57.90625 20.125 \r\nQ 57.90625 9.515625 50.796875 4.046875 \r\nQ 43.703125 -1.421875 29.984375 -1.421875 \r\nQ 24.8125 -1.421875 18.96875 -0.25 \r\nQ 13.140625 0.921875 6.890625 3.21875 \r\nL 6.890625 13.375 \r\nQ 12.890625 10.015625 18.65625 8.296875 \r\nQ 24.421875 6.59375 29.984375 6.59375 \r\nQ 38.421875 6.59375 43.015625 9.90625 \r\nQ 47.609375 13.234375 47.609375 19.390625 \r\nQ 47.609375 24.75 44.3125 27.78125 \r\nQ 41.015625 30.8125 33.5 32.328125 \r\nL 27.484375 33.5 \r\nQ 16.453125 35.6875 11.515625 40.375 \r\nQ 6.59375 45.0625 6.59375 53.421875 \r\nQ 6.59375 63.09375 13.40625 68.65625 \r\nQ 20.21875 74.21875 32.171875 74.21875 \r\nQ 37.3125 74.21875 42.625 73.28125 \r\nQ 47.953125 72.359375 53.515625 70.515625 \r\nz\r\n\" id=\"DejaVuSans-83\"/>\r\n      <path d=\"M 9.421875 75.984375 \r\nL 18.40625 75.984375 \r\nL 18.40625 0 \r\nL 9.421875 0 \r\nz\r\n\" id=\"DejaVuSans-108\"/>\r\n      <path d=\"M 48.78125 52.59375 \r\nL 48.78125 44.1875 \r\nQ 44.96875 46.296875 41.140625 47.34375 \r\nQ 37.3125 48.390625 33.40625 48.390625 \r\nQ 24.65625 48.390625 19.8125 42.84375 \r\nQ 14.984375 37.3125 14.984375 27.296875 \r\nQ 14.984375 17.28125 19.8125 11.734375 \r\nQ 24.65625 6.203125 33.40625 6.203125 \r\nQ 37.3125 6.203125 41.140625 7.25 \r\nQ 44.96875 8.296875 48.78125 10.40625 \r\nL 48.78125 2.09375 \r\nQ 45.015625 0.34375 40.984375 -0.53125 \r\nQ 36.96875 -1.421875 32.421875 -1.421875 \r\nQ 20.0625 -1.421875 12.78125 6.34375 \r\nQ 5.515625 14.109375 5.515625 27.296875 \r\nQ 5.515625 40.671875 12.859375 48.328125 \r\nQ 20.21875 56 33.015625 56 \r\nQ 37.15625 56 41.109375 55.140625 \r\nQ 45.0625 54.296875 48.78125 52.59375 \r\nz\r\n\" id=\"DejaVuSans-99\"/>\r\n      <path d=\"M 45.40625 46.390625 \r\nL 45.40625 75.984375 \r\nL 54.390625 75.984375 \r\nL 54.390625 0 \r\nL 45.40625 0 \r\nL 45.40625 8.203125 \r\nQ 42.578125 3.328125 38.25 0.953125 \r\nQ 33.9375 -1.421875 27.875 -1.421875 \r\nQ 17.96875 -1.421875 11.734375 6.484375 \r\nQ 5.515625 14.40625 5.515625 27.296875 \r\nQ 5.515625 40.1875 11.734375 48.09375 \r\nQ 17.96875 56 27.875 56 \r\nQ 33.9375 56 38.25 53.625 \r\nQ 42.578125 51.265625 45.40625 46.390625 \r\nz\r\nM 14.796875 27.296875 \r\nQ 14.796875 17.390625 18.875 11.75 \r\nQ 22.953125 6.109375 30.078125 6.109375 \r\nQ 37.203125 6.109375 41.296875 11.75 \r\nQ 45.40625 17.390625 45.40625 27.296875 \r\nQ 45.40625 37.203125 41.296875 42.84375 \r\nQ 37.203125 48.484375 30.078125 48.484375 \r\nQ 22.953125 48.484375 18.875 42.84375 \r\nQ 14.796875 37.203125 14.796875 27.296875 \r\nz\r\n\" id=\"DejaVuSans-100\"/>\r\n     </defs>\r\n     <g transform=\"translate(145.429688 252.916563)scale(0.1 -0.1)\">\r\n      <use xlink:href=\"#DejaVuSans-78\"/>\r\n      <use x=\"74.804688\" xlink:href=\"#DejaVuSans-117\"/>\r\n      <use x=\"138.183594\" xlink:href=\"#DejaVuSans-109\"/>\r\n      <use x=\"235.595703\" xlink:href=\"#DejaVuSans-98\"/>\r\n      <use x=\"299.072266\" xlink:href=\"#DejaVuSans-101\"/>\r\n      <use x=\"360.595703\" xlink:href=\"#DejaVuSans-114\"/>\r\n      <use x=\"401.708984\" xlink:href=\"#DejaVuSans-32\"/>\r\n      <use x=\"433.496094\" xlink:href=\"#DejaVuSans-111\"/>\r\n      <use x=\"494.677734\" xlink:href=\"#DejaVuSans-102\"/>\r\n      <use x=\"529.882812\" xlink:href=\"#DejaVuSans-32\"/>\r\n      <use x=\"561.669922\" xlink:href=\"#DejaVuSans-102\"/>\r\n      <use x=\"596.875\" xlink:href=\"#DejaVuSans-101\"/>\r\n      <use x=\"658.398438\" xlink:href=\"#DejaVuSans-97\"/>\r\n      <use x=\"719.677734\" xlink:href=\"#DejaVuSans-116\"/>\r\n      <use x=\"758.886719\" xlink:href=\"#DejaVuSans-117\"/>\r\n      <use x=\"822.265625\" xlink:href=\"#DejaVuSans-114\"/>\r\n      <use x=\"863.347656\" xlink:href=\"#DejaVuSans-101\"/>\r\n      <use x=\"924.871094\" xlink:href=\"#DejaVuSans-115\"/>\r\n      <use x=\"976.970703\" xlink:href=\"#DejaVuSans-32\"/>\r\n      <use x=\"1008.757812\" xlink:href=\"#DejaVuSans-83\"/>\r\n      <use x=\"1072.234375\" xlink:href=\"#DejaVuSans-101\"/>\r\n      <use x=\"1133.757812\" xlink:href=\"#DejaVuSans-108\"/>\r\n      <use x=\"1161.541016\" xlink:href=\"#DejaVuSans-101\"/>\r\n      <use x=\"1223.064453\" xlink:href=\"#DejaVuSans-99\"/>\r\n      <use x=\"1278.044922\" xlink:href=\"#DejaVuSans-116\"/>\r\n      <use x=\"1317.253906\" xlink:href=\"#DejaVuSans-101\"/>\r\n      <use x=\"1378.777344\" xlink:href=\"#DejaVuSans-100\"/>\r\n     </g>\r\n    </g>\r\n   </g>\r\n   <g id=\"matplotlib.axis_2\">\r\n    <g id=\"ytick_1\">\r\n     <g id=\"line2d_7\">\r\n      <defs>\r\n       <path d=\"M 0 0 \r\nL -3.5 0 \r\n\" id=\"m0d0791f4bd\" style=\"stroke:#000000;stroke-width:0.8;\"/>\r\n      </defs>\r\n      <g>\r\n       <use style=\"stroke:#000000;stroke-width:0.8;\" x=\"50.14375\" xlink:href=\"#m0d0791f4bd\" y=\"224.305584\"/>\r\n      </g>\r\n     </g>\r\n     <g id=\"text_8\">\r\n      <!-- 0.62 -->\r\n      <defs>\r\n       <path d=\"M 10.6875 12.40625 \r\nL 21 12.40625 \r\nL 21 0 \r\nL 10.6875 0 \r\nz\r\n\" id=\"DejaVuSans-46\"/>\r\n       <path d=\"M 33.015625 40.375 \r\nQ 26.375 40.375 22.484375 35.828125 \r\nQ 18.609375 31.296875 18.609375 23.390625 \r\nQ 18.609375 15.53125 22.484375 10.953125 \r\nQ 26.375 6.390625 33.015625 6.390625 \r\nQ 39.65625 6.390625 43.53125 10.953125 \r\nQ 47.40625 15.53125 47.40625 23.390625 \r\nQ 47.40625 31.296875 43.53125 35.828125 \r\nQ 39.65625 40.375 33.015625 40.375 \r\nz\r\nM 52.59375 71.296875 \r\nL 52.59375 62.3125 \r\nQ 48.875 64.0625 45.09375 64.984375 \r\nQ 41.3125 65.921875 37.59375 65.921875 \r\nQ 27.828125 65.921875 22.671875 59.328125 \r\nQ 17.53125 52.734375 16.796875 39.40625 \r\nQ 19.671875 43.65625 24.015625 45.921875 \r\nQ 28.375 48.1875 33.59375 48.1875 \r\nQ 44.578125 48.1875 50.953125 41.515625 \r\nQ 57.328125 34.859375 57.328125 23.390625 \r\nQ 57.328125 12.15625 50.6875 5.359375 \r\nQ 44.046875 -1.421875 33.015625 -1.421875 \r\nQ 20.359375 -1.421875 13.671875 8.265625 \r\nQ 6.984375 17.96875 6.984375 36.375 \r\nQ 6.984375 53.65625 15.1875 63.9375 \r\nQ 23.390625 74.21875 37.203125 74.21875 \r\nQ 40.921875 74.21875 44.703125 73.484375 \r\nQ 48.484375 72.75 52.59375 71.296875 \r\nz\r\n\" id=\"DejaVuSans-54\"/>\r\n      </defs>\r\n      <g transform=\"translate(20.878125 228.104803)scale(0.1 -0.1)\">\r\n       <use xlink:href=\"#DejaVuSans-48\"/>\r\n       <use x=\"63.623047\" xlink:href=\"#DejaVuSans-46\"/>\r\n       <use x=\"95.410156\" xlink:href=\"#DejaVuSans-54\"/>\r\n       <use x=\"159.033203\" xlink:href=\"#DejaVuSans-50\"/>\r\n      </g>\r\n     </g>\r\n    </g>\r\n    <g id=\"ytick_2\">\r\n     <g id=\"line2d_8\">\r\n      <g>\r\n       <use style=\"stroke:#000000;stroke-width:0.8;\" x=\"50.14375\" xlink:href=\"#m0d0791f4bd\" y=\"199.562665\"/>\r\n      </g>\r\n     </g>\r\n     <g id=\"text_9\">\r\n      <!-- 0.63 -->\r\n      <g transform=\"translate(20.878125 203.361884)scale(0.1 -0.1)\">\r\n       <use xlink:href=\"#DejaVuSans-48\"/>\r\n       <use x=\"63.623047\" xlink:href=\"#DejaVuSans-46\"/>\r\n       <use x=\"95.410156\" xlink:href=\"#DejaVuSans-54\"/>\r\n       <use x=\"159.033203\" xlink:href=\"#DejaVuSans-51\"/>\r\n      </g>\r\n     </g>\r\n    </g>\r\n    <g id=\"ytick_3\">\r\n     <g id=\"line2d_9\">\r\n      <g>\r\n       <use style=\"stroke:#000000;stroke-width:0.8;\" x=\"50.14375\" xlink:href=\"#m0d0791f4bd\" y=\"174.819746\"/>\r\n      </g>\r\n     </g>\r\n     <g id=\"text_10\">\r\n      <!-- 0.64 -->\r\n      <g transform=\"translate(20.878125 178.618964)scale(0.1 -0.1)\">\r\n       <use xlink:href=\"#DejaVuSans-48\"/>\r\n       <use x=\"63.623047\" xlink:href=\"#DejaVuSans-46\"/>\r\n       <use x=\"95.410156\" xlink:href=\"#DejaVuSans-54\"/>\r\n       <use x=\"159.033203\" xlink:href=\"#DejaVuSans-52\"/>\r\n      </g>\r\n     </g>\r\n    </g>\r\n    <g id=\"ytick_4\">\r\n     <g id=\"line2d_10\">\r\n      <g>\r\n       <use style=\"stroke:#000000;stroke-width:0.8;\" x=\"50.14375\" xlink:href=\"#m0d0791f4bd\" y=\"150.076827\"/>\r\n      </g>\r\n     </g>\r\n     <g id=\"text_11\">\r\n      <!-- 0.65 -->\r\n      <g transform=\"translate(20.878125 153.876045)scale(0.1 -0.1)\">\r\n       <use xlink:href=\"#DejaVuSans-48\"/>\r\n       <use x=\"63.623047\" xlink:href=\"#DejaVuSans-46\"/>\r\n       <use x=\"95.410156\" xlink:href=\"#DejaVuSans-54\"/>\r\n       <use x=\"159.033203\" xlink:href=\"#DejaVuSans-53\"/>\r\n      </g>\r\n     </g>\r\n    </g>\r\n    <g id=\"ytick_5\">\r\n     <g id=\"line2d_11\">\r\n      <g>\r\n       <use style=\"stroke:#000000;stroke-width:0.8;\" x=\"50.14375\" xlink:href=\"#m0d0791f4bd\" y=\"125.333908\"/>\r\n      </g>\r\n     </g>\r\n     <g id=\"text_12\">\r\n      <!-- 0.66 -->\r\n      <g transform=\"translate(20.878125 129.133126)scale(0.1 -0.1)\">\r\n       <use xlink:href=\"#DejaVuSans-48\"/>\r\n       <use x=\"63.623047\" xlink:href=\"#DejaVuSans-46\"/>\r\n       <use x=\"95.410156\" xlink:href=\"#DejaVuSans-54\"/>\r\n       <use x=\"159.033203\" xlink:href=\"#DejaVuSans-54\"/>\r\n      </g>\r\n     </g>\r\n    </g>\r\n    <g id=\"ytick_6\">\r\n     <g id=\"line2d_12\">\r\n      <g>\r\n       <use style=\"stroke:#000000;stroke-width:0.8;\" x=\"50.14375\" xlink:href=\"#m0d0791f4bd\" y=\"100.590988\"/>\r\n      </g>\r\n     </g>\r\n     <g id=\"text_13\">\r\n      <!-- 0.67 -->\r\n      <defs>\r\n       <path d=\"M 8.203125 72.90625 \r\nL 55.078125 72.90625 \r\nL 55.078125 68.703125 \r\nL 28.609375 0 \r\nL 18.3125 0 \r\nL 43.21875 64.59375 \r\nL 8.203125 64.59375 \r\nz\r\n\" id=\"DejaVuSans-55\"/>\r\n      </defs>\r\n      <g transform=\"translate(20.878125 104.390207)scale(0.1 -0.1)\">\r\n       <use xlink:href=\"#DejaVuSans-48\"/>\r\n       <use x=\"63.623047\" xlink:href=\"#DejaVuSans-46\"/>\r\n       <use x=\"95.410156\" xlink:href=\"#DejaVuSans-54\"/>\r\n       <use x=\"159.033203\" xlink:href=\"#DejaVuSans-55\"/>\r\n      </g>\r\n     </g>\r\n    </g>\r\n    <g id=\"ytick_7\">\r\n     <g id=\"line2d_13\">\r\n      <g>\r\n       <use style=\"stroke:#000000;stroke-width:0.8;\" x=\"50.14375\" xlink:href=\"#m0d0791f4bd\" y=\"75.848069\"/>\r\n      </g>\r\n     </g>\r\n     <g id=\"text_14\">\r\n      <!-- 0.68 -->\r\n      <defs>\r\n       <path d=\"M 31.78125 34.625 \r\nQ 24.75 34.625 20.71875 30.859375 \r\nQ 16.703125 27.09375 16.703125 20.515625 \r\nQ 16.703125 13.921875 20.71875 10.15625 \r\nQ 24.75 6.390625 31.78125 6.390625 \r\nQ 38.8125 6.390625 42.859375 10.171875 \r\nQ 46.921875 13.96875 46.921875 20.515625 \r\nQ 46.921875 27.09375 42.890625 30.859375 \r\nQ 38.875 34.625 31.78125 34.625 \r\nz\r\nM 21.921875 38.8125 \r\nQ 15.578125 40.375 12.03125 44.71875 \r\nQ 8.5 49.078125 8.5 55.328125 \r\nQ 8.5 64.0625 14.71875 69.140625 \r\nQ 20.953125 74.21875 31.78125 74.21875 \r\nQ 42.671875 74.21875 48.875 69.140625 \r\nQ 55.078125 64.0625 55.078125 55.328125 \r\nQ 55.078125 49.078125 51.53125 44.71875 \r\nQ 48 40.375 41.703125 38.8125 \r\nQ 48.828125 37.15625 52.796875 32.3125 \r\nQ 56.78125 27.484375 56.78125 20.515625 \r\nQ 56.78125 9.90625 50.3125 4.234375 \r\nQ 43.84375 -1.421875 31.78125 -1.421875 \r\nQ 19.734375 -1.421875 13.25 4.234375 \r\nQ 6.78125 9.90625 6.78125 20.515625 \r\nQ 6.78125 27.484375 10.78125 32.3125 \r\nQ 14.796875 37.15625 21.921875 38.8125 \r\nz\r\nM 18.3125 54.390625 \r\nQ 18.3125 48.734375 21.84375 45.5625 \r\nQ 25.390625 42.390625 31.78125 42.390625 \r\nQ 38.140625 42.390625 41.71875 45.5625 \r\nQ 45.3125 48.734375 45.3125 54.390625 \r\nQ 45.3125 60.0625 41.71875 63.234375 \r\nQ 38.140625 66.40625 31.78125 66.40625 \r\nQ 25.390625 66.40625 21.84375 63.234375 \r\nQ 18.3125 60.0625 18.3125 54.390625 \r\nz\r\n\" id=\"DejaVuSans-56\"/>\r\n      </defs>\r\n      <g transform=\"translate(20.878125 79.647288)scale(0.1 -0.1)\">\r\n       <use xlink:href=\"#DejaVuSans-48\"/>\r\n       <use x=\"63.623047\" xlink:href=\"#DejaVuSans-46\"/>\r\n       <use x=\"95.410156\" xlink:href=\"#DejaVuSans-54\"/>\r\n       <use x=\"159.033203\" xlink:href=\"#DejaVuSans-56\"/>\r\n      </g>\r\n     </g>\r\n    </g>\r\n    <g id=\"ytick_8\">\r\n     <g id=\"line2d_14\">\r\n      <g>\r\n       <use style=\"stroke:#000000;stroke-width:0.8;\" x=\"50.14375\" xlink:href=\"#m0d0791f4bd\" y=\"51.10515\"/>\r\n      </g>\r\n     </g>\r\n     <g id=\"text_15\">\r\n      <!-- 0.69 -->\r\n      <defs>\r\n       <path d=\"M 10.984375 1.515625 \r\nL 10.984375 10.5 \r\nQ 14.703125 8.734375 18.5 7.8125 \r\nQ 22.3125 6.890625 25.984375 6.890625 \r\nQ 35.75 6.890625 40.890625 13.453125 \r\nQ 46.046875 20.015625 46.78125 33.40625 \r\nQ 43.953125 29.203125 39.59375 26.953125 \r\nQ 35.25 24.703125 29.984375 24.703125 \r\nQ 19.046875 24.703125 12.671875 31.3125 \r\nQ 6.296875 37.9375 6.296875 49.421875 \r\nQ 6.296875 60.640625 12.9375 67.421875 \r\nQ 19.578125 74.21875 30.609375 74.21875 \r\nQ 43.265625 74.21875 49.921875 64.515625 \r\nQ 56.59375 54.828125 56.59375 36.375 \r\nQ 56.59375 19.140625 48.40625 8.859375 \r\nQ 40.234375 -1.421875 26.421875 -1.421875 \r\nQ 22.703125 -1.421875 18.890625 -0.6875 \r\nQ 15.09375 0.046875 10.984375 1.515625 \r\nz\r\nM 30.609375 32.421875 \r\nQ 37.25 32.421875 41.125 36.953125 \r\nQ 45.015625 41.5 45.015625 49.421875 \r\nQ 45.015625 57.28125 41.125 61.84375 \r\nQ 37.25 66.40625 30.609375 66.40625 \r\nQ 23.96875 66.40625 20.09375 61.84375 \r\nQ 16.21875 57.28125 16.21875 49.421875 \r\nQ 16.21875 41.5 20.09375 36.953125 \r\nQ 23.96875 32.421875 30.609375 32.421875 \r\nz\r\n\" id=\"DejaVuSans-57\"/>\r\n      </defs>\r\n      <g transform=\"translate(20.878125 54.904369)scale(0.1 -0.1)\">\r\n       <use xlink:href=\"#DejaVuSans-48\"/>\r\n       <use x=\"63.623047\" xlink:href=\"#DejaVuSans-46\"/>\r\n       <use x=\"95.410156\" xlink:href=\"#DejaVuSans-54\"/>\r\n       <use x=\"159.033203\" xlink:href=\"#DejaVuSans-57\"/>\r\n      </g>\r\n     </g>\r\n    </g>\r\n    <g id=\"ytick_9\">\r\n     <g id=\"line2d_15\">\r\n      <g>\r\n       <use style=\"stroke:#000000;stroke-width:0.8;\" x=\"50.14375\" xlink:href=\"#m0d0791f4bd\" y=\"26.362231\"/>\r\n      </g>\r\n     </g>\r\n     <g id=\"text_16\">\r\n      <!-- 0.70 -->\r\n      <g transform=\"translate(20.878125 30.16145)scale(0.1 -0.1)\">\r\n       <use xlink:href=\"#DejaVuSans-48\"/>\r\n       <use x=\"63.623047\" xlink:href=\"#DejaVuSans-46\"/>\r\n       <use x=\"95.410156\" xlink:href=\"#DejaVuSans-55\"/>\r\n       <use x=\"159.033203\" xlink:href=\"#DejaVuSans-48\"/>\r\n      </g>\r\n     </g>\r\n    </g>\r\n    <g id=\"text_17\">\r\n     <!-- Cross validation score -->\r\n     <defs>\r\n      <path d=\"M 64.40625 67.28125 \r\nL 64.40625 56.890625 \r\nQ 59.421875 61.53125 53.78125 63.8125 \r\nQ 48.140625 66.109375 41.796875 66.109375 \r\nQ 29.296875 66.109375 22.65625 58.46875 \r\nQ 16.015625 50.828125 16.015625 36.375 \r\nQ 16.015625 21.96875 22.65625 14.328125 \r\nQ 29.296875 6.6875 41.796875 6.6875 \r\nQ 48.140625 6.6875 53.78125 8.984375 \r\nQ 59.421875 11.28125 64.40625 15.921875 \r\nL 64.40625 5.609375 \r\nQ 59.234375 2.09375 53.4375 0.328125 \r\nQ 47.65625 -1.421875 41.21875 -1.421875 \r\nQ 24.65625 -1.421875 15.125 8.703125 \r\nQ 5.609375 18.84375 5.609375 36.375 \r\nQ 5.609375 53.953125 15.125 64.078125 \r\nQ 24.65625 74.21875 41.21875 74.21875 \r\nQ 47.75 74.21875 53.53125 72.484375 \r\nQ 59.328125 70.75 64.40625 67.28125 \r\nz\r\n\" id=\"DejaVuSans-67\"/>\r\n      <path d=\"M 2.984375 54.6875 \r\nL 12.5 54.6875 \r\nL 29.59375 8.796875 \r\nL 46.6875 54.6875 \r\nL 56.203125 54.6875 \r\nL 35.6875 0 \r\nL 23.484375 0 \r\nz\r\n\" id=\"DejaVuSans-118\"/>\r\n      <path d=\"M 9.421875 54.6875 \r\nL 18.40625 54.6875 \r\nL 18.40625 0 \r\nL 9.421875 0 \r\nz\r\nM 9.421875 75.984375 \r\nL 18.40625 75.984375 \r\nL 18.40625 64.59375 \r\nL 9.421875 64.59375 \r\nz\r\n\" id=\"DejaVuSans-105\"/>\r\n      <path d=\"M 54.890625 33.015625 \r\nL 54.890625 0 \r\nL 45.90625 0 \r\nL 45.90625 32.71875 \r\nQ 45.90625 40.484375 42.875 44.328125 \r\nQ 39.84375 48.1875 33.796875 48.1875 \r\nQ 26.515625 48.1875 22.3125 43.546875 \r\nQ 18.109375 38.921875 18.109375 30.90625 \r\nL 18.109375 0 \r\nL 9.078125 0 \r\nL 9.078125 54.6875 \r\nL 18.109375 54.6875 \r\nL 18.109375 46.1875 \r\nQ 21.34375 51.125 25.703125 53.5625 \r\nQ 30.078125 56 35.796875 56 \r\nQ 45.21875 56 50.046875 50.171875 \r\nQ 54.890625 44.34375 54.890625 33.015625 \r\nz\r\n\" id=\"DejaVuSans-110\"/>\r\n     </defs>\r\n     <g transform=\"translate(14.798438 171.073125)rotate(-90)scale(0.1 -0.1)\">\r\n      <use xlink:href=\"#DejaVuSans-67\"/>\r\n      <use x=\"69.824219\" xlink:href=\"#DejaVuSans-114\"/>\r\n      <use x=\"110.90625\" xlink:href=\"#DejaVuSans-111\"/>\r\n      <use x=\"172.087891\" xlink:href=\"#DejaVuSans-115\"/>\r\n      <use x=\"224.1875\" xlink:href=\"#DejaVuSans-115\"/>\r\n      <use x=\"276.287109\" xlink:href=\"#DejaVuSans-32\"/>\r\n      <use x=\"308.074219\" xlink:href=\"#DejaVuSans-118\"/>\r\n      <use x=\"367.253906\" xlink:href=\"#DejaVuSans-97\"/>\r\n      <use x=\"428.533203\" xlink:href=\"#DejaVuSans-108\"/>\r\n      <use x=\"456.316406\" xlink:href=\"#DejaVuSans-105\"/>\r\n      <use x=\"484.099609\" xlink:href=\"#DejaVuSans-100\"/>\r\n      <use x=\"547.576172\" xlink:href=\"#DejaVuSans-97\"/>\r\n      <use x=\"608.855469\" xlink:href=\"#DejaVuSans-116\"/>\r\n      <use x=\"648.064453\" xlink:href=\"#DejaVuSans-105\"/>\r\n      <use x=\"675.847656\" xlink:href=\"#DejaVuSans-111\"/>\r\n      <use x=\"737.029297\" xlink:href=\"#DejaVuSans-110\"/>\r\n      <use x=\"800.408203\" xlink:href=\"#DejaVuSans-32\"/>\r\n      <use x=\"832.195312\" xlink:href=\"#DejaVuSans-115\"/>\r\n      <use x=\"884.294922\" xlink:href=\"#DejaVuSans-99\"/>\r\n      <use x=\"939.275391\" xlink:href=\"#DejaVuSans-111\"/>\r\n      <use x=\"1000.457031\" xlink:href=\"#DejaVuSans-114\"/>\r\n      <use x=\"1041.539062\" xlink:href=\"#DejaVuSans-101\"/>\r\n     </g>\r\n    </g>\r\n   </g>\r\n   <g id=\"line2d_16\">\r\n    <path clip-path=\"url(#p2a760469cb)\" d=\"M 65.361932 203.13879 \r\nL 71.573435 214.756364 \r\nL 77.784937 186.804597 \r\nL 83.99644 186.901249 \r\nL 90.207943 143.388506 \r\nL 96.419446 138.381931 \r\nL 102.630949 60.055128 \r\nL 108.842451 33.707785 \r\nL 115.053954 27.25143 \r\nL 121.265457 25.878971 \r\nL 127.47696 21.297665 \r\nL 133.688462 20.466457 \r\nL 139.899965 20.485788 \r\nL 146.111468 19.963867 \r\nL 152.322971 19.731902 \r\nL 158.534474 20.09918 \r\nL 164.745976 20.563109 \r\nL 170.957479 19.17132 \r\nL 177.168982 20.389136 \r\nL 183.380485 20.11851 \r\nL 189.591987 20.408466 \r\nL 195.80349 19.963867 \r\nL 202.014993 19.65458 \r\nL 208.226496 20.466457 \r\nL 214.437999 20.485788 \r\nL 220.649501 19.828554 \r\nL 226.861004 19.615919 \r\nL 233.072507 19.712572 \r\nL 239.28401 19.557928 \r\nL 245.495513 20.737083 \r\nL 251.707015 19.905876 \r\nL 257.918518 20.427797 \r\nL 264.130021 17.315601 \r\nL 270.341524 18.108148 \r\nL 276.553026 18.958686 \r\nL 282.764529 19.731902 \r\nL 288.976032 19.63525 \r\nL 295.187535 18.108148 \r\nL 301.399038 18.862034 \r\nL 307.61054 17.837522 \r\nL 313.822043 18.475426 \r\nL 320.033546 17.972835 \r\nL 326.245049 18.823373 \r\nL 332.456551 17.818192 \r\nL 338.668054 17.083636 \r\nL 344.879557 19.422615 \r\nL 351.09106 17.682879 \r\nL 357.302563 17.895513 \r\nL 363.514065 20.350475 \r\nL 369.725568 18.320782 \r\n\" style=\"fill:none;stroke:#1f77b4;stroke-linecap:square;stroke-width:1.5;\"/>\r\n   </g>\r\n   <g id=\"patch_3\">\r\n    <path d=\"M 50.14375 224.64 \r\nL 50.14375 7.2 \r\n\" style=\"fill:none;stroke:#000000;stroke-linecap:square;stroke-linejoin:miter;stroke-width:0.8;\"/>\r\n   </g>\r\n   <g id=\"patch_4\">\r\n    <path d=\"M 384.94375 224.64 \r\nL 384.94375 7.2 \r\n\" style=\"fill:none;stroke:#000000;stroke-linecap:square;stroke-linejoin:miter;stroke-width:0.8;\"/>\r\n   </g>\r\n   <g id=\"patch_5\">\r\n    <path d=\"M 50.14375 224.64 \r\nL 384.94375 224.64 \r\n\" style=\"fill:none;stroke:#000000;stroke-linecap:square;stroke-linejoin:miter;stroke-width:0.8;\"/>\r\n   </g>\r\n   <g id=\"patch_6\">\r\n    <path d=\"M 50.14375 7.2 \r\nL 384.94375 7.2 \r\n\" style=\"fill:none;stroke:#000000;stroke-linecap:square;stroke-linejoin:miter;stroke-width:0.8;\"/>\r\n   </g>\r\n  </g>\r\n </g>\r\n <defs>\r\n  <clipPath id=\"p2a760469cb\">\r\n   <rect height=\"217.44\" width=\"334.8\" x=\"50.14375\" y=\"7.2\"/>\r\n  </clipPath>\r\n </defs>\r\n</svg>\r\n",
      "image/png": "[encoded data removed]"
     },
     "metadata": {
      "needs_background": "light"
     }
    },
    {
     "output_type": "display_data",
     "data": {
      "text/plain": "<Figure size 432x288 with 0 Axes>"
     },
     "metadata": {}
    }
   ],
   "source": [
    "import matplotlib.pyplot as plt\n",
    "# visualize the results\n",
    "print('Optimal number of features : %d' % feature_selector.n_features_)\n",
    "plt.figure()\n",
    "plt.xlabel('Number of features Selected')\n",
    "plt.ylabel('Cross validation score')\n",
    "plt.plot(range(1,len(feature_selector.grid_scores_) +1), feature_selector.grid_scores_)\n",
    "plt.show()\n",
    "plt.savefig('./feature_selection.png')"
   ]
  },
  {
   "source": [
    "That's a lot of features with just a little return, but we're trying to minimize costs, so we can afford to put them in in the model."
   ],
   "cell_type": "markdown",
   "metadata": {}
  },
  {
   "cell_type": "code",
   "execution_count": 104,
   "metadata": {},
   "outputs": [
    {
     "output_type": "stream",
     "name": "stdout",
     "text": [
      "X_train shape:  (128000, 45) \nX_test shape:  (32000, 45)\n"
     ]
    }
   ],
   "source": [
    "X_train = feature_selector.transform(X_train)\n",
    "X_test = feature_selector.transform(X_test)\n",
    "print('X_train shape: ', X_train.shape, \n",
    "      '\\nX_test shape: ', X_test.shape)"
   ]
  },
  {
   "cell_type": "code",
   "execution_count": 114,
   "metadata": {},
   "outputs": [],
   "source": [
    "# randomized grid search to fine best parameters for logistic regression\n",
    "from sklearn.model_selection import RandomizedSearchCV\n",
    "from scipy.stats import uniform\n",
    "# instantiate estimator\n",
    "logistic = LogisticRegression(solver='saga', \n",
    "                              tol=1e-2,\n",
    "                              max_iter=200,\n",
    "                              random_state = random_state)\n",
    "# define search space\n",
    "penalty = ['l1', 'l2']\n",
    "C = uniform(loc=0, scale=4)\n",
    "hyperparameters = dict(C=C, penalty=penalty)\n",
    "# instantiate grid search\n",
    "clf = RandomizedSearchCV(logistic, \n",
    "                         hyperparameters,\n",
    "                         random_state=1,\n",
    "                         n_iter=100,\n",
    "                         cv=5,\n",
    "                         verbose=0,\n",
    "                         n_jobs=-1)\n",
    "\n",
    "# search for best parameters\n",
    "search = clf.fit(X_train, y_train)"
   ]
  },
  {
   "cell_type": "code",
   "execution_count": 116,
   "metadata": {},
   "outputs": [
    {
     "output_type": "stream",
     "name": "stdout",
     "text": [
      "Best Penalty: l2\nBest C: 0.3712032345629517\n"
     ]
    }
   ],
   "source": [
    "print('Best Penalty:', search.best_estimator_.get_params()['penalty'])\n",
    "print('Best C:', search.best_estimator_.get_params()['C'])"
   ]
  },
  {
   "cell_type": "code",
   "execution_count": 117,
   "metadata": {},
   "outputs": [
    {
     "output_type": "stream",
     "name": "stdout",
     "text": [
      "              precision    recall  f1-score   support\n\n           0       0.72      0.82      0.77     19161\n           1       0.66      0.53      0.59     12839\n\n    accuracy                           0.70     32000\n   macro avg       0.69      0.67      0.68     32000\nweighted avg       0.70      0.70      0.70     32000\n\n"
     ]
    }
   ],
   "source": [
    "from sklearn.metrics import classification_report\n",
    "preds = search.predict(X_test)\n",
    "\n",
    "print(classification_report(y_test, preds))"
   ]
  },
  {
   "cell_type": "code",
   "execution_count": 120,
   "metadata": {},
   "outputs": [
    {
     "output_type": "execute_result",
     "data": {
      "text/plain": [
       "array([[15733,  3428],\n",
       "       [ 6090,  6749]], dtype=int64)"
      ]
     },
     "metadata": {},
     "execution_count": 120
    }
   ],
   "source": [
    "from sklearn.metrics import confusion_matrix\n",
    "\n",
    "cm = confusion_matrix(y_test, preds)\n",
    "cm"
   ]
  },
  {
   "cell_type": "code",
   "execution_count": 121,
   "metadata": {},
   "outputs": [
    {
     "output_type": "execute_result",
     "data": {
      "text/plain": [
       "846950"
      ]
     },
     "metadata": {},
     "execution_count": 121
    }
   ],
   "source": [
    "# [[TP, FP],\n",
    "#  [FN, TN]]\n",
    "\n",
    "# precision = TP / TP + FP\n",
    "# recall = TP / TP + FN\n",
    "# accuracy = TP + TN / total\n",
    "FN = cm[1][0]\n",
    "FP = cm[0][1]\n",
    "loss = 25*FP + 125*FN\n",
    "loss"
   ]
  },
  {
   "cell_type": "code",
   "execution_count": null,
   "metadata": {},
   "outputs": [],
   "source": [
    "import numpy as np\n",
    "kwargs = dict(delimiter=\",\",\n",
    "              skip_header=1,\n",
    "              dtype='float64'\n",
    "             )\n",
    "df = np.genfromtxt('./final_project.csv',**kwargs)\n",
    "X2 = df[:,:-1]\n",
    "y2 = df[:,-1]"
   ]
  },
  {
   "cell_type": "markdown",
   "metadata": {},
   "source": [
    "### Below, we used the Anderson Darling Test to determine if features are normally distributed or not. This is useful for our imputation strategy. Where the critical value is exceeded by the test statistic under the assumption of normality, we reject the null hypothesis and conclude violaiton. Therefore, for these, we apply a median imputation because while the distributions appear normal visually, there are outliers influencing normality at a 95% confidence level.\n",
    "\n",
    "### Also, we identify columns that are unable to be tested for having insufficient values required for the test."
   ]
  },
  {
   "cell_type": "code",
   "execution_count": 6,
   "metadata": {},
   "outputs": [
    {
     "name": "stdout",
     "output_type": "stream",
     "text": [
      "Column 2 is not normally distributed at a 95% level of confidence. Statistic: 10.220688929781318 and Critical Value: 0.787\n"
     ]
    },
    {
     "data": {
      "image/png": "[encoded data removed]",
      "text/plain": [
       "<Figure size 432x288 with 1 Axes>"
      ]
     },
     "metadata": {
      "needs_background": "light"
     },
     "output_type": "display_data"
    },
    {
     "name": "stdout",
     "output_type": "stream",
     "text": [
      "Column 6 is not normally distributed at a 95% level of confidence. Statistic: 10.270658839464886 and Critical Value: 0.787\n"
     ]
    },
    {
     "data": {
      "image/png": "[encoded data removed]",
      "text/plain": [
       "<Figure size 432x288 with 1 Axes>"
      ]
     },
     "metadata": {
      "needs_background": "light"
     },
     "output_type": "display_data"
    },
    {
     "name": "stdout",
     "output_type": "stream",
     "text": [
      "Column 7 is not normally distributed at a 95% level of confidence. Statistic: 58.931357158726314 and Critical Value: 0.787\n"
     ]
    },
    {
     "data": {
      "image/png": "[encoded data removed]",
      "text/plain": [
       "<Figure size 432x288 with 1 Axes>"
      ]
     },
     "metadata": {
      "needs_background": "light"
     },
     "output_type": "display_data"
    },
    {
     "name": "stdout",
     "output_type": "stream",
     "text": [
      "Column 12 is not normally distributed at a 95% level of confidence. Statistic: 26.41666220035404 and Critical Value: 0.787\n"
     ]
    },
    {
     "data": {
      "image/png": "[encoded data removed]",
      "text/plain": [
       "<Figure size 432x288 with 1 Axes>"
      ]
     },
     "metadata": {
      "needs_background": "light"
     },
     "output_type": "display_data"
    },
    {
     "name": "stdout",
     "output_type": "stream",
     "text": [
      "Column 20 is not normally distributed at a 95% level of confidence. Statistic: 29.789376930275466 and Critical Value: 0.787\n"
     ]
    },
    {
     "data": {
      "image/png": "[encoded data removed]",
      "text/plain": [
       "<Figure size 432x288 with 1 Axes>"
      ]
     },
     "metadata": {
      "needs_background": "light"
     },
     "output_type": "display_data"
    },
    {
     "name": "stdout",
     "output_type": "stream",
     "text": [
      "Column 23 is not normally distributed at a 95% level of confidence. Statistic: 29.42702754313359 and Critical Value: 0.787\n"
     ]
    },
    {
     "data": {
      "image/png": "[encoded data removed]",
      "text/plain": [
       "<Figure size 432x288 with 1 Axes>"
      ]
     },
     "metadata": {
      "needs_background": "light"
     },
     "output_type": "display_data"
    },
    {
     "name": "stdout",
     "output_type": "stream",
     "text": [
      "Column 27 is not normally distributed at a 95% level of confidence. Statistic: 5.4526740521832835 and Critical Value: 0.787\n"
     ]
    },
    {
     "data": {
      "image/png": "[encoded data removed]",
      "text/plain": [
       "<Figure size 432x288 with 1 Axes>"
      ]
     },
     "metadata": {
      "needs_background": "light"
     },
     "output_type": "display_data"
    },
    {
     "name": "stdout",
     "output_type": "stream",
     "text": [
      "Column 28 is not normally distributed at a 95% level of confidence. Statistic: 13.03100506181363 and Critical Value: 0.787\n"
     ]
    },
    {
     "data": {
      "image/png": "[encoded data removed]",
      "text/plain": [
       "<Figure size 432x288 with 1 Axes>"
      ]
     },
     "metadata": {
      "needs_background": "light"
     },
     "output_type": "display_data"
    },
    {
     "name": "stdout",
     "output_type": "stream",
     "text": [
      "Column 38 is not normally distributed at a 95% level of confidence. Statistic: 3.5536952081602067 and Critical Value: 0.787\n"
     ]
    },
    {
     "data": {
      "image/png": "[encoded data removed]",
      "text/plain": [
       "<Figure size 432x288 with 1 Axes>"
      ]
     },
     "metadata": {
      "needs_background": "light"
     },
     "output_type": "display_data"
    },
    {
     "name": "stdout",
     "output_type": "stream",
     "text": [
      "Column 40 is not normally distributed at a 95% level of confidence. Statistic: 26.42135159339523 and Critical Value: 0.787\n"
     ]
    },
    {
     "data": {
      "image/png": "[encoded data removed]",
      "text/plain": [
       "<Figure size 432x288 with 1 Axes>"
      ]
     },
     "metadata": {
      "needs_background": "light"
     },
     "output_type": "display_data"
    },
    {
     "name": "stdout",
     "output_type": "stream",
     "text": [
      "Column 41 is not normally distributed at a 95% level of confidence. Statistic: 3.595784921606537 and Critical Value: 0.787\n"
     ]
    },
    {
     "data": {
      "image/png": "[encoded data removed]",
      "text/plain": [
       "<Figure size 432x288 with 1 Axes>"
      ]
     },
     "metadata": {
      "needs_background": "light"
     },
     "output_type": "display_data"
    },
    {
     "name": "stdout",
     "output_type": "stream",
     "text": [
      "Column 42 is not normally distributed at a 95% level of confidence. Statistic: 47.59360718273092 and Critical Value: 0.787\n"
     ]
    },
    {
     "data": {
      "image/png": "[encoded data removed]",
      "text/plain": [
       "<Figure size 432x288 with 1 Axes>"
      ]
     },
     "metadata": {
      "needs_background": "light"
     },
     "output_type": "display_data"
    },
    {
     "name": "stdout",
     "output_type": "stream",
     "text": [
      "Column 46 is not normally distributed at a 95% level of confidence. Statistic: 31.06127203576034 and Critical Value: 0.787\n"
     ]
    },
    {
     "data": {
      "image/png": "[encoded data removed]",
      "text/plain": [
       "<Figure size 432x288 with 1 Axes>"
      ]
     },
     "metadata": {
      "needs_background": "light"
     },
     "output_type": "display_data"
    },
    {
     "name": "stdout",
     "output_type": "stream",
     "text": [
      "Column 48 is not normally distributed at a 95% level of confidence. Statistic: 2.897343336167978 and Critical Value: 0.787\n"
     ]
    },
    {
     "data": {
      "image/png": "[encoded data removed]",
      "text/plain": [
       "<Figure size 432x288 with 1 Axes>"
      ]
     },
     "metadata": {
      "needs_background": "light"
     },
     "output_type": "display_data"
    },
    {
     "name": "stdout",
     "output_type": "stream",
     "text": [
      "Column 49 is not normally distributed at a 95% level of confidence. Statistic: 6.4221460196131375 and Critical Value: 0.787\n"
     ]
    },
    {
     "data": {
      "image/png": "[encoded data removed]",
      "text/plain": [
       "<Figure size 432x288 with 1 Axes>"
      ]
     },
     "metadata": {
      "needs_background": "light"
     },
     "output_type": "display_data"
    },
    {
     "name": "stdout",
     "output_type": "stream",
     "text": [
      "Columns that are not numeric: [24, 29, 30, 32, 37]\n"
     ]
    }
   ],
   "source": [
    "# https://docs.scipy.org/doc/scipy/reference/generated/scipy.stats.anderson.html\n",
    "from scipy import stats\n",
    "import warnings\n",
    "warnings.filterwarnings('ignore')\n",
    "\n",
    "non_parametric=[]\n",
    "bad_cols=[]\n",
    "\n",
    "for i in np.arange(0,np.shape(X2)[1]):\n",
    "    try:\n",
    "        statistic = stats.anderson(X2[~np.isnan(X2[:,i]),i], dist='norm').statistic\n",
    "        crit_val = stats.anderson(X2[~np.isnan(X2[:,i]),i], dist='norm').critical_values[2] # 5% significance, 95% confidence)\n",
    "\n",
    "        if (crit_val < statistic):\n",
    "            print(\"Column {} is not normally distributed at a 95% level of confidence. Statistic: {} and Critical Value: {}\".format(i, statistic, crit_val));\n",
    "            non_parametric.append(i)\n",
    "            plt.hist(X2[~np.isnan(X2[:,i]),i])\n",
    "            plt.show()\n",
    "    except:\n",
    "        bad_cols.append(i)\n",
    "print(\"Columns that are not numeric: {}\".format(bad_cols))"
   ]
  },
  {
   "cell_type": "markdown",
   "metadata": {},
   "source": [
    "### The columns that are not normally distributed to not appear to be in wild violation of normality. Therefore, we can assume the SimpleImputer would work reasonable well using the mean."
   ]
  },
  {
   "cell_type": "markdown",
   "metadata": {},
   "source": [
    "Drop the non-numeric columns:"
   ]
  },
  {
   "cell_type": "code",
   "execution_count": 7,
   "metadata": {},
   "outputs": [],
   "source": [
    "X_numeric = np.delete(X2, bad_cols, axis=1)"
   ]
  },
  {
   "cell_type": "code",
   "execution_count": 8,
   "metadata": {},
   "outputs": [
    {
     "data": {
      "text/plain": [
       "(160000, 45)"
      ]
     },
     "execution_count": 8,
     "metadata": {},
     "output_type": "execute_result"
    }
   ],
   "source": [
    "np.shape(X_numeric)"
   ]
  },
  {
   "cell_type": "code",
   "execution_count": 9,
   "metadata": {},
   "outputs": [
    {
     "name": "stdout",
     "output_type": "stream",
     "text": [
      "Percent of column 0 having missing values: 0.02%\n",
      "Percent of column 1 having missing values: 0.02%\n",
      "Percent of column 2 having missing values: 0.02%\n",
      "Percent of column 3 having missing values: 0.02%\n",
      "Percent of column 4 having missing values: 0.02%\n",
      "Percent of column 5 having missing values: 0.02%\n",
      "Percent of column 6 having missing values: 0.02%\n",
      "Percent of column 7 having missing values: 0.02%\n",
      "Percent of column 8 having missing values: 0.01%\n",
      "Percent of column 9 having missing values: 0.02%\n",
      "Percent of column 10 having missing values: 0.03%\n",
      "Percent of column 11 having missing values: 0.02%\n",
      "Percent of column 12 having missing values: 0.02%\n",
      "Percent of column 13 having missing values: 0.02%\n",
      "Percent of column 14 having missing values: 0.02%\n",
      "Percent of column 15 having missing values: 0.02%\n",
      "Percent of column 16 having missing values: 0.02%\n",
      "Percent of column 17 having missing values: 0.02%\n",
      "Percent of column 18 having missing values: 0.03%\n",
      "Percent of column 19 having missing values: 0.02%\n",
      "Percent of column 20 having missing values: 0.02%\n",
      "Percent of column 21 having missing values: 0.02%\n",
      "Percent of column 22 having missing values: 0.02%\n",
      "Percent of column 23 having missing values: 0.03%\n",
      "Percent of column 24 having missing values: 0.01%\n",
      "Percent of column 25 having missing values: 0.02%\n",
      "Percent of column 26 having missing values: 0.02%\n",
      "Percent of column 27 having missing values: 0.02%\n",
      "Percent of column 28 having missing values: 0.02%\n",
      "Percent of column 29 having missing values: 0.03%\n",
      "Percent of column 30 having missing values: 0.03%\n",
      "Percent of column 31 having missing values: 0.02%\n",
      "Percent of column 32 having missing values: 0.02%\n",
      "Percent of column 33 having missing values: 0.02%\n",
      "Percent of column 34 having missing values: 0.01%\n",
      "Percent of column 35 having missing values: 0.02%\n",
      "Percent of column 36 having missing values: 0.03%\n",
      "Percent of column 37 having missing values: 0.02%\n",
      "Percent of column 38 having missing values: 0.02%\n",
      "Percent of column 39 having missing values: 0.03%\n",
      "Percent of column 40 having missing values: 0.02%\n",
      "Percent of column 41 having missing values: 0.02%\n",
      "Percent of column 42 having missing values: 0.02%\n",
      "Percent of column 43 having missing values: 0.02%\n",
      "Percent of column 44 having missing values: 0.02%\n"
     ]
    }
   ],
   "source": [
    "for i in np.arange(np.shape(X_numeric)[1]):\n",
    "    print(\"Percent of column {} having missing values: {}%\".format(i,round(100*(np.count_nonzero(np.isnan(X_numeric[:,i]))/np.shape(X_numeric[:,i])[0]),2)))"
   ]
  },
  {
   "cell_type": "code",
   "execution_count": 10,
   "metadata": {},
   "outputs": [],
   "source": [
    "from sklearn.impute import SimpleImputer\n",
    "imp = SimpleImputer(missing_values=np.nan, strategy='mean')\n",
    "imp.fit(X_numeric)\n",
    "X_numeric = imp.transform(X_numeric)"
   ]
  },
  {
   "cell_type": "markdown",
   "metadata": {},
   "source": [
    "### Check to confirm numeric imputation was successful:"
   ]
  },
  {
   "cell_type": "code",
   "execution_count": 11,
   "metadata": {},
   "outputs": [
    {
     "name": "stdout",
     "output_type": "stream",
     "text": [
      "Percent of column 0 having missing values: 0.0%\n",
      "Percent of column 1 having missing values: 0.0%\n",
      "Percent of column 2 having missing values: 0.0%\n",
      "Percent of column 3 having missing values: 0.0%\n",
      "Percent of column 4 having missing values: 0.0%\n",
      "Percent of column 5 having missing values: 0.0%\n",
      "Percent of column 6 having missing values: 0.0%\n",
      "Percent of column 7 having missing values: 0.0%\n",
      "Percent of column 8 having missing values: 0.0%\n",
      "Percent of column 9 having missing values: 0.0%\n",
      "Percent of column 10 having missing values: 0.0%\n",
      "Percent of column 11 having missing values: 0.0%\n",
      "Percent of column 12 having missing values: 0.0%\n",
      "Percent of column 13 having missing values: 0.0%\n",
      "Percent of column 14 having missing values: 0.0%\n",
      "Percent of column 15 having missing values: 0.0%\n",
      "Percent of column 16 having missing values: 0.0%\n",
      "Percent of column 17 having missing values: 0.0%\n",
      "Percent of column 18 having missing values: 0.0%\n",
      "Percent of column 19 having missing values: 0.0%\n",
      "Percent of column 20 having missing values: 0.0%\n",
      "Percent of column 21 having missing values: 0.0%\n",
      "Percent of column 22 having missing values: 0.0%\n",
      "Percent of column 23 having missing values: 0.0%\n",
      "Percent of column 24 having missing values: 0.0%\n",
      "Percent of column 25 having missing values: 0.0%\n",
      "Percent of column 26 having missing values: 0.0%\n",
      "Percent of column 27 having missing values: 0.0%\n",
      "Percent of column 28 having missing values: 0.0%\n",
      "Percent of column 29 having missing values: 0.0%\n",
      "Percent of column 30 having missing values: 0.0%\n",
      "Percent of column 31 having missing values: 0.0%\n",
      "Percent of column 32 having missing values: 0.0%\n",
      "Percent of column 33 having missing values: 0.0%\n",
      "Percent of column 34 having missing values: 0.0%\n",
      "Percent of column 35 having missing values: 0.0%\n",
      "Percent of column 36 having missing values: 0.0%\n",
      "Percent of column 37 having missing values: 0.0%\n",
      "Percent of column 38 having missing values: 0.0%\n",
      "Percent of column 39 having missing values: 0.0%\n",
      "Percent of column 40 having missing values: 0.0%\n",
      "Percent of column 41 having missing values: 0.0%\n",
      "Percent of column 42 having missing values: 0.0%\n",
      "Percent of column 43 having missing values: 0.0%\n",
      "Percent of column 44 having missing values: 0.0%\n"
     ]
    }
   ],
   "source": [
    "for i in np.arange(np.shape(X_numeric)[1]):\n",
    "    print(\"Percent of column {} having missing values: {}%\".format(i,round(100*(np.count_nonzero(np.isnan(X_numeric[:,i]))/np.shape(X_numeric[:,i])[0]),2)))"
   ]
  },
  {
   "cell_type": "markdown",
   "metadata": {},
   "source": [
    "Read the non-numeric columns only:"
   ]
  },
  {
   "cell_type": "code",
   "execution_count": 12,
   "metadata": {},
   "outputs": [],
   "source": [
    "kwargs = dict(delimiter=\",\",\n",
    "              skip_header=1,\n",
    "              dtype=\"|U5\",\n",
    "              usecols=bad_cols,\n",
    "              autostrip=True\n",
    "             )\n",
    "df_cat = np.genfromtxt('./final_project.csv',**kwargs)"
   ]
  },
  {
   "cell_type": "markdown",
   "metadata": {},
   "source": [
    "Some of the non-numeric columns are numeric with special characters that need to be dropped while others are names of continents, months, and days, which can be encoded:"
   ]
  },
  {
   "cell_type": "code",
   "execution_count": 13,
   "metadata": {},
   "outputs": [
    {
     "data": {
      "text/plain": [
       "array([['euorp', 'July', 'tuesd', '0.0%', '$1313'],\n",
       "       ['asia', 'Aug', 'wedne', '-0.02', '$1962'],\n",
       "       ['asia', 'July', 'wedne', '-0.01', '$430.'],\n",
       "       ...,\n",
       "       ['asia', 'Jun', 'wedne', '-0.0%', '$687.'],\n",
       "       ['asia', 'May', 'wedne', '-0.02', '$439.'],\n",
       "       ['asia', 'Aug', 'tuesd', '0.02%', '$-122']], dtype='<U5')"
      ]
     },
     "execution_count": 13,
     "metadata": {},
     "output_type": "execute_result"
    }
   ],
   "source": [
    "df_cat"
   ]
  },
  {
   "cell_type": "code",
   "execution_count": 14,
   "metadata": {},
   "outputs": [],
   "source": [
    "continents = df_cat[:,0]\n",
    "months = df_cat[:,1]\n",
    "days = df_cat[:,2]\n",
    "\n",
    "# convert sept. to Sept to be consistent with the other months and remove the period character\n",
    "months[months=='sept.']='Sept'"
   ]
  },
  {
   "cell_type": "markdown",
   "metadata": {},
   "source": [
    "Check to see the percent of missing values in categorical data to assess risk of imputation. The missing volume is very small less than 0.02% so highly likely to be insignificant. After inspection, the missing values appear to be completely at random as well so the risk of any imputation is most likely non-impactful."
   ]
  },
  {
   "cell_type": "code",
   "execution_count": 15,
   "metadata": {},
   "outputs": [
    {
     "name": "stdout",
     "output_type": "stream",
     "text": [
      "Percent of days with missing values: 0.02%\n",
      "Percent of days with missing values: 0.02%\n",
      "Percent of days with missing values: 0.02%\n"
     ]
    }
   ],
   "source": [
    "print(\"Percent of days with missing values: {}%\".format(round(100*np.count_nonzero(continents=='')/np.shape(continents)[0],2)))\n",
    "print(\"Percent of days with missing values: {}%\".format(round(100*np.count_nonzero(months=='')/np.shape(months)[0],2)))\n",
    "print(\"Percent of days with missing values: {}%\".format(round(100*np.count_nonzero(days=='')/np.shape(days)[0],2)))"
   ]
  },
  {
   "cell_type": "markdown",
   "metadata": {},
   "source": [
    "There are also very few missing values in the dollars and percents columns as well. Imputation here - along with all the other features - will also be minimal."
   ]
  },
  {
   "cell_type": "code",
   "execution_count": 16,
   "metadata": {},
   "outputs": [
    {
     "data": {
      "text/plain": [
       "''"
      ]
     },
     "execution_count": 16,
     "metadata": {},
     "output_type": "execute_result"
    }
   ],
   "source": [
    "df_cat[185,4]"
   ]
  },
  {
   "cell_type": "markdown",
   "metadata": {},
   "source": [
    "Set a placeholder of 4444 in place of the missing values so we can convert the array to float, then convert 4444 back to nan:"
   ]
  },
  {
   "cell_type": "code",
   "execution_count": 17,
   "metadata": {},
   "outputs": [],
   "source": [
    "# To convert the dollar and percent columns to float, we need to strip special characters and convert to float.\n",
    "# If it fails to convert to float, we set the value to 4444 because this is happening for instances that have no value.\n",
    "# We then convert all 4444 values to np.nan and join the values back to the numeric data. We then encode true categorical data.\n",
    "for i in np.arange(0,len(df_cat)):\n",
    "    try:\n",
    "        df_cat[i,3] = float(df_cat[i,3].replace('%', ''))\n",
    "        df_cat[i,4] = float(df_cat[i,4].replace('$', ''))\n",
    "    except:\n",
    "        #pass\n",
    "        df_cat[i,3] = 4444 #4444 is not a real percent value used so will be the placeholder for nan conversion; +/-0.05% is the max\n",
    "        df_cat[i,4] = 4444 #4444 is not a real dollar value used so will be the placeholder for nan conversion; $999 is the max\n",
    "\n",
    "percents = df_cat[:,3].astype(np.float)\n",
    "percents[percents==4444] = 'nan'\n",
    "dollars = df_cat[:,4].astype(np.float)\n",
    "dollars[dollars==4444] = 'nan'\n",
    "\n",
    "cat_to_num = np.hstack((percents.reshape(160000,1),dollars.reshape(160000,1)))"
   ]
  },
  {
   "cell_type": "code",
   "execution_count": 18,
   "metadata": {},
   "outputs": [
    {
     "name": "stdout",
     "output_type": "stream",
     "text": [
      "Percent of column 0 having missing values: 0.03%\n",
      "Percent of column 1 having missing values: 0.03%\n"
     ]
    }
   ],
   "source": [
    "for i in np.arange(np.shape(cat_to_num)[1]):\n",
    "    print(\"Percent of column {} having missing values: {}%\".format(i,round(100*(np.count_nonzero(np.isnan(cat_to_num[:,i]))/np.shape(cat_to_num[:,i])[0]),2)))"
   ]
  },
  {
   "cell_type": "markdown",
   "metadata": {},
   "source": [
    "# Now combine all numeric data, run an imputer on it and use those values to predict the missing values of the numeric data converted from cats (dollars and percents)"
   ]
  },
  {
   "cell_type": "markdown",
   "metadata": {},
   "source": [
    "All features that are truly numeric are horizontally stacked together here:"
   ]
  },
  {
   "cell_type": "code",
   "execution_count": 19,
   "metadata": {},
   "outputs": [],
   "source": [
    "imp = SimpleImputer(missing_values=np.nan, strategy='mean')\n",
    "imp.fit(cat_to_num)\n",
    "cat_to_num = imp.transform(cat_to_num)"
   ]
  },
  {
   "cell_type": "markdown",
   "metadata": {},
   "source": [
    "### Check to confirm dollar and percent imputations were successful:"
   ]
  },
  {
   "cell_type": "code",
   "execution_count": 20,
   "metadata": {},
   "outputs": [
    {
     "name": "stdout",
     "output_type": "stream",
     "text": [
      "Percent of column 0 having missing values: 0.0%\n",
      "Percent of column 1 having missing values: 0.0%\n"
     ]
    }
   ],
   "source": [
    "for i in np.arange(np.shape(cat_to_num)[1]):\n",
    "    print(\"Percent of column {} having missing values: {}%\".format(i,round(100*(np.count_nonzero(np.isnan(cat_to_num[:,i]))/np.shape(cat_to_num[:,i])[0]),2)))"
   ]
  },
  {
   "cell_type": "markdown",
   "metadata": {},
   "source": [
    "### Add the dollars and percents 2d array into the original numeric 2d array:"
   ]
  },
  {
   "cell_type": "code",
   "execution_count": 21,
   "metadata": {},
   "outputs": [],
   "source": [
    "X_nums = np.hstack((X_numeric, cat_to_num))"
   ]
  },
  {
   "cell_type": "markdown",
   "metadata": {},
   "source": [
    "Confirm no missing values:"
   ]
  },
  {
   "cell_type": "code",
   "execution_count": 22,
   "metadata": {},
   "outputs": [
    {
     "name": "stdout",
     "output_type": "stream",
     "text": [
      "Percent of column 0 having missing values: 0.0%\n",
      "Percent of column 1 having missing values: 0.0%\n",
      "Percent of column 2 having missing values: 0.0%\n",
      "Percent of column 3 having missing values: 0.0%\n",
      "Percent of column 4 having missing values: 0.0%\n",
      "Percent of column 5 having missing values: 0.0%\n",
      "Percent of column 6 having missing values: 0.0%\n",
      "Percent of column 7 having missing values: 0.0%\n",
      "Percent of column 8 having missing values: 0.0%\n",
      "Percent of column 9 having missing values: 0.0%\n",
      "Percent of column 10 having missing values: 0.0%\n",
      "Percent of column 11 having missing values: 0.0%\n",
      "Percent of column 12 having missing values: 0.0%\n",
      "Percent of column 13 having missing values: 0.0%\n",
      "Percent of column 14 having missing values: 0.0%\n",
      "Percent of column 15 having missing values: 0.0%\n",
      "Percent of column 16 having missing values: 0.0%\n",
      "Percent of column 17 having missing values: 0.0%\n",
      "Percent of column 18 having missing values: 0.0%\n",
      "Percent of column 19 having missing values: 0.0%\n",
      "Percent of column 20 having missing values: 0.0%\n",
      "Percent of column 21 having missing values: 0.0%\n",
      "Percent of column 22 having missing values: 0.0%\n",
      "Percent of column 23 having missing values: 0.0%\n",
      "Percent of column 24 having missing values: 0.0%\n",
      "Percent of column 25 having missing values: 0.0%\n",
      "Percent of column 26 having missing values: 0.0%\n",
      "Percent of column 27 having missing values: 0.0%\n",
      "Percent of column 28 having missing values: 0.0%\n",
      "Percent of column 29 having missing values: 0.0%\n",
      "Percent of column 30 having missing values: 0.0%\n",
      "Percent of column 31 having missing values: 0.0%\n",
      "Percent of column 32 having missing values: 0.0%\n",
      "Percent of column 33 having missing values: 0.0%\n",
      "Percent of column 34 having missing values: 0.0%\n",
      "Percent of column 35 having missing values: 0.0%\n",
      "Percent of column 36 having missing values: 0.0%\n",
      "Percent of column 37 having missing values: 0.0%\n",
      "Percent of column 38 having missing values: 0.0%\n",
      "Percent of column 39 having missing values: 0.0%\n",
      "Percent of column 40 having missing values: 0.0%\n",
      "Percent of column 41 having missing values: 0.0%\n",
      "Percent of column 42 having missing values: 0.0%\n",
      "Percent of column 43 having missing values: 0.0%\n",
      "Percent of column 44 having missing values: 0.0%\n",
      "Percent of column 45 having missing values: 0.0%\n",
      "Percent of column 46 having missing values: 0.0%\n"
     ]
    }
   ],
   "source": [
    "for i in np.arange(np.shape(X_nums)[1]):\n",
    "    print(\"Percent of column {} having missing values: {}%\".format(i,round(100*(np.count_nonzero(np.isnan(X_nums[:,i]))/np.shape(X_nums[:,i])[0]),2)))"
   ]
  },
  {
   "cell_type": "code",
   "execution_count": 23,
   "metadata": {},
   "outputs": [],
   "source": [
    "# For mapping X_train and X_test values to the missing and non-missing categorical targets for imputing\n",
    "cont_to_impute = list(np.where(continents==''))\n",
    "months_to_impute = list(np.where(months==''))\n",
    "days_to_impute = list(np.where(days==''))"
   ]
  },
  {
   "cell_type": "code",
   "execution_count": null,
   "metadata": {},
   "outputs": [],
   "source": [
    "# y_train_continents = np.delete(continents, cont_to_impute, axis=0)\n",
    "# y_train_months = np.delete(months, months_to_impute, axis=0)\n",
    "# y_train_days = np.delete(days, days_to_impute, axis=0)\n",
    "\n",
    "# y_test_continents = continents[cont_to_impute]\n",
    "# y_test_months = months[months_to_impute]\n",
    "# y_test_days = days[days_to_impute]"
   ]
  },
  {
   "cell_type": "code",
   "execution_count": 588,
   "metadata": {},
   "outputs": [],
   "source": [
    "# y_train_continents = continents[continents!='']\n",
    "# y_train_months = months[months!='']\n",
    "# y_train_days = days[days!='']\n",
    "\n",
    "# y_test_continents = continents[continents=='']\n",
    "# y_test_months = months[months=='']\n",
    "# y_test_days = days[days=='']"
   ]
  },
  {
   "cell_type": "markdown",
   "metadata": {},
   "source": [
    "# Encoding categorical data to numeric using dictionaries"
   ]
  },
  {
   "cell_type": "code",
   "execution_count": 24,
   "metadata": {},
   "outputs": [],
   "source": [
    "import string\n",
    "from collections import Counter\n",
    "\n",
    "continent_dict = Counter()\n",
    "month_dict = Counter()\n",
    "day_dict = Counter()\n",
    "\n",
    "for continent in np.delete(continents, cont_to_impute, axis=0):\n",
    "    continent_dict[continent]+=1\n",
    "\n",
    "for month in np.delete(months, months_to_impute, axis=0):\n",
    "    month_dict[month]+=1\n",
    "\n",
    "for day in np.delete(days, days_to_impute, axis=0):\n",
    "    day_dict[day]+=1\n",
    "\n",
    "continent_map = dict(enumerate(continent_dict.keys(),1))\n",
    "month_map = dict(enumerate(month_dict.keys(),1))\n",
    "day_map = dict(enumerate(day_dict.keys(),1))\n",
    "\n",
    "reverse_continent_map = dict([(value, key) for (key, value) in continent_map.items()])\n",
    "reverse_month_map = dict([(value, key) for (key, value) in month_map.items()])\n",
    "reverse_day_map = dict([(value, key) for (key, value) in day_map.items()])\n",
    "\n",
    "# encoded_continents = np.vectorize(reverse_continent_map.get)(y_train_continents)\n",
    "# encoded_months = np.vectorize(reverse_month_map.get)(y_train_months)\n",
    "# encoded_days = np.vectorize(reverse_day_map.get)(y_train_days)\n",
    "\n",
    "# y_train_cont_final = encoded_continents\n",
    "# y_train_month_final = encoded_months\n",
    "# y_train_day_final = encoded_days"
   ]
  },
  {
   "cell_type": "code",
   "execution_count": 25,
   "metadata": {},
   "outputs": [],
   "source": [
    "continents[continents!=''] = np.vectorize(reverse_continent_map.get)(continents[continents!=''])\n",
    "months[months!=''] = np.vectorize(reverse_month_map.get)(months[months!=''])\n",
    "days[days!=''] = np.vectorize(reverse_day_map.get)(days[days!=''])"
   ]
  },
  {
   "cell_type": "code",
   "execution_count": 26,
   "metadata": {},
   "outputs": [],
   "source": [
    "X_train_continents = np.delete(X_nums, cont_to_impute, axis=0)\n",
    "X_train_months = np.delete(X_nums, months_to_impute, axis=0)\n",
    "X_train_days = np.delete(X_nums, days_to_impute, axis=0)\n",
    "\n",
    "# X_test_continents = X_nums[cont_to_impute,:]\n",
    "# X_test_months = X_nums[months_to_impute,:]\n",
    "# X_test_days = X_nums[days_to_impute,:]\n",
    "\n",
    "X_test_continents = X_nums[cont_to_impute]\n",
    "X_test_months = X_nums[months_to_impute]\n",
    "X_test_days = X_nums[days_to_impute]"
   ]
  },
  {
   "cell_type": "code",
   "execution_count": 27,
   "metadata": {},
   "outputs": [],
   "source": [
    "from sklearn.neighbors import KNeighborsClassifier\n",
    "neigh = KNeighborsClassifier(n_neighbors=3)"
   ]
  },
  {
   "cell_type": "markdown",
   "metadata": {},
   "source": [
    "## Imputing Continents"
   ]
  },
  {
   "cell_type": "code",
   "execution_count": 28,
   "metadata": {},
   "outputs": [],
   "source": [
    "neigh.fit(X_train_continents, continents[continents!=''])\n",
    "continents[continents==''] = neigh.predict(X_test_continents)"
   ]
  },
  {
   "cell_type": "code",
   "execution_count": 29,
   "metadata": {},
   "outputs": [
    {
     "data": {
      "text/plain": [
       "array([], dtype='<U5')"
      ]
     },
     "execution_count": 29,
     "metadata": {},
     "output_type": "execute_result"
    }
   ],
   "source": [
    "continents[continents=='']"
   ]
  },
  {
   "cell_type": "code",
   "execution_count": 30,
   "metadata": {},
   "outputs": [],
   "source": [
    "continents = continents.astype('float64')"
   ]
  },
  {
   "cell_type": "code",
   "execution_count": 31,
   "metadata": {},
   "outputs": [
    {
     "data": {
      "text/plain": [
       "array([1., 2., 2., ..., 2., 2., 2.])"
      ]
     },
     "execution_count": 31,
     "metadata": {},
     "output_type": "execute_result"
    }
   ],
   "source": [
    "continents"
   ]
  },
  {
   "cell_type": "markdown",
   "metadata": {},
   "source": [
    "## Imputing Months"
   ]
  },
  {
   "cell_type": "code",
   "execution_count": 32,
   "metadata": {},
   "outputs": [],
   "source": [
    "neigh.fit(X_train_months, months[months!=''])\n",
    "months[months==''] = neigh.predict(X_test_months)"
   ]
  },
  {
   "cell_type": "code",
   "execution_count": 33,
   "metadata": {},
   "outputs": [
    {
     "data": {
      "text/plain": [
       "array([], dtype='<U5')"
      ]
     },
     "execution_count": 33,
     "metadata": {},
     "output_type": "execute_result"
    }
   ],
   "source": [
    "months[months=='']"
   ]
  },
  {
   "cell_type": "code",
   "execution_count": 34,
   "metadata": {},
   "outputs": [],
   "source": [
    "months = months.astype('float64')"
   ]
  },
  {
   "cell_type": "code",
   "execution_count": 35,
   "metadata": {},
   "outputs": [
    {
     "data": {
      "text/plain": [
       "array([1., 2., 1., ..., 3., 4., 2.])"
      ]
     },
     "execution_count": 35,
     "metadata": {},
     "output_type": "execute_result"
    }
   ],
   "source": [
    "months"
   ]
  },
  {
   "cell_type": "markdown",
   "metadata": {},
   "source": [
    "## Imputing Days"
   ]
  },
  {
   "cell_type": "code",
   "execution_count": 36,
   "metadata": {},
   "outputs": [],
   "source": [
    "neigh.fit(X_train_days, days[days!=''])\n",
    "days[days==''] = neigh.predict(X_test_days)"
   ]
  },
  {
   "cell_type": "code",
   "execution_count": 37,
   "metadata": {},
   "outputs": [
    {
     "data": {
      "text/plain": [
       "array([], dtype='<U5')"
      ]
     },
     "execution_count": 37,
     "metadata": {},
     "output_type": "execute_result"
    }
   ],
   "source": [
    "days[days=='']"
   ]
  },
  {
   "cell_type": "code",
   "execution_count": 38,
   "metadata": {},
   "outputs": [],
   "source": [
    "days = days.astype('float64')"
   ]
  },
  {
   "cell_type": "code",
   "execution_count": 39,
   "metadata": {},
   "outputs": [
    {
     "data": {
      "text/plain": [
       "array([1., 2., 2., ..., 2., 2., 1.])"
      ]
     },
     "execution_count": 39,
     "metadata": {},
     "output_type": "execute_result"
    }
   ],
   "source": [
    "days"
   ]
  },
  {
   "cell_type": "markdown",
   "metadata": {},
   "source": [
    "## Add the categorical-encoded data to the numeric data"
   ]
  },
  {
   "cell_type": "code",
   "execution_count": 41,
   "metadata": {},
   "outputs": [],
   "source": [
    "X_new = np.hstack((X_nums, continents.reshape(160000,1), months.reshape(160000,1), days.reshape(160000,1)))"
   ]
  },
  {
   "cell_type": "code",
   "execution_count": 42,
   "metadata": {},
   "outputs": [
    {
     "data": {
      "text/plain": [
       "(160000, 50)"
      ]
     },
     "execution_count": 42,
     "metadata": {},
     "output_type": "execute_result"
    }
   ],
   "source": [
    "np.shape(X_new)"
   ]
  },
  {
   "cell_type": "code",
   "execution_count": 43,
   "metadata": {},
   "outputs": [
    {
     "data": {
      "text/plain": [
       "(160000,)"
      ]
     },
     "execution_count": 43,
     "metadata": {},
     "output_type": "execute_result"
    }
   ],
   "source": [
    "np.shape(y)"
   ]
  },
  {
   "cell_type": "code",
   "execution_count": 44,
   "metadata": {},
   "outputs": [
    {
     "data": {
      "text/plain": [
       "Series([], Name: y, dtype: int64)"
      ]
     },
     "execution_count": 44,
     "metadata": {},
     "output_type": "execute_result"
    }
   ],
   "source": [
    "y[np.isnan(y)]"
   ]
  },
  {
   "cell_type": "code",
   "execution_count": 45,
   "metadata": {},
   "outputs": [
    {
     "data": {
      "text/plain": [
       "array([0, 1])"
      ]
     },
     "execution_count": 45,
     "metadata": {},
     "output_type": "execute_result"
    }
   ],
   "source": [
    "np.unique(y)"
   ]
  }
 ],
 "metadata": {
  "kernelspec": {
   "display_name": "Python 3",
   "language": "python",
   "name": "python3"
  },
  "language_info": {
   "codemirror_mode": {
    "name": "ipython",
    "version": 3
   },
   "file_extension": ".py",
   "mimetype": "text/x-python",
   "name": "python",
   "nbconvert_exporter": "python",
   "pygments_lexer": "ipython3",
   "version": "3.7.7-final"
  }
 },
 "nbformat": 4,
 "nbformat_minor": 4
}