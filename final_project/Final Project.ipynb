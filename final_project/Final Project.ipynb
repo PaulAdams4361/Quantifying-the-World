{
 "cells": [
  {
   "cell_type": "markdown",
   "metadata": {},
   "source": [
    "## The Objective\n",
    "\n",
    "The objective is to minimize the customer's monetary loss using machine learning techniques. The customer is currently experiencing a 25.00 dollar loss for each false positive prediction and a loss of 125.00 dollars for false negative predictions. Our goal in this scenario is to generate a model that minimizes the cost of doing business and provide adequate justifications for the decisions made in the final model.\n",
    "\n",
    "## The Dataset\n",
    "\n",
    "The dataset features 160,000 records, 50 features, and a binary target variable. The dataset does not come with any metadata at all, so we must rely strictly on the interpretations of each feature and discover relationships between the features that help to meet the overall objective of minimizing costs for the customer."
   ]
  },
  {
   "cell_type": "markdown",
   "metadata": {},
   "source": [
    "## Methods\n",
    "\n",
    "### Data Cleaning\n",
    "\n",
    "The data are mostly clean, with the exception of five features that required mild transformations to make them machine readable. An example of the formatting of these features is provided.\n",
    "\n",
    "|          | x24 | x29 | x30 | x32 | x37 |\n",
    "|----------|--------|--------|--------|--------|--------|\n",
    "| Data Type | object | object | object | object | object |\n",
    "| Data Example | asia | July | wednesday | 0.01% | $287.14 |\n",
    "\n",
    "Features x32 and x37 were transformed into a numeric format by simply removing the non_numeric characters. Features x24, x29, and x30 were transformed into a numeric format using SciKit-Learn's LabelEncoder\\footnotemark.\n",
    "\n",
    "\\footnotetext{https://scikit-learn.org/stable/modules/impute.html}\n",
    "\n",
    "### Data Imputation\n",
    "\n",
    "The dataset contains missing values that were judged to be missing at random. Missing values were imputed using SciKit-Learn's KNNImputer with the `n_neighbors` parameter set to three\\footnotemark.\n",
    "\n",
    "\\footnotetext{https://scikit-learn.org/stable/modules/generated/sklearn.preprocessing.LabelEncoder.html}\n"
   ]
  },
  {
   "cell_type": "markdown",
   "metadata": {},
   "source": [
    "### Modeling\n",
    "\n",
    "#### Recursive Feature Selection\n",
    "\n",
    "A baseline Logistic Regression model was built using Recursive Feature Selection to first determine an ideal number of features that emphasizes overall accuracy. Although accuracy appears to plateau after 10 features, our objective is to limit the financial loss to the customer, so as many features as are empirically necessary to limit this financial loss will be used. This procedure determined that the training and test sets could be limited to 45 out of the 50 features in the given dataset.\n",
    "\n",
    "![Recursive Feature Selection](./feature_selection.png)"
   ]
  },
  {
   "cell_type": "markdown",
   "metadata": {},
   "source": [
    "#### Hyperparameter Tuning\n",
    "\n",
    "To complete the baseline model, a randomized grid search was conducted to find the best C value and regularization term\\footnotemark. \n",
    "\n",
    "|          |     C    | Regularization | Number of Features | \n",
    "|----------|----------|----------------|--------------------|\n",
    "| baseline |  0.3712  |   `l2`    |    45     |\n",
    "\n",
    "\n",
    "\\footnotetext{https://scikit-learn.org/stable/modules/generated/sklearn.model_selection.RandomizedSearchCV.html}\n"
   ]
  },
  {
   "cell_type": "markdown",
   "metadata": {},
   "source": [
    "## Results\n",
    "\n",
    "\n",
    "| Model | False Negatives | False Positives | Estimated Loss | \n",
    "|-------|-----------------|-----------------|----------------|\n",
    "| Baseline | 6090 | 3428 | $846,950.00 |"
   ]
  },
  {
   "cell_type": "markdown",
   "metadata": {},
   "source": [
    "## Code"
   ]
  },
  {
   "cell_type": "code",
   "execution_count": 1,
   "metadata": {},
   "outputs": [],
   "source": [
    "import pandas as pd \n",
    "import numpy as np\n",
    "import matplotlib.pyplot as plt \n",
    "import seaborn as sns\n",
    "from sklearn.model_selection import train_test_split\n",
    "\n",
    "# pd.options.display.max_columns = 100\n",
    "random_state = 42"
   ]
  },
  {
   "cell_type": "code",
   "execution_count": 2,
   "metadata": {},
   "outputs": [
    {
     "data": {
      "text/html": [
       "<div>\n",
       "<style scoped>\n",
       "    .dataframe tbody tr th:only-of-type {\n",
       "        vertical-align: middle;\n",
       "    }\n",
       "\n",
       "    .dataframe tbody tr th {\n",
       "        vertical-align: top;\n",
       "    }\n",
       "\n",
       "    .dataframe thead th {\n",
       "        text-align: right;\n",
       "    }\n",
       "</style>\n",
       "<table border=\"1\" class=\"dataframe\">\n",
       "  <thead>\n",
       "    <tr style=\"text-align: right;\">\n",
       "      <th></th>\n",
       "      <th>x0</th>\n",
       "      <th>x1</th>\n",
       "      <th>x2</th>\n",
       "      <th>x3</th>\n",
       "      <th>x4</th>\n",
       "      <th>x5</th>\n",
       "      <th>x6</th>\n",
       "      <th>x7</th>\n",
       "      <th>x8</th>\n",
       "      <th>x9</th>\n",
       "      <th>...</th>\n",
       "      <th>x41</th>\n",
       "      <th>x42</th>\n",
       "      <th>x43</th>\n",
       "      <th>x44</th>\n",
       "      <th>x45</th>\n",
       "      <th>x46</th>\n",
       "      <th>x47</th>\n",
       "      <th>x48</th>\n",
       "      <th>x49</th>\n",
       "      <th>y</th>\n",
       "    </tr>\n",
       "  </thead>\n",
       "  <tbody>\n",
       "    <tr>\n",
       "      <th>0</th>\n",
       "      <td>-0.166563</td>\n",
       "      <td>-3.961588</td>\n",
       "      <td>4.621113</td>\n",
       "      <td>2.481908</td>\n",
       "      <td>-1.800135</td>\n",
       "      <td>0.804684</td>\n",
       "      <td>6.718751</td>\n",
       "      <td>-14.789997</td>\n",
       "      <td>-1.040673</td>\n",
       "      <td>-4.204950</td>\n",
       "      <td>...</td>\n",
       "      <td>-1.497117</td>\n",
       "      <td>5.414063</td>\n",
       "      <td>-2.325655</td>\n",
       "      <td>1.674827</td>\n",
       "      <td>-0.264332</td>\n",
       "      <td>60.781427</td>\n",
       "      <td>-7.689696</td>\n",
       "      <td>0.151589</td>\n",
       "      <td>-8.040166</td>\n",
       "      <td>0</td>\n",
       "    </tr>\n",
       "    <tr>\n",
       "      <th>1</th>\n",
       "      <td>-0.149894</td>\n",
       "      <td>-0.585676</td>\n",
       "      <td>27.839856</td>\n",
       "      <td>4.152333</td>\n",
       "      <td>6.426802</td>\n",
       "      <td>-2.426943</td>\n",
       "      <td>40.477058</td>\n",
       "      <td>-6.725709</td>\n",
       "      <td>0.896421</td>\n",
       "      <td>0.330165</td>\n",
       "      <td>...</td>\n",
       "      <td>36.292790</td>\n",
       "      <td>4.490915</td>\n",
       "      <td>0.762561</td>\n",
       "      <td>6.526662</td>\n",
       "      <td>1.007927</td>\n",
       "      <td>15.805696</td>\n",
       "      <td>-4.896678</td>\n",
       "      <td>-0.320283</td>\n",
       "      <td>16.719974</td>\n",
       "      <td>0</td>\n",
       "    </tr>\n",
       "    <tr>\n",
       "      <th>2</th>\n",
       "      <td>-0.321707</td>\n",
       "      <td>-1.429819</td>\n",
       "      <td>12.251561</td>\n",
       "      <td>6.586874</td>\n",
       "      <td>-5.304647</td>\n",
       "      <td>-11.311090</td>\n",
       "      <td>17.812850</td>\n",
       "      <td>11.060572</td>\n",
       "      <td>5.325880</td>\n",
       "      <td>-2.632984</td>\n",
       "      <td>...</td>\n",
       "      <td>-0.368491</td>\n",
       "      <td>9.088864</td>\n",
       "      <td>-0.689886</td>\n",
       "      <td>-2.731118</td>\n",
       "      <td>0.754200</td>\n",
       "      <td>30.856417</td>\n",
       "      <td>-7.428573</td>\n",
       "      <td>-2.090804</td>\n",
       "      <td>-7.869421</td>\n",
       "      <td>0</td>\n",
       "    </tr>\n",
       "    <tr>\n",
       "      <th>3</th>\n",
       "      <td>-0.245594</td>\n",
       "      <td>5.076677</td>\n",
       "      <td>-24.149632</td>\n",
       "      <td>3.637307</td>\n",
       "      <td>6.505811</td>\n",
       "      <td>2.290224</td>\n",
       "      <td>-35.111751</td>\n",
       "      <td>-18.913592</td>\n",
       "      <td>-0.337041</td>\n",
       "      <td>-5.568076</td>\n",
       "      <td>...</td>\n",
       "      <td>15.691546</td>\n",
       "      <td>-7.467775</td>\n",
       "      <td>2.940789</td>\n",
       "      <td>-6.424112</td>\n",
       "      <td>0.419776</td>\n",
       "      <td>-72.424569</td>\n",
       "      <td>5.361375</td>\n",
       "      <td>1.806070</td>\n",
       "      <td>-7.670847</td>\n",
       "      <td>0</td>\n",
       "    </tr>\n",
       "    <tr>\n",
       "      <th>4</th>\n",
       "      <td>-0.273366</td>\n",
       "      <td>0.306326</td>\n",
       "      <td>-11.352593</td>\n",
       "      <td>1.676758</td>\n",
       "      <td>2.928441</td>\n",
       "      <td>-0.616824</td>\n",
       "      <td>-16.505817</td>\n",
       "      <td>27.532281</td>\n",
       "      <td>1.199715</td>\n",
       "      <td>-4.309105</td>\n",
       "      <td>...</td>\n",
       "      <td>-13.911297</td>\n",
       "      <td>-5.229937</td>\n",
       "      <td>1.783928</td>\n",
       "      <td>3.957801</td>\n",
       "      <td>-0.096988</td>\n",
       "      <td>-14.085435</td>\n",
       "      <td>-0.208351</td>\n",
       "      <td>-0.894942</td>\n",
       "      <td>15.724742</td>\n",
       "      <td>1</td>\n",
       "    </tr>\n",
       "  </tbody>\n",
       "</table>\n",
       "<p>5 rows × 51 columns</p>\n",
       "</div>"
      ],
      "text/plain": [
       "         x0        x1         x2        x3        x4         x5         x6  \\\n",
       "0 -0.166563 -3.961588   4.621113  2.481908 -1.800135   0.804684   6.718751   \n",
       "1 -0.149894 -0.585676  27.839856  4.152333  6.426802  -2.426943  40.477058   \n",
       "2 -0.321707 -1.429819  12.251561  6.586874 -5.304647 -11.311090  17.812850   \n",
       "3 -0.245594  5.076677 -24.149632  3.637307  6.505811   2.290224 -35.111751   \n",
       "4 -0.273366  0.306326 -11.352593  1.676758  2.928441  -0.616824 -16.505817   \n",
       "\n",
       "          x7        x8        x9  ...        x41       x42       x43  \\\n",
       "0 -14.789997 -1.040673 -4.204950  ...  -1.497117  5.414063 -2.325655   \n",
       "1  -6.725709  0.896421  0.330165  ...  36.292790  4.490915  0.762561   \n",
       "2  11.060572  5.325880 -2.632984  ...  -0.368491  9.088864 -0.689886   \n",
       "3 -18.913592 -0.337041 -5.568076  ...  15.691546 -7.467775  2.940789   \n",
       "4  27.532281  1.199715 -4.309105  ... -13.911297 -5.229937  1.783928   \n",
       "\n",
       "        x44       x45        x46       x47       x48        x49  y  \n",
       "0  1.674827 -0.264332  60.781427 -7.689696  0.151589  -8.040166  0  \n",
       "1  6.526662  1.007927  15.805696 -4.896678 -0.320283  16.719974  0  \n",
       "2 -2.731118  0.754200  30.856417 -7.428573 -2.090804  -7.869421  0  \n",
       "3 -6.424112  0.419776 -72.424569  5.361375  1.806070  -7.670847  0  \n",
       "4  3.957801 -0.096988 -14.085435 -0.208351 -0.894942  15.724742  1  \n",
       "\n",
       "[5 rows x 51 columns]"
      ]
     },
     "execution_count": 2,
     "metadata": {},
     "output_type": "execute_result"
    }
   ],
   "source": [
    "data = pd.read_csv('./final_project.csv')\n",
    "data.head()"
   ]
  },
  {
   "cell_type": "code",
   "execution_count": 3,
   "metadata": {},
   "outputs": [
    {
     "name": "stdout",
     "output_type": "stream",
     "text": [
      "X_train:  (128000, 50) \n",
      "y_train:  (128000,) \n",
      "X_test:  (32000, 50) \n",
      "y_test:  (32000,)\n"
     ]
    }
   ],
   "source": [
    "y = data['y']\n",
    "X = data.drop(['y'], axis=1)\n",
    "X_train, X_test, y_train, y_test = train_test_split(X, y, test_size=0.2, random_state=random_state, stratify=y)\n",
    "print('X_train: ', X_train.shape,\n",
    "      '\\ny_train: ', y_train.shape,\n",
    "      '\\nX_test: ', X_test.shape,\n",
    "      '\\ny_test: ', y_test.shape)"
   ]
  },
  {
   "cell_type": "code",
   "execution_count": 4,
   "metadata": {},
   "outputs": [
    {
     "data": {
      "text/html": [
       "<div>\n",
       "<style scoped>\n",
       "    .dataframe tbody tr th:only-of-type {\n",
       "        vertical-align: middle;\n",
       "    }\n",
       "\n",
       "    .dataframe tbody tr th {\n",
       "        vertical-align: top;\n",
       "    }\n",
       "\n",
       "    .dataframe thead th {\n",
       "        text-align: right;\n",
       "    }\n",
       "</style>\n",
       "<table border=\"1\" class=\"dataframe\">\n",
       "  <thead>\n",
       "    <tr style=\"text-align: right;\">\n",
       "      <th></th>\n",
       "      <th>x0</th>\n",
       "      <th>x1</th>\n",
       "      <th>x2</th>\n",
       "      <th>x3</th>\n",
       "      <th>x4</th>\n",
       "      <th>x5</th>\n",
       "      <th>x6</th>\n",
       "      <th>x7</th>\n",
       "      <th>x8</th>\n",
       "      <th>x9</th>\n",
       "      <th>...</th>\n",
       "      <th>x40</th>\n",
       "      <th>x41</th>\n",
       "      <th>x42</th>\n",
       "      <th>x43</th>\n",
       "      <th>x44</th>\n",
       "      <th>x45</th>\n",
       "      <th>x46</th>\n",
       "      <th>x47</th>\n",
       "      <th>x48</th>\n",
       "      <th>x49</th>\n",
       "    </tr>\n",
       "  </thead>\n",
       "  <tbody>\n",
       "    <tr>\n",
       "      <th>count</th>\n",
       "      <td>127982.000000</td>\n",
       "      <td>127981.000000</td>\n",
       "      <td>127972.000000</td>\n",
       "      <td>127970.000000</td>\n",
       "      <td>127983.000000</td>\n",
       "      <td>127969.000000</td>\n",
       "      <td>127979.000000</td>\n",
       "      <td>127975.000000</td>\n",
       "      <td>127981.000000</td>\n",
       "      <td>127974.000000</td>\n",
       "      <td>...</td>\n",
       "      <td>127975.000000</td>\n",
       "      <td>127968.000000</td>\n",
       "      <td>127980.000000</td>\n",
       "      <td>127971.000000</td>\n",
       "      <td>127968.000000</td>\n",
       "      <td>127979.000000</td>\n",
       "      <td>127976.000000</td>\n",
       "      <td>127972.000000</td>\n",
       "      <td>127971.000000</td>\n",
       "      <td>127973.000000</td>\n",
       "    </tr>\n",
       "    <tr>\n",
       "      <th>mean</th>\n",
       "      <td>-0.000233</td>\n",
       "      <td>0.015927</td>\n",
       "      <td>-1.137009</td>\n",
       "      <td>-0.030134</td>\n",
       "      <td>-0.005189</td>\n",
       "      <td>0.017988</td>\n",
       "      <td>-1.650412</td>\n",
       "      <td>-7.632300</td>\n",
       "      <td>-0.036771</td>\n",
       "      <td>0.013169</td>\n",
       "      <td>...</td>\n",
       "      <td>-2.280161</td>\n",
       "      <td>6.696548</td>\n",
       "      <td>-1.823620</td>\n",
       "      <td>-0.004985</td>\n",
       "      <td>-0.007610</td>\n",
       "      <td>0.000887</td>\n",
       "      <td>-12.757091</td>\n",
       "      <td>0.021462</td>\n",
       "      <td>0.000821</td>\n",
       "      <td>-0.664870</td>\n",
       "    </tr>\n",
       "    <tr>\n",
       "      <th>std</th>\n",
       "      <td>0.371378</td>\n",
       "      <td>6.338409</td>\n",
       "      <td>13.287193</td>\n",
       "      <td>8.067211</td>\n",
       "      <td>6.381621</td>\n",
       "      <td>7.673899</td>\n",
       "      <td>19.318144</td>\n",
       "      <td>30.583165</td>\n",
       "      <td>8.898180</td>\n",
       "      <td>6.347198</td>\n",
       "      <td>...</td>\n",
       "      <td>17.047011</td>\n",
       "      <td>18.697780</td>\n",
       "      <td>5.106297</td>\n",
       "      <td>1.534255</td>\n",
       "      <td>4.157975</td>\n",
       "      <td>0.396842</td>\n",
       "      <td>36.606157</td>\n",
       "      <td>4.794483</td>\n",
       "      <td>1.936761</td>\n",
       "      <td>15.055081</td>\n",
       "    </tr>\n",
       "    <tr>\n",
       "      <th>min</th>\n",
       "      <td>-1.592635</td>\n",
       "      <td>-26.053979</td>\n",
       "      <td>-59.394048</td>\n",
       "      <td>-33.864827</td>\n",
       "      <td>-28.467536</td>\n",
       "      <td>-33.822988</td>\n",
       "      <td>-86.354483</td>\n",
       "      <td>-181.506976</td>\n",
       "      <td>-37.691045</td>\n",
       "      <td>-27.980659</td>\n",
       "      <td>...</td>\n",
       "      <td>-74.059196</td>\n",
       "      <td>-82.167224</td>\n",
       "      <td>-27.933750</td>\n",
       "      <td>-6.876234</td>\n",
       "      <td>-17.983487</td>\n",
       "      <td>-1.753221</td>\n",
       "      <td>-201.826828</td>\n",
       "      <td>-21.086333</td>\n",
       "      <td>-8.490155</td>\n",
       "      <td>-65.791191</td>\n",
       "    </tr>\n",
       "    <tr>\n",
       "      <th>25%</th>\n",
       "      <td>-0.250854</td>\n",
       "      <td>-4.239255</td>\n",
       "      <td>-10.166609</td>\n",
       "      <td>-5.459399</td>\n",
       "      <td>-4.315710</td>\n",
       "      <td>-5.153559</td>\n",
       "      <td>-14.779614</td>\n",
       "      <td>-27.238063</td>\n",
       "      <td>-6.036748</td>\n",
       "      <td>-4.248533</td>\n",
       "      <td>...</td>\n",
       "      <td>-13.918753</td>\n",
       "      <td>-5.804080</td>\n",
       "      <td>-5.147121</td>\n",
       "      <td>-1.041030</td>\n",
       "      <td>-2.808371</td>\n",
       "      <td>-0.266998</td>\n",
       "      <td>-36.444478</td>\n",
       "      <td>-3.232455</td>\n",
       "      <td>-1.322622</td>\n",
       "      <td>-10.937141</td>\n",
       "    </tr>\n",
       "    <tr>\n",
       "      <th>50%</th>\n",
       "      <td>-0.001322</td>\n",
       "      <td>0.028105</td>\n",
       "      <td>-1.312739</td>\n",
       "      <td>-0.031448</td>\n",
       "      <td>0.009683</td>\n",
       "      <td>0.028314</td>\n",
       "      <td>-1.905278</td>\n",
       "      <td>-6.873548</td>\n",
       "      <td>-0.014964</td>\n",
       "      <td>0.004454</td>\n",
       "      <td>...</td>\n",
       "      <td>-2.672047</td>\n",
       "      <td>6.824208</td>\n",
       "      <td>-1.917862</td>\n",
       "      <td>-0.007160</td>\n",
       "      <td>-0.010351</td>\n",
       "      <td>0.001770</td>\n",
       "      <td>-12.977831</td>\n",
       "      <td>0.021841</td>\n",
       "      <td>-0.012518</td>\n",
       "      <td>-0.572639</td>\n",
       "    </tr>\n",
       "    <tr>\n",
       "      <th>75%</th>\n",
       "      <td>0.249459</td>\n",
       "      <td>4.291164</td>\n",
       "      <td>7.865764</td>\n",
       "      <td>5.429540</td>\n",
       "      <td>4.298284</td>\n",
       "      <td>5.196676</td>\n",
       "      <td>11.439981</td>\n",
       "      <td>12.284980</td>\n",
       "      <td>5.957489</td>\n",
       "      <td>4.302156</td>\n",
       "      <td>...</td>\n",
       "      <td>9.000087</td>\n",
       "      <td>19.273821</td>\n",
       "      <td>1.465863</td>\n",
       "      <td>1.029794</td>\n",
       "      <td>2.777005</td>\n",
       "      <td>0.268573</td>\n",
       "      <td>11.484705</td>\n",
       "      <td>3.266336</td>\n",
       "      <td>1.319282</td>\n",
       "      <td>9.679463</td>\n",
       "    </tr>\n",
       "    <tr>\n",
       "      <th>max</th>\n",
       "      <td>1.600849</td>\n",
       "      <td>27.988178</td>\n",
       "      <td>57.908998</td>\n",
       "      <td>38.906025</td>\n",
       "      <td>26.247812</td>\n",
       "      <td>35.550110</td>\n",
       "      <td>84.195332</td>\n",
       "      <td>149.150634</td>\n",
       "      <td>39.049831</td>\n",
       "      <td>27.377842</td>\n",
       "      <td>...</td>\n",
       "      <td>88.824477</td>\n",
       "      <td>100.050432</td>\n",
       "      <td>22.668041</td>\n",
       "      <td>6.441093</td>\n",
       "      <td>17.007392</td>\n",
       "      <td>1.669205</td>\n",
       "      <td>150.859415</td>\n",
       "      <td>20.836854</td>\n",
       "      <td>8.206509</td>\n",
       "      <td>66.877604</td>\n",
       "    </tr>\n",
       "  </tbody>\n",
       "</table>\n",
       "<p>8 rows × 45 columns</p>\n",
       "</div>"
      ],
      "text/plain": [
       "                  x0             x1             x2             x3  \\\n",
       "count  127982.000000  127981.000000  127972.000000  127970.000000   \n",
       "mean       -0.000233       0.015927      -1.137009      -0.030134   \n",
       "std         0.371378       6.338409      13.287193       8.067211   \n",
       "min        -1.592635     -26.053979     -59.394048     -33.864827   \n",
       "25%        -0.250854      -4.239255     -10.166609      -5.459399   \n",
       "50%        -0.001322       0.028105      -1.312739      -0.031448   \n",
       "75%         0.249459       4.291164       7.865764       5.429540   \n",
       "max         1.600849      27.988178      57.908998      38.906025   \n",
       "\n",
       "                  x4             x5             x6             x7  \\\n",
       "count  127983.000000  127969.000000  127979.000000  127975.000000   \n",
       "mean       -0.005189       0.017988      -1.650412      -7.632300   \n",
       "std         6.381621       7.673899      19.318144      30.583165   \n",
       "min       -28.467536     -33.822988     -86.354483    -181.506976   \n",
       "25%        -4.315710      -5.153559     -14.779614     -27.238063   \n",
       "50%         0.009683       0.028314      -1.905278      -6.873548   \n",
       "75%         4.298284       5.196676      11.439981      12.284980   \n",
       "max        26.247812      35.550110      84.195332     149.150634   \n",
       "\n",
       "                  x8             x9  ...            x40            x41  \\\n",
       "count  127981.000000  127974.000000  ...  127975.000000  127968.000000   \n",
       "mean       -0.036771       0.013169  ...      -2.280161       6.696548   \n",
       "std         8.898180       6.347198  ...      17.047011      18.697780   \n",
       "min       -37.691045     -27.980659  ...     -74.059196     -82.167224   \n",
       "25%        -6.036748      -4.248533  ...     -13.918753      -5.804080   \n",
       "50%        -0.014964       0.004454  ...      -2.672047       6.824208   \n",
       "75%         5.957489       4.302156  ...       9.000087      19.273821   \n",
       "max        39.049831      27.377842  ...      88.824477     100.050432   \n",
       "\n",
       "                 x42            x43            x44            x45  \\\n",
       "count  127980.000000  127971.000000  127968.000000  127979.000000   \n",
       "mean       -1.823620      -0.004985      -0.007610       0.000887   \n",
       "std         5.106297       1.534255       4.157975       0.396842   \n",
       "min       -27.933750      -6.876234     -17.983487      -1.753221   \n",
       "25%        -5.147121      -1.041030      -2.808371      -0.266998   \n",
       "50%        -1.917862      -0.007160      -0.010351       0.001770   \n",
       "75%         1.465863       1.029794       2.777005       0.268573   \n",
       "max        22.668041       6.441093      17.007392       1.669205   \n",
       "\n",
       "                 x46            x47            x48            x49  \n",
       "count  127976.000000  127972.000000  127971.000000  127973.000000  \n",
       "mean      -12.757091       0.021462       0.000821      -0.664870  \n",
       "std        36.606157       4.794483       1.936761      15.055081  \n",
       "min      -201.826828     -21.086333      -8.490155     -65.791191  \n",
       "25%       -36.444478      -3.232455      -1.322622     -10.937141  \n",
       "50%       -12.977831       0.021841      -0.012518      -0.572639  \n",
       "75%        11.484705       3.266336       1.319282       9.679463  \n",
       "max       150.859415      20.836854       8.206509      66.877604  \n",
       "\n",
       "[8 rows x 45 columns]"
      ]
     },
     "execution_count": 4,
     "metadata": {},
     "output_type": "execute_result"
    }
   ],
   "source": [
    "# pd.options.display.max_columns = 49\n",
    "X_train.describe()"
   ]
  },
  {
   "cell_type": "code",
   "execution_count": 5,
   "metadata": {},
   "outputs": [
    {
     "name": "stdout",
     "output_type": "stream",
     "text": [
      "x0 :  Train- 18 Test- 8\n",
      "x1 :  Train- 19 Test- 6\n",
      "x2 :  Train- 28 Test- 10\n",
      "x3 :  Train- 30 Test- 7\n",
      "x4 :  Train- 17 Test- 9\n",
      "x5 :  Train- 31 Test- 6\n",
      "x6 :  Train- 21 Test- 5\n",
      "x7 :  Train- 25 Test- 2\n",
      "x8 :  Train- 19 Test- 2\n",
      "x9 :  Train- 26 Test- 4\n",
      "x10 :  Train- 33 Test- 10\n",
      "x11 :  Train- 23 Test- 7\n",
      "x12 :  Train- 31 Test- 5\n",
      "x13 :  Train- 26 Test- 5\n",
      "x14 :  Train- 29 Test- 5\n",
      "x15 :  Train- 29 Test- 6\n",
      "x16 :  Train- 19 Test- 7\n",
      "x17 :  Train- 19 Test- 8\n",
      "x18 :  Train- 35 Test- 5\n",
      "x19 :  Train- 24 Test- 11\n",
      "x20 :  Train- 34 Test- 4\n",
      "x21 :  Train- 21 Test- 8\n",
      "x22 :  Train- 21 Test- 6\n",
      "x23 :  Train- 38 Test- 9\n",
      "x24 :  Train- 24 Test- 4\n",
      "x25 :  Train- 19 Test- 3\n",
      "x26 :  Train- 28 Test- 8\n",
      "x27 :  Train- 26 Test- 4\n",
      "x28 :  Train- 29 Test- 6\n",
      "x29 :  Train- 19 Test- 11\n",
      "x30 :  Train- 23 Test- 7\n",
      "x31 :  Train- 34 Test- 5\n",
      "x32 :  Train- 26 Test- 5\n",
      "x33 :  Train- 35 Test- 6\n",
      "x34 :  Train- 36 Test- 5\n",
      "x35 :  Train- 25 Test- 5\n",
      "x36 :  Train- 21 Test- 6\n",
      "x37 :  Train- 17 Test- 6\n",
      "x38 :  Train- 26 Test- 5\n",
      "x39 :  Train- 16 Test- 7\n",
      "x40 :  Train- 25 Test- 11\n",
      "x41 :  Train- 32 Test- 8\n",
      "x42 :  Train- 20 Test- 6\n",
      "x43 :  Train- 29 Test- 8\n",
      "x44 :  Train- 32 Test- 8\n",
      "x45 :  Train- 21 Test- 8\n",
      "x46 :  Train- 24 Test- 7\n",
      "x47 :  Train- 28 Test- 9\n",
      "x48 :  Train- 29 Test- 3\n",
      "x49 :  Train- 27 Test- 5\n"
     ]
    }
   ],
   "source": [
    "# assess missingness in data\n",
    "names = X_train.columns\n",
    "for i in names:\n",
    "    print(i, ': ', 'Train-', sum(pd.isna(X_train[i])),\n",
    "          'Test-', sum(pd.isna(X_test[i])))"
   ]
  },
  {
   "cell_type": "code",
   "execution_count": 6,
   "metadata": {},
   "outputs": [
    {
     "name": "stdout",
     "output_type": "stream",
     "text": [
      "<class 'pandas.core.frame.DataFrame'>\n",
      "Int64Index: 128000 entries, 111609 to 57443\n",
      "Data columns (total 50 columns):\n",
      " #   Column  Non-Null Count   Dtype  \n",
      "---  ------  --------------   -----  \n",
      " 0   x0      127982 non-null  float64\n",
      " 1   x1      127981 non-null  float64\n",
      " 2   x2      127972 non-null  float64\n",
      " 3   x3      127970 non-null  float64\n",
      " 4   x4      127983 non-null  float64\n",
      " 5   x5      127969 non-null  float64\n",
      " 6   x6      127979 non-null  float64\n",
      " 7   x7      127975 non-null  float64\n",
      " 8   x8      127981 non-null  float64\n",
      " 9   x9      127974 non-null  float64\n",
      " 10  x10     127967 non-null  float64\n",
      " 11  x11     127977 non-null  float64\n",
      " 12  x12     127969 non-null  float64\n",
      " 13  x13     127974 non-null  float64\n",
      " 14  x14     127971 non-null  float64\n",
      " 15  x15     127971 non-null  float64\n",
      " 16  x16     127981 non-null  float64\n",
      " 17  x17     127981 non-null  float64\n",
      " 18  x18     127965 non-null  float64\n",
      " 19  x19     127976 non-null  float64\n",
      " 20  x20     127966 non-null  float64\n",
      " 21  x21     127979 non-null  float64\n",
      " 22  x22     127979 non-null  float64\n",
      " 23  x23     127962 non-null  float64\n",
      " 24  x24     127976 non-null  object \n",
      " 25  x25     127981 non-null  float64\n",
      " 26  x26     127972 non-null  float64\n",
      " 27  x27     127974 non-null  float64\n",
      " 28  x28     127971 non-null  float64\n",
      " 29  x29     127981 non-null  object \n",
      " 30  x30     127977 non-null  object \n",
      " 31  x31     127966 non-null  float64\n",
      " 32  x32     127974 non-null  object \n",
      " 33  x33     127965 non-null  float64\n",
      " 34  x34     127964 non-null  float64\n",
      " 35  x35     127975 non-null  float64\n",
      " 36  x36     127979 non-null  float64\n",
      " 37  x37     127983 non-null  object \n",
      " 38  x38     127974 non-null  float64\n",
      " 39  x39     127984 non-null  float64\n",
      " 40  x40     127975 non-null  float64\n",
      " 41  x41     127968 non-null  float64\n",
      " 42  x42     127980 non-null  float64\n",
      " 43  x43     127971 non-null  float64\n",
      " 44  x44     127968 non-null  float64\n",
      " 45  x45     127979 non-null  float64\n",
      " 46  x46     127976 non-null  float64\n",
      " 47  x47     127972 non-null  float64\n",
      " 48  x48     127971 non-null  float64\n",
      " 49  x49     127973 non-null  float64\n",
      "dtypes: float64(45), object(5)\n",
      "memory usage: 49.8+ MB\n"
     ]
    }
   ],
   "source": [
    "X_train.info()"
   ]
  },
  {
   "cell_type": "code",
   "execution_count": 7,
   "metadata": {},
   "outputs": [
    {
     "data": {
      "text/html": [
       "<div>\n",
       "<style scoped>\n",
       "    .dataframe tbody tr th:only-of-type {\n",
       "        vertical-align: middle;\n",
       "    }\n",
       "\n",
       "    .dataframe tbody tr th {\n",
       "        vertical-align: top;\n",
       "    }\n",
       "\n",
       "    .dataframe thead th {\n",
       "        text-align: right;\n",
       "    }\n",
       "</style>\n",
       "<table border=\"1\" class=\"dataframe\">\n",
       "  <thead>\n",
       "    <tr style=\"text-align: right;\">\n",
       "      <th></th>\n",
       "      <th>x24</th>\n",
       "      <th>x29</th>\n",
       "      <th>x30</th>\n",
       "      <th>x32</th>\n",
       "      <th>x37</th>\n",
       "    </tr>\n",
       "  </thead>\n",
       "  <tbody>\n",
       "    <tr>\n",
       "      <th>111609</th>\n",
       "      <td>asia</td>\n",
       "      <td>Apr</td>\n",
       "      <td>wednesday</td>\n",
       "      <td>-0.0%</td>\n",
       "      <td>$100.73</td>\n",
       "    </tr>\n",
       "    <tr>\n",
       "      <th>3785</th>\n",
       "      <td>asia</td>\n",
       "      <td>May</td>\n",
       "      <td>wednesday</td>\n",
       "      <td>0.01%</td>\n",
       "      <td>$1005.31</td>\n",
       "    </tr>\n",
       "    <tr>\n",
       "      <th>64066</th>\n",
       "      <td>asia</td>\n",
       "      <td>July</td>\n",
       "      <td>wednesday</td>\n",
       "      <td>0.0%</td>\n",
       "      <td>$-1406.52</td>\n",
       "    </tr>\n",
       "    <tr>\n",
       "      <th>103309</th>\n",
       "      <td>asia</td>\n",
       "      <td>Jun</td>\n",
       "      <td>wednesday</td>\n",
       "      <td>0.01%</td>\n",
       "      <td>$-1287.29</td>\n",
       "    </tr>\n",
       "    <tr>\n",
       "      <th>9084</th>\n",
       "      <td>asia</td>\n",
       "      <td>Aug</td>\n",
       "      <td>tuesday</td>\n",
       "      <td>0.02%</td>\n",
       "      <td>$-1670.43</td>\n",
       "    </tr>\n",
       "  </tbody>\n",
       "</table>\n",
       "</div>"
      ],
      "text/plain": [
       "         x24   x29        x30    x32        x37\n",
       "111609  asia   Apr  wednesday  -0.0%    $100.73\n",
       "3785    asia   May  wednesday  0.01%   $1005.31\n",
       "64066   asia  July  wednesday   0.0%  $-1406.52\n",
       "103309  asia   Jun  wednesday  0.01%  $-1287.29\n",
       "9084    asia   Aug    tuesday  0.02%  $-1670.43"
      ]
     },
     "execution_count": 7,
     "metadata": {},
     "output_type": "execute_result"
    }
   ],
   "source": [
    "objects = X_train.select_dtypes(['O'])\n",
    "objects_test = X_test.select_dtypes(['O'])\n",
    "objects.head()"
   ]
  },
  {
   "cell_type": "code",
   "execution_count": 8,
   "metadata": {},
   "outputs": [
    {
     "data": {
      "text/html": [
       "<div>\n",
       "<style scoped>\n",
       "    .dataframe tbody tr th:only-of-type {\n",
       "        vertical-align: middle;\n",
       "    }\n",
       "\n",
       "    .dataframe tbody tr th {\n",
       "        vertical-align: top;\n",
       "    }\n",
       "\n",
       "    .dataframe thead th {\n",
       "        text-align: right;\n",
       "    }\n",
       "</style>\n",
       "<table border=\"1\" class=\"dataframe\">\n",
       "  <thead>\n",
       "    <tr style=\"text-align: right;\">\n",
       "      <th></th>\n",
       "      <th>x24</th>\n",
       "      <th>x29</th>\n",
       "      <th>x30</th>\n",
       "      <th>x32</th>\n",
       "      <th>x37</th>\n",
       "    </tr>\n",
       "  </thead>\n",
       "  <tbody>\n",
       "    <tr>\n",
       "      <th>count</th>\n",
       "      <td>127976</td>\n",
       "      <td>127981</td>\n",
       "      <td>127977</td>\n",
       "      <td>127974</td>\n",
       "      <td>127983</td>\n",
       "    </tr>\n",
       "    <tr>\n",
       "      <th>unique</th>\n",
       "      <td>3</td>\n",
       "      <td>12</td>\n",
       "      <td>5</td>\n",
       "      <td>12</td>\n",
       "      <td>107696</td>\n",
       "    </tr>\n",
       "    <tr>\n",
       "      <th>top</th>\n",
       "      <td>asia</td>\n",
       "      <td>July</td>\n",
       "      <td>wednesday</td>\n",
       "      <td>0.01%</td>\n",
       "      <td>$237.4</td>\n",
       "    </tr>\n",
       "    <tr>\n",
       "      <th>freq</th>\n",
       "      <td>111198</td>\n",
       "      <td>36384</td>\n",
       "      <td>81253</td>\n",
       "      <td>32630</td>\n",
       "      <td>6</td>\n",
       "    </tr>\n",
       "  </tbody>\n",
       "</table>\n",
       "</div>"
      ],
      "text/plain": [
       "           x24     x29        x30     x32     x37\n",
       "count   127976  127981     127977  127974  127983\n",
       "unique       3      12          5      12  107696\n",
       "top       asia    July  wednesday   0.01%  $237.4\n",
       "freq    111198   36384      81253   32630       6"
      ]
     },
     "execution_count": 8,
     "metadata": {},
     "output_type": "execute_result"
    }
   ],
   "source": [
    "objects.describe()"
   ]
  },
  {
   "cell_type": "code",
   "execution_count": 9,
   "metadata": {},
   "outputs": [
    {
     "name": "stderr",
     "output_type": "stream",
     "text": [
      "/home/stuart/anaconda3/envs/tf2/lib/python3.6/site-packages/ipykernel_launcher.py:2: SettingWithCopyWarning: \n",
      "A value is trying to be set on a copy of a slice from a DataFrame.\n",
      "Try using .loc[row_indexer,col_indexer] = value instead\n",
      "\n",
      "See the caveats in the documentation: https://pandas.pydata.org/pandas-docs/stable/user_guide/indexing.html#returning-a-view-versus-a-copy\n",
      "  \n",
      "/home/stuart/anaconda3/envs/tf2/lib/python3.6/site-packages/ipykernel_launcher.py:4: SettingWithCopyWarning: \n",
      "A value is trying to be set on a copy of a slice from a DataFrame.\n",
      "Try using .loc[row_indexer,col_indexer] = value instead\n",
      "\n",
      "See the caveats in the documentation: https://pandas.pydata.org/pandas-docs/stable/user_guide/indexing.html#returning-a-view-versus-a-copy\n",
      "  after removing the cwd from sys.path.\n",
      "/home/stuart/anaconda3/envs/tf2/lib/python3.6/site-packages/ipykernel_launcher.py:6: SettingWithCopyWarning: \n",
      "A value is trying to be set on a copy of a slice from a DataFrame.\n",
      "Try using .loc[row_indexer,col_indexer] = value instead\n",
      "\n",
      "See the caveats in the documentation: https://pandas.pydata.org/pandas-docs/stable/user_guide/indexing.html#returning-a-view-versus-a-copy\n",
      "  \n",
      "/home/stuart/anaconda3/envs/tf2/lib/python3.6/site-packages/ipykernel_launcher.py:8: SettingWithCopyWarning: \n",
      "A value is trying to be set on a copy of a slice from a DataFrame.\n",
      "Try using .loc[row_indexer,col_indexer] = value instead\n",
      "\n",
      "See the caveats in the documentation: https://pandas.pydata.org/pandas-docs/stable/user_guide/indexing.html#returning-a-view-versus-a-copy\n",
      "  \n",
      "/home/stuart/anaconda3/envs/tf2/lib/python3.6/site-packages/ipykernel_launcher.py:9: SettingWithCopyWarning: \n",
      "A value is trying to be set on a copy of a slice from a DataFrame.\n",
      "Try using .loc[row_indexer,col_indexer] = value instead\n",
      "\n",
      "See the caveats in the documentation: https://pandas.pydata.org/pandas-docs/stable/user_guide/indexing.html#returning-a-view-versus-a-copy\n",
      "  if __name__ == '__main__':\n",
      "/home/stuart/anaconda3/envs/tf2/lib/python3.6/site-packages/ipykernel_launcher.py:10: SettingWithCopyWarning: \n",
      "A value is trying to be set on a copy of a slice from a DataFrame.\n",
      "Try using .loc[row_indexer,col_indexer] = value instead\n",
      "\n",
      "See the caveats in the documentation: https://pandas.pydata.org/pandas-docs/stable/user_guide/indexing.html#returning-a-view-versus-a-copy\n",
      "  # Remove the CWD from sys.path while we load stuff.\n"
     ]
    },
    {
     "data": {
      "text/html": [
       "<div>\n",
       "<style scoped>\n",
       "    .dataframe tbody tr th:only-of-type {\n",
       "        vertical-align: middle;\n",
       "    }\n",
       "\n",
       "    .dataframe tbody tr th {\n",
       "        vertical-align: top;\n",
       "    }\n",
       "\n",
       "    .dataframe thead th {\n",
       "        text-align: right;\n",
       "    }\n",
       "</style>\n",
       "<table border=\"1\" class=\"dataframe\">\n",
       "  <thead>\n",
       "    <tr style=\"text-align: right;\">\n",
       "      <th></th>\n",
       "      <th>x24</th>\n",
       "      <th>x29</th>\n",
       "      <th>x30</th>\n",
       "    </tr>\n",
       "  </thead>\n",
       "  <tbody>\n",
       "    <tr>\n",
       "      <th>count</th>\n",
       "      <td>127976</td>\n",
       "      <td>127981</td>\n",
       "      <td>127977</td>\n",
       "    </tr>\n",
       "    <tr>\n",
       "      <th>unique</th>\n",
       "      <td>3</td>\n",
       "      <td>12</td>\n",
       "      <td>5</td>\n",
       "    </tr>\n",
       "    <tr>\n",
       "      <th>top</th>\n",
       "      <td>asia</td>\n",
       "      <td>July</td>\n",
       "      <td>wednesday</td>\n",
       "    </tr>\n",
       "    <tr>\n",
       "      <th>freq</th>\n",
       "      <td>111198</td>\n",
       "      <td>36384</td>\n",
       "      <td>81253</td>\n",
       "    </tr>\n",
       "  </tbody>\n",
       "</table>\n",
       "</div>"
      ],
      "text/plain": [
       "           x24     x29        x30\n",
       "count   127976  127981     127977\n",
       "unique       3      12          5\n",
       "top       asia    July  wednesday\n",
       "freq    111198   36384      81253"
      ]
     },
     "execution_count": 9,
     "metadata": {},
     "output_type": "execute_result"
    }
   ],
   "source": [
    "# fix spelling error\n",
    "X_test['x24'] = X_test['x24'].str.replace('euorpe', 'europe')\n",
    "# remove  %\n",
    "X_test['x32'] = pd.to_numeric(X_test['x32'].str.replace('%', ''))\n",
    "# remove $\n",
    "X_test['x37'] = pd.to_numeric(X_test['x37'].str.replace('$', ''))\n",
    "# repeat process for training set\n",
    "X_train['x24'] = X_train['x24'].str.replace('euorpe', 'europe')\n",
    "X_train['x32'] = pd.to_numeric(X_train['x32'].str.replace('%', ''))\n",
    "X_train['x37'] = pd.to_numeric(X_train['x37'].str.replace('$', ''))\n",
    "# remake objects\n",
    "objects = X_train.select_dtypes(['O'])\n",
    "objects_test = X_test.select_dtypes(['O'])\n",
    "objects.describe()"
   ]
  },
  {
   "cell_type": "code",
   "execution_count": 10,
   "metadata": {},
   "outputs": [
    {
     "name": "stdout",
     "output_type": "stream",
     "text": [
      "x24 0 \t 0\n",
      "x29 0 \t 0\n",
      "x30 0 \t 0\n"
     ]
    },
    {
     "name": "stderr",
     "output_type": "stream",
     "text": [
      "/home/stuart/anaconda3/envs/tf2/lib/python3.6/site-packages/pandas/core/generic.py:6245: SettingWithCopyWarning: \n",
      "A value is trying to be set on a copy of a slice from a DataFrame\n",
      "\n",
      "See the caveats in the documentation: https://pandas.pydata.org/pandas-docs/stable/user_guide/indexing.html#returning-a-view-versus-a-copy\n",
      "  self._update_inplace(new_data)\n"
     ]
    }
   ],
   "source": [
    "# imputing with mode from training data\n",
    "X_train['x24'].fillna('asia', inplace=True)\n",
    "X_train['x29'].fillna('July', inplace=True)\n",
    "X_train['x30'].fillna('wednesday', inplace=True)\n",
    "\n",
    "X_test['x24'].fillna('asia', inplace=True)\n",
    "X_test['x29'].fillna('July', inplace=True)\n",
    "X_test['x30'].fillna('wednesday', inplace=True)\n",
    "for i in objects.columns:\n",
    "    print(i, sum(pd.isna(X_train[i])), '\\t', sum(pd.isna(X_test[i])))"
   ]
  },
  {
   "cell_type": "code",
   "execution_count": 11,
   "metadata": {},
   "outputs": [
    {
     "name": "stderr",
     "output_type": "stream",
     "text": [
      "/home/stuart/anaconda3/envs/tf2/lib/python3.6/site-packages/ipykernel_launcher.py:9: SettingWithCopyWarning: \n",
      "A value is trying to be set on a copy of a slice from a DataFrame.\n",
      "Try using .loc[row_indexer,col_indexer] = value instead\n",
      "\n",
      "See the caveats in the documentation: https://pandas.pydata.org/pandas-docs/stable/user_guide/indexing.html#returning-a-view-versus-a-copy\n",
      "  if __name__ == '__main__':\n",
      "/home/stuart/anaconda3/envs/tf2/lib/python3.6/site-packages/ipykernel_launcher.py:10: SettingWithCopyWarning: \n",
      "A value is trying to be set on a copy of a slice from a DataFrame.\n",
      "Try using .loc[row_indexer,col_indexer] = value instead\n",
      "\n",
      "See the caveats in the documentation: https://pandas.pydata.org/pandas-docs/stable/user_guide/indexing.html#returning-a-view-versus-a-copy\n",
      "  # Remove the CWD from sys.path while we load stuff.\n"
     ]
    }
   ],
   "source": [
    "# label encode all string values\n",
    "from sklearn.preprocessing import LabelEncoder\n",
    "\n",
    "names = [i for i in list(objects.columns)]\n",
    "\n",
    "le = LabelEncoder()\n",
    "for i in names:\n",
    "    le.fit(objects[i].astype(str))\n",
    "    X_train[i] = le.transform(X_train[i])\n",
    "    X_test[i] = le.transform(X_test[i])"
   ]
  },
  {
   "cell_type": "code",
   "execution_count": 12,
   "metadata": {},
   "outputs": [],
   "source": [
    "from sklearn.impute import KNNImputer\n",
    "\n",
    "KNNimp = KNNImputer(n_neighbors=3)\n",
    "X_train = KNNimp.fit_transform(X_train)\n",
    "X_test = KNNimp.transform(X_test)"
   ]
  },
  {
   "cell_type": "code",
   "execution_count": 13,
   "metadata": {},
   "outputs": [
    {
     "name": "stdout",
     "output_type": "stream",
     "text": [
      "False\n",
      "False\n"
     ]
    }
   ],
   "source": [
    "print(np.isnan(X_train).any())\n",
    "print(np.isnan(X_test).any())"
   ]
  },
  {
   "cell_type": "code",
   "execution_count": 14,
   "metadata": {},
   "outputs": [
    {
     "name": "stderr",
     "output_type": "stream",
     "text": [
      "/home/stuart/anaconda3/envs/tf2/lib/python3.6/site-packages/sklearn/linear_model/_logistic.py:940: ConvergenceWarning: lbfgs failed to converge (status=1):\n",
      "STOP: TOTAL NO. of ITERATIONS REACHED LIMIT.\n",
      "\n",
      "Increase the number of iterations (max_iter) or scale the data as shown in:\n",
      "    https://scikit-learn.org/stable/modules/preprocessing.html\n",
      "Please also refer to the documentation for alternative solver options:\n",
      "    https://scikit-learn.org/stable/modules/linear_model.html#logistic-regression\n",
      "  extra_warning_msg=_LOGISTIC_SOLVER_CONVERGENCE_MSG)\n",
      "/home/stuart/anaconda3/envs/tf2/lib/python3.6/site-packages/sklearn/linear_model/_logistic.py:940: ConvergenceWarning: lbfgs failed to converge (status=1):\n",
      "STOP: TOTAL NO. of ITERATIONS REACHED LIMIT.\n",
      "\n",
      "Increase the number of iterations (max_iter) or scale the data as shown in:\n",
      "    https://scikit-learn.org/stable/modules/preprocessing.html\n",
      "Please also refer to the documentation for alternative solver options:\n",
      "    https://scikit-learn.org/stable/modules/linear_model.html#logistic-regression\n",
      "  extra_warning_msg=_LOGISTIC_SOLVER_CONVERGENCE_MSG)\n",
      "/home/stuart/anaconda3/envs/tf2/lib/python3.6/site-packages/sklearn/linear_model/_logistic.py:940: ConvergenceWarning: lbfgs failed to converge (status=1):\n",
      "STOP: TOTAL NO. of ITERATIONS REACHED LIMIT.\n",
      "\n",
      "Increase the number of iterations (max_iter) or scale the data as shown in:\n",
      "    https://scikit-learn.org/stable/modules/preprocessing.html\n",
      "Please also refer to the documentation for alternative solver options:\n",
      "    https://scikit-learn.org/stable/modules/linear_model.html#logistic-regression\n",
      "  extra_warning_msg=_LOGISTIC_SOLVER_CONVERGENCE_MSG)\n",
      "/home/stuart/anaconda3/envs/tf2/lib/python3.6/site-packages/sklearn/linear_model/_logistic.py:940: ConvergenceWarning: lbfgs failed to converge (status=1):\n",
      "STOP: TOTAL NO. of ITERATIONS REACHED LIMIT.\n",
      "\n",
      "Increase the number of iterations (max_iter) or scale the data as shown in:\n",
      "    https://scikit-learn.org/stable/modules/preprocessing.html\n",
      "Please also refer to the documentation for alternative solver options:\n",
      "    https://scikit-learn.org/stable/modules/linear_model.html#logistic-regression\n",
      "  extra_warning_msg=_LOGISTIC_SOLVER_CONVERGENCE_MSG)\n",
      "/home/stuart/anaconda3/envs/tf2/lib/python3.6/site-packages/sklearn/linear_model/_logistic.py:940: ConvergenceWarning: lbfgs failed to converge (status=1):\n",
      "STOP: TOTAL NO. of ITERATIONS REACHED LIMIT.\n",
      "\n",
      "Increase the number of iterations (max_iter) or scale the data as shown in:\n",
      "    https://scikit-learn.org/stable/modules/preprocessing.html\n",
      "Please also refer to the documentation for alternative solver options:\n",
      "    https://scikit-learn.org/stable/modules/linear_model.html#logistic-regression\n",
      "  extra_warning_msg=_LOGISTIC_SOLVER_CONVERGENCE_MSG)\n",
      "/home/stuart/anaconda3/envs/tf2/lib/python3.6/site-packages/sklearn/linear_model/_logistic.py:940: ConvergenceWarning: lbfgs failed to converge (status=1):\n",
      "STOP: TOTAL NO. of ITERATIONS REACHED LIMIT.\n",
      "\n",
      "Increase the number of iterations (max_iter) or scale the data as shown in:\n",
      "    https://scikit-learn.org/stable/modules/preprocessing.html\n",
      "Please also refer to the documentation for alternative solver options:\n",
      "    https://scikit-learn.org/stable/modules/linear_model.html#logistic-regression\n",
      "  extra_warning_msg=_LOGISTIC_SOLVER_CONVERGENCE_MSG)\n",
      "/home/stuart/anaconda3/envs/tf2/lib/python3.6/site-packages/sklearn/linear_model/_logistic.py:940: ConvergenceWarning: lbfgs failed to converge (status=1):\n",
      "STOP: TOTAL NO. of ITERATIONS REACHED LIMIT.\n",
      "\n",
      "Increase the number of iterations (max_iter) or scale the data as shown in:\n",
      "    https://scikit-learn.org/stable/modules/preprocessing.html\n",
      "Please also refer to the documentation for alternative solver options:\n",
      "    https://scikit-learn.org/stable/modules/linear_model.html#logistic-regression\n",
      "  extra_warning_msg=_LOGISTIC_SOLVER_CONVERGENCE_MSG)\n",
      "/home/stuart/anaconda3/envs/tf2/lib/python3.6/site-packages/sklearn/linear_model/_logistic.py:940: ConvergenceWarning: lbfgs failed to converge (status=1):\n",
      "STOP: TOTAL NO. of ITERATIONS REACHED LIMIT.\n",
      "\n",
      "Increase the number of iterations (max_iter) or scale the data as shown in:\n",
      "    https://scikit-learn.org/stable/modules/preprocessing.html\n",
      "Please also refer to the documentation for alternative solver options:\n",
      "    https://scikit-learn.org/stable/modules/linear_model.html#logistic-regression\n",
      "  extra_warning_msg=_LOGISTIC_SOLVER_CONVERGENCE_MSG)\n",
      "/home/stuart/anaconda3/envs/tf2/lib/python3.6/site-packages/sklearn/linear_model/_logistic.py:940: ConvergenceWarning: lbfgs failed to converge (status=1):\n",
      "STOP: TOTAL NO. of ITERATIONS REACHED LIMIT.\n",
      "\n",
      "Increase the number of iterations (max_iter) or scale the data as shown in:\n",
      "    https://scikit-learn.org/stable/modules/preprocessing.html\n",
      "Please also refer to the documentation for alternative solver options:\n",
      "    https://scikit-learn.org/stable/modules/linear_model.html#logistic-regression\n",
      "  extra_warning_msg=_LOGISTIC_SOLVER_CONVERGENCE_MSG)\n",
      "/home/stuart/anaconda3/envs/tf2/lib/python3.6/site-packages/sklearn/linear_model/_logistic.py:940: ConvergenceWarning: lbfgs failed to converge (status=1):\n",
      "STOP: TOTAL NO. of ITERATIONS REACHED LIMIT.\n",
      "\n",
      "Increase the number of iterations (max_iter) or scale the data as shown in:\n",
      "    https://scikit-learn.org/stable/modules/preprocessing.html\n",
      "Please also refer to the documentation for alternative solver options:\n",
      "    https://scikit-learn.org/stable/modules/linear_model.html#logistic-regression\n",
      "  extra_warning_msg=_LOGISTIC_SOLVER_CONVERGENCE_MSG)\n",
      "/home/stuart/anaconda3/envs/tf2/lib/python3.6/site-packages/sklearn/linear_model/_logistic.py:940: ConvergenceWarning: lbfgs failed to converge (status=1):\n",
      "STOP: TOTAL NO. of ITERATIONS REACHED LIMIT.\n",
      "\n",
      "Increase the number of iterations (max_iter) or scale the data as shown in:\n",
      "    https://scikit-learn.org/stable/modules/preprocessing.html\n",
      "Please also refer to the documentation for alternative solver options:\n",
      "    https://scikit-learn.org/stable/modules/linear_model.html#logistic-regression\n",
      "  extra_warning_msg=_LOGISTIC_SOLVER_CONVERGENCE_MSG)\n",
      "/home/stuart/anaconda3/envs/tf2/lib/python3.6/site-packages/sklearn/linear_model/_logistic.py:940: ConvergenceWarning: lbfgs failed to converge (status=1):\n",
      "STOP: TOTAL NO. of ITERATIONS REACHED LIMIT.\n",
      "\n",
      "Increase the number of iterations (max_iter) or scale the data as shown in:\n",
      "    https://scikit-learn.org/stable/modules/preprocessing.html\n",
      "Please also refer to the documentation for alternative solver options:\n",
      "    https://scikit-learn.org/stable/modules/linear_model.html#logistic-regression\n",
      "  extra_warning_msg=_LOGISTIC_SOLVER_CONVERGENCE_MSG)\n",
      "/home/stuart/anaconda3/envs/tf2/lib/python3.6/site-packages/sklearn/linear_model/_logistic.py:940: ConvergenceWarning: lbfgs failed to converge (status=1):\n",
      "STOP: TOTAL NO. of ITERATIONS REACHED LIMIT.\n",
      "\n",
      "Increase the number of iterations (max_iter) or scale the data as shown in:\n",
      "    https://scikit-learn.org/stable/modules/preprocessing.html\n",
      "Please also refer to the documentation for alternative solver options:\n",
      "    https://scikit-learn.org/stable/modules/linear_model.html#logistic-regression\n",
      "  extra_warning_msg=_LOGISTIC_SOLVER_CONVERGENCE_MSG)\n",
      "/home/stuart/anaconda3/envs/tf2/lib/python3.6/site-packages/sklearn/linear_model/_logistic.py:940: ConvergenceWarning: lbfgs failed to converge (status=1):\n",
      "STOP: TOTAL NO. of ITERATIONS REACHED LIMIT.\n",
      "\n",
      "Increase the number of iterations (max_iter) or scale the data as shown in:\n",
      "    https://scikit-learn.org/stable/modules/preprocessing.html\n",
      "Please also refer to the documentation for alternative solver options:\n",
      "    https://scikit-learn.org/stable/modules/linear_model.html#logistic-regression\n",
      "  extra_warning_msg=_LOGISTIC_SOLVER_CONVERGENCE_MSG)\n",
      "/home/stuart/anaconda3/envs/tf2/lib/python3.6/site-packages/sklearn/linear_model/_logistic.py:940: ConvergenceWarning: lbfgs failed to converge (status=1):\n",
      "STOP: TOTAL NO. of ITERATIONS REACHED LIMIT.\n",
      "\n",
      "Increase the number of iterations (max_iter) or scale the data as shown in:\n",
      "    https://scikit-learn.org/stable/modules/preprocessing.html\n",
      "Please also refer to the documentation for alternative solver options:\n",
      "    https://scikit-learn.org/stable/modules/linear_model.html#logistic-regression\n",
      "  extra_warning_msg=_LOGISTIC_SOLVER_CONVERGENCE_MSG)\n"
     ]
    }
   ],
   "source": [
    "from sklearn.feature_selection import RFECV\n",
    "from sklearn.linear_model import LogisticRegression\n",
    "\n",
    "# define the estimator\n",
    "logistic = LogisticRegression()\n",
    "# provide the parameters of the feature selection process\n",
    "feature_selector = RFECV(logistic,\n",
    "          step = 1,\n",
    "          min_features_to_select= 1,\n",
    "          cv = 5,\n",
    "          n_jobs = -1)\n",
    "feature_selector = feature_selector.fit(X_train, y_train)"
   ]
  },
  {
   "cell_type": "code",
   "execution_count": 15,
   "metadata": {},
   "outputs": [
    {
     "name": "stdout",
     "output_type": "stream",
     "text": [
      "Optimal number of features : 37\n"
     ]
    },
    {
     "data": {
      "image/png": "[encoded data removed]",
      "text/plain": [
       "<Figure size 432x288 with 1 Axes>"
      ]
     },
     "metadata": {
      "needs_background": "light"
     },
     "output_type": "display_data"
    },
    {
     "data": {
      "text/plain": [
       "<Figure size 432x288 with 0 Axes>"
      ]
     },
     "metadata": {},
     "output_type": "display_data"
    }
   ],
   "source": [
    "import matplotlib.pyplot as plt\n",
    "# visualize the results\n",
    "print('Optimal number of features : %d' % feature_selector.n_features_)\n",
    "plt.figure()\n",
    "plt.xlabel('Number of features Selected')\n",
    "plt.ylabel('Cross validation score')\n",
    "plt.plot(range(1,len(feature_selector.grid_scores_) +1), feature_selector.grid_scores_)\n",
    "plt.show()\n",
    "plt.savefig('./feature_selection.png')"
   ]
  },
  {
   "cell_type": "markdown",
   "metadata": {},
   "source": [
    "That's a lot of features with just a little return, but we're trying to minimize costs, so we can afford to put them in in the model."
   ]
  },
  {
   "cell_type": "code",
   "execution_count": 16,
   "metadata": {},
   "outputs": [
    {
     "name": "stdout",
     "output_type": "stream",
     "text": [
      "X_train shape:  (128000, 37) \n",
      "X_test shape:  (32000, 37)\n"
     ]
    }
   ],
   "source": [
    "X_train = feature_selector.transform(X_train)\n",
    "X_test = feature_selector.transform(X_test)\n",
    "print('X_train shape: ', X_train.shape, \n",
    "      '\\nX_test shape: ', X_test.shape)"
   ]
  },
  {
   "cell_type": "code",
   "execution_count": 17,
   "metadata": {},
   "outputs": [],
   "source": [
    "# randomized grid search to fine best parameters for logistic regression\n",
    "from sklearn.model_selection import RandomizedSearchCV\n",
    "from scipy.stats import uniform\n",
    "# instantiate estimator\n",
    "logistic = LogisticRegression(solver='saga', \n",
    "                              tol=1e-2,\n",
    "                              max_iter=200,\n",
    "                              random_state = random_state)\n",
    "# define search space\n",
    "penalty = ['l1', 'l2']\n",
    "C = uniform(loc=0, scale=4)\n",
    "hyperparameters = dict(C=C, penalty=penalty)\n",
    "# instantiate grid search\n",
    "clf = RandomizedSearchCV(logistic, \n",
    "                         hyperparameters,\n",
    "                         random_state=1,\n",
    "                         n_iter=100,\n",
    "                         cv=5,\n",
    "                         verbose=0,\n",
    "                         n_jobs=-1)\n",
    "\n",
    "# search for best parameters\n",
    "search = clf.fit(X_train, y_train)"
   ]
  },
  {
   "cell_type": "code",
   "execution_count": 18,
   "metadata": {},
   "outputs": [
    {
     "name": "stdout",
     "output_type": "stream",
     "text": [
      "Best Penalty: l1\n",
      "Best C: 1.668088018810296\n"
     ]
    }
   ],
   "source": [
    "print('Best Penalty:', search.best_estimator_.get_params()['penalty'])\n",
    "print('Best C:', search.best_estimator_.get_params()['C'])"
   ]
  },
  {
   "cell_type": "code",
   "execution_count": 19,
   "metadata": {},
   "outputs": [
    {
     "name": "stdout",
     "output_type": "stream",
     "text": [
      "              precision    recall  f1-score   support\n",
      "\n",
      "           0       0.72      0.82      0.77     19161\n",
      "           1       0.66      0.53      0.59     12839\n",
      "\n",
      "    accuracy                           0.70     32000\n",
      "   macro avg       0.69      0.67      0.68     32000\n",
      "weighted avg       0.70      0.70      0.70     32000\n",
      "\n"
     ]
    }
   ],
   "source": [
    "from sklearn.metrics import classification_report\n",
    "preds = search.predict(X_test)\n",
    "\n",
    "print(classification_report(y_test, preds))"
   ]
  },
  {
   "cell_type": "code",
   "execution_count": 20,
   "metadata": {},
   "outputs": [
    {
     "data": {
      "text/plain": [
       "array([[15738,  3423],\n",
       "       [ 6089,  6750]])"
      ]
     },
     "execution_count": 20,
     "metadata": {},
     "output_type": "execute_result"
    }
   ],
   "source": [
    "from sklearn.metrics import confusion_matrix\n",
    "\n",
    "cm = confusion_matrix(y_test, preds)\n",
    "cm"
   ]
  },
  {
   "cell_type": "code",
   "execution_count": 21,
   "metadata": {},
   "outputs": [
    {
     "data": {
      "text/plain": [
       "846700"
      ]
     },
     "execution_count": 21,
     "metadata": {},
     "output_type": "execute_result"
    }
   ],
   "source": [
    "# [[TP, FP],\n",
    "#  [FN, TN]]\n",
    "\n",
    "# precision = TP / TP + FP\n",
    "# recall = TP / TP + FN\n",
    "# accuracy = TP + TN / total\n",
    "FN = cm[1][0]\n",
    "FP = cm[0][1]\n",
    "loss = 25*FP + 125*FN\n",
    "loss"
   ]
  },
  {
   "cell_type": "code",
   "execution_count": 22,
   "metadata": {},
   "outputs": [],
   "source": [
    "import numpy as np\n",
    "kwargs = dict(delimiter=\",\",\n",
    "              skip_header=1,\n",
    "              dtype='float64'\n",
    "             )\n",
    "df = np.genfromtxt('./final_project.csv',**kwargs)\n",
    "X2 = df[:,:-1]\n",
    "y2 = df[:,-1]"
   ]
  },
  {
   "cell_type": "markdown",
   "metadata": {},
   "source": [
    "### Below, we used the Anderson Darling Test to determine if features are normally distributed or not. This is useful for our imputation strategy. Where the critical value is exceeded by the test statistic under the assumption of normality, we reject the null hypothesis and conclude violaiton. Therefore, for these, we apply a median imputation because while the distributions appear normal visually, there are outliers influencing normality at a 95% confidence level.\n",
    "\n",
    "### Also, we identify columns that are unable to be tested for having insufficient values required for the test."
   ]
  },
  {
   "cell_type": "code",
   "execution_count": 23,
   "metadata": {},
   "outputs": [
    {
     "name": "stdout",
     "output_type": "stream",
     "text": [
      "Column 2 is not normally distributed at a 95% level of confidence. Statistic: 10.220688929781318 and Critical Value: 0.787\n"
     ]
    },
    {
     "data": {
      "image/png": "[encoded data removed]",
      "text/plain": [
       "<Figure size 432x288 with 1 Axes>"
      ]
     },
     "metadata": {
      "needs_background": "light"
     },
     "output_type": "display_data"
    },
    {
     "name": "stdout",
     "output_type": "stream",
     "text": [
      "Column 6 is not normally distributed at a 95% level of confidence. Statistic: 10.270658839464886 and Critical Value: 0.787\n"
     ]
    },
    {
     "data": {
      "image/png": "[encoded data removed]",
      "text/plain": [
       "<Figure size 432x288 with 1 Axes>"
      ]
     },
     "metadata": {
      "needs_background": "light"
     },
     "output_type": "display_data"
    },
    {
     "name": "stdout",
     "output_type": "stream",
     "text": [
      "Column 7 is not normally distributed at a 95% level of confidence. Statistic: 58.931357158726314 and Critical Value: 0.787\n"
     ]
    },
    {
     "data": {
      "image/png": "[encoded data removed]",
      "text/plain": [
       "<Figure size 432x288 with 1 Axes>"
      ]
     },
     "metadata": {
      "needs_background": "light"
     },
     "output_type": "display_data"
    },
    {
     "name": "stdout",
     "output_type": "stream",
     "text": [
      "Column 12 is not normally distributed at a 95% level of confidence. Statistic: 26.41666220035404 and Critical Value: 0.787\n"
     ]
    },
    {
     "data": {
      "image/png": "[encoded data removed]",
      "text/plain": [
       "<Figure size 432x288 with 1 Axes>"
      ]
     },
     "metadata": {
      "needs_background": "light"
     },
     "output_type": "display_data"
    },
    {
     "name": "stdout",
     "output_type": "stream",
     "text": [
      "Column 20 is not normally distributed at a 95% level of confidence. Statistic: 29.789376930275466 and Critical Value: 0.787\n"
     ]
    },
    {
     "data": {
      "image/png": "[encoded data removed]",
      "text/plain": [
       "<Figure size 432x288 with 1 Axes>"
      ]
     },
     "metadata": {
      "needs_background": "light"
     },
     "output_type": "display_data"
    },
    {
     "name": "stdout",
     "output_type": "stream",
     "text": [
      "Column 23 is not normally distributed at a 95% level of confidence. Statistic: 29.42702754313359 and Critical Value: 0.787\n"
     ]
    },
    {
     "data": {
      "image/png": "[encoded data removed]",
      "text/plain": [
       "<Figure size 432x288 with 1 Axes>"
      ]
     },
     "metadata": {
      "needs_background": "light"
     },
     "output_type": "display_data"
    },
    {
     "name": "stdout",
     "output_type": "stream",
     "text": [
      "Column 27 is not normally distributed at a 95% level of confidence. Statistic: 5.4526740521832835 and Critical Value: 0.787\n"
     ]
    },
    {
     "data": {
      "image/png": "[encoded data removed]",
      "text/plain": [
       "<Figure size 432x288 with 1 Axes>"
      ]
     },
     "metadata": {
      "needs_background": "light"
     },
     "output_type": "display_data"
    },
    {
     "name": "stdout",
     "output_type": "stream",
     "text": [
      "Column 28 is not normally distributed at a 95% level of confidence. Statistic: 13.03100506181363 and Critical Value: 0.787\n"
     ]
    },
    {
     "data": {
      "image/png": "[encoded data removed]",
      "text/plain": [
       "<Figure size 432x288 with 1 Axes>"
      ]
     },
     "metadata": {
      "needs_background": "light"
     },
     "output_type": "display_data"
    },
    {
     "name": "stdout",
     "output_type": "stream",
     "text": [
      "Column 38 is not normally distributed at a 95% level of confidence. Statistic: 3.5536952081602067 and Critical Value: 0.787\n"
     ]
    },
    {
     "data": {
      "image/png": "[encoded data removed]",
      "text/plain": [
       "<Figure size 432x288 with 1 Axes>"
      ]
     },
     "metadata": {
      "needs_background": "light"
     },
     "output_type": "display_data"
    },
    {
     "name": "stdout",
     "output_type": "stream",
     "text": [
      "Column 40 is not normally distributed at a 95% level of confidence. Statistic: 26.42135159339523 and Critical Value: 0.787\n"
     ]
    },
    {
     "data": {
      "image/png": "[encoded data removed]",
      "text/plain": [
       "<Figure size 432x288 with 1 Axes>"
      ]
     },
     "metadata": {
      "needs_background": "light"
     },
     "output_type": "display_data"
    },
    {
     "name": "stdout",
     "output_type": "stream",
     "text": [
      "Column 41 is not normally distributed at a 95% level of confidence. Statistic: 3.595784921606537 and Critical Value: 0.787\n"
     ]
    },
    {
     "data": {
      "image/png": "[encoded data removed]",
      "text/plain": [
       "<Figure size 432x288 with 1 Axes>"
      ]
     },
     "metadata": {
      "needs_background": "light"
     },
     "output_type": "display_data"
    },
    {
     "name": "stdout",
     "output_type": "stream",
     "text": [
      "Column 42 is not normally distributed at a 95% level of confidence. Statistic: 47.59360718273092 and Critical Value: 0.787\n"
     ]
    },
    {
     "data": {
      "image/png": "[encoded data removed]",
      "text/plain": [
       "<Figure size 432x288 with 1 Axes>"
      ]
     },
     "metadata": {
      "needs_background": "light"
     },
     "output_type": "display_data"
    },
    {
     "name": "stdout",
     "output_type": "stream",
     "text": [
      "Column 46 is not normally distributed at a 95% level of confidence. Statistic: 31.06127203576034 and Critical Value: 0.787\n"
     ]
    },
    {
     "data": {
      "image/png": "[encoded data removed]",
      "text/plain": [
       "<Figure size 432x288 with 1 Axes>"
      ]
     },
     "metadata": {
      "needs_background": "light"
     },
     "output_type": "display_data"
    },
    {
     "name": "stdout",
     "output_type": "stream",
     "text": [
      "Column 48 is not normally distributed at a 95% level of confidence. Statistic: 2.897343336167978 and Critical Value: 0.787\n"
     ]
    },
    {
     "data": {
      "image/png": "[encoded data removed]",
      "text/plain": [
       "<Figure size 432x288 with 1 Axes>"
      ]
     },
     "metadata": {
      "needs_background": "light"
     },
     "output_type": "display_data"
    },
    {
     "name": "stdout",
     "output_type": "stream",
     "text": [
      "Column 49 is not normally distributed at a 95% level of confidence. Statistic: 6.4221460196131375 and Critical Value: 0.787\n"
     ]
    },
    {
     "data": {
      "image/png": "[encoded data removed]",
      "text/plain": [
       "<Figure size 432x288 with 1 Axes>"
      ]
     },
     "metadata": {
      "needs_background": "light"
     },
     "output_type": "display_data"
    },
    {
     "name": "stdout",
     "output_type": "stream",
     "text": [
      "Columns that are not numeric: [24, 29, 30, 32, 37]\n"
     ]
    }
   ],
   "source": [
    "# https://docs.scipy.org/doc/scipy/reference/generated/scipy.stats.anderson.html\n",
    "from scipy import stats\n",
    "import warnings\n",
    "warnings.filterwarnings('ignore')\n",
    "\n",
    "non_parametric=[]\n",
    "bad_cols=[]\n",
    "\n",
    "for i in np.arange(0,np.shape(X2)[1]):\n",
    "    try:\n",
    "        statistic = stats.anderson(X2[~np.isnan(X2[:,i]),i], dist='norm').statistic\n",
    "        crit_val = stats.anderson(X2[~np.isnan(X2[:,i]),i], dist='norm').critical_values[2] # 5% significance, 95% confidence)\n",
    "\n",
    "        if (crit_val < statistic):\n",
    "            print(\"Column {} is not normally distributed at a 95% level of confidence. Statistic: {} and Critical Value: {}\".format(i, statistic, crit_val));\n",
    "            non_parametric.append(i)\n",
    "            plt.hist(X2[~np.isnan(X2[:,i]),i])\n",
    "            plt.show()\n",
    "    except:\n",
    "        bad_cols.append(i)\n",
    "print(\"Columns that are not numeric: {}\".format(bad_cols))"
   ]
  },
  {
   "cell_type": "markdown",
   "metadata": {},
   "source": [
    "### The columns that are not normally distributed to not appear to be in wild violation of normality. Therefore, we can assume the SimpleImputer would work reasonable well using the mean."
   ]
  },
  {
   "cell_type": "markdown",
   "metadata": {},
   "source": [
    "Drop the non-numeric columns:"
   ]
  },
  {
   "cell_type": "code",
   "execution_count": 24,
   "metadata": {},
   "outputs": [],
   "source": [
    "X_numeric = np.delete(X2, bad_cols, axis=1)"
   ]
  },
  {
   "cell_type": "code",
   "execution_count": 25,
   "metadata": {},
   "outputs": [
    {
     "data": {
      "text/plain": [
       "(160000, 45)"
      ]
     },
     "execution_count": 25,
     "metadata": {},
     "output_type": "execute_result"
    }
   ],
   "source": [
    "np.shape(X_numeric)"
   ]
  },
  {
   "cell_type": "code",
   "execution_count": 26,
   "metadata": {},
   "outputs": [
    {
     "name": "stdout",
     "output_type": "stream",
     "text": [
      "Percent of column 0 having missing values: 0.02%\n",
      "Percent of column 1 having missing values: 0.02%\n",
      "Percent of column 2 having missing values: 0.02%\n",
      "Percent of column 3 having missing values: 0.02%\n",
      "Percent of column 4 having missing values: 0.02%\n",
      "Percent of column 5 having missing values: 0.02%\n",
      "Percent of column 6 having missing values: 0.02%\n",
      "Percent of column 7 having missing values: 0.02%\n",
      "Percent of column 8 having missing values: 0.01%\n",
      "Percent of column 9 having missing values: 0.02%\n",
      "Percent of column 10 having missing values: 0.03%\n",
      "Percent of column 11 having missing values: 0.02%\n",
      "Percent of column 12 having missing values: 0.02%\n",
      "Percent of column 13 having missing values: 0.02%\n",
      "Percent of column 14 having missing values: 0.02%\n",
      "Percent of column 15 having missing values: 0.02%\n",
      "Percent of column 16 having missing values: 0.02%\n",
      "Percent of column 17 having missing values: 0.02%\n",
      "Percent of column 18 having missing values: 0.03%\n",
      "Percent of column 19 having missing values: 0.02%\n",
      "Percent of column 20 having missing values: 0.02%\n",
      "Percent of column 21 having missing values: 0.02%\n",
      "Percent of column 22 having missing values: 0.02%\n",
      "Percent of column 23 having missing values: 0.03%\n",
      "Percent of column 24 having missing values: 0.01%\n",
      "Percent of column 25 having missing values: 0.02%\n",
      "Percent of column 26 having missing values: 0.02%\n",
      "Percent of column 27 having missing values: 0.02%\n",
      "Percent of column 28 having missing values: 0.02%\n",
      "Percent of column 29 having missing values: 0.03%\n",
      "Percent of column 30 having missing values: 0.03%\n",
      "Percent of column 31 having missing values: 0.02%\n",
      "Percent of column 32 having missing values: 0.02%\n",
      "Percent of column 33 having missing values: 0.02%\n",
      "Percent of column 34 having missing values: 0.01%\n",
      "Percent of column 35 having missing values: 0.02%\n",
      "Percent of column 36 having missing values: 0.03%\n",
      "Percent of column 37 having missing values: 0.02%\n",
      "Percent of column 38 having missing values: 0.02%\n",
      "Percent of column 39 having missing values: 0.03%\n",
      "Percent of column 40 having missing values: 0.02%\n",
      "Percent of column 41 having missing values: 0.02%\n",
      "Percent of column 42 having missing values: 0.02%\n",
      "Percent of column 43 having missing values: 0.02%\n",
      "Percent of column 44 having missing values: 0.02%\n"
     ]
    }
   ],
   "source": [
    "for i in np.arange(np.shape(X_numeric)[1]):\n",
    "    print(\"Percent of column {} having missing values: {}%\".format(i,round(100*(np.count_nonzero(np.isnan(X_numeric[:,i]))/np.shape(X_numeric[:,i])[0]),2)))"
   ]
  },
  {
   "cell_type": "code",
   "execution_count": 27,
   "metadata": {},
   "outputs": [],
   "source": [
    "from sklearn.impute import SimpleImputer\n",
    "imp = SimpleImputer(missing_values=np.nan, strategy='mean')\n",
    "imp.fit(X_numeric)\n",
    "X_numeric = imp.transform(X_numeric)"
   ]
  },
  {
   "cell_type": "markdown",
   "metadata": {},
   "source": [
    "### Check to confirm numeric imputation was successful:"
   ]
  },
  {
   "cell_type": "code",
   "execution_count": 28,
   "metadata": {},
   "outputs": [
    {
     "name": "stdout",
     "output_type": "stream",
     "text": [
      "Percent of column 0 having missing values: 0.0%\n",
      "Percent of column 1 having missing values: 0.0%\n",
      "Percent of column 2 having missing values: 0.0%\n",
      "Percent of column 3 having missing values: 0.0%\n",
      "Percent of column 4 having missing values: 0.0%\n",
      "Percent of column 5 having missing values: 0.0%\n",
      "Percent of column 6 having missing values: 0.0%\n",
      "Percent of column 7 having missing values: 0.0%\n",
      "Percent of column 8 having missing values: 0.0%\n",
      "Percent of column 9 having missing values: 0.0%\n",
      "Percent of column 10 having missing values: 0.0%\n",
      "Percent of column 11 having missing values: 0.0%\n",
      "Percent of column 12 having missing values: 0.0%\n",
      "Percent of column 13 having missing values: 0.0%\n",
      "Percent of column 14 having missing values: 0.0%\n",
      "Percent of column 15 having missing values: 0.0%\n",
      "Percent of column 16 having missing values: 0.0%\n",
      "Percent of column 17 having missing values: 0.0%\n",
      "Percent of column 18 having missing values: 0.0%\n",
      "Percent of column 19 having missing values: 0.0%\n",
      "Percent of column 20 having missing values: 0.0%\n",
      "Percent of column 21 having missing values: 0.0%\n",
      "Percent of column 22 having missing values: 0.0%\n",
      "Percent of column 23 having missing values: 0.0%\n",
      "Percent of column 24 having missing values: 0.0%\n",
      "Percent of column 25 having missing values: 0.0%\n",
      "Percent of column 26 having missing values: 0.0%\n",
      "Percent of column 27 having missing values: 0.0%\n",
      "Percent of column 28 having missing values: 0.0%\n",
      "Percent of column 29 having missing values: 0.0%\n",
      "Percent of column 30 having missing values: 0.0%\n",
      "Percent of column 31 having missing values: 0.0%\n",
      "Percent of column 32 having missing values: 0.0%\n",
      "Percent of column 33 having missing values: 0.0%\n",
      "Percent of column 34 having missing values: 0.0%\n",
      "Percent of column 35 having missing values: 0.0%\n",
      "Percent of column 36 having missing values: 0.0%\n",
      "Percent of column 37 having missing values: 0.0%\n",
      "Percent of column 38 having missing values: 0.0%\n",
      "Percent of column 39 having missing values: 0.0%\n",
      "Percent of column 40 having missing values: 0.0%\n",
      "Percent of column 41 having missing values: 0.0%\n",
      "Percent of column 42 having missing values: 0.0%\n",
      "Percent of column 43 having missing values: 0.0%\n",
      "Percent of column 44 having missing values: 0.0%\n"
     ]
    }
   ],
   "source": [
    "for i in np.arange(np.shape(X_numeric)[1]):\n",
    "    print(\"Percent of column {} having missing values: {}%\".format(i,round(100*(np.count_nonzero(np.isnan(X_numeric[:,i]))/np.shape(X_numeric[:,i])[0]),2)))"
   ]
  },
  {
   "cell_type": "markdown",
   "metadata": {},
   "source": [
    "Read the non-numeric columns only:"
   ]
  },
  {
   "cell_type": "code",
   "execution_count": 29,
   "metadata": {},
   "outputs": [],
   "source": [
    "kwargs = dict(delimiter=\",\",\n",
    "              skip_header=1,\n",
    "              dtype=\"|U5\",\n",
    "              usecols=bad_cols,\n",
    "              autostrip=True\n",
    "             )\n",
    "df_cat = np.genfromtxt('./final_project.csv',**kwargs)"
   ]
  },
  {
   "cell_type": "markdown",
   "metadata": {},
   "source": [
    "Some of the non-numeric columns are numeric with special characters that need to be dropped while others are names of continents, months, and days, which can be encoded:"
   ]
  },
  {
   "cell_type": "code",
   "execution_count": 30,
   "metadata": {},
   "outputs": [
    {
     "data": {
      "text/plain": [
       "array([['euorp', 'July', 'tuesd', '0.0%', '$1313'],\n",
       "       ['asia', 'Aug', 'wedne', '-0.02', '$1962'],\n",
       "       ['asia', 'July', 'wedne', '-0.01', '$430.'],\n",
       "       ...,\n",
       "       ['asia', 'Jun', 'wedne', '-0.0%', '$687.'],\n",
       "       ['asia', 'May', 'wedne', '-0.02', '$439.'],\n",
       "       ['asia', 'Aug', 'tuesd', '0.02%', '$-122']], dtype='<U5')"
      ]
     },
     "execution_count": 30,
     "metadata": {},
     "output_type": "execute_result"
    }
   ],
   "source": [
    "df_cat"
   ]
  },
  {
   "cell_type": "code",
   "execution_count": 31,
   "metadata": {},
   "outputs": [],
   "source": [
    "continents = df_cat[:,0]\n",
    "months = df_cat[:,1]\n",
    "days = df_cat[:,2]\n",
    "\n",
    "# convert sept. to Sept to be consistent with the other months and remove the period character\n",
    "months[months=='sept.']='Sept'"
   ]
  },
  {
   "cell_type": "markdown",
   "metadata": {},
   "source": [
    "Check to see the percent of missing values in categorical data to assess risk of imputation. The missing volume is very small less than 0.02% so highly likely to be insignificant. After inspection, the missing values appear to be completely at random as well so the risk of any imputation is most likely non-impactful."
   ]
  },
  {
   "cell_type": "code",
   "execution_count": 32,
   "metadata": {},
   "outputs": [
    {
     "name": "stdout",
     "output_type": "stream",
     "text": [
      "Percent of days with missing values: 0.02%\n",
      "Percent of days with missing values: 0.02%\n",
      "Percent of days with missing values: 0.02%\n"
     ]
    }
   ],
   "source": [
    "print(\"Percent of days with missing values: {}%\".format(round(100*np.count_nonzero(continents=='')/np.shape(continents)[0],2)))\n",
    "print(\"Percent of days with missing values: {}%\".format(round(100*np.count_nonzero(months=='')/np.shape(months)[0],2)))\n",
    "print(\"Percent of days with missing values: {}%\".format(round(100*np.count_nonzero(days=='')/np.shape(days)[0],2)))"
   ]
  },
  {
   "cell_type": "markdown",
   "metadata": {},
   "source": [
    "There are also very few missing values in the dollars and percents columns as well. Imputation here - along with all the other features - will also be minimal."
   ]
  },
  {
   "cell_type": "code",
   "execution_count": 33,
   "metadata": {},
   "outputs": [
    {
     "data": {
      "text/plain": [
       "''"
      ]
     },
     "execution_count": 33,
     "metadata": {},
     "output_type": "execute_result"
    }
   ],
   "source": [
    "df_cat[185,4]"
   ]
  },
  {
   "cell_type": "markdown",
   "metadata": {},
   "source": [
    "Set a placeholder of 4444 in place of the missing values so we can convert the array to float, then convert 4444 back to nan:"
   ]
  },
  {
   "cell_type": "code",
   "execution_count": 34,
   "metadata": {},
   "outputs": [],
   "source": [
    "# To convert the dollar and percent columns to float, we need to strip special characters and convert to float.\n",
    "# If it fails to convert to float, we set the value to 4444 because this is happening for instances that have no value.\n",
    "# We then convert all 4444 values to np.nan and join the values back to the numeric data. We then encode true categorical data.\n",
    "for i in np.arange(0,len(df_cat)):\n",
    "    try:\n",
    "        df_cat[i,3] = float(df_cat[i,3].replace('%', ''))\n",
    "        df_cat[i,4] = float(df_cat[i,4].replace('$', ''))\n",
    "    except:\n",
    "        #pass\n",
    "        df_cat[i,3] = 4444 #4444 is not a real percent value used so will be the placeholder for nan conversion; +/-0.05% is the max\n",
    "        df_cat[i,4] = 4444 #4444 is not a real dollar value used so will be the placeholder for nan conversion; $999 is the max\n",
    "\n",
    "percents = df_cat[:,3].astype(np.float)\n",
    "percents[percents==4444] = 'nan'\n",
    "dollars = df_cat[:,4].astype(np.float)\n",
    "dollars[dollars==4444] = 'nan'\n",
    "\n",
    "cat_to_num = np.hstack((percents.reshape(160000,1),dollars.reshape(160000,1)))"
   ]
  },
  {
   "cell_type": "code",
   "execution_count": 35,
   "metadata": {},
   "outputs": [
    {
     "name": "stdout",
     "output_type": "stream",
     "text": [
      "Percent of column 0 having missing values: 0.03%\n",
      "Percent of column 1 having missing values: 0.03%\n"
     ]
    }
   ],
   "source": [
    "for i in np.arange(np.shape(cat_to_num)[1]):\n",
    "    print(\"Percent of column {} having missing values: {}%\".format(i,round(100*(np.count_nonzero(np.isnan(cat_to_num[:,i]))/np.shape(cat_to_num[:,i])[0]),2)))"
   ]
  },
  {
   "cell_type": "markdown",
   "metadata": {},
   "source": [
    "# Now combine all numeric data, run an imputer on it and use those values to predict the missing values of the numeric data converted from cats (dollars and percents)"
   ]
  },
  {
   "cell_type": "markdown",
   "metadata": {},
   "source": [
    "All features that are truly numeric are horizontally stacked together here:"
   ]
  },
  {
   "cell_type": "code",
   "execution_count": 36,
   "metadata": {},
   "outputs": [],
   "source": [
    "imp = SimpleImputer(missing_values=np.nan, strategy='mean')\n",
    "imp.fit(cat_to_num)\n",
    "cat_to_num = imp.transform(cat_to_num)"
   ]
  },
  {
   "cell_type": "markdown",
   "metadata": {},
   "source": [
    "### Check to confirm dollar and percent imputations were successful:"
   ]
  },
  {
   "cell_type": "code",
   "execution_count": 37,
   "metadata": {},
   "outputs": [
    {
     "name": "stdout",
     "output_type": "stream",
     "text": [
      "Percent of column 0 having missing values: 0.0%\n",
      "Percent of column 1 having missing values: 0.0%\n"
     ]
    }
   ],
   "source": [
    "for i in np.arange(np.shape(cat_to_num)[1]):\n",
    "    print(\"Percent of column {} having missing values: {}%\".format(i,round(100*(np.count_nonzero(np.isnan(cat_to_num[:,i]))/np.shape(cat_to_num[:,i])[0]),2)))"
   ]
  },
  {
   "cell_type": "markdown",
   "metadata": {},
   "source": [
    "### Add the dollars and percents 2d array into the original numeric 2d array:"
   ]
  },
  {
   "cell_type": "code",
   "execution_count": 38,
   "metadata": {},
   "outputs": [],
   "source": [
    "X_nums = np.hstack((X_numeric, cat_to_num))"
   ]
  },
  {
   "cell_type": "markdown",
   "metadata": {},
   "source": [
    "Confirm no missing values:"
   ]
  },
  {
   "cell_type": "code",
   "execution_count": 39,
   "metadata": {},
   "outputs": [
    {
     "name": "stdout",
     "output_type": "stream",
     "text": [
      "Percent of column 0 having missing values: 0.0%\n",
      "Percent of column 1 having missing values: 0.0%\n",
      "Percent of column 2 having missing values: 0.0%\n",
      "Percent of column 3 having missing values: 0.0%\n",
      "Percent of column 4 having missing values: 0.0%\n",
      "Percent of column 5 having missing values: 0.0%\n",
      "Percent of column 6 having missing values: 0.0%\n",
      "Percent of column 7 having missing values: 0.0%\n",
      "Percent of column 8 having missing values: 0.0%\n",
      "Percent of column 9 having missing values: 0.0%\n",
      "Percent of column 10 having missing values: 0.0%\n",
      "Percent of column 11 having missing values: 0.0%\n",
      "Percent of column 12 having missing values: 0.0%\n",
      "Percent of column 13 having missing values: 0.0%\n",
      "Percent of column 14 having missing values: 0.0%\n",
      "Percent of column 15 having missing values: 0.0%\n",
      "Percent of column 16 having missing values: 0.0%\n",
      "Percent of column 17 having missing values: 0.0%\n",
      "Percent of column 18 having missing values: 0.0%\n",
      "Percent of column 19 having missing values: 0.0%\n",
      "Percent of column 20 having missing values: 0.0%\n",
      "Percent of column 21 having missing values: 0.0%\n",
      "Percent of column 22 having missing values: 0.0%\n",
      "Percent of column 23 having missing values: 0.0%\n",
      "Percent of column 24 having missing values: 0.0%\n",
      "Percent of column 25 having missing values: 0.0%\n",
      "Percent of column 26 having missing values: 0.0%\n",
      "Percent of column 27 having missing values: 0.0%\n",
      "Percent of column 28 having missing values: 0.0%\n",
      "Percent of column 29 having missing values: 0.0%\n",
      "Percent of column 30 having missing values: 0.0%\n",
      "Percent of column 31 having missing values: 0.0%\n",
      "Percent of column 32 having missing values: 0.0%\n",
      "Percent of column 33 having missing values: 0.0%\n",
      "Percent of column 34 having missing values: 0.0%\n",
      "Percent of column 35 having missing values: 0.0%\n",
      "Percent of column 36 having missing values: 0.0%\n",
      "Percent of column 37 having missing values: 0.0%\n",
      "Percent of column 38 having missing values: 0.0%\n",
      "Percent of column 39 having missing values: 0.0%\n",
      "Percent of column 40 having missing values: 0.0%\n",
      "Percent of column 41 having missing values: 0.0%\n",
      "Percent of column 42 having missing values: 0.0%\n",
      "Percent of column 43 having missing values: 0.0%\n",
      "Percent of column 44 having missing values: 0.0%\n",
      "Percent of column 45 having missing values: 0.0%\n",
      "Percent of column 46 having missing values: 0.0%\n"
     ]
    }
   ],
   "source": [
    "for i in np.arange(np.shape(X_nums)[1]):\n",
    "    print(\"Percent of column {} having missing values: {}%\".format(i,round(100*(np.count_nonzero(np.isnan(X_nums[:,i]))/np.shape(X_nums[:,i])[0]),2)))"
   ]
  },
  {
   "cell_type": "code",
   "execution_count": 40,
   "metadata": {},
   "outputs": [],
   "source": [
    "# For mapping X_train and X_test values to the missing and non-missing categorical targets for imputing\n",
    "cont_to_impute = list(np.where(continents==''))\n",
    "months_to_impute = list(np.where(months==''))\n",
    "days_to_impute = list(np.where(days==''))"
   ]
  },
  {
   "cell_type": "code",
   "execution_count": 41,
   "metadata": {},
   "outputs": [],
   "source": [
    "# y_train_continents = np.delete(continents, cont_to_impute, axis=0)\n",
    "# y_train_months = np.delete(months, months_to_impute, axis=0)\n",
    "# y_train_days = np.delete(days, days_to_impute, axis=0)\n",
    "\n",
    "# y_test_continents = continents[cont_to_impute]\n",
    "# y_test_months = months[months_to_impute]\n",
    "# y_test_days = days[days_to_impute]"
   ]
  },
  {
   "cell_type": "code",
   "execution_count": 42,
   "metadata": {},
   "outputs": [],
   "source": [
    "# y_train_continents = continents[continents!='']\n",
    "# y_train_months = months[months!='']\n",
    "# y_train_days = days[days!='']\n",
    "\n",
    "# y_test_continents = continents[continents=='']\n",
    "# y_test_months = months[months=='']\n",
    "# y_test_days = days[days=='']"
   ]
  },
  {
   "cell_type": "markdown",
   "metadata": {},
   "source": [
    "# Encoding categorical data to numeric using dictionaries"
   ]
  },
  {
   "cell_type": "code",
   "execution_count": 43,
   "metadata": {},
   "outputs": [],
   "source": [
    "import string\n",
    "from collections import Counter\n",
    "\n",
    "continent_dict = Counter()\n",
    "month_dict = Counter()\n",
    "day_dict = Counter()\n",
    "\n",
    "for continent in np.delete(continents, cont_to_impute, axis=0):\n",
    "    continent_dict[continent]+=1\n",
    "\n",
    "for month in np.delete(months, months_to_impute, axis=0):\n",
    "    month_dict[month]+=1\n",
    "\n",
    "for day in np.delete(days, days_to_impute, axis=0):\n",
    "    day_dict[day]+=1\n",
    "\n",
    "continent_map = dict(enumerate(continent_dict.keys(),1))\n",
    "month_map = dict(enumerate(month_dict.keys(),1))\n",
    "day_map = dict(enumerate(day_dict.keys(),1))\n",
    "\n",
    "reverse_continent_map = dict([(value, key) for (key, value) in continent_map.items()])\n",
    "reverse_month_map = dict([(value, key) for (key, value) in month_map.items()])\n",
    "reverse_day_map = dict([(value, key) for (key, value) in day_map.items()])\n",
    "\n",
    "# encoded_continents = np.vectorize(reverse_continent_map.get)(y_train_continents)\n",
    "# encoded_months = np.vectorize(reverse_month_map.get)(y_train_months)\n",
    "# encoded_days = np.vectorize(reverse_day_map.get)(y_train_days)\n",
    "\n",
    "# y_train_cont_final = encoded_continents\n",
    "# y_train_month_final = encoded_months\n",
    "# y_train_day_final = encoded_days"
   ]
  },
  {
   "cell_type": "code",
   "execution_count": 44,
   "metadata": {},
   "outputs": [],
   "source": [
    "continents[continents!=''] = np.vectorize(reverse_continent_map.get)(continents[continents!=''])\n",
    "months[months!=''] = np.vectorize(reverse_month_map.get)(months[months!=''])\n",
    "days[days!=''] = np.vectorize(reverse_day_map.get)(days[days!=''])"
   ]
  },
  {
   "cell_type": "code",
   "execution_count": 45,
   "metadata": {},
   "outputs": [],
   "source": [
    "X_train_continents = np.delete(X_nums, cont_to_impute, axis=0)\n",
    "X_train_months = np.delete(X_nums, months_to_impute, axis=0)\n",
    "X_train_days = np.delete(X_nums, days_to_impute, axis=0)\n",
    "\n",
    "# X_test_continents = X_nums[cont_to_impute,:]\n",
    "# X_test_months = X_nums[months_to_impute,:]\n",
    "# X_test_days = X_nums[days_to_impute,:]\n",
    "\n",
    "X_test_continents = X_nums[cont_to_impute]\n",
    "X_test_months = X_nums[months_to_impute]\n",
    "X_test_days = X_nums[days_to_impute]"
   ]
  },
  {
   "cell_type": "code",
   "execution_count": 46,
   "metadata": {},
   "outputs": [],
   "source": [
    "from sklearn.neighbors import KNeighborsClassifier\n",
    "neigh = KNeighborsClassifier(n_neighbors=3)"
   ]
  },
  {
   "cell_type": "markdown",
   "metadata": {},
   "source": [
    "## Imputing Continents"
   ]
  },
  {
   "cell_type": "code",
   "execution_count": 47,
   "metadata": {},
   "outputs": [],
   "source": [
    "neigh.fit(X_train_continents, continents[continents!=''])\n",
    "continents[continents==''] = neigh.predict(X_test_continents)"
   ]
  },
  {
   "cell_type": "code",
   "execution_count": 48,
   "metadata": {},
   "outputs": [
    {
     "data": {
      "text/plain": [
       "array([], dtype='<U5')"
      ]
     },
     "execution_count": 48,
     "metadata": {},
     "output_type": "execute_result"
    }
   ],
   "source": [
    "continents[continents=='']"
   ]
  },
  {
   "cell_type": "code",
   "execution_count": 49,
   "metadata": {},
   "outputs": [],
   "source": [
    "continents = continents.astype('float64')"
   ]
  },
  {
   "cell_type": "code",
   "execution_count": 50,
   "metadata": {},
   "outputs": [
    {
     "data": {
      "text/plain": [
       "array([1., 2., 2., ..., 2., 2., 2.])"
      ]
     },
     "execution_count": 50,
     "metadata": {},
     "output_type": "execute_result"
    }
   ],
   "source": [
    "continents"
   ]
  },
  {
   "cell_type": "markdown",
   "metadata": {},
   "source": [
    "## Imputing Months"
   ]
  },
  {
   "cell_type": "code",
   "execution_count": 51,
   "metadata": {},
   "outputs": [],
   "source": [
    "neigh.fit(X_train_months, months[months!=''])\n",
    "months[months==''] = neigh.predict(X_test_months)"
   ]
  },
  {
   "cell_type": "code",
   "execution_count": 52,
   "metadata": {},
   "outputs": [
    {
     "data": {
      "text/plain": [
       "array([], dtype='<U5')"
      ]
     },
     "execution_count": 52,
     "metadata": {},
     "output_type": "execute_result"
    }
   ],
   "source": [
    "months[months=='']"
   ]
  },
  {
   "cell_type": "code",
   "execution_count": 53,
   "metadata": {},
   "outputs": [],
   "source": [
    "months = months.astype('float64')"
   ]
  },
  {
   "cell_type": "code",
   "execution_count": 54,
   "metadata": {},
   "outputs": [
    {
     "data": {
      "text/plain": [
       "array([1., 2., 1., ..., 3., 4., 2.])"
      ]
     },
     "execution_count": 54,
     "metadata": {},
     "output_type": "execute_result"
    }
   ],
   "source": [
    "months"
   ]
  },
  {
   "cell_type": "markdown",
   "metadata": {},
   "source": [
    "## Imputing Days"
   ]
  },
  {
   "cell_type": "code",
   "execution_count": 55,
   "metadata": {},
   "outputs": [],
   "source": [
    "neigh.fit(X_train_days, days[days!=''])\n",
    "days[days==''] = neigh.predict(X_test_days)"
   ]
  },
  {
   "cell_type": "code",
   "execution_count": 56,
   "metadata": {},
   "outputs": [
    {
     "data": {
      "text/plain": [
       "array([], dtype='<U5')"
      ]
     },
     "execution_count": 56,
     "metadata": {},
     "output_type": "execute_result"
    }
   ],
   "source": [
    "days[days=='']"
   ]
  },
  {
   "cell_type": "code",
   "execution_count": 57,
   "metadata": {},
   "outputs": [],
   "source": [
    "days = days.astype('float64')"
   ]
  },
  {
   "cell_type": "code",
   "execution_count": 58,
   "metadata": {},
   "outputs": [
    {
     "data": {
      "text/plain": [
       "array([1., 2., 2., ..., 2., 2., 1.])"
      ]
     },
     "execution_count": 58,
     "metadata": {},
     "output_type": "execute_result"
    }
   ],
   "source": [
    "days"
   ]
  },
  {
   "cell_type": "markdown",
   "metadata": {},
   "source": [
    "## Add the categorical-encoded data to the numeric data"
   ]
  },
  {
   "cell_type": "code",
   "execution_count": 59,
   "metadata": {},
   "outputs": [],
   "source": [
    "X_new = np.hstack((X_nums, continents.reshape(160000,1), months.reshape(160000,1), days.reshape(160000,1)))"
   ]
  },
  {
   "cell_type": "code",
   "execution_count": 60,
   "metadata": {},
   "outputs": [
    {
     "data": {
      "text/plain": [
       "(160000, 50)"
      ]
     },
     "execution_count": 60,
     "metadata": {},
     "output_type": "execute_result"
    }
   ],
   "source": [
    "np.shape(X_new)"
   ]
  },
  {
   "cell_type": "code",
   "execution_count": 61,
   "metadata": {},
   "outputs": [
    {
     "data": {
      "text/plain": [
       "(160000,)"
      ]
     },
     "execution_count": 61,
     "metadata": {},
     "output_type": "execute_result"
    }
   ],
   "source": [
    "np.shape(y)"
   ]
  },
  {
   "cell_type": "code",
   "execution_count": 62,
   "metadata": {},
   "outputs": [
    {
     "data": {
      "text/plain": [
       "Series([], Name: y, dtype: int64)"
      ]
     },
     "execution_count": 62,
     "metadata": {},
     "output_type": "execute_result"
    }
   ],
   "source": [
    "y[np.isnan(y)]"
   ]
  },
  {
   "cell_type": "code",
   "execution_count": 63,
   "metadata": {},
   "outputs": [
    {
     "data": {
      "text/plain": [
       "array([0, 1])"
      ]
     },
     "execution_count": 63,
     "metadata": {},
     "output_type": "execute_result"
    }
   ],
   "source": [
    "np.unique(y)"
   ]
  },
  {
   "cell_type": "code",
   "execution_count": 124,
   "metadata": {},
   "outputs": [],
   "source": [
    "\n",
    "from sklearn.metrics import make_scorer, accuracy_score\n",
    "from sklearn.ensemble import RandomForestClassifier\n"
   ]
  },
  {
   "cell_type": "code",
   "execution_count": 98,
   "metadata": {},
   "outputs": [],
   "source": [
    "def cost_score(y, y_pred, fp_cost=25, fn_cost=125):\n",
    "    '''\n",
    "    '''\n",
    "    # get the misclassifications\n",
    "    misclass_idx = np.where(np.equal(y, y_pred) == False)[0]\n",
    "    # get the false positives\n",
    "    fp_idx = np.where(y_pred[misclass_idx] == 1)[0]\n",
    "    # get the false negatives\n",
    "    fn_idx = np.where(y_pred[misclass_idx] == 0)[0]\n",
    "    # calc the misclassification cost\n",
    "    misclassification_cost = fp_idx.size * fp_cost + fn_idx.size * fn_cost\n",
    "    \n",
    "    return misclassification_cost"
   ]
  },
  {
   "cell_type": "code",
   "execution_count": 99,
   "metadata": {},
   "outputs": [
    {
     "data": {
      "text/plain": [
       "175"
      ]
     },
     "execution_count": 99,
     "metadata": {},
     "output_type": "execute_result"
    }
   ],
   "source": [
    "cost_score(np.array([1,1,1,0,0,0]), np.array([0,1,1,0,1,1]))"
   ]
  },
  {
   "cell_type": "code",
   "execution_count": 100,
   "metadata": {},
   "outputs": [],
   "source": [
    "cost_scorer = make_scorer(cost_score, greater_is_better=False)"
   ]
  },
  {
   "cell_type": "code",
   "execution_count": 127,
   "metadata": {},
   "outputs": [],
   "source": [
    "# instantiate estimator\n",
    "logistic = LogisticRegression(solver='saga', \n",
    "                              tol=1e-2,\n",
    "                              max_iter=200,\n",
    "                              random_state = random_state)\n",
    "# define search space\n",
    "penalty = ['l1', 'l2']\n",
    "C = uniform(loc=0, scale=1000)\n",
    "hyperparameters = dict(C=C, penalty=penalty)\n",
    "# instantiate grid search\n",
    "clf = RandomizedSearchCV(logistic, \n",
    "                         hyperparameters,\n",
    "                         random_state=random_state,\n",
    "                         scoring=cost_scorer,\n",
    "                         n_iter=100,\n",
    "                         cv=5,\n",
    "                         verbose=0,\n",
    "                         n_jobs=-1)\n",
    "\n",
    "# search for best parameters\n",
    "search = clf.fit(X_train, y_train)\n",
    "\n",
    "best_linear = search.best_estimator_"
   ]
  },
  {
   "cell_type": "code",
   "execution_count": 128,
   "metadata": {},
   "outputs": [
    {
     "name": "stdout",
     "output_type": "stream",
     "text": [
      "Best model Score: 675705.0\n",
      "Best model Accuracy: 0.70190625\n",
      "Best Penalty: l1\n",
      "Best C: 374.54011884736246\n"
     ]
    }
   ],
   "source": [
    "print('Best model Score:', -search.best_score_) # negate since 'greater_is_better=False'\n",
    "print('Best model Accuracy:', accuracy_score(y_train, best_linear.predict(X_train))) \n",
    "print('Best Penalty:', search.best_estimator_.get_params()['penalty'])\n",
    "print('Best C:', search.best_estimator_.get_params()['C'])"
   ]
  },
  {
   "cell_type": "code",
   "execution_count": 130,
   "metadata": {},
   "outputs": [
    {
     "name": "stdout",
     "output_type": "stream",
     "text": [
      "Best Linear Model Test Cost 846700\n",
      "Best Linear Model Test Accuracy 0.70275\n"
     ]
    }
   ],
   "source": [
    "y_pred = best_linear.predict(X_test)\n",
    "linear_cost = cost_score(y_test, y_pred)\n",
    "linear_acc = accuracy_score(y_test, y_pred)\n",
    "print('Best Linear Model Test Cost', linear_cost)\n",
    "print('Best Linear Model Test Accuracy', linear_acc)"
   ]
  },
  {
   "cell_type": "code",
   "execution_count": 113,
   "metadata": {},
   "outputs": [],
   "source": [
    "random_generator = np.random.RandomState(42)"
   ]
  },
  {
   "cell_type": "code",
   "execution_count": 117,
   "metadata": {},
   "outputs": [],
   "source": [
    "# instantiate estimator\n",
    "rf = RandomForestClassifier(random_state=random_state)\n",
    "\n",
    "rf_params = {\n",
    "    'n_estimators': random_generator.randint(10, 2000, size=1000),\n",
    "    'max_depth': random_generator.uniform(1, 1000, size=1000),\n",
    "    'min_samples_split': random_generator.randint(2, 100, size=1000),\n",
    "    'min_samples_leaf': random_generator.uniform(1e-6, 0.5, size=1000),\n",
    "    'max_features': ['auto', 'sqrt', 'log2'],\n",
    "    \n",
    "}\n",
    "\n",
    "# instantiate grid search\n",
    "clf = RandomizedSearchCV(rf, \n",
    "                         rf_params,\n",
    "                         random_state=random_state,\n",
    "                         scoring=cost_scorer,\n",
    "                         n_iter=100,\n",
    "                         cv=5,\n",
    "                         verbose=0,\n",
    "                         n_jobs=-1)\n",
    "\n",
    "# search for best parameters\n",
    "search = clf.fit(X_train, y_train)"
   ]
  },
  {
   "cell_type": "code",
   "execution_count": 121,
   "metadata": {},
   "outputs": [],
   "source": [
    "best_rf = search.best_estimator_"
   ]
  },
  {
   "cell_type": "code",
   "execution_count": 125,
   "metadata": {},
   "outputs": [
    {
     "name": "stdout",
     "output_type": "stream",
     "text": [
      "Best model Score: 350110.0\n",
      "Best model Accuracy: 0.861453125\n",
      "n_estimators: 10\n",
      "max_depth: 551.5901948585391\n",
      "min_samples_split: 81\n",
      "min_samples_leaf: 0.0015881459179534207\n",
      "max_features: sqrt\n"
     ]
    }
   ],
   "source": [
    "print('Best model Score:', -search.best_score_) # negate since 'greater_is_better=False'\n",
    "print('Best model Accuracy:', accuracy_score(y_train, best_rf.predict(X_train))) \n",
    "print('n_estimators:', search.best_estimator_.get_params()['n_estimators'])\n",
    "print('max_depth:', search.best_estimator_.get_params()['max_depth'])\n",
    "print('min_samples_split:', search.best_estimator_.get_params()['min_samples_split'])\n",
    "print('min_samples_leaf:', search.best_estimator_.get_params()['min_samples_leaf'])\n",
    "print('max_features:', search.best_estimator_.get_params()['max_features'])"
   ]
  },
  {
   "cell_type": "code",
   "execution_count": 126,
   "metadata": {},
   "outputs": [
    {
     "name": "stdout",
     "output_type": "stream",
     "text": [
      "Best RF Model Test Cost 451350\n",
      "Best RF Model Test Accuracy 0.8504375\n"
     ]
    }
   ],
   "source": [
    "y_pred = best_rf.predict(X_test)\n",
    "rf_cost = cost_score(y_test, y_pred)\n",
    "rf_acc = accuracy_score(y_test, y_pred)\n",
    "print('Best RF Model Test Cost', rf_cost)\n",
    "print('Best RF Model Test Accuracy', rf_acc)"
   ]
  },
  {
   "cell_type": "markdown",
   "metadata": {},
   "source": [
    "**XGBoost**"
   ]
  },
  {
   "cell_type": "markdown",
   "metadata": {},
   "source": [
    "```python\n",
    "xgb_params = {\n",
    "    'n_estimators': np.arange(100, 500, 10, dtype='int'),\n",
    "    'learning_rate': np.linspace(0.01, 1, num=1000, dtype='float'),\n",
    "    'gamma':np.geomspace(0.001, 10, num=1000, dtype='float'),\n",
    "    'max_depth':[d for d in range(1, 11)],\n",
    "    'subsample':np.linspace(0.1, 1, num=100, dtype='float'),\n",
    "    'colsample_bytree':[0.3, 0.4, 0.5, 0.6, 0.7, 0.8, 0.9, 1.0],\n",
    "    'colsample_bylevel':[0.3, 0.4, 0.5, 0.6, 0.7, 0.8, 0.9, 1.0],\n",
    "    'colsample_bynode':[0.3, 0.4, 0.5, 0.6, 0.7, 0.8, 0.9, 1.0],\n",
    "    'lambda': np.geomspace(0.001, 10, num=100, dtype='float'),\n",
    "    'alpha': np.geomspace(0.001, 10, num=100, dtype='float')\n",
    "}\n",
    "\n",
    "xgb = XGBClassifier(booster='gbtree',\n",
    "                    early_stopping_rounds=10,\n",
    "                    random_state=random_state)\n",
    "\n",
    "xgb_search = RandomizedSearchCV(xgb, \n",
    "                                xgb_params,\n",
    "                                random_state=random_state,\n",
    "                                scoring=cost_scorer,\n",
    "                                n_iter=100,\n",
    "                                cv=5,\n",
    "                                verbose=0,\n",
    "                                n_jobs=-1)\n",
    "\n",
    "xgb_search.fit(X_train, y_train)\n",
    "\n",
    "y_pred = xgb_search.best_estimator_.predict(X_train)\n",
    "\n",
    "print('\\n\\n\\nTraining Performance')\n",
    "\n",
    "print('Best model Score:', -xgb_search.best_score_) # negate since 'greater_is_better=False'\n",
    "print('Best model Accuracy:', accuracy_score(y_train, y_pred) )\n",
    "\n",
    "\n",
    "\n",
    "y_pred = xgb_search.best_estimator_.predict(X_test)\n",
    "\n",
    "test_cost = cost_score(y_test, y_pred)\n",
    "test_acc = accuracy_score(y_test, y_pred)\n",
    "\n",
    "print('\\n\\n\\nTest Performance')\n",
    "\n",
    "print('Best Model Test Cost', test_cost)\n",
    "print('Best Model Test Accuracy', test_acc)\n",
    "\n",
    "print('\\n\\n\\nBest Parameters')\n",
    "print(xgb_search.best_params_)\n",
    "```\n",
    "\n",
    "```bash\n",
    "Training Performance\n",
    "Best model Score: 133475.0\n",
    "Best model Accuracy: 0.9934453125\n",
    "\n",
    "\n",
    "\n",
    "Test Performance\n",
    "Best Model Test Cost 163775\n",
    "Best Model Test Accuracy 0.93603125\n",
    "\n",
    "\n",
    "\n",
    "Best Parameters\n",
    "{'subsample': 0.9545454545454545, 'n_estimators': 170, 'max_depth': 9, 'learning_rate': 0.25180180180180184, 'lambda': 3.5938136638046294, 'gamma': 0.0022717281330269052, 'colsample_bytree': 1.0, 'colsample_bynode': 0.9, 'colsample_bylevel': 0.8, 'alpha': 2.0565123083486534}\n",
    "\n",
    "```"
   ]
  }
 ],
 "metadata": {
  "kernelspec": {
   "display_name": "Python 3",
   "language": "python",
   "name": "python3"
  },
  "language_info": {
   "codemirror_mode": {
    "name": "ipython",
    "version": 3
   },
   "file_extension": ".py",
   "mimetype": "text/x-python",
   "name": "python",
   "nbconvert_exporter": "python",
   "pygments_lexer": "ipython3",
   "version": "3.6.10"
  }
 },
 "nbformat": 4,
 "nbformat_minor": 4
}
